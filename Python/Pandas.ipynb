{
 "cells": [
  {
   "cell_type": "markdown",
   "metadata": {},
   "source": [
    "\n",
    "![image](../Utilities/pandas_logo.png)\n",
    "\n",
    "__Author: Christian Camilo Urcuqui López__\n",
    "\n",
    "__Date: 14 August 2018__\n",
    "\n",
    "\n",
    "# Pandas\n",
    "\n",
    "Pandas is an open source library which allows us to use data structures and data analysis for the Python language. The Panda's project URL is https://pandas.pydata.org/\n",
    "\n",
    "In this notebook we will see the essential functions to analyze data through the Pandas library in Python, moreover, we are going to see the first steps in an EDA (Exploratory Data Analysis) approach since how to load the data until how find the insights in our datasets. Pandas provides data structures and data manipulation tools to make data cleaning, an important process to apply in our data science projects.\n",
    "\n",
    "The big difference between Pandas and NumPy is that is designed with tabular or heterogeneous data, NumPy is focused to homogeneous numerical array data.\n",
    "\n",
    "This notebook allows us to introduce the first steps in the data science world with Python, the notebook content is divided into the next sections:\n",
    "\n",
    "- [Import](#Import)\n",
    "- [Data Structures](#Data-Structures)\n",
    "    - [Series](#Series)\n",
    "    - [DataFrame](#DataFrame)    \n",
    "        + [Style a DataFrame](#Style-a-DataFrame)\n",
    "- [Load data](#Load-data)\n",
    "    - [Datasets available](#Datasets-available)\n",
    "    - [Open source repositories](#Open-source-repositories)\n",
    "        + [CSV](#CSV)\n",
    "        + [EXCEL](#EXCEL)\n",
    "        + [SQLite](#SQLite)        \n",
    "    - [Rename columns](#Rename-columns)\n",
    "    - [Change Column Types](#Change-Column-Types)\n",
    "    - [Data Persistence](#Data-Persistence)\n",
    "- [Exploration](#Exploration)\n",
    "    + [Conditional selection](#Conditional-selection)\n",
    "    + [Other operations](#Other-operations)  \n",
    "- [Cleaning](#Cleaning)\n",
    "- [References](#References)\n"
   ]
  },
  {
   "cell_type": "markdown",
   "metadata": {},
   "source": [
    "## Import\n",
    "\n",
    "In some open examples, the library is imported like the next code"
   ]
  },
  {
   "cell_type": "code",
   "execution_count": 60,
   "metadata": {},
   "outputs": [
    {
     "data": {
      "text/plain": [
       "'0.24.0'"
      ]
     },
     "execution_count": 60,
     "metadata": {},
     "output_type": "execute_result"
    }
   ],
   "source": [
    "import pandas as pd\n",
    "pd.__version__"
   ]
  },
  {
   "cell_type": "markdown",
   "metadata": {},
   "source": [
    "In the same way we can also import other important objects like Series and DataFrame into the local namespace"
   ]
  },
  {
   "cell_type": "code",
   "execution_count": 3,
   "metadata": {},
   "outputs": [],
   "source": [
    "from pandas import Series, DataFrame"
   ]
  },
  {
   "cell_type": "markdown",
   "metadata": {},
   "source": [
    "## Data Structures\n",
    "\n",
    "It is important to be comfortable with the next workhorse data structures: Series and DataFrame."
   ]
  },
  {
   "cell_type": "markdown",
   "metadata": {},
   "source": [
    "### Series\n",
    "\n",
    "A Series is a one-dimensional array with a sequence of values and an associated array of data labels (index)."
   ]
  },
  {
   "cell_type": "code",
   "execution_count": 19,
   "metadata": {},
   "outputs": [],
   "source": [
    "serie = pd.Series([3,-8,\"a\"])"
   ]
  },
  {
   "cell_type": "code",
   "execution_count": 20,
   "metadata": {},
   "outputs": [
    {
     "data": {
      "text/plain": [
       "0     3\n",
       "1    -8\n",
       "2     a\n",
       "dtype: object"
      ]
     },
     "execution_count": 20,
     "metadata": {},
     "output_type": "execute_result"
    }
   ],
   "source": [
    "serie"
   ]
  },
  {
   "cell_type": "markdown",
   "metadata": {},
   "source": [
    "Pay attention we have indexes associated with each value in the array."
   ]
  },
  {
   "cell_type": "code",
   "execution_count": 22,
   "metadata": {},
   "outputs": [
    {
     "data": {
      "text/plain": [
       "array([3, -8, 'a'], dtype=object)"
      ]
     },
     "execution_count": 22,
     "metadata": {},
     "output_type": "execute_result"
    }
   ],
   "source": [
    "# this is the way to print the values of our series object\n",
    "serie.values"
   ]
  },
  {
   "cell_type": "code",
   "execution_count": 23,
   "metadata": {},
   "outputs": [
    {
     "data": {
      "text/plain": [
       "RangeIndex(start=0, stop=3, step=1)"
      ]
     },
     "execution_count": 23,
     "metadata": {},
     "output_type": "execute_result"
    }
   ],
   "source": [
    "# this is the way to print the indexes \n",
    "serie.index"
   ]
  },
  {
   "cell_type": "markdown",
   "metadata": {},
   "source": [
    "We can change the values associated to each index during the creation of the series object"
   ]
  },
  {
   "cell_type": "code",
   "execution_count": 23,
   "metadata": {},
   "outputs": [
    {
     "data": {
      "text/plain": [
       "a    3\n",
       "b   -8\n",
       "c    3\n",
       "dtype: int64"
      ]
     },
     "execution_count": 23,
     "metadata": {},
     "output_type": "execute_result"
    }
   ],
   "source": [
    "serie =  pd.Series([3, -8, 3], index=['a', 'b', 'c'])\n",
    "serie"
   ]
  },
  {
   "cell_type": "code",
   "execution_count": 25,
   "metadata": {},
   "outputs": [
    {
     "data": {
      "text/plain": [
       "Index(['a', 'b', 'c'], dtype='object')"
      ]
     },
     "execution_count": 25,
     "metadata": {},
     "output_type": "execute_result"
    }
   ],
   "source": [
    "serie.index"
   ]
  },
  {
   "cell_type": "markdown",
   "metadata": {},
   "source": [
    "These indexes allow us to access the values"
   ]
  },
  {
   "cell_type": "code",
   "execution_count": 26,
   "metadata": {},
   "outputs": [
    {
     "data": {
      "text/plain": [
       "3"
      ]
     },
     "execution_count": 26,
     "metadata": {},
     "output_type": "execute_result"
    }
   ],
   "source": [
    "serie['a']"
   ]
  },
  {
   "cell_type": "code",
   "execution_count": 24,
   "metadata": {},
   "outputs": [
    {
     "data": {
      "text/plain": [
       "a     3\n",
       "b    -8\n",
       "c     k\n",
       "dtype: object"
      ]
     },
     "execution_count": 24,
     "metadata": {},
     "output_type": "execute_result"
    }
   ],
   "source": [
    "serie['c'] = 'k'\n",
    "serie"
   ]
  },
  {
   "cell_type": "code",
   "execution_count": 29,
   "metadata": {},
   "outputs": [
    {
     "data": {
      "text/plain": [
       "c     k\n",
       "a     3\n",
       "b    -8\n",
       "dtype: object"
      ]
     },
     "execution_count": 29,
     "metadata": {},
     "output_type": "execute_result"
    }
   ],
   "source": [
    "serie[['c','a','b']] # we use a list of indexes, we can use strings instead of integers"
   ]
  },
  {
   "cell_type": "code",
   "execution_count": 4,
   "metadata": {},
   "outputs": [
    {
     "data": {
      "text/plain": [
       "a    3\n",
       "c    3\n",
       "dtype: int64"
      ]
     },
     "execution_count": 4,
     "metadata": {},
     "output_type": "execute_result"
    }
   ],
   "source": [
    "serie = pd.Series([3, -8, 3], index=['a', 'b', 'c']) # in order to make filters and other operations we will only use numbers\n",
    "serie[serie > 0]"
   ]
  },
  {
   "cell_type": "code",
   "execution_count": 38,
   "metadata": {},
   "outputs": [
    {
     "data": {
      "text/plain": [
       "a     6\n",
       "b   -16\n",
       "c     6\n",
       "dtype: int64"
      ]
     },
     "execution_count": 38,
     "metadata": {},
     "output_type": "execute_result"
    }
   ],
   "source": [
    "serie * 2"
   ]
  },
  {
   "cell_type": "code",
   "execution_count": 5,
   "metadata": {},
   "outputs": [
    {
     "data": {
      "text/plain": [
       "a    20.085537\n",
       "b     0.000335\n",
       "c    20.085537\n",
       "dtype: float64"
      ]
     },
     "execution_count": 5,
     "metadata": {},
     "output_type": "execute_result"
    }
   ],
   "source": [
    "import numpy as np\n",
    "np.exp(serie)"
   ]
  },
  {
   "cell_type": "code",
   "execution_count": 40,
   "metadata": {},
   "outputs": [
    {
     "data": {
      "text/plain": [
       "True"
      ]
     },
     "execution_count": 40,
     "metadata": {},
     "output_type": "execute_result"
    }
   ],
   "source": [
    "'b' in serie"
   ]
  },
  {
   "cell_type": "code",
   "execution_count": 41,
   "metadata": {},
   "outputs": [
    {
     "data": {
      "text/plain": [
       "False"
      ]
     },
     "execution_count": 41,
     "metadata": {},
     "output_type": "execute_result"
    }
   ],
   "source": [
    "'k' in serie"
   ]
  },
  {
   "cell_type": "markdown",
   "metadata": {},
   "source": [
    "We can make a Python dictionary and assign it in a Series object"
   ]
  },
  {
   "cell_type": "code",
   "execution_count": 42,
   "metadata": {},
   "outputs": [
    {
     "data": {
      "text/plain": [
       "Ohio      35000\n",
       "Texas     71000\n",
       "Oregon    16000\n",
       "Utah       5000\n",
       "dtype: int64"
      ]
     },
     "execution_count": 42,
     "metadata": {},
     "output_type": "execute_result"
    }
   ],
   "source": [
    "sdata = {'Ohio': 35000, 'Texas': 71000, 'Oregon': 16000, 'Utah':5000}\n",
    "series = Series(sdata)\n",
    "series"
   ]
  },
  {
   "cell_type": "markdown",
   "metadata": {},
   "source": [
    "Pay attention that the previous data dictionary was sorted by the Series Object, we can override this passing the dict keys in the order that we want to use it.\n"
   ]
  },
  {
   "cell_type": "code",
   "execution_count": 44,
   "metadata": {},
   "outputs": [
    {
     "data": {
      "text/plain": [
       "California        NaN\n",
       "Ohio          35000.0\n",
       "Oregon        16000.0\n",
       "Texas         71000.0\n",
       "dtype: float64"
      ]
     },
     "execution_count": 44,
     "metadata": {},
     "output_type": "execute_result"
    }
   ],
   "source": [
    "states = ['California','Ohio', 'Oregon', 'Texas']\n",
    "series = Series(sdata, index=states)\n",
    "series"
   ]
  },
  {
   "cell_type": "markdown",
   "metadata": {},
   "source": [
    "See that in the previous example the values were located with their respective key into the dictionary, that is the reason that we have a NaN value for the 'California' index and the value 'Utah' wasn't included it.\n",
    "\n",
    "Pandas provides us the methods to know the missing values in our dataset."
   ]
  },
  {
   "cell_type": "code",
   "execution_count": 45,
   "metadata": {},
   "outputs": [
    {
     "data": {
      "text/plain": [
       "California     True\n",
       "Ohio          False\n",
       "Oregon        False\n",
       "Texas         False\n",
       "dtype: bool"
      ]
     },
     "execution_count": 45,
     "metadata": {},
     "output_type": "execute_result"
    }
   ],
   "source": [
    "pd.isnull(series)"
   ]
  },
  {
   "cell_type": "code",
   "execution_count": 46,
   "metadata": {},
   "outputs": [
    {
     "data": {
      "text/plain": [
       "California    False\n",
       "Ohio           True\n",
       "Oregon         True\n",
       "Texas          True\n",
       "dtype: bool"
      ]
     },
     "execution_count": 46,
     "metadata": {},
     "output_type": "execute_result"
    }
   ],
   "source": [
    "pd.notnull(series)"
   ]
  },
  {
   "cell_type": "markdown",
   "metadata": {},
   "source": [
    "In the same way the Series object provides us the previous methods."
   ]
  },
  {
   "cell_type": "code",
   "execution_count": 48,
   "metadata": {},
   "outputs": [
    {
     "data": {
      "text/plain": [
       "California     True\n",
       "Ohio          False\n",
       "Oregon        False\n",
       "Texas         False\n",
       "dtype: bool"
      ]
     },
     "execution_count": 48,
     "metadata": {},
     "output_type": "execute_result"
    }
   ],
   "source": [
    "series.isnull()"
   ]
  },
  {
   "cell_type": "markdown",
   "metadata": {},
   "source": [
    "The alignment of the indexes allows us to make operations between multiple Series objects."
   ]
  },
  {
   "cell_type": "code",
   "execution_count": 53,
   "metadata": {},
   "outputs": [
    {
     "name": "stdout",
     "output_type": "stream",
     "text": [
      "California        NaN\n",
      "Ohio          35000.0\n",
      "Oregon        16000.0\n",
      "Texas         71000.0\n",
      "dtype: float64\n",
      "\n",
      "Ohio      35000\n",
      "Texas     71000\n",
      "Oregon    16000\n",
      "Utah       5000\n",
      "dtype: int64\n",
      "\n",
      "California         NaN\n",
      "Ohio           70000.0\n",
      "Oregon         32000.0\n",
      "Texas         142000.0\n",
      "Utah               NaN\n",
      "dtype: float64\n"
     ]
    }
   ],
   "source": [
    "series2 = Series(sdata)\n",
    "print(series)\n",
    "print()\n",
    "print(series2)\n",
    "print()\n",
    "print(series + series2) ## in this case the results of any operation with NaN is NaN \n"
   ]
  },
  {
   "cell_type": "markdown",
   "metadata": {},
   "source": [
    "The Series object has other attributes like its name and the name assigned to the index"
   ]
  },
  {
   "cell_type": "code",
   "execution_count": 54,
   "metadata": {},
   "outputs": [
    {
     "data": {
      "text/plain": [
       "states\n",
       "Ohio      35000\n",
       "Texas     71000\n",
       "Oregon    16000\n",
       "Utah       5000\n",
       "Name: population, dtype: int64"
      ]
     },
     "execution_count": 54,
     "metadata": {},
     "output_type": "execute_result"
    }
   ],
   "source": [
    "series2.name = 'population'\n",
    "series2.index.name = 'states'\n",
    "series2"
   ]
  },
  {
   "cell_type": "markdown",
   "metadata": {},
   "source": [
    "As you saw we can access to the index attribute, so we can change all the indexes through this."
   ]
  },
  {
   "cell_type": "code",
   "execution_count": 56,
   "metadata": {},
   "outputs": [
    {
     "data": {
      "text/plain": [
       "Kuky     35000\n",
       "Icesi    71000\n",
       "Morty    16000\n",
       "Rick      5000\n",
       "Name: population, dtype: int64"
      ]
     },
     "execution_count": 56,
     "metadata": {},
     "output_type": "execute_result"
    }
   ],
   "source": [
    "series2.index = ['Kuky', 'Icesi', 'Morty', 'Rick']\n",
    "series2"
   ]
  },
  {
   "cell_type": "markdown",
   "metadata": {},
   "source": [
    "## DataFrame\n",
    "\n",
    "This data structure represents a rectangular table of data and contains an ordered collection of columns (dataset), each column could have different kind of value type (string, numeric, boolean). DataFrame has not only the indexes by rows it has indexes for their columns. The data is stored as one or more two-dimensional blocks rather than a list, dictionary, or another two dimensional array. "
   ]
  },
  {
   "cell_type": "code",
   "execution_count": 26,
   "metadata": {},
   "outputs": [
    {
     "data": {
      "text/html": [
       "<div>\n",
       "<style scoped>\n",
       "    .dataframe tbody tr th:only-of-type {\n",
       "        vertical-align: middle;\n",
       "    }\n",
       "\n",
       "    .dataframe tbody tr th {\n",
       "        vertical-align: top;\n",
       "    }\n",
       "\n",
       "    .dataframe thead th {\n",
       "        text-align: right;\n",
       "    }\n",
       "</style>\n",
       "<table border=\"1\" class=\"dataframe\">\n",
       "  <thead>\n",
       "    <tr style=\"text-align: right;\">\n",
       "      <th></th>\n",
       "      <th>state</th>\n",
       "      <th>year</th>\n",
       "      <th>pop</th>\n",
       "    </tr>\n",
       "  </thead>\n",
       "  <tbody>\n",
       "    <tr>\n",
       "      <th>0</th>\n",
       "      <td>Ohio</td>\n",
       "      <td>2000</td>\n",
       "      <td>1.5</td>\n",
       "    </tr>\n",
       "    <tr>\n",
       "      <th>1</th>\n",
       "      <td>Ohio</td>\n",
       "      <td>2001</td>\n",
       "      <td>1.7</td>\n",
       "    </tr>\n",
       "    <tr>\n",
       "      <th>2</th>\n",
       "      <td>Ohio</td>\n",
       "      <td>2002</td>\n",
       "      <td>3.6</td>\n",
       "    </tr>\n",
       "    <tr>\n",
       "      <th>3</th>\n",
       "      <td>Nevada</td>\n",
       "      <td>2001</td>\n",
       "      <td>2.4</td>\n",
       "    </tr>\n",
       "    <tr>\n",
       "      <th>4</th>\n",
       "      <td>Nevada</td>\n",
       "      <td>2002</td>\n",
       "      <td>2.9</td>\n",
       "    </tr>\n",
       "    <tr>\n",
       "      <th>5</th>\n",
       "      <td>Nevada</td>\n",
       "      <td>2003</td>\n",
       "      <td>3.2</td>\n",
       "    </tr>\n",
       "  </tbody>\n",
       "</table>\n",
       "</div>"
      ],
      "text/plain": [
       "    state  year  pop\n",
       "0    Ohio  2000  1.5\n",
       "1    Ohio  2001  1.7\n",
       "2    Ohio  2002  3.6\n",
       "3  Nevada  2001  2.4\n",
       "4  Nevada  2002  2.9\n",
       "5  Nevada  2003  3.2"
      ]
     },
     "execution_count": 26,
     "metadata": {},
     "output_type": "execute_result"
    }
   ],
   "source": [
    "# this is one way to make a dataframe with the same number of rows by each column\n",
    "data = {'state': ['Ohio', 'Ohio', 'Ohio', 'Nevada', 'Nevada', 'Nevada'],\n",
    "       'year': [2000, 2001, 2002, 2001, 2002, 2003],\n",
    "       'pop': [1.5, 1.7, 3.6, 2.4, 2.9, 3.2]}\n",
    "data = DataFrame(data)\n",
    "data"
   ]
  },
  {
   "cell_type": "markdown",
   "metadata": {},
   "source": [
    "Well, now the idea is to use the methods of Pandas and the attributes of the DataFrame in order to explore the information. The next method will print the first five registers, this is important because it allows us to print a first representation of the dataset."
   ]
  },
  {
   "cell_type": "code",
   "execution_count": 27,
   "metadata": {},
   "outputs": [
    {
     "data": {
      "text/html": [
       "<div>\n",
       "<style scoped>\n",
       "    .dataframe tbody tr th:only-of-type {\n",
       "        vertical-align: middle;\n",
       "    }\n",
       "\n",
       "    .dataframe tbody tr th {\n",
       "        vertical-align: top;\n",
       "    }\n",
       "\n",
       "    .dataframe thead th {\n",
       "        text-align: right;\n",
       "    }\n",
       "</style>\n",
       "<table border=\"1\" class=\"dataframe\">\n",
       "  <thead>\n",
       "    <tr style=\"text-align: right;\">\n",
       "      <th></th>\n",
       "      <th>state</th>\n",
       "      <th>year</th>\n",
       "      <th>pop</th>\n",
       "    </tr>\n",
       "  </thead>\n",
       "  <tbody>\n",
       "    <tr>\n",
       "      <th>0</th>\n",
       "      <td>Ohio</td>\n",
       "      <td>2000</td>\n",
       "      <td>1.5</td>\n",
       "    </tr>\n",
       "    <tr>\n",
       "      <th>1</th>\n",
       "      <td>Ohio</td>\n",
       "      <td>2001</td>\n",
       "      <td>1.7</td>\n",
       "    </tr>\n",
       "  </tbody>\n",
       "</table>\n",
       "</div>"
      ],
      "text/plain": [
       "  state  year  pop\n",
       "0  Ohio  2000  1.5\n",
       "1  Ohio  2001  1.7"
      ]
     },
     "execution_count": 27,
     "metadata": {},
     "output_type": "execute_result"
    }
   ],
   "source": [
    "data.head(2)"
   ]
  },
  {
   "cell_type": "markdown",
   "metadata": {},
   "source": [
    "You can sort the during the creation process of the DataFrame"
   ]
  },
  {
   "cell_type": "code",
   "execution_count": 60,
   "metadata": {},
   "outputs": [
    {
     "data": {
      "text/html": [
       "<div>\n",
       "<style scoped>\n",
       "    .dataframe tbody tr th:only-of-type {\n",
       "        vertical-align: middle;\n",
       "    }\n",
       "\n",
       "    .dataframe tbody tr th {\n",
       "        vertical-align: top;\n",
       "    }\n",
       "\n",
       "    .dataframe thead th {\n",
       "        text-align: right;\n",
       "    }\n",
       "</style>\n",
       "<table border=\"1\" class=\"dataframe\">\n",
       "  <thead>\n",
       "    <tr style=\"text-align: right;\">\n",
       "      <th></th>\n",
       "      <th>year</th>\n",
       "      <th>pop</th>\n",
       "      <th>state</th>\n",
       "    </tr>\n",
       "  </thead>\n",
       "  <tbody>\n",
       "    <tr>\n",
       "      <th>0</th>\n",
       "      <td>2000</td>\n",
       "      <td>1.5</td>\n",
       "      <td>Ohio</td>\n",
       "    </tr>\n",
       "    <tr>\n",
       "      <th>1</th>\n",
       "      <td>2001</td>\n",
       "      <td>1.7</td>\n",
       "      <td>Ohio</td>\n",
       "    </tr>\n",
       "    <tr>\n",
       "      <th>2</th>\n",
       "      <td>2002</td>\n",
       "      <td>3.6</td>\n",
       "      <td>Ohio</td>\n",
       "    </tr>\n",
       "    <tr>\n",
       "      <th>3</th>\n",
       "      <td>2001</td>\n",
       "      <td>2.4</td>\n",
       "      <td>Nevada</td>\n",
       "    </tr>\n",
       "    <tr>\n",
       "      <th>4</th>\n",
       "      <td>2002</td>\n",
       "      <td>2.9</td>\n",
       "      <td>Nevada</td>\n",
       "    </tr>\n",
       "    <tr>\n",
       "      <th>5</th>\n",
       "      <td>2003</td>\n",
       "      <td>3.2</td>\n",
       "      <td>Nevada</td>\n",
       "    </tr>\n",
       "  </tbody>\n",
       "</table>\n",
       "</div>"
      ],
      "text/plain": [
       "   year  pop   state\n",
       "0  2000  1.5    Ohio\n",
       "1  2001  1.7    Ohio\n",
       "2  2002  3.6    Ohio\n",
       "3  2001  2.4  Nevada\n",
       "4  2002  2.9  Nevada\n",
       "5  2003  3.2  Nevada"
      ]
     },
     "execution_count": 60,
     "metadata": {},
     "output_type": "execute_result"
    }
   ],
   "source": [
    "DataFrame(data, columns=['year','pop', 'state'])\n"
   ]
  },
  {
   "cell_type": "markdown",
   "metadata": {},
   "source": [
    "If we didn't declare the values in a column we will have NaN registers."
   ]
  },
  {
   "cell_type": "code",
   "execution_count": 4,
   "metadata": {},
   "outputs": [
    {
     "data": {
      "text/html": [
       "<div>\n",
       "<style scoped>\n",
       "    .dataframe tbody tr th:only-of-type {\n",
       "        vertical-align: middle;\n",
       "    }\n",
       "\n",
       "    .dataframe tbody tr th {\n",
       "        vertical-align: top;\n",
       "    }\n",
       "\n",
       "    .dataframe thead th {\n",
       "        text-align: right;\n",
       "    }\n",
       "</style>\n",
       "<table border=\"1\" class=\"dataframe\">\n",
       "  <thead>\n",
       "    <tr style=\"text-align: right;\">\n",
       "      <th></th>\n",
       "      <th>year</th>\n",
       "      <th>state</th>\n",
       "      <th>pop</th>\n",
       "      <th>debt</th>\n",
       "    </tr>\n",
       "  </thead>\n",
       "  <tbody>\n",
       "    <tr>\n",
       "      <th>one</th>\n",
       "      <td>2000</td>\n",
       "      <td>Ohio</td>\n",
       "      <td>1.5</td>\n",
       "      <td>NaN</td>\n",
       "    </tr>\n",
       "    <tr>\n",
       "      <th>two</th>\n",
       "      <td>2001</td>\n",
       "      <td>Ohio</td>\n",
       "      <td>1.7</td>\n",
       "      <td>NaN</td>\n",
       "    </tr>\n",
       "    <tr>\n",
       "      <th>three</th>\n",
       "      <td>2002</td>\n",
       "      <td>Ohio</td>\n",
       "      <td>3.6</td>\n",
       "      <td>NaN</td>\n",
       "    </tr>\n",
       "    <tr>\n",
       "      <th>four</th>\n",
       "      <td>2001</td>\n",
       "      <td>Nevada</td>\n",
       "      <td>2.4</td>\n",
       "      <td>NaN</td>\n",
       "    </tr>\n",
       "    <tr>\n",
       "      <th>five</th>\n",
       "      <td>2002</td>\n",
       "      <td>Nevada</td>\n",
       "      <td>2.9</td>\n",
       "      <td>NaN</td>\n",
       "    </tr>\n",
       "    <tr>\n",
       "      <th>six</th>\n",
       "      <td>2003</td>\n",
       "      <td>Nevada</td>\n",
       "      <td>3.2</td>\n",
       "      <td>NaN</td>\n",
       "    </tr>\n",
       "  </tbody>\n",
       "</table>\n",
       "</div>"
      ],
      "text/plain": [
       "       year   state  pop debt\n",
       "one    2000    Ohio  1.5  NaN\n",
       "two    2001    Ohio  1.7  NaN\n",
       "three  2002    Ohio  3.6  NaN\n",
       "four   2001  Nevada  2.4  NaN\n",
       "five   2002  Nevada  2.9  NaN\n",
       "six    2003  Nevada  3.2  NaN"
      ]
     },
     "execution_count": 4,
     "metadata": {},
     "output_type": "execute_result"
    }
   ],
   "source": [
    "data = {'state': ['Ohio', 'Ohio', 'Ohio', 'Nevada', 'Nevada', 'Nevada'],\n",
    "       'year': [2000, 2001, 2002, 2001, 2002, 2003],\n",
    "       'pop': [1.5, 1.7, 3.6, 2.4, 2.9, 3.2]}\n",
    "\n",
    "frame2 =  DataFrame(data, columns=['year','state', 'pop',  'debt'],\n",
    "                   index=['one', 'two', 'three', 'four', 'five', 'six'])\n",
    "frame2"
   ]
  },
  {
   "cell_type": "code",
   "execution_count": 11,
   "metadata": {},
   "outputs": [
    {
     "data": {
      "text/plain": [
       "Index(['year', 'state', 'pop', 'debt'], dtype='object')"
      ]
     },
     "execution_count": 11,
     "metadata": {},
     "output_type": "execute_result"
    }
   ],
   "source": [
    "frame2.columns"
   ]
  },
  {
   "cell_type": "markdown",
   "metadata": {},
   "source": [
    "Like a Series object we can see the values in a specific column."
   ]
  },
  {
   "cell_type": "code",
   "execution_count": 12,
   "metadata": {},
   "outputs": [
    {
     "data": {
      "text/plain": [
       "one      2000\n",
       "two      2001\n",
       "three    2002\n",
       "four     2001\n",
       "five     2002\n",
       "six      2003\n",
       "Name: year, dtype: int64"
      ]
     },
     "execution_count": 12,
     "metadata": {},
     "output_type": "execute_result"
    }
   ],
   "source": [
    "frame2['year']"
   ]
  },
  {
   "cell_type": "code",
   "execution_count": 13,
   "metadata": {},
   "outputs": [
    {
     "data": {
      "text/plain": [
       "one      2000\n",
       "two      2001\n",
       "three    2002\n",
       "four     2001\n",
       "five     2002\n",
       "six      2003\n",
       "Name: year, dtype: int64"
      ]
     },
     "execution_count": 13,
     "metadata": {},
     "output_type": "execute_result"
    }
   ],
   "source": [
    "frame2.year"
   ]
  },
  {
   "cell_type": "markdown",
   "metadata": {},
   "source": [
    "If we want to print the values in a specific row by the index we can use the attribute loc or use iloc.\n",
    "\n",
    "+ loc() receives a string index or an array of string indexes\n",
    "+ iloc() receives the position index or an array of position indexes (int)"
   ]
  },
  {
   "cell_type": "code",
   "execution_count": 14,
   "metadata": {},
   "outputs": [
    {
     "data": {
      "text/plain": [
       "year     2001\n",
       "state    Ohio\n",
       "pop       1.7\n",
       "debt      NaN\n",
       "Name: two, dtype: object"
      ]
     },
     "execution_count": 14,
     "metadata": {},
     "output_type": "execute_result"
    }
   ],
   "source": [
    "frame2.loc['two']"
   ]
  },
  {
   "cell_type": "code",
   "execution_count": 6,
   "metadata": {},
   "outputs": [
    {
     "data": {
      "text/plain": [
       "year     2002\n",
       "state    Ohio\n",
       "pop       3.6\n",
       "debt      NaN\n",
       "Name: three, dtype: object"
      ]
     },
     "execution_count": 6,
     "metadata": {},
     "output_type": "execute_result"
    }
   ],
   "source": [
    "frame2.iloc[2]"
   ]
  },
  {
   "cell_type": "markdown",
   "metadata": {},
   "source": [
    "Columns can be modified by assignment. For example, the empty 'debt'  column could be assigned a scalar value or an array of values"
   ]
  },
  {
   "cell_type": "code",
   "execution_count": 9,
   "metadata": {},
   "outputs": [
    {
     "data": {
      "text/html": [
       "<div>\n",
       "<style scoped>\n",
       "    .dataframe tbody tr th:only-of-type {\n",
       "        vertical-align: middle;\n",
       "    }\n",
       "\n",
       "    .dataframe tbody tr th {\n",
       "        vertical-align: top;\n",
       "    }\n",
       "\n",
       "    .dataframe thead th {\n",
       "        text-align: right;\n",
       "    }\n",
       "</style>\n",
       "<table border=\"1\" class=\"dataframe\">\n",
       "  <thead>\n",
       "    <tr style=\"text-align: right;\">\n",
       "      <th></th>\n",
       "      <th>year</th>\n",
       "      <th>state</th>\n",
       "      <th>pop</th>\n",
       "      <th>debt</th>\n",
       "    </tr>\n",
       "  </thead>\n",
       "  <tbody>\n",
       "    <tr>\n",
       "      <th>one</th>\n",
       "      <td>2000</td>\n",
       "      <td>Ohio</td>\n",
       "      <td>1.5</td>\n",
       "      <td>16.5</td>\n",
       "    </tr>\n",
       "    <tr>\n",
       "      <th>two</th>\n",
       "      <td>2001</td>\n",
       "      <td>Ohio</td>\n",
       "      <td>1.7</td>\n",
       "      <td>16.5</td>\n",
       "    </tr>\n",
       "    <tr>\n",
       "      <th>three</th>\n",
       "      <td>2002</td>\n",
       "      <td>Ohio</td>\n",
       "      <td>3.6</td>\n",
       "      <td>16.5</td>\n",
       "    </tr>\n",
       "    <tr>\n",
       "      <th>four</th>\n",
       "      <td>2001</td>\n",
       "      <td>Nevada</td>\n",
       "      <td>2.4</td>\n",
       "      <td>16.5</td>\n",
       "    </tr>\n",
       "    <tr>\n",
       "      <th>five</th>\n",
       "      <td>2002</td>\n",
       "      <td>Nevada</td>\n",
       "      <td>2.9</td>\n",
       "      <td>16.5</td>\n",
       "    </tr>\n",
       "    <tr>\n",
       "      <th>six</th>\n",
       "      <td>2003</td>\n",
       "      <td>Nevada</td>\n",
       "      <td>3.2</td>\n",
       "      <td>16.5</td>\n",
       "    </tr>\n",
       "  </tbody>\n",
       "</table>\n",
       "</div>"
      ],
      "text/plain": [
       "       year   state  pop  debt\n",
       "one    2000    Ohio  1.5  16.5\n",
       "two    2001    Ohio  1.7  16.5\n",
       "three  2002    Ohio  3.6  16.5\n",
       "four   2001  Nevada  2.4  16.5\n",
       "five   2002  Nevada  2.9  16.5\n",
       "six    2003  Nevada  3.2  16.5"
      ]
     },
     "execution_count": 9,
     "metadata": {},
     "output_type": "execute_result"
    }
   ],
   "source": [
    "frame2['debt'] = 16.5\n",
    "frame2"
   ]
  },
  {
   "cell_type": "code",
   "execution_count": 12,
   "metadata": {},
   "outputs": [
    {
     "data": {
      "text/html": [
       "<div>\n",
       "<style scoped>\n",
       "    .dataframe tbody tr th:only-of-type {\n",
       "        vertical-align: middle;\n",
       "    }\n",
       "\n",
       "    .dataframe tbody tr th {\n",
       "        vertical-align: top;\n",
       "    }\n",
       "\n",
       "    .dataframe thead th {\n",
       "        text-align: right;\n",
       "    }\n",
       "</style>\n",
       "<table border=\"1\" class=\"dataframe\">\n",
       "  <thead>\n",
       "    <tr style=\"text-align: right;\">\n",
       "      <th></th>\n",
       "      <th>year</th>\n",
       "      <th>state</th>\n",
       "      <th>pop</th>\n",
       "      <th>debt</th>\n",
       "    </tr>\n",
       "  </thead>\n",
       "  <tbody>\n",
       "    <tr>\n",
       "      <th>one</th>\n",
       "      <td>2000</td>\n",
       "      <td>Ohio</td>\n",
       "      <td>1.5</td>\n",
       "      <td>0.0</td>\n",
       "    </tr>\n",
       "    <tr>\n",
       "      <th>two</th>\n",
       "      <td>2001</td>\n",
       "      <td>Ohio</td>\n",
       "      <td>1.7</td>\n",
       "      <td>1.0</td>\n",
       "    </tr>\n",
       "    <tr>\n",
       "      <th>three</th>\n",
       "      <td>2002</td>\n",
       "      <td>Ohio</td>\n",
       "      <td>3.6</td>\n",
       "      <td>2.0</td>\n",
       "    </tr>\n",
       "    <tr>\n",
       "      <th>four</th>\n",
       "      <td>2001</td>\n",
       "      <td>Nevada</td>\n",
       "      <td>2.4</td>\n",
       "      <td>3.0</td>\n",
       "    </tr>\n",
       "    <tr>\n",
       "      <th>five</th>\n",
       "      <td>2002</td>\n",
       "      <td>Nevada</td>\n",
       "      <td>2.9</td>\n",
       "      <td>4.0</td>\n",
       "    </tr>\n",
       "    <tr>\n",
       "      <th>six</th>\n",
       "      <td>2003</td>\n",
       "      <td>Nevada</td>\n",
       "      <td>3.2</td>\n",
       "      <td>5.0</td>\n",
       "    </tr>\n",
       "  </tbody>\n",
       "</table>\n",
       "</div>"
      ],
      "text/plain": [
       "       year   state  pop  debt\n",
       "one    2000    Ohio  1.5   0.0\n",
       "two    2001    Ohio  1.7   1.0\n",
       "three  2002    Ohio  3.6   2.0\n",
       "four   2001  Nevada  2.4   3.0\n",
       "five   2002  Nevada  2.9   4.0\n",
       "six    2003  Nevada  3.2   5.0"
      ]
     },
     "execution_count": 12,
     "metadata": {},
     "output_type": "execute_result"
    }
   ],
   "source": [
    "# for this case the array or list must have the same lenght that match with length of the DataFrame\n",
    "frame2['debt'] = np.arange(6.)\n",
    "frame2"
   ]
  },
  {
   "cell_type": "code",
   "execution_count": 13,
   "metadata": {
    "scrolled": true
   },
   "outputs": [
    {
     "data": {
      "text/html": [
       "<div>\n",
       "<style scoped>\n",
       "    .dataframe tbody tr th:only-of-type {\n",
       "        vertical-align: middle;\n",
       "    }\n",
       "\n",
       "    .dataframe tbody tr th {\n",
       "        vertical-align: top;\n",
       "    }\n",
       "\n",
       "    .dataframe thead th {\n",
       "        text-align: right;\n",
       "    }\n",
       "</style>\n",
       "<table border=\"1\" class=\"dataframe\">\n",
       "  <thead>\n",
       "    <tr style=\"text-align: right;\">\n",
       "      <th></th>\n",
       "      <th>year</th>\n",
       "      <th>state</th>\n",
       "      <th>pop</th>\n",
       "      <th>debt</th>\n",
       "    </tr>\n",
       "  </thead>\n",
       "  <tbody>\n",
       "    <tr>\n",
       "      <th>one</th>\n",
       "      <td>2000</td>\n",
       "      <td>Ohio</td>\n",
       "      <td>1.5</td>\n",
       "      <td>NaN</td>\n",
       "    </tr>\n",
       "    <tr>\n",
       "      <th>two</th>\n",
       "      <td>2001</td>\n",
       "      <td>Ohio</td>\n",
       "      <td>1.7</td>\n",
       "      <td>-1.2</td>\n",
       "    </tr>\n",
       "    <tr>\n",
       "      <th>three</th>\n",
       "      <td>2002</td>\n",
       "      <td>Ohio</td>\n",
       "      <td>3.6</td>\n",
       "      <td>NaN</td>\n",
       "    </tr>\n",
       "    <tr>\n",
       "      <th>four</th>\n",
       "      <td>2001</td>\n",
       "      <td>Nevada</td>\n",
       "      <td>2.4</td>\n",
       "      <td>-1.5</td>\n",
       "    </tr>\n",
       "    <tr>\n",
       "      <th>five</th>\n",
       "      <td>2002</td>\n",
       "      <td>Nevada</td>\n",
       "      <td>2.9</td>\n",
       "      <td>-1.7</td>\n",
       "    </tr>\n",
       "    <tr>\n",
       "      <th>six</th>\n",
       "      <td>2003</td>\n",
       "      <td>Nevada</td>\n",
       "      <td>3.2</td>\n",
       "      <td>NaN</td>\n",
       "    </tr>\n",
       "  </tbody>\n",
       "</table>\n",
       "</div>"
      ],
      "text/plain": [
       "       year   state  pop  debt\n",
       "one    2000    Ohio  1.5   NaN\n",
       "two    2001    Ohio  1.7  -1.2\n",
       "three  2002    Ohio  3.6   NaN\n",
       "four   2001  Nevada  2.4  -1.5\n",
       "five   2002  Nevada  2.9  -1.7\n",
       "six    2003  Nevada  3.2   NaN"
      ]
     },
     "execution_count": 13,
     "metadata": {},
     "output_type": "execute_result"
    }
   ],
   "source": [
    "# look that in this case we use the index to illustrate where the value are going to be in the Data Frame\n",
    "# and the rows that will not have values, which will have NaN\n",
    "val = pd.Series([-1.2, -1.5, -1.7], index=['two', 'four', 'five'])\n",
    "frame2['debt'] = val\n",
    "frame2"
   ]
  },
  {
   "cell_type": "markdown",
   "metadata": {},
   "source": [
    "## Style a DataFrame\n",
    "\n",
    "\n",
    "This is a trick if you want to change the display of your entire notebook, this approach is through using a style that is provided by a dictionary."
   ]
  },
  {
   "cell_type": "markdown",
   "metadata": {},
   "source": [
    "<img src=\"https://pbs.twimg.com/profile_images/640849368363368448/TTDeHHWl_400x400.jpg\" height=\"50\"/>"
   ]
  },
  {
   "cell_type": "code",
   "execution_count": 91,
   "metadata": {
    "scrolled": false
   },
   "outputs": [
    {
     "data": {
      "text/html": [
       "<style  type=\"text/css\" >\n",
       "</style><table id=\"T_da35837e_a990_11e9_901b_354cfa192ecd\" ><thead>    <tr>        <th class=\"blank level0\" ></th>        <th class=\"col_heading level0 col0\" >date</th>        <th class=\"col_heading level0 col1\" >close</th>        <th class=\"col_heading level0 col2\" >volume</th>        <th class=\"col_heading level0 col3\" >name</th>    </tr></thead><tbody>\n",
       "                <tr>\n",
       "                        <th id=\"T_da35837e_a990_11e9_901b_354cfa192ecdlevel0_row0\" class=\"row_heading level0 row0\" >0</th>\n",
       "                        <td id=\"T_da35837e_a990_11e9_901b_354cfa192ecdrow0_col0\" class=\"data row0 col0\" >2013-02-08 00:00:00</td>\n",
       "                        <td id=\"T_da35837e_a990_11e9_901b_354cfa192ecdrow0_col1\" class=\"data row0 col1\" >14.75</td>\n",
       "                        <td id=\"T_da35837e_a990_11e9_901b_354cfa192ecdrow0_col2\" class=\"data row0 col2\" >8407500</td>\n",
       "                        <td id=\"T_da35837e_a990_11e9_901b_354cfa192ecdrow0_col3\" class=\"data row0 col3\" >AAL</td>\n",
       "            </tr>\n",
       "            <tr>\n",
       "                        <th id=\"T_da35837e_a990_11e9_901b_354cfa192ecdlevel0_row1\" class=\"row_heading level0 row1\" >1</th>\n",
       "                        <td id=\"T_da35837e_a990_11e9_901b_354cfa192ecdrow1_col0\" class=\"data row1 col0\" >2013-02-11 00:00:00</td>\n",
       "                        <td id=\"T_da35837e_a990_11e9_901b_354cfa192ecdrow1_col1\" class=\"data row1 col1\" >14.46</td>\n",
       "                        <td id=\"T_da35837e_a990_11e9_901b_354cfa192ecdrow1_col2\" class=\"data row1 col2\" >8882000</td>\n",
       "                        <td id=\"T_da35837e_a990_11e9_901b_354cfa192ecdrow1_col3\" class=\"data row1 col3\" >AAL</td>\n",
       "            </tr>\n",
       "            <tr>\n",
       "                        <th id=\"T_da35837e_a990_11e9_901b_354cfa192ecdlevel0_row2\" class=\"row_heading level0 row2\" >2</th>\n",
       "                        <td id=\"T_da35837e_a990_11e9_901b_354cfa192ecdrow2_col0\" class=\"data row2 col0\" >2013-02-12 00:00:00</td>\n",
       "                        <td id=\"T_da35837e_a990_11e9_901b_354cfa192ecdrow2_col1\" class=\"data row2 col1\" >14.27</td>\n",
       "                        <td id=\"T_da35837e_a990_11e9_901b_354cfa192ecdrow2_col2\" class=\"data row2 col2\" >8126000</td>\n",
       "                        <td id=\"T_da35837e_a990_11e9_901b_354cfa192ecdrow2_col3\" class=\"data row2 col3\" >AAL</td>\n",
       "            </tr>\n",
       "            <tr>\n",
       "                        <th id=\"T_da35837e_a990_11e9_901b_354cfa192ecdlevel0_row3\" class=\"row_heading level0 row3\" >3</th>\n",
       "                        <td id=\"T_da35837e_a990_11e9_901b_354cfa192ecdrow3_col0\" class=\"data row3 col0\" >2013-02-13 00:00:00</td>\n",
       "                        <td id=\"T_da35837e_a990_11e9_901b_354cfa192ecdrow3_col1\" class=\"data row3 col1\" >14.66</td>\n",
       "                        <td id=\"T_da35837e_a990_11e9_901b_354cfa192ecdrow3_col2\" class=\"data row3 col2\" >10259500</td>\n",
       "                        <td id=\"T_da35837e_a990_11e9_901b_354cfa192ecdrow3_col3\" class=\"data row3 col3\" >AAL</td>\n",
       "            </tr>\n",
       "            <tr>\n",
       "                        <th id=\"T_da35837e_a990_11e9_901b_354cfa192ecdlevel0_row4\" class=\"row_heading level0 row4\" >4</th>\n",
       "                        <td id=\"T_da35837e_a990_11e9_901b_354cfa192ecdrow4_col0\" class=\"data row4 col0\" >2013-02-14 00:00:00</td>\n",
       "                        <td id=\"T_da35837e_a990_11e9_901b_354cfa192ecdrow4_col1\" class=\"data row4 col1\" >13.99</td>\n",
       "                        <td id=\"T_da35837e_a990_11e9_901b_354cfa192ecdrow4_col2\" class=\"data row4 col2\" >31879900</td>\n",
       "                        <td id=\"T_da35837e_a990_11e9_901b_354cfa192ecdrow4_col3\" class=\"data row4 col3\" >AAL</td>\n",
       "            </tr>\n",
       "    </tbody></table>"
      ],
      "text/plain": [
       "<pandas.io.formats.style.Styler at 0x7f652fb18748>"
      ]
     },
     "execution_count": 91,
     "metadata": {},
     "output_type": "execute_result"
    }
   ],
   "source": [
    "# I'm going to use the dataset from the repository: https://www.kaggle.com/camnugent/sandp500/\n",
    "# https://raw.githubusercontent.com/not4win/MLfinance/master/all_stocks_5yr.csv\n",
    "df = pd.read_csv(\"../Datasets/all_stocks_5yr.csv\", parse_dates=['Date'])\n",
    "df.columns = [col.lower() for col in df.columns]\n",
    "df = df.loc[:,['date','close','volume','name']].copy()\n",
    "df = df.head().copy()\n",
    "df.style"
   ]
  },
  {
   "cell_type": "code",
   "execution_count": 92,
   "metadata": {},
   "outputs": [
    {
     "name": "stdout",
     "output_type": "stream",
     "text": [
      "<class 'pandas.core.frame.DataFrame'>\n",
      "RangeIndex: 5 entries, 0 to 4\n",
      "Data columns (total 4 columns):\n",
      "date      5 non-null datetime64[ns]\n",
      "close     5 non-null float64\n",
      "volume    5 non-null int64\n",
      "name      5 non-null object\n",
      "dtypes: datetime64[ns](1), float64(1), int64(1), object(1)\n",
      "memory usage: 240.0+ bytes\n"
     ]
    }
   ],
   "source": [
    "df.info()"
   ]
  },
  {
   "cell_type": "code",
   "execution_count": 96,
   "metadata": {},
   "outputs": [],
   "source": [
    "format_dict = {'date':'{:%m/%d/%y}', 'close':'${:.2f}','volume':'{:,}'}"
   ]
  },
  {
   "cell_type": "code",
   "execution_count": 97,
   "metadata": {
    "scrolled": false
   },
   "outputs": [
    {
     "data": {
      "text/html": [
       "<style  type=\"text/css\" >\n",
       "</style><table id=\"T_09803976_a991_11e9_901b_354cfa192ecd\" ><thead>    <tr>        <th class=\"blank level0\" ></th>        <th class=\"col_heading level0 col0\" >date</th>        <th class=\"col_heading level0 col1\" >close</th>        <th class=\"col_heading level0 col2\" >volume</th>        <th class=\"col_heading level0 col3\" >name</th>    </tr></thead><tbody>\n",
       "                <tr>\n",
       "                        <th id=\"T_09803976_a991_11e9_901b_354cfa192ecdlevel0_row0\" class=\"row_heading level0 row0\" >0</th>\n",
       "                        <td id=\"T_09803976_a991_11e9_901b_354cfa192ecdrow0_col0\" class=\"data row0 col0\" >02/08/13</td>\n",
       "                        <td id=\"T_09803976_a991_11e9_901b_354cfa192ecdrow0_col1\" class=\"data row0 col1\" >$14.75</td>\n",
       "                        <td id=\"T_09803976_a991_11e9_901b_354cfa192ecdrow0_col2\" class=\"data row0 col2\" >8,407,500</td>\n",
       "                        <td id=\"T_09803976_a991_11e9_901b_354cfa192ecdrow0_col3\" class=\"data row0 col3\" >AAL</td>\n",
       "            </tr>\n",
       "            <tr>\n",
       "                        <th id=\"T_09803976_a991_11e9_901b_354cfa192ecdlevel0_row1\" class=\"row_heading level0 row1\" >1</th>\n",
       "                        <td id=\"T_09803976_a991_11e9_901b_354cfa192ecdrow1_col0\" class=\"data row1 col0\" >02/11/13</td>\n",
       "                        <td id=\"T_09803976_a991_11e9_901b_354cfa192ecdrow1_col1\" class=\"data row1 col1\" >$14.46</td>\n",
       "                        <td id=\"T_09803976_a991_11e9_901b_354cfa192ecdrow1_col2\" class=\"data row1 col2\" >8,882,000</td>\n",
       "                        <td id=\"T_09803976_a991_11e9_901b_354cfa192ecdrow1_col3\" class=\"data row1 col3\" >AAL</td>\n",
       "            </tr>\n",
       "            <tr>\n",
       "                        <th id=\"T_09803976_a991_11e9_901b_354cfa192ecdlevel0_row2\" class=\"row_heading level0 row2\" >2</th>\n",
       "                        <td id=\"T_09803976_a991_11e9_901b_354cfa192ecdrow2_col0\" class=\"data row2 col0\" >02/12/13</td>\n",
       "                        <td id=\"T_09803976_a991_11e9_901b_354cfa192ecdrow2_col1\" class=\"data row2 col1\" >$14.27</td>\n",
       "                        <td id=\"T_09803976_a991_11e9_901b_354cfa192ecdrow2_col2\" class=\"data row2 col2\" >8,126,000</td>\n",
       "                        <td id=\"T_09803976_a991_11e9_901b_354cfa192ecdrow2_col3\" class=\"data row2 col3\" >AAL</td>\n",
       "            </tr>\n",
       "            <tr>\n",
       "                        <th id=\"T_09803976_a991_11e9_901b_354cfa192ecdlevel0_row3\" class=\"row_heading level0 row3\" >3</th>\n",
       "                        <td id=\"T_09803976_a991_11e9_901b_354cfa192ecdrow3_col0\" class=\"data row3 col0\" >02/13/13</td>\n",
       "                        <td id=\"T_09803976_a991_11e9_901b_354cfa192ecdrow3_col1\" class=\"data row3 col1\" >$14.66</td>\n",
       "                        <td id=\"T_09803976_a991_11e9_901b_354cfa192ecdrow3_col2\" class=\"data row3 col2\" >10,259,500</td>\n",
       "                        <td id=\"T_09803976_a991_11e9_901b_354cfa192ecdrow3_col3\" class=\"data row3 col3\" >AAL</td>\n",
       "            </tr>\n",
       "            <tr>\n",
       "                        <th id=\"T_09803976_a991_11e9_901b_354cfa192ecdlevel0_row4\" class=\"row_heading level0 row4\" >4</th>\n",
       "                        <td id=\"T_09803976_a991_11e9_901b_354cfa192ecdrow4_col0\" class=\"data row4 col0\" >02/14/13</td>\n",
       "                        <td id=\"T_09803976_a991_11e9_901b_354cfa192ecdrow4_col1\" class=\"data row4 col1\" >$13.99</td>\n",
       "                        <td id=\"T_09803976_a991_11e9_901b_354cfa192ecdrow4_col2\" class=\"data row4 col2\" >31,879,900</td>\n",
       "                        <td id=\"T_09803976_a991_11e9_901b_354cfa192ecdrow4_col3\" class=\"data row4 col3\" >AAL</td>\n",
       "            </tr>\n",
       "    </tbody></table>"
      ],
      "text/plain": [
       "<pandas.io.formats.style.Styler at 0x7f652f4a1d30>"
      ]
     },
     "execution_count": 97,
     "metadata": {},
     "output_type": "execute_result"
    }
   ],
   "source": [
    "df.style.format(format_dict)"
   ]
  },
  {
   "cell_type": "markdown",
   "metadata": {},
   "source": [
    "We can apply more styling with other methods."
   ]
  },
  {
   "cell_type": "code",
   "execution_count": 102,
   "metadata": {},
   "outputs": [
    {
     "data": {
      "text/html": [
       "<style  type=\"text/css\" >\n",
       "    #T_91611c5c_a991_11e9_901b_354cfa192ecdrow0_col1 {\n",
       "            : ;\n",
       "            background-color:  green;\n",
       "        }    #T_91611c5c_a991_11e9_901b_354cfa192ecdrow4_col1 {\n",
       "            background-color:  red;\n",
       "            : ;\n",
       "        }</style><table id=\"T_91611c5c_a991_11e9_901b_354cfa192ecd\" ><thead>    <tr>        <th class=\"col_heading level0 col0\" >date</th>        <th class=\"col_heading level0 col1\" >close</th>        <th class=\"col_heading level0 col2\" >volume</th>        <th class=\"col_heading level0 col3\" >name</th>    </tr></thead><tbody>\n",
       "                <tr>\n",
       "                                <td id=\"T_91611c5c_a991_11e9_901b_354cfa192ecdrow0_col0\" class=\"data row0 col0\" >02/08/13</td>\n",
       "                        <td id=\"T_91611c5c_a991_11e9_901b_354cfa192ecdrow0_col1\" class=\"data row0 col1\" >$14.75</td>\n",
       "                        <td id=\"T_91611c5c_a991_11e9_901b_354cfa192ecdrow0_col2\" class=\"data row0 col2\" >8,407,500</td>\n",
       "                        <td id=\"T_91611c5c_a991_11e9_901b_354cfa192ecdrow0_col3\" class=\"data row0 col3\" >AAL</td>\n",
       "            </tr>\n",
       "            <tr>\n",
       "                                <td id=\"T_91611c5c_a991_11e9_901b_354cfa192ecdrow1_col0\" class=\"data row1 col0\" >02/11/13</td>\n",
       "                        <td id=\"T_91611c5c_a991_11e9_901b_354cfa192ecdrow1_col1\" class=\"data row1 col1\" >$14.46</td>\n",
       "                        <td id=\"T_91611c5c_a991_11e9_901b_354cfa192ecdrow1_col2\" class=\"data row1 col2\" >8,882,000</td>\n",
       "                        <td id=\"T_91611c5c_a991_11e9_901b_354cfa192ecdrow1_col3\" class=\"data row1 col3\" >AAL</td>\n",
       "            </tr>\n",
       "            <tr>\n",
       "                                <td id=\"T_91611c5c_a991_11e9_901b_354cfa192ecdrow2_col0\" class=\"data row2 col0\" >02/12/13</td>\n",
       "                        <td id=\"T_91611c5c_a991_11e9_901b_354cfa192ecdrow2_col1\" class=\"data row2 col1\" >$14.27</td>\n",
       "                        <td id=\"T_91611c5c_a991_11e9_901b_354cfa192ecdrow2_col2\" class=\"data row2 col2\" >8,126,000</td>\n",
       "                        <td id=\"T_91611c5c_a991_11e9_901b_354cfa192ecdrow2_col3\" class=\"data row2 col3\" >AAL</td>\n",
       "            </tr>\n",
       "            <tr>\n",
       "                                <td id=\"T_91611c5c_a991_11e9_901b_354cfa192ecdrow3_col0\" class=\"data row3 col0\" >02/13/13</td>\n",
       "                        <td id=\"T_91611c5c_a991_11e9_901b_354cfa192ecdrow3_col1\" class=\"data row3 col1\" >$14.66</td>\n",
       "                        <td id=\"T_91611c5c_a991_11e9_901b_354cfa192ecdrow3_col2\" class=\"data row3 col2\" >10,259,500</td>\n",
       "                        <td id=\"T_91611c5c_a991_11e9_901b_354cfa192ecdrow3_col3\" class=\"data row3 col3\" >AAL</td>\n",
       "            </tr>\n",
       "            <tr>\n",
       "                                <td id=\"T_91611c5c_a991_11e9_901b_354cfa192ecdrow4_col0\" class=\"data row4 col0\" >02/14/13</td>\n",
       "                        <td id=\"T_91611c5c_a991_11e9_901b_354cfa192ecdrow4_col1\" class=\"data row4 col1\" >$13.99</td>\n",
       "                        <td id=\"T_91611c5c_a991_11e9_901b_354cfa192ecdrow4_col2\" class=\"data row4 col2\" >31,879,900</td>\n",
       "                        <td id=\"T_91611c5c_a991_11e9_901b_354cfa192ecdrow4_col3\" class=\"data row4 col3\" >AAL</td>\n",
       "            </tr>\n",
       "    </tbody></table>"
      ],
      "text/plain": [
       "<pandas.io.formats.style.Styler at 0x7f652f4dd588>"
      ]
     },
     "execution_count": 102,
     "metadata": {},
     "output_type": "execute_result"
    }
   ],
   "source": [
    "(df.style.format(format_dict)\n",
    "    .hide_index()\n",
    "    .highlight_min('close', color='red')\n",
    "    .highlight_max('close', color='green')\n",
    ")"
   ]
  },
  {
   "cell_type": "code",
   "execution_count": 106,
   "metadata": {},
   "outputs": [
    {
     "data": {
      "text/html": [
       "<style  type=\"text/css\" >\n",
       "    #T_115f62d8_a992_11e9_901b_354cfa192ecdrow0_col1 {\n",
       "            background-color:  #08306b;\n",
       "            color:  #f1f1f1;\n",
       "        }    #T_115f62d8_a992_11e9_901b_354cfa192ecdrow1_col1 {\n",
       "            background-color:  #4493c7;\n",
       "            color:  #000000;\n",
       "        }    #T_115f62d8_a992_11e9_901b_354cfa192ecdrow2_col1 {\n",
       "            background-color:  #a0cbe2;\n",
       "            color:  #000000;\n",
       "        }    #T_115f62d8_a992_11e9_901b_354cfa192ecdrow3_col1 {\n",
       "            background-color:  #084f99;\n",
       "            color:  #f1f1f1;\n",
       "        }    #T_115f62d8_a992_11e9_901b_354cfa192ecdrow4_col1 {\n",
       "            background-color:  #f7fbff;\n",
       "            color:  #000000;\n",
       "        }</style><table id=\"T_115f62d8_a992_11e9_901b_354cfa192ecd\" ><thead>    <tr>        <th class=\"col_heading level0 col0\" >date</th>        <th class=\"col_heading level0 col1\" >close</th>        <th class=\"col_heading level0 col2\" >volume</th>        <th class=\"col_heading level0 col3\" >name</th>    </tr></thead><tbody>\n",
       "                <tr>\n",
       "                                <td id=\"T_115f62d8_a992_11e9_901b_354cfa192ecdrow0_col0\" class=\"data row0 col0\" >02/08/13</td>\n",
       "                        <td id=\"T_115f62d8_a992_11e9_901b_354cfa192ecdrow0_col1\" class=\"data row0 col1\" >$14.75</td>\n",
       "                        <td id=\"T_115f62d8_a992_11e9_901b_354cfa192ecdrow0_col2\" class=\"data row0 col2\" >8,407,500</td>\n",
       "                        <td id=\"T_115f62d8_a992_11e9_901b_354cfa192ecdrow0_col3\" class=\"data row0 col3\" >AAL</td>\n",
       "            </tr>\n",
       "            <tr>\n",
       "                                <td id=\"T_115f62d8_a992_11e9_901b_354cfa192ecdrow1_col0\" class=\"data row1 col0\" >02/11/13</td>\n",
       "                        <td id=\"T_115f62d8_a992_11e9_901b_354cfa192ecdrow1_col1\" class=\"data row1 col1\" >$14.46</td>\n",
       "                        <td id=\"T_115f62d8_a992_11e9_901b_354cfa192ecdrow1_col2\" class=\"data row1 col2\" >8,882,000</td>\n",
       "                        <td id=\"T_115f62d8_a992_11e9_901b_354cfa192ecdrow1_col3\" class=\"data row1 col3\" >AAL</td>\n",
       "            </tr>\n",
       "            <tr>\n",
       "                                <td id=\"T_115f62d8_a992_11e9_901b_354cfa192ecdrow2_col0\" class=\"data row2 col0\" >02/12/13</td>\n",
       "                        <td id=\"T_115f62d8_a992_11e9_901b_354cfa192ecdrow2_col1\" class=\"data row2 col1\" >$14.27</td>\n",
       "                        <td id=\"T_115f62d8_a992_11e9_901b_354cfa192ecdrow2_col2\" class=\"data row2 col2\" >8,126,000</td>\n",
       "                        <td id=\"T_115f62d8_a992_11e9_901b_354cfa192ecdrow2_col3\" class=\"data row2 col3\" >AAL</td>\n",
       "            </tr>\n",
       "            <tr>\n",
       "                                <td id=\"T_115f62d8_a992_11e9_901b_354cfa192ecdrow3_col0\" class=\"data row3 col0\" >02/13/13</td>\n",
       "                        <td id=\"T_115f62d8_a992_11e9_901b_354cfa192ecdrow3_col1\" class=\"data row3 col1\" >$14.66</td>\n",
       "                        <td id=\"T_115f62d8_a992_11e9_901b_354cfa192ecdrow3_col2\" class=\"data row3 col2\" >10,259,500</td>\n",
       "                        <td id=\"T_115f62d8_a992_11e9_901b_354cfa192ecdrow3_col3\" class=\"data row3 col3\" >AAL</td>\n",
       "            </tr>\n",
       "            <tr>\n",
       "                                <td id=\"T_115f62d8_a992_11e9_901b_354cfa192ecdrow4_col0\" class=\"data row4 col0\" >02/14/13</td>\n",
       "                        <td id=\"T_115f62d8_a992_11e9_901b_354cfa192ecdrow4_col1\" class=\"data row4 col1\" >$13.99</td>\n",
       "                        <td id=\"T_115f62d8_a992_11e9_901b_354cfa192ecdrow4_col2\" class=\"data row4 col2\" >31,879,900</td>\n",
       "                        <td id=\"T_115f62d8_a992_11e9_901b_354cfa192ecdrow4_col3\" class=\"data row4 col3\" >AAL</td>\n",
       "            </tr>\n",
       "    </tbody></table>"
      ],
      "text/plain": [
       "<pandas.io.formats.style.Styler at 0x7f652f483f60>"
      ]
     },
     "execution_count": 106,
     "metadata": {},
     "output_type": "execute_result"
    }
   ],
   "source": [
    "(df.style.format(format_dict)\n",
    "    .hide_index()\n",
    "    .background_gradient(subset='close', cmap='Blues')\n",
    ")"
   ]
  },
  {
   "cell_type": "code",
   "execution_count": 107,
   "metadata": {},
   "outputs": [
    {
     "data": {
      "text/html": [
       "<style  type=\"text/css\" >\n",
       "    #T_51dab8f8_a992_11e9_901b_354cfa192ecdrow0_col2 {\n",
       "            width:  10em;\n",
       "             height:  80%;\n",
       "            background:  linear-gradient(90deg, transparent 50.0%, lightblue 50.0%, lightblue 63.2%, transparent 63.2%);\n",
       "        }    #T_51dab8f8_a992_11e9_901b_354cfa192ecdrow1_col2 {\n",
       "            width:  10em;\n",
       "             height:  80%;\n",
       "            background:  linear-gradient(90deg, transparent 50.0%, lightblue 50.0%, lightblue 63.9%, transparent 63.9%);\n",
       "        }    #T_51dab8f8_a992_11e9_901b_354cfa192ecdrow2_col2 {\n",
       "            width:  10em;\n",
       "             height:  80%;\n",
       "            background:  linear-gradient(90deg, transparent 50.0%, lightblue 50.0%, lightblue 62.7%, transparent 62.7%);\n",
       "        }    #T_51dab8f8_a992_11e9_901b_354cfa192ecdrow3_col2 {\n",
       "            width:  10em;\n",
       "             height:  80%;\n",
       "            background:  linear-gradient(90deg, transparent 50.0%, lightblue 50.0%, lightblue 66.1%, transparent 66.1%);\n",
       "        }    #T_51dab8f8_a992_11e9_901b_354cfa192ecdrow4_col2 {\n",
       "            width:  10em;\n",
       "             height:  80%;\n",
       "            background:  linear-gradient(90deg, transparent 50.0%, lightblue 50.0%, lightblue 100.0%, transparent 100.0%);\n",
       "        }</style><table id=\"T_51dab8f8_a992_11e9_901b_354cfa192ecd\" ><caption>Stock Prices from 2013</caption><thead>    <tr>        <th class=\"col_heading level0 col0\" >date</th>        <th class=\"col_heading level0 col1\" >close</th>        <th class=\"col_heading level0 col2\" >volume</th>        <th class=\"col_heading level0 col3\" >name</th>    </tr></thead><tbody>\n",
       "                <tr>\n",
       "                                <td id=\"T_51dab8f8_a992_11e9_901b_354cfa192ecdrow0_col0\" class=\"data row0 col0\" >02/08/13</td>\n",
       "                        <td id=\"T_51dab8f8_a992_11e9_901b_354cfa192ecdrow0_col1\" class=\"data row0 col1\" >$14.75</td>\n",
       "                        <td id=\"T_51dab8f8_a992_11e9_901b_354cfa192ecdrow0_col2\" class=\"data row0 col2\" >8,407,500</td>\n",
       "                        <td id=\"T_51dab8f8_a992_11e9_901b_354cfa192ecdrow0_col3\" class=\"data row0 col3\" >AAL</td>\n",
       "            </tr>\n",
       "            <tr>\n",
       "                                <td id=\"T_51dab8f8_a992_11e9_901b_354cfa192ecdrow1_col0\" class=\"data row1 col0\" >02/11/13</td>\n",
       "                        <td id=\"T_51dab8f8_a992_11e9_901b_354cfa192ecdrow1_col1\" class=\"data row1 col1\" >$14.46</td>\n",
       "                        <td id=\"T_51dab8f8_a992_11e9_901b_354cfa192ecdrow1_col2\" class=\"data row1 col2\" >8,882,000</td>\n",
       "                        <td id=\"T_51dab8f8_a992_11e9_901b_354cfa192ecdrow1_col3\" class=\"data row1 col3\" >AAL</td>\n",
       "            </tr>\n",
       "            <tr>\n",
       "                                <td id=\"T_51dab8f8_a992_11e9_901b_354cfa192ecdrow2_col0\" class=\"data row2 col0\" >02/12/13</td>\n",
       "                        <td id=\"T_51dab8f8_a992_11e9_901b_354cfa192ecdrow2_col1\" class=\"data row2 col1\" >$14.27</td>\n",
       "                        <td id=\"T_51dab8f8_a992_11e9_901b_354cfa192ecdrow2_col2\" class=\"data row2 col2\" >8,126,000</td>\n",
       "                        <td id=\"T_51dab8f8_a992_11e9_901b_354cfa192ecdrow2_col3\" class=\"data row2 col3\" >AAL</td>\n",
       "            </tr>\n",
       "            <tr>\n",
       "                                <td id=\"T_51dab8f8_a992_11e9_901b_354cfa192ecdrow3_col0\" class=\"data row3 col0\" >02/13/13</td>\n",
       "                        <td id=\"T_51dab8f8_a992_11e9_901b_354cfa192ecdrow3_col1\" class=\"data row3 col1\" >$14.66</td>\n",
       "                        <td id=\"T_51dab8f8_a992_11e9_901b_354cfa192ecdrow3_col2\" class=\"data row3 col2\" >10,259,500</td>\n",
       "                        <td id=\"T_51dab8f8_a992_11e9_901b_354cfa192ecdrow3_col3\" class=\"data row3 col3\" >AAL</td>\n",
       "            </tr>\n",
       "            <tr>\n",
       "                                <td id=\"T_51dab8f8_a992_11e9_901b_354cfa192ecdrow4_col0\" class=\"data row4 col0\" >02/14/13</td>\n",
       "                        <td id=\"T_51dab8f8_a992_11e9_901b_354cfa192ecdrow4_col1\" class=\"data row4 col1\" >$13.99</td>\n",
       "                        <td id=\"T_51dab8f8_a992_11e9_901b_354cfa192ecdrow4_col2\" class=\"data row4 col2\" >31,879,900</td>\n",
       "                        <td id=\"T_51dab8f8_a992_11e9_901b_354cfa192ecdrow4_col3\" class=\"data row4 col3\" >AAL</td>\n",
       "            </tr>\n",
       "    </tbody></table>"
      ],
      "text/plain": [
       "<pandas.io.formats.style.Styler at 0x7f652f422978>"
      ]
     },
     "execution_count": 107,
     "metadata": {},
     "output_type": "execute_result"
    }
   ],
   "source": [
    "(df.style.format(format_dict)\n",
    "    .hide_index()\n",
    "    .bar('volume', color='lightblue', align='zero')\n",
    "    .set_caption('Stock Prices from 2013')\n",
    ")"
   ]
  },
  {
   "cell_type": "markdown",
   "metadata": {},
   "source": [
    "Let's see more examples proposed at https://pandas.pydata.org/pandas-docs/stable/user_guide/style.html"
   ]
  },
  {
   "cell_type": "code",
   "execution_count": 1,
   "metadata": {},
   "outputs": [
    {
     "data": {
      "text/html": [
       "<div>\n",
       "<style scoped>\n",
       "    .dataframe tbody tr th:only-of-type {\n",
       "        vertical-align: middle;\n",
       "    }\n",
       "\n",
       "    .dataframe tbody tr th {\n",
       "        vertical-align: top;\n",
       "    }\n",
       "\n",
       "    .dataframe thead th {\n",
       "        text-align: right;\n",
       "    }\n",
       "</style>\n",
       "<table border=\"1\" class=\"dataframe\">\n",
       "  <thead>\n",
       "    <tr style=\"text-align: right;\">\n",
       "      <th></th>\n",
       "      <th>A</th>\n",
       "      <th>B</th>\n",
       "      <th>C</th>\n",
       "      <th>D</th>\n",
       "      <th>E</th>\n",
       "    </tr>\n",
       "  </thead>\n",
       "  <tbody>\n",
       "    <tr>\n",
       "      <th>0</th>\n",
       "      <td>1.0</td>\n",
       "      <td>1.329212</td>\n",
       "      <td>NaN</td>\n",
       "      <td>-0.316280</td>\n",
       "      <td>-0.990810</td>\n",
       "    </tr>\n",
       "    <tr>\n",
       "      <th>1</th>\n",
       "      <td>2.0</td>\n",
       "      <td>-1.070816</td>\n",
       "      <td>-1.438713</td>\n",
       "      <td>0.564417</td>\n",
       "      <td>0.295722</td>\n",
       "    </tr>\n",
       "    <tr>\n",
       "      <th>2</th>\n",
       "      <td>3.0</td>\n",
       "      <td>-1.626404</td>\n",
       "      <td>0.219565</td>\n",
       "      <td>0.678805</td>\n",
       "      <td>1.889273</td>\n",
       "    </tr>\n",
       "    <tr>\n",
       "      <th>3</th>\n",
       "      <td>4.0</td>\n",
       "      <td>0.961538</td>\n",
       "      <td>0.104011</td>\n",
       "      <td>-0.481165</td>\n",
       "      <td>0.850229</td>\n",
       "    </tr>\n",
       "    <tr>\n",
       "      <th>4</th>\n",
       "      <td>5.0</td>\n",
       "      <td>1.453425</td>\n",
       "      <td>1.057737</td>\n",
       "      <td>0.165562</td>\n",
       "      <td>0.515018</td>\n",
       "    </tr>\n",
       "    <tr>\n",
       "      <th>5</th>\n",
       "      <td>6.0</td>\n",
       "      <td>-1.336936</td>\n",
       "      <td>0.562861</td>\n",
       "      <td>1.392855</td>\n",
       "      <td>-0.063328</td>\n",
       "    </tr>\n",
       "    <tr>\n",
       "      <th>6</th>\n",
       "      <td>7.0</td>\n",
       "      <td>0.121668</td>\n",
       "      <td>1.207603</td>\n",
       "      <td>-0.002040</td>\n",
       "      <td>1.627796</td>\n",
       "    </tr>\n",
       "    <tr>\n",
       "      <th>7</th>\n",
       "      <td>8.0</td>\n",
       "      <td>0.354493</td>\n",
       "      <td>1.037528</td>\n",
       "      <td>-0.385684</td>\n",
       "      <td>0.519818</td>\n",
       "    </tr>\n",
       "    <tr>\n",
       "      <th>8</th>\n",
       "      <td>9.0</td>\n",
       "      <td>1.686583</td>\n",
       "      <td>-1.325963</td>\n",
       "      <td>1.428984</td>\n",
       "      <td>-2.089354</td>\n",
       "    </tr>\n",
       "    <tr>\n",
       "      <th>9</th>\n",
       "      <td>10.0</td>\n",
       "      <td>-0.129820</td>\n",
       "      <td>0.631523</td>\n",
       "      <td>-0.586538</td>\n",
       "      <td>0.290720</td>\n",
       "    </tr>\n",
       "  </tbody>\n",
       "</table>\n",
       "</div>"
      ],
      "text/plain": [
       "      A         B         C         D         E\n",
       "0   1.0  1.329212       NaN -0.316280 -0.990810\n",
       "1   2.0 -1.070816 -1.438713  0.564417  0.295722\n",
       "2   3.0 -1.626404  0.219565  0.678805  1.889273\n",
       "3   4.0  0.961538  0.104011 -0.481165  0.850229\n",
       "4   5.0  1.453425  1.057737  0.165562  0.515018\n",
       "5   6.0 -1.336936  0.562861  1.392855 -0.063328\n",
       "6   7.0  0.121668  1.207603 -0.002040  1.627796\n",
       "7   8.0  0.354493  1.037528 -0.385684  0.519818\n",
       "8   9.0  1.686583 -1.325963  1.428984 -2.089354\n",
       "9  10.0 -0.129820  0.631523 -0.586538  0.290720"
      ]
     },
     "execution_count": 1,
     "metadata": {},
     "output_type": "execute_result"
    }
   ],
   "source": [
    "import pandas as pd\n",
    "import numpy as np\n",
    "\n",
    "np.random.seed(24)\n",
    "df = pd.DataFrame({'A': np.linspace(1, 10, 10)})\n",
    "df = pd.concat([df, pd.DataFrame(np.random.randn(10, 4), columns=list('BCDE'))],\n",
    "               axis=1)\n",
    "df.iloc[0, 2] = np.nan\n",
    "df"
   ]
  },
  {
   "cell_type": "code",
   "execution_count": 2,
   "metadata": {},
   "outputs": [],
   "source": [
    "def color_negative_red(val):\n",
    "    \"\"\"\n",
    "    It takes a scalar and returns a string with\n",
    "    the CSS property 'color:red' for negative\n",
    "    strings, black otherwise\n",
    "    \"\"\"\n",
    "    color = 'red' if val < 0 else 'black'\n",
    "    return 'color: %s' % color"
   ]
  },
  {
   "cell_type": "code",
   "execution_count": 3,
   "metadata": {},
   "outputs": [
    {
     "data": {
      "text/html": [
       "<style  type=\"text/css\" >\n",
       "    #T_360a52e6_afc8_11e9_b961_9cb6d01e5536row0_col0 {\n",
       "            color:  black;\n",
       "        }    #T_360a52e6_afc8_11e9_b961_9cb6d01e5536row0_col1 {\n",
       "            color:  black;\n",
       "        }    #T_360a52e6_afc8_11e9_b961_9cb6d01e5536row0_col2 {\n",
       "            color:  black;\n",
       "        }    #T_360a52e6_afc8_11e9_b961_9cb6d01e5536row0_col3 {\n",
       "            color:  red;\n",
       "        }    #T_360a52e6_afc8_11e9_b961_9cb6d01e5536row0_col4 {\n",
       "            color:  red;\n",
       "        }    #T_360a52e6_afc8_11e9_b961_9cb6d01e5536row1_col0 {\n",
       "            color:  black;\n",
       "        }    #T_360a52e6_afc8_11e9_b961_9cb6d01e5536row1_col1 {\n",
       "            color:  red;\n",
       "        }    #T_360a52e6_afc8_11e9_b961_9cb6d01e5536row1_col2 {\n",
       "            color:  red;\n",
       "        }    #T_360a52e6_afc8_11e9_b961_9cb6d01e5536row1_col3 {\n",
       "            color:  black;\n",
       "        }    #T_360a52e6_afc8_11e9_b961_9cb6d01e5536row1_col4 {\n",
       "            color:  black;\n",
       "        }    #T_360a52e6_afc8_11e9_b961_9cb6d01e5536row2_col0 {\n",
       "            color:  black;\n",
       "        }    #T_360a52e6_afc8_11e9_b961_9cb6d01e5536row2_col1 {\n",
       "            color:  red;\n",
       "        }    #T_360a52e6_afc8_11e9_b961_9cb6d01e5536row2_col2 {\n",
       "            color:  black;\n",
       "        }    #T_360a52e6_afc8_11e9_b961_9cb6d01e5536row2_col3 {\n",
       "            color:  black;\n",
       "        }    #T_360a52e6_afc8_11e9_b961_9cb6d01e5536row2_col4 {\n",
       "            color:  black;\n",
       "        }    #T_360a52e6_afc8_11e9_b961_9cb6d01e5536row3_col0 {\n",
       "            color:  black;\n",
       "        }    #T_360a52e6_afc8_11e9_b961_9cb6d01e5536row3_col1 {\n",
       "            color:  black;\n",
       "        }    #T_360a52e6_afc8_11e9_b961_9cb6d01e5536row3_col2 {\n",
       "            color:  black;\n",
       "        }    #T_360a52e6_afc8_11e9_b961_9cb6d01e5536row3_col3 {\n",
       "            color:  red;\n",
       "        }    #T_360a52e6_afc8_11e9_b961_9cb6d01e5536row3_col4 {\n",
       "            color:  black;\n",
       "        }    #T_360a52e6_afc8_11e9_b961_9cb6d01e5536row4_col0 {\n",
       "            color:  black;\n",
       "        }    #T_360a52e6_afc8_11e9_b961_9cb6d01e5536row4_col1 {\n",
       "            color:  black;\n",
       "        }    #T_360a52e6_afc8_11e9_b961_9cb6d01e5536row4_col2 {\n",
       "            color:  black;\n",
       "        }    #T_360a52e6_afc8_11e9_b961_9cb6d01e5536row4_col3 {\n",
       "            color:  black;\n",
       "        }    #T_360a52e6_afc8_11e9_b961_9cb6d01e5536row4_col4 {\n",
       "            color:  black;\n",
       "        }    #T_360a52e6_afc8_11e9_b961_9cb6d01e5536row5_col0 {\n",
       "            color:  black;\n",
       "        }    #T_360a52e6_afc8_11e9_b961_9cb6d01e5536row5_col1 {\n",
       "            color:  red;\n",
       "        }    #T_360a52e6_afc8_11e9_b961_9cb6d01e5536row5_col2 {\n",
       "            color:  black;\n",
       "        }    #T_360a52e6_afc8_11e9_b961_9cb6d01e5536row5_col3 {\n",
       "            color:  black;\n",
       "        }    #T_360a52e6_afc8_11e9_b961_9cb6d01e5536row5_col4 {\n",
       "            color:  red;\n",
       "        }    #T_360a52e6_afc8_11e9_b961_9cb6d01e5536row6_col0 {\n",
       "            color:  black;\n",
       "        }    #T_360a52e6_afc8_11e9_b961_9cb6d01e5536row6_col1 {\n",
       "            color:  black;\n",
       "        }    #T_360a52e6_afc8_11e9_b961_9cb6d01e5536row6_col2 {\n",
       "            color:  black;\n",
       "        }    #T_360a52e6_afc8_11e9_b961_9cb6d01e5536row6_col3 {\n",
       "            color:  red;\n",
       "        }    #T_360a52e6_afc8_11e9_b961_9cb6d01e5536row6_col4 {\n",
       "            color:  black;\n",
       "        }    #T_360a52e6_afc8_11e9_b961_9cb6d01e5536row7_col0 {\n",
       "            color:  black;\n",
       "        }    #T_360a52e6_afc8_11e9_b961_9cb6d01e5536row7_col1 {\n",
       "            color:  black;\n",
       "        }    #T_360a52e6_afc8_11e9_b961_9cb6d01e5536row7_col2 {\n",
       "            color:  black;\n",
       "        }    #T_360a52e6_afc8_11e9_b961_9cb6d01e5536row7_col3 {\n",
       "            color:  red;\n",
       "        }    #T_360a52e6_afc8_11e9_b961_9cb6d01e5536row7_col4 {\n",
       "            color:  black;\n",
       "        }    #T_360a52e6_afc8_11e9_b961_9cb6d01e5536row8_col0 {\n",
       "            color:  black;\n",
       "        }    #T_360a52e6_afc8_11e9_b961_9cb6d01e5536row8_col1 {\n",
       "            color:  black;\n",
       "        }    #T_360a52e6_afc8_11e9_b961_9cb6d01e5536row8_col2 {\n",
       "            color:  red;\n",
       "        }    #T_360a52e6_afc8_11e9_b961_9cb6d01e5536row8_col3 {\n",
       "            color:  black;\n",
       "        }    #T_360a52e6_afc8_11e9_b961_9cb6d01e5536row8_col4 {\n",
       "            color:  red;\n",
       "        }    #T_360a52e6_afc8_11e9_b961_9cb6d01e5536row9_col0 {\n",
       "            color:  black;\n",
       "        }    #T_360a52e6_afc8_11e9_b961_9cb6d01e5536row9_col1 {\n",
       "            color:  red;\n",
       "        }    #T_360a52e6_afc8_11e9_b961_9cb6d01e5536row9_col2 {\n",
       "            color:  black;\n",
       "        }    #T_360a52e6_afc8_11e9_b961_9cb6d01e5536row9_col3 {\n",
       "            color:  red;\n",
       "        }    #T_360a52e6_afc8_11e9_b961_9cb6d01e5536row9_col4 {\n",
       "            color:  black;\n",
       "        }</style><table id=\"T_360a52e6_afc8_11e9_b961_9cb6d01e5536\" ><thead>    <tr>        <th class=\"blank level0\" ></th>        <th class=\"col_heading level0 col0\" >A</th>        <th class=\"col_heading level0 col1\" >B</th>        <th class=\"col_heading level0 col2\" >C</th>        <th class=\"col_heading level0 col3\" >D</th>        <th class=\"col_heading level0 col4\" >E</th>    </tr></thead><tbody>\n",
       "                <tr>\n",
       "                        <th id=\"T_360a52e6_afc8_11e9_b961_9cb6d01e5536level0_row0\" class=\"row_heading level0 row0\" >0</th>\n",
       "                        <td id=\"T_360a52e6_afc8_11e9_b961_9cb6d01e5536row0_col0\" class=\"data row0 col0\" >1</td>\n",
       "                        <td id=\"T_360a52e6_afc8_11e9_b961_9cb6d01e5536row0_col1\" class=\"data row0 col1\" >1.32921</td>\n",
       "                        <td id=\"T_360a52e6_afc8_11e9_b961_9cb6d01e5536row0_col2\" class=\"data row0 col2\" >nan</td>\n",
       "                        <td id=\"T_360a52e6_afc8_11e9_b961_9cb6d01e5536row0_col3\" class=\"data row0 col3\" >-0.31628</td>\n",
       "                        <td id=\"T_360a52e6_afc8_11e9_b961_9cb6d01e5536row0_col4\" class=\"data row0 col4\" >-0.99081</td>\n",
       "            </tr>\n",
       "            <tr>\n",
       "                        <th id=\"T_360a52e6_afc8_11e9_b961_9cb6d01e5536level0_row1\" class=\"row_heading level0 row1\" >1</th>\n",
       "                        <td id=\"T_360a52e6_afc8_11e9_b961_9cb6d01e5536row1_col0\" class=\"data row1 col0\" >2</td>\n",
       "                        <td id=\"T_360a52e6_afc8_11e9_b961_9cb6d01e5536row1_col1\" class=\"data row1 col1\" >-1.07082</td>\n",
       "                        <td id=\"T_360a52e6_afc8_11e9_b961_9cb6d01e5536row1_col2\" class=\"data row1 col2\" >-1.43871</td>\n",
       "                        <td id=\"T_360a52e6_afc8_11e9_b961_9cb6d01e5536row1_col3\" class=\"data row1 col3\" >0.564417</td>\n",
       "                        <td id=\"T_360a52e6_afc8_11e9_b961_9cb6d01e5536row1_col4\" class=\"data row1 col4\" >0.295722</td>\n",
       "            </tr>\n",
       "            <tr>\n",
       "                        <th id=\"T_360a52e6_afc8_11e9_b961_9cb6d01e5536level0_row2\" class=\"row_heading level0 row2\" >2</th>\n",
       "                        <td id=\"T_360a52e6_afc8_11e9_b961_9cb6d01e5536row2_col0\" class=\"data row2 col0\" >3</td>\n",
       "                        <td id=\"T_360a52e6_afc8_11e9_b961_9cb6d01e5536row2_col1\" class=\"data row2 col1\" >-1.6264</td>\n",
       "                        <td id=\"T_360a52e6_afc8_11e9_b961_9cb6d01e5536row2_col2\" class=\"data row2 col2\" >0.219565</td>\n",
       "                        <td id=\"T_360a52e6_afc8_11e9_b961_9cb6d01e5536row2_col3\" class=\"data row2 col3\" >0.678805</td>\n",
       "                        <td id=\"T_360a52e6_afc8_11e9_b961_9cb6d01e5536row2_col4\" class=\"data row2 col4\" >1.88927</td>\n",
       "            </tr>\n",
       "            <tr>\n",
       "                        <th id=\"T_360a52e6_afc8_11e9_b961_9cb6d01e5536level0_row3\" class=\"row_heading level0 row3\" >3</th>\n",
       "                        <td id=\"T_360a52e6_afc8_11e9_b961_9cb6d01e5536row3_col0\" class=\"data row3 col0\" >4</td>\n",
       "                        <td id=\"T_360a52e6_afc8_11e9_b961_9cb6d01e5536row3_col1\" class=\"data row3 col1\" >0.961538</td>\n",
       "                        <td id=\"T_360a52e6_afc8_11e9_b961_9cb6d01e5536row3_col2\" class=\"data row3 col2\" >0.104011</td>\n",
       "                        <td id=\"T_360a52e6_afc8_11e9_b961_9cb6d01e5536row3_col3\" class=\"data row3 col3\" >-0.481165</td>\n",
       "                        <td id=\"T_360a52e6_afc8_11e9_b961_9cb6d01e5536row3_col4\" class=\"data row3 col4\" >0.850229</td>\n",
       "            </tr>\n",
       "            <tr>\n",
       "                        <th id=\"T_360a52e6_afc8_11e9_b961_9cb6d01e5536level0_row4\" class=\"row_heading level0 row4\" >4</th>\n",
       "                        <td id=\"T_360a52e6_afc8_11e9_b961_9cb6d01e5536row4_col0\" class=\"data row4 col0\" >5</td>\n",
       "                        <td id=\"T_360a52e6_afc8_11e9_b961_9cb6d01e5536row4_col1\" class=\"data row4 col1\" >1.45342</td>\n",
       "                        <td id=\"T_360a52e6_afc8_11e9_b961_9cb6d01e5536row4_col2\" class=\"data row4 col2\" >1.05774</td>\n",
       "                        <td id=\"T_360a52e6_afc8_11e9_b961_9cb6d01e5536row4_col3\" class=\"data row4 col3\" >0.165562</td>\n",
       "                        <td id=\"T_360a52e6_afc8_11e9_b961_9cb6d01e5536row4_col4\" class=\"data row4 col4\" >0.515018</td>\n",
       "            </tr>\n",
       "            <tr>\n",
       "                        <th id=\"T_360a52e6_afc8_11e9_b961_9cb6d01e5536level0_row5\" class=\"row_heading level0 row5\" >5</th>\n",
       "                        <td id=\"T_360a52e6_afc8_11e9_b961_9cb6d01e5536row5_col0\" class=\"data row5 col0\" >6</td>\n",
       "                        <td id=\"T_360a52e6_afc8_11e9_b961_9cb6d01e5536row5_col1\" class=\"data row5 col1\" >-1.33694</td>\n",
       "                        <td id=\"T_360a52e6_afc8_11e9_b961_9cb6d01e5536row5_col2\" class=\"data row5 col2\" >0.562861</td>\n",
       "                        <td id=\"T_360a52e6_afc8_11e9_b961_9cb6d01e5536row5_col3\" class=\"data row5 col3\" >1.39285</td>\n",
       "                        <td id=\"T_360a52e6_afc8_11e9_b961_9cb6d01e5536row5_col4\" class=\"data row5 col4\" >-0.063328</td>\n",
       "            </tr>\n",
       "            <tr>\n",
       "                        <th id=\"T_360a52e6_afc8_11e9_b961_9cb6d01e5536level0_row6\" class=\"row_heading level0 row6\" >6</th>\n",
       "                        <td id=\"T_360a52e6_afc8_11e9_b961_9cb6d01e5536row6_col0\" class=\"data row6 col0\" >7</td>\n",
       "                        <td id=\"T_360a52e6_afc8_11e9_b961_9cb6d01e5536row6_col1\" class=\"data row6 col1\" >0.121668</td>\n",
       "                        <td id=\"T_360a52e6_afc8_11e9_b961_9cb6d01e5536row6_col2\" class=\"data row6 col2\" >1.2076</td>\n",
       "                        <td id=\"T_360a52e6_afc8_11e9_b961_9cb6d01e5536row6_col3\" class=\"data row6 col3\" >-0.00204021</td>\n",
       "                        <td id=\"T_360a52e6_afc8_11e9_b961_9cb6d01e5536row6_col4\" class=\"data row6 col4\" >1.6278</td>\n",
       "            </tr>\n",
       "            <tr>\n",
       "                        <th id=\"T_360a52e6_afc8_11e9_b961_9cb6d01e5536level0_row7\" class=\"row_heading level0 row7\" >7</th>\n",
       "                        <td id=\"T_360a52e6_afc8_11e9_b961_9cb6d01e5536row7_col0\" class=\"data row7 col0\" >8</td>\n",
       "                        <td id=\"T_360a52e6_afc8_11e9_b961_9cb6d01e5536row7_col1\" class=\"data row7 col1\" >0.354493</td>\n",
       "                        <td id=\"T_360a52e6_afc8_11e9_b961_9cb6d01e5536row7_col2\" class=\"data row7 col2\" >1.03753</td>\n",
       "                        <td id=\"T_360a52e6_afc8_11e9_b961_9cb6d01e5536row7_col3\" class=\"data row7 col3\" >-0.385684</td>\n",
       "                        <td id=\"T_360a52e6_afc8_11e9_b961_9cb6d01e5536row7_col4\" class=\"data row7 col4\" >0.519818</td>\n",
       "            </tr>\n",
       "            <tr>\n",
       "                        <th id=\"T_360a52e6_afc8_11e9_b961_9cb6d01e5536level0_row8\" class=\"row_heading level0 row8\" >8</th>\n",
       "                        <td id=\"T_360a52e6_afc8_11e9_b961_9cb6d01e5536row8_col0\" class=\"data row8 col0\" >9</td>\n",
       "                        <td id=\"T_360a52e6_afc8_11e9_b961_9cb6d01e5536row8_col1\" class=\"data row8 col1\" >1.68658</td>\n",
       "                        <td id=\"T_360a52e6_afc8_11e9_b961_9cb6d01e5536row8_col2\" class=\"data row8 col2\" >-1.32596</td>\n",
       "                        <td id=\"T_360a52e6_afc8_11e9_b961_9cb6d01e5536row8_col3\" class=\"data row8 col3\" >1.42898</td>\n",
       "                        <td id=\"T_360a52e6_afc8_11e9_b961_9cb6d01e5536row8_col4\" class=\"data row8 col4\" >-2.08935</td>\n",
       "            </tr>\n",
       "            <tr>\n",
       "                        <th id=\"T_360a52e6_afc8_11e9_b961_9cb6d01e5536level0_row9\" class=\"row_heading level0 row9\" >9</th>\n",
       "                        <td id=\"T_360a52e6_afc8_11e9_b961_9cb6d01e5536row9_col0\" class=\"data row9 col0\" >10</td>\n",
       "                        <td id=\"T_360a52e6_afc8_11e9_b961_9cb6d01e5536row9_col1\" class=\"data row9 col1\" >-0.12982</td>\n",
       "                        <td id=\"T_360a52e6_afc8_11e9_b961_9cb6d01e5536row9_col2\" class=\"data row9 col2\" >0.631523</td>\n",
       "                        <td id=\"T_360a52e6_afc8_11e9_b961_9cb6d01e5536row9_col3\" class=\"data row9 col3\" >-0.586538</td>\n",
       "                        <td id=\"T_360a52e6_afc8_11e9_b961_9cb6d01e5536row9_col4\" class=\"data row9 col4\" >0.29072</td>\n",
       "            </tr>\n",
       "    </tbody></table>"
      ],
      "text/plain": [
       "<pandas.io.formats.style.Styler at 0x22c5cf2cb38>"
      ]
     },
     "execution_count": 3,
     "metadata": {},
     "output_type": "execute_result"
    }
   ],
   "source": [
    "df.style.applymap(color_negative_red)"
   ]
  },
  {
   "cell_type": "markdown",
   "metadata": {},
   "source": [
    "applymap method allows us to interact with each element."
   ]
  },
  {
   "cell_type": "code",
   "execution_count": 112,
   "metadata": {},
   "outputs": [],
   "source": [
    "def highlight_max(s):\n",
    "    \"\"\"\n",
    "    highlight the maximum in a Series yellow.\n",
    "    \"\"\"\n",
    "    is_max = s == s.max()\n",
    "    return ['background-color: yellow' if v else '' for v in is_max]"
   ]
  },
  {
   "cell_type": "code",
   "execution_count": 113,
   "metadata": {},
   "outputs": [
    {
     "data": {
      "text/html": [
       "<style  type=\"text/css\" >\n",
       "    #T_0ee6d74e_a99b_11e9_901b_354cfa192ecdrow2_col4 {\n",
       "            background-color:  yellow;\n",
       "        }    #T_0ee6d74e_a99b_11e9_901b_354cfa192ecdrow6_col2 {\n",
       "            background-color:  yellow;\n",
       "        }    #T_0ee6d74e_a99b_11e9_901b_354cfa192ecdrow8_col1 {\n",
       "            background-color:  yellow;\n",
       "        }    #T_0ee6d74e_a99b_11e9_901b_354cfa192ecdrow8_col3 {\n",
       "            background-color:  yellow;\n",
       "        }    #T_0ee6d74e_a99b_11e9_901b_354cfa192ecdrow9_col0 {\n",
       "            background-color:  yellow;\n",
       "        }</style><table id=\"T_0ee6d74e_a99b_11e9_901b_354cfa192ecd\" ><thead>    <tr>        <th class=\"blank level0\" ></th>        <th class=\"col_heading level0 col0\" >A</th>        <th class=\"col_heading level0 col1\" >B</th>        <th class=\"col_heading level0 col2\" >C</th>        <th class=\"col_heading level0 col3\" >D</th>        <th class=\"col_heading level0 col4\" >E</th>    </tr></thead><tbody>\n",
       "                <tr>\n",
       "                        <th id=\"T_0ee6d74e_a99b_11e9_901b_354cfa192ecdlevel0_row0\" class=\"row_heading level0 row0\" >0</th>\n",
       "                        <td id=\"T_0ee6d74e_a99b_11e9_901b_354cfa192ecdrow0_col0\" class=\"data row0 col0\" >1</td>\n",
       "                        <td id=\"T_0ee6d74e_a99b_11e9_901b_354cfa192ecdrow0_col1\" class=\"data row0 col1\" >1.32921</td>\n",
       "                        <td id=\"T_0ee6d74e_a99b_11e9_901b_354cfa192ecdrow0_col2\" class=\"data row0 col2\" >nan</td>\n",
       "                        <td id=\"T_0ee6d74e_a99b_11e9_901b_354cfa192ecdrow0_col3\" class=\"data row0 col3\" >-0.31628</td>\n",
       "                        <td id=\"T_0ee6d74e_a99b_11e9_901b_354cfa192ecdrow0_col4\" class=\"data row0 col4\" >-0.99081</td>\n",
       "            </tr>\n",
       "            <tr>\n",
       "                        <th id=\"T_0ee6d74e_a99b_11e9_901b_354cfa192ecdlevel0_row1\" class=\"row_heading level0 row1\" >1</th>\n",
       "                        <td id=\"T_0ee6d74e_a99b_11e9_901b_354cfa192ecdrow1_col0\" class=\"data row1 col0\" >2</td>\n",
       "                        <td id=\"T_0ee6d74e_a99b_11e9_901b_354cfa192ecdrow1_col1\" class=\"data row1 col1\" >-1.07082</td>\n",
       "                        <td id=\"T_0ee6d74e_a99b_11e9_901b_354cfa192ecdrow1_col2\" class=\"data row1 col2\" >-1.43871</td>\n",
       "                        <td id=\"T_0ee6d74e_a99b_11e9_901b_354cfa192ecdrow1_col3\" class=\"data row1 col3\" >0.564417</td>\n",
       "                        <td id=\"T_0ee6d74e_a99b_11e9_901b_354cfa192ecdrow1_col4\" class=\"data row1 col4\" >0.295722</td>\n",
       "            </tr>\n",
       "            <tr>\n",
       "                        <th id=\"T_0ee6d74e_a99b_11e9_901b_354cfa192ecdlevel0_row2\" class=\"row_heading level0 row2\" >2</th>\n",
       "                        <td id=\"T_0ee6d74e_a99b_11e9_901b_354cfa192ecdrow2_col0\" class=\"data row2 col0\" >3</td>\n",
       "                        <td id=\"T_0ee6d74e_a99b_11e9_901b_354cfa192ecdrow2_col1\" class=\"data row2 col1\" >-1.6264</td>\n",
       "                        <td id=\"T_0ee6d74e_a99b_11e9_901b_354cfa192ecdrow2_col2\" class=\"data row2 col2\" >0.219565</td>\n",
       "                        <td id=\"T_0ee6d74e_a99b_11e9_901b_354cfa192ecdrow2_col3\" class=\"data row2 col3\" >0.678805</td>\n",
       "                        <td id=\"T_0ee6d74e_a99b_11e9_901b_354cfa192ecdrow2_col4\" class=\"data row2 col4\" >1.88927</td>\n",
       "            </tr>\n",
       "            <tr>\n",
       "                        <th id=\"T_0ee6d74e_a99b_11e9_901b_354cfa192ecdlevel0_row3\" class=\"row_heading level0 row3\" >3</th>\n",
       "                        <td id=\"T_0ee6d74e_a99b_11e9_901b_354cfa192ecdrow3_col0\" class=\"data row3 col0\" >4</td>\n",
       "                        <td id=\"T_0ee6d74e_a99b_11e9_901b_354cfa192ecdrow3_col1\" class=\"data row3 col1\" >0.961538</td>\n",
       "                        <td id=\"T_0ee6d74e_a99b_11e9_901b_354cfa192ecdrow3_col2\" class=\"data row3 col2\" >0.104011</td>\n",
       "                        <td id=\"T_0ee6d74e_a99b_11e9_901b_354cfa192ecdrow3_col3\" class=\"data row3 col3\" >-0.481165</td>\n",
       "                        <td id=\"T_0ee6d74e_a99b_11e9_901b_354cfa192ecdrow3_col4\" class=\"data row3 col4\" >0.850229</td>\n",
       "            </tr>\n",
       "            <tr>\n",
       "                        <th id=\"T_0ee6d74e_a99b_11e9_901b_354cfa192ecdlevel0_row4\" class=\"row_heading level0 row4\" >4</th>\n",
       "                        <td id=\"T_0ee6d74e_a99b_11e9_901b_354cfa192ecdrow4_col0\" class=\"data row4 col0\" >5</td>\n",
       "                        <td id=\"T_0ee6d74e_a99b_11e9_901b_354cfa192ecdrow4_col1\" class=\"data row4 col1\" >1.45342</td>\n",
       "                        <td id=\"T_0ee6d74e_a99b_11e9_901b_354cfa192ecdrow4_col2\" class=\"data row4 col2\" >1.05774</td>\n",
       "                        <td id=\"T_0ee6d74e_a99b_11e9_901b_354cfa192ecdrow4_col3\" class=\"data row4 col3\" >0.165562</td>\n",
       "                        <td id=\"T_0ee6d74e_a99b_11e9_901b_354cfa192ecdrow4_col4\" class=\"data row4 col4\" >0.515018</td>\n",
       "            </tr>\n",
       "            <tr>\n",
       "                        <th id=\"T_0ee6d74e_a99b_11e9_901b_354cfa192ecdlevel0_row5\" class=\"row_heading level0 row5\" >5</th>\n",
       "                        <td id=\"T_0ee6d74e_a99b_11e9_901b_354cfa192ecdrow5_col0\" class=\"data row5 col0\" >6</td>\n",
       "                        <td id=\"T_0ee6d74e_a99b_11e9_901b_354cfa192ecdrow5_col1\" class=\"data row5 col1\" >-1.33694</td>\n",
       "                        <td id=\"T_0ee6d74e_a99b_11e9_901b_354cfa192ecdrow5_col2\" class=\"data row5 col2\" >0.562861</td>\n",
       "                        <td id=\"T_0ee6d74e_a99b_11e9_901b_354cfa192ecdrow5_col3\" class=\"data row5 col3\" >1.39285</td>\n",
       "                        <td id=\"T_0ee6d74e_a99b_11e9_901b_354cfa192ecdrow5_col4\" class=\"data row5 col4\" >-0.063328</td>\n",
       "            </tr>\n",
       "            <tr>\n",
       "                        <th id=\"T_0ee6d74e_a99b_11e9_901b_354cfa192ecdlevel0_row6\" class=\"row_heading level0 row6\" >6</th>\n",
       "                        <td id=\"T_0ee6d74e_a99b_11e9_901b_354cfa192ecdrow6_col0\" class=\"data row6 col0\" >7</td>\n",
       "                        <td id=\"T_0ee6d74e_a99b_11e9_901b_354cfa192ecdrow6_col1\" class=\"data row6 col1\" >0.121668</td>\n",
       "                        <td id=\"T_0ee6d74e_a99b_11e9_901b_354cfa192ecdrow6_col2\" class=\"data row6 col2\" >1.2076</td>\n",
       "                        <td id=\"T_0ee6d74e_a99b_11e9_901b_354cfa192ecdrow6_col3\" class=\"data row6 col3\" >-0.00204021</td>\n",
       "                        <td id=\"T_0ee6d74e_a99b_11e9_901b_354cfa192ecdrow6_col4\" class=\"data row6 col4\" >1.6278</td>\n",
       "            </tr>\n",
       "            <tr>\n",
       "                        <th id=\"T_0ee6d74e_a99b_11e9_901b_354cfa192ecdlevel0_row7\" class=\"row_heading level0 row7\" >7</th>\n",
       "                        <td id=\"T_0ee6d74e_a99b_11e9_901b_354cfa192ecdrow7_col0\" class=\"data row7 col0\" >8</td>\n",
       "                        <td id=\"T_0ee6d74e_a99b_11e9_901b_354cfa192ecdrow7_col1\" class=\"data row7 col1\" >0.354493</td>\n",
       "                        <td id=\"T_0ee6d74e_a99b_11e9_901b_354cfa192ecdrow7_col2\" class=\"data row7 col2\" >1.03753</td>\n",
       "                        <td id=\"T_0ee6d74e_a99b_11e9_901b_354cfa192ecdrow7_col3\" class=\"data row7 col3\" >-0.385684</td>\n",
       "                        <td id=\"T_0ee6d74e_a99b_11e9_901b_354cfa192ecdrow7_col4\" class=\"data row7 col4\" >0.519818</td>\n",
       "            </tr>\n",
       "            <tr>\n",
       "                        <th id=\"T_0ee6d74e_a99b_11e9_901b_354cfa192ecdlevel0_row8\" class=\"row_heading level0 row8\" >8</th>\n",
       "                        <td id=\"T_0ee6d74e_a99b_11e9_901b_354cfa192ecdrow8_col0\" class=\"data row8 col0\" >9</td>\n",
       "                        <td id=\"T_0ee6d74e_a99b_11e9_901b_354cfa192ecdrow8_col1\" class=\"data row8 col1\" >1.68658</td>\n",
       "                        <td id=\"T_0ee6d74e_a99b_11e9_901b_354cfa192ecdrow8_col2\" class=\"data row8 col2\" >-1.32596</td>\n",
       "                        <td id=\"T_0ee6d74e_a99b_11e9_901b_354cfa192ecdrow8_col3\" class=\"data row8 col3\" >1.42898</td>\n",
       "                        <td id=\"T_0ee6d74e_a99b_11e9_901b_354cfa192ecdrow8_col4\" class=\"data row8 col4\" >-2.08935</td>\n",
       "            </tr>\n",
       "            <tr>\n",
       "                        <th id=\"T_0ee6d74e_a99b_11e9_901b_354cfa192ecdlevel0_row9\" class=\"row_heading level0 row9\" >9</th>\n",
       "                        <td id=\"T_0ee6d74e_a99b_11e9_901b_354cfa192ecdrow9_col0\" class=\"data row9 col0\" >10</td>\n",
       "                        <td id=\"T_0ee6d74e_a99b_11e9_901b_354cfa192ecdrow9_col1\" class=\"data row9 col1\" >-0.12982</td>\n",
       "                        <td id=\"T_0ee6d74e_a99b_11e9_901b_354cfa192ecdrow9_col2\" class=\"data row9 col2\" >0.631523</td>\n",
       "                        <td id=\"T_0ee6d74e_a99b_11e9_901b_354cfa192ecdrow9_col3\" class=\"data row9 col3\" >-0.586538</td>\n",
       "                        <td id=\"T_0ee6d74e_a99b_11e9_901b_354cfa192ecdrow9_col4\" class=\"data row9 col4\" >0.29072</td>\n",
       "            </tr>\n",
       "    </tbody></table>"
      ],
      "text/plain": [
       "<pandas.io.formats.style.Styler at 0x7f652f242630>"
      ]
     },
     "execution_count": 113,
     "metadata": {},
     "output_type": "execute_result"
    }
   ],
   "source": [
    "df.style.apply(highlight_max)"
   ]
  },
  {
   "cell_type": "markdown",
   "metadata": {},
   "source": [
    "Through the last method (apply) we could interact with each column."
   ]
  },
  {
   "cell_type": "code",
   "execution_count": 114,
   "metadata": {},
   "outputs": [
    {
     "data": {
      "text/html": [
       "<style  type=\"text/css\" >\n",
       "    #T_4a9708a4_a99b_11e9_901b_354cfa192ecdrow0_col0 {\n",
       "            : ;\n",
       "            color:  black;\n",
       "        }    #T_4a9708a4_a99b_11e9_901b_354cfa192ecdrow0_col1 {\n",
       "            : ;\n",
       "            color:  black;\n",
       "        }    #T_4a9708a4_a99b_11e9_901b_354cfa192ecdrow0_col2 {\n",
       "            : ;\n",
       "            color:  black;\n",
       "        }    #T_4a9708a4_a99b_11e9_901b_354cfa192ecdrow0_col3 {\n",
       "            : ;\n",
       "            color:  red;\n",
       "        }    #T_4a9708a4_a99b_11e9_901b_354cfa192ecdrow0_col4 {\n",
       "            : ;\n",
       "            color:  red;\n",
       "        }    #T_4a9708a4_a99b_11e9_901b_354cfa192ecdrow1_col0 {\n",
       "            : ;\n",
       "            color:  black;\n",
       "        }    #T_4a9708a4_a99b_11e9_901b_354cfa192ecdrow1_col1 {\n",
       "            : ;\n",
       "            color:  red;\n",
       "        }    #T_4a9708a4_a99b_11e9_901b_354cfa192ecdrow1_col2 {\n",
       "            : ;\n",
       "            color:  red;\n",
       "        }    #T_4a9708a4_a99b_11e9_901b_354cfa192ecdrow1_col3 {\n",
       "            : ;\n",
       "            color:  black;\n",
       "        }    #T_4a9708a4_a99b_11e9_901b_354cfa192ecdrow1_col4 {\n",
       "            : ;\n",
       "            color:  black;\n",
       "        }    #T_4a9708a4_a99b_11e9_901b_354cfa192ecdrow2_col0 {\n",
       "            : ;\n",
       "            color:  black;\n",
       "        }    #T_4a9708a4_a99b_11e9_901b_354cfa192ecdrow2_col1 {\n",
       "            : ;\n",
       "            color:  red;\n",
       "        }    #T_4a9708a4_a99b_11e9_901b_354cfa192ecdrow2_col2 {\n",
       "            : ;\n",
       "            color:  black;\n",
       "        }    #T_4a9708a4_a99b_11e9_901b_354cfa192ecdrow2_col3 {\n",
       "            : ;\n",
       "            color:  black;\n",
       "        }    #T_4a9708a4_a99b_11e9_901b_354cfa192ecdrow2_col4 {\n",
       "            background-color:  yellow;\n",
       "            color:  black;\n",
       "        }    #T_4a9708a4_a99b_11e9_901b_354cfa192ecdrow3_col0 {\n",
       "            : ;\n",
       "            color:  black;\n",
       "        }    #T_4a9708a4_a99b_11e9_901b_354cfa192ecdrow3_col1 {\n",
       "            : ;\n",
       "            color:  black;\n",
       "        }    #T_4a9708a4_a99b_11e9_901b_354cfa192ecdrow3_col2 {\n",
       "            : ;\n",
       "            color:  black;\n",
       "        }    #T_4a9708a4_a99b_11e9_901b_354cfa192ecdrow3_col3 {\n",
       "            : ;\n",
       "            color:  red;\n",
       "        }    #T_4a9708a4_a99b_11e9_901b_354cfa192ecdrow3_col4 {\n",
       "            : ;\n",
       "            color:  black;\n",
       "        }    #T_4a9708a4_a99b_11e9_901b_354cfa192ecdrow4_col0 {\n",
       "            : ;\n",
       "            color:  black;\n",
       "        }    #T_4a9708a4_a99b_11e9_901b_354cfa192ecdrow4_col1 {\n",
       "            : ;\n",
       "            color:  black;\n",
       "        }    #T_4a9708a4_a99b_11e9_901b_354cfa192ecdrow4_col2 {\n",
       "            : ;\n",
       "            color:  black;\n",
       "        }    #T_4a9708a4_a99b_11e9_901b_354cfa192ecdrow4_col3 {\n",
       "            : ;\n",
       "            color:  black;\n",
       "        }    #T_4a9708a4_a99b_11e9_901b_354cfa192ecdrow4_col4 {\n",
       "            : ;\n",
       "            color:  black;\n",
       "        }    #T_4a9708a4_a99b_11e9_901b_354cfa192ecdrow5_col0 {\n",
       "            : ;\n",
       "            color:  black;\n",
       "        }    #T_4a9708a4_a99b_11e9_901b_354cfa192ecdrow5_col1 {\n",
       "            : ;\n",
       "            color:  red;\n",
       "        }    #T_4a9708a4_a99b_11e9_901b_354cfa192ecdrow5_col2 {\n",
       "            : ;\n",
       "            color:  black;\n",
       "        }    #T_4a9708a4_a99b_11e9_901b_354cfa192ecdrow5_col3 {\n",
       "            : ;\n",
       "            color:  black;\n",
       "        }    #T_4a9708a4_a99b_11e9_901b_354cfa192ecdrow5_col4 {\n",
       "            : ;\n",
       "            color:  red;\n",
       "        }    #T_4a9708a4_a99b_11e9_901b_354cfa192ecdrow6_col0 {\n",
       "            : ;\n",
       "            color:  black;\n",
       "        }    #T_4a9708a4_a99b_11e9_901b_354cfa192ecdrow6_col1 {\n",
       "            : ;\n",
       "            color:  black;\n",
       "        }    #T_4a9708a4_a99b_11e9_901b_354cfa192ecdrow6_col2 {\n",
       "            background-color:  yellow;\n",
       "            color:  black;\n",
       "        }    #T_4a9708a4_a99b_11e9_901b_354cfa192ecdrow6_col3 {\n",
       "            : ;\n",
       "            color:  red;\n",
       "        }    #T_4a9708a4_a99b_11e9_901b_354cfa192ecdrow6_col4 {\n",
       "            : ;\n",
       "            color:  black;\n",
       "        }    #T_4a9708a4_a99b_11e9_901b_354cfa192ecdrow7_col0 {\n",
       "            : ;\n",
       "            color:  black;\n",
       "        }    #T_4a9708a4_a99b_11e9_901b_354cfa192ecdrow7_col1 {\n",
       "            : ;\n",
       "            color:  black;\n",
       "        }    #T_4a9708a4_a99b_11e9_901b_354cfa192ecdrow7_col2 {\n",
       "            : ;\n",
       "            color:  black;\n",
       "        }    #T_4a9708a4_a99b_11e9_901b_354cfa192ecdrow7_col3 {\n",
       "            : ;\n",
       "            color:  red;\n",
       "        }    #T_4a9708a4_a99b_11e9_901b_354cfa192ecdrow7_col4 {\n",
       "            : ;\n",
       "            color:  black;\n",
       "        }    #T_4a9708a4_a99b_11e9_901b_354cfa192ecdrow8_col0 {\n",
       "            : ;\n",
       "            color:  black;\n",
       "        }    #T_4a9708a4_a99b_11e9_901b_354cfa192ecdrow8_col1 {\n",
       "            background-color:  yellow;\n",
       "            color:  black;\n",
       "        }    #T_4a9708a4_a99b_11e9_901b_354cfa192ecdrow8_col2 {\n",
       "            : ;\n",
       "            color:  red;\n",
       "        }    #T_4a9708a4_a99b_11e9_901b_354cfa192ecdrow8_col3 {\n",
       "            background-color:  yellow;\n",
       "            color:  black;\n",
       "        }    #T_4a9708a4_a99b_11e9_901b_354cfa192ecdrow8_col4 {\n",
       "            : ;\n",
       "            color:  red;\n",
       "        }    #T_4a9708a4_a99b_11e9_901b_354cfa192ecdrow9_col0 {\n",
       "            background-color:  yellow;\n",
       "            color:  black;\n",
       "        }    #T_4a9708a4_a99b_11e9_901b_354cfa192ecdrow9_col1 {\n",
       "            : ;\n",
       "            color:  red;\n",
       "        }    #T_4a9708a4_a99b_11e9_901b_354cfa192ecdrow9_col2 {\n",
       "            : ;\n",
       "            color:  black;\n",
       "        }    #T_4a9708a4_a99b_11e9_901b_354cfa192ecdrow9_col3 {\n",
       "            : ;\n",
       "            color:  red;\n",
       "        }    #T_4a9708a4_a99b_11e9_901b_354cfa192ecdrow9_col4 {\n",
       "            : ;\n",
       "            color:  black;\n",
       "        }</style><table id=\"T_4a9708a4_a99b_11e9_901b_354cfa192ecd\" ><thead>    <tr>        <th class=\"blank level0\" ></th>        <th class=\"col_heading level0 col0\" >A</th>        <th class=\"col_heading level0 col1\" >B</th>        <th class=\"col_heading level0 col2\" >C</th>        <th class=\"col_heading level0 col3\" >D</th>        <th class=\"col_heading level0 col4\" >E</th>    </tr></thead><tbody>\n",
       "                <tr>\n",
       "                        <th id=\"T_4a9708a4_a99b_11e9_901b_354cfa192ecdlevel0_row0\" class=\"row_heading level0 row0\" >0</th>\n",
       "                        <td id=\"T_4a9708a4_a99b_11e9_901b_354cfa192ecdrow0_col0\" class=\"data row0 col0\" >1</td>\n",
       "                        <td id=\"T_4a9708a4_a99b_11e9_901b_354cfa192ecdrow0_col1\" class=\"data row0 col1\" >1.32921</td>\n",
       "                        <td id=\"T_4a9708a4_a99b_11e9_901b_354cfa192ecdrow0_col2\" class=\"data row0 col2\" >nan</td>\n",
       "                        <td id=\"T_4a9708a4_a99b_11e9_901b_354cfa192ecdrow0_col3\" class=\"data row0 col3\" >-0.31628</td>\n",
       "                        <td id=\"T_4a9708a4_a99b_11e9_901b_354cfa192ecdrow0_col4\" class=\"data row0 col4\" >-0.99081</td>\n",
       "            </tr>\n",
       "            <tr>\n",
       "                        <th id=\"T_4a9708a4_a99b_11e9_901b_354cfa192ecdlevel0_row1\" class=\"row_heading level0 row1\" >1</th>\n",
       "                        <td id=\"T_4a9708a4_a99b_11e9_901b_354cfa192ecdrow1_col0\" class=\"data row1 col0\" >2</td>\n",
       "                        <td id=\"T_4a9708a4_a99b_11e9_901b_354cfa192ecdrow1_col1\" class=\"data row1 col1\" >-1.07082</td>\n",
       "                        <td id=\"T_4a9708a4_a99b_11e9_901b_354cfa192ecdrow1_col2\" class=\"data row1 col2\" >-1.43871</td>\n",
       "                        <td id=\"T_4a9708a4_a99b_11e9_901b_354cfa192ecdrow1_col3\" class=\"data row1 col3\" >0.564417</td>\n",
       "                        <td id=\"T_4a9708a4_a99b_11e9_901b_354cfa192ecdrow1_col4\" class=\"data row1 col4\" >0.295722</td>\n",
       "            </tr>\n",
       "            <tr>\n",
       "                        <th id=\"T_4a9708a4_a99b_11e9_901b_354cfa192ecdlevel0_row2\" class=\"row_heading level0 row2\" >2</th>\n",
       "                        <td id=\"T_4a9708a4_a99b_11e9_901b_354cfa192ecdrow2_col0\" class=\"data row2 col0\" >3</td>\n",
       "                        <td id=\"T_4a9708a4_a99b_11e9_901b_354cfa192ecdrow2_col1\" class=\"data row2 col1\" >-1.6264</td>\n",
       "                        <td id=\"T_4a9708a4_a99b_11e9_901b_354cfa192ecdrow2_col2\" class=\"data row2 col2\" >0.219565</td>\n",
       "                        <td id=\"T_4a9708a4_a99b_11e9_901b_354cfa192ecdrow2_col3\" class=\"data row2 col3\" >0.678805</td>\n",
       "                        <td id=\"T_4a9708a4_a99b_11e9_901b_354cfa192ecdrow2_col4\" class=\"data row2 col4\" >1.88927</td>\n",
       "            </tr>\n",
       "            <tr>\n",
       "                        <th id=\"T_4a9708a4_a99b_11e9_901b_354cfa192ecdlevel0_row3\" class=\"row_heading level0 row3\" >3</th>\n",
       "                        <td id=\"T_4a9708a4_a99b_11e9_901b_354cfa192ecdrow3_col0\" class=\"data row3 col0\" >4</td>\n",
       "                        <td id=\"T_4a9708a4_a99b_11e9_901b_354cfa192ecdrow3_col1\" class=\"data row3 col1\" >0.961538</td>\n",
       "                        <td id=\"T_4a9708a4_a99b_11e9_901b_354cfa192ecdrow3_col2\" class=\"data row3 col2\" >0.104011</td>\n",
       "                        <td id=\"T_4a9708a4_a99b_11e9_901b_354cfa192ecdrow3_col3\" class=\"data row3 col3\" >-0.481165</td>\n",
       "                        <td id=\"T_4a9708a4_a99b_11e9_901b_354cfa192ecdrow3_col4\" class=\"data row3 col4\" >0.850229</td>\n",
       "            </tr>\n",
       "            <tr>\n",
       "                        <th id=\"T_4a9708a4_a99b_11e9_901b_354cfa192ecdlevel0_row4\" class=\"row_heading level0 row4\" >4</th>\n",
       "                        <td id=\"T_4a9708a4_a99b_11e9_901b_354cfa192ecdrow4_col0\" class=\"data row4 col0\" >5</td>\n",
       "                        <td id=\"T_4a9708a4_a99b_11e9_901b_354cfa192ecdrow4_col1\" class=\"data row4 col1\" >1.45342</td>\n",
       "                        <td id=\"T_4a9708a4_a99b_11e9_901b_354cfa192ecdrow4_col2\" class=\"data row4 col2\" >1.05774</td>\n",
       "                        <td id=\"T_4a9708a4_a99b_11e9_901b_354cfa192ecdrow4_col3\" class=\"data row4 col3\" >0.165562</td>\n",
       "                        <td id=\"T_4a9708a4_a99b_11e9_901b_354cfa192ecdrow4_col4\" class=\"data row4 col4\" >0.515018</td>\n",
       "            </tr>\n",
       "            <tr>\n",
       "                        <th id=\"T_4a9708a4_a99b_11e9_901b_354cfa192ecdlevel0_row5\" class=\"row_heading level0 row5\" >5</th>\n",
       "                        <td id=\"T_4a9708a4_a99b_11e9_901b_354cfa192ecdrow5_col0\" class=\"data row5 col0\" >6</td>\n",
       "                        <td id=\"T_4a9708a4_a99b_11e9_901b_354cfa192ecdrow5_col1\" class=\"data row5 col1\" >-1.33694</td>\n",
       "                        <td id=\"T_4a9708a4_a99b_11e9_901b_354cfa192ecdrow5_col2\" class=\"data row5 col2\" >0.562861</td>\n",
       "                        <td id=\"T_4a9708a4_a99b_11e9_901b_354cfa192ecdrow5_col3\" class=\"data row5 col3\" >1.39285</td>\n",
       "                        <td id=\"T_4a9708a4_a99b_11e9_901b_354cfa192ecdrow5_col4\" class=\"data row5 col4\" >-0.063328</td>\n",
       "            </tr>\n",
       "            <tr>\n",
       "                        <th id=\"T_4a9708a4_a99b_11e9_901b_354cfa192ecdlevel0_row6\" class=\"row_heading level0 row6\" >6</th>\n",
       "                        <td id=\"T_4a9708a4_a99b_11e9_901b_354cfa192ecdrow6_col0\" class=\"data row6 col0\" >7</td>\n",
       "                        <td id=\"T_4a9708a4_a99b_11e9_901b_354cfa192ecdrow6_col1\" class=\"data row6 col1\" >0.121668</td>\n",
       "                        <td id=\"T_4a9708a4_a99b_11e9_901b_354cfa192ecdrow6_col2\" class=\"data row6 col2\" >1.2076</td>\n",
       "                        <td id=\"T_4a9708a4_a99b_11e9_901b_354cfa192ecdrow6_col3\" class=\"data row6 col3\" >-0.00204021</td>\n",
       "                        <td id=\"T_4a9708a4_a99b_11e9_901b_354cfa192ecdrow6_col4\" class=\"data row6 col4\" >1.6278</td>\n",
       "            </tr>\n",
       "            <tr>\n",
       "                        <th id=\"T_4a9708a4_a99b_11e9_901b_354cfa192ecdlevel0_row7\" class=\"row_heading level0 row7\" >7</th>\n",
       "                        <td id=\"T_4a9708a4_a99b_11e9_901b_354cfa192ecdrow7_col0\" class=\"data row7 col0\" >8</td>\n",
       "                        <td id=\"T_4a9708a4_a99b_11e9_901b_354cfa192ecdrow7_col1\" class=\"data row7 col1\" >0.354493</td>\n",
       "                        <td id=\"T_4a9708a4_a99b_11e9_901b_354cfa192ecdrow7_col2\" class=\"data row7 col2\" >1.03753</td>\n",
       "                        <td id=\"T_4a9708a4_a99b_11e9_901b_354cfa192ecdrow7_col3\" class=\"data row7 col3\" >-0.385684</td>\n",
       "                        <td id=\"T_4a9708a4_a99b_11e9_901b_354cfa192ecdrow7_col4\" class=\"data row7 col4\" >0.519818</td>\n",
       "            </tr>\n",
       "            <tr>\n",
       "                        <th id=\"T_4a9708a4_a99b_11e9_901b_354cfa192ecdlevel0_row8\" class=\"row_heading level0 row8\" >8</th>\n",
       "                        <td id=\"T_4a9708a4_a99b_11e9_901b_354cfa192ecdrow8_col0\" class=\"data row8 col0\" >9</td>\n",
       "                        <td id=\"T_4a9708a4_a99b_11e9_901b_354cfa192ecdrow8_col1\" class=\"data row8 col1\" >1.68658</td>\n",
       "                        <td id=\"T_4a9708a4_a99b_11e9_901b_354cfa192ecdrow8_col2\" class=\"data row8 col2\" >-1.32596</td>\n",
       "                        <td id=\"T_4a9708a4_a99b_11e9_901b_354cfa192ecdrow8_col3\" class=\"data row8 col3\" >1.42898</td>\n",
       "                        <td id=\"T_4a9708a4_a99b_11e9_901b_354cfa192ecdrow8_col4\" class=\"data row8 col4\" >-2.08935</td>\n",
       "            </tr>\n",
       "            <tr>\n",
       "                        <th id=\"T_4a9708a4_a99b_11e9_901b_354cfa192ecdlevel0_row9\" class=\"row_heading level0 row9\" >9</th>\n",
       "                        <td id=\"T_4a9708a4_a99b_11e9_901b_354cfa192ecdrow9_col0\" class=\"data row9 col0\" >10</td>\n",
       "                        <td id=\"T_4a9708a4_a99b_11e9_901b_354cfa192ecdrow9_col1\" class=\"data row9 col1\" >-0.12982</td>\n",
       "                        <td id=\"T_4a9708a4_a99b_11e9_901b_354cfa192ecdrow9_col2\" class=\"data row9 col2\" >0.631523</td>\n",
       "                        <td id=\"T_4a9708a4_a99b_11e9_901b_354cfa192ecdrow9_col3\" class=\"data row9 col3\" >-0.586538</td>\n",
       "                        <td id=\"T_4a9708a4_a99b_11e9_901b_354cfa192ecdrow9_col4\" class=\"data row9 col4\" >0.29072</td>\n",
       "            </tr>\n",
       "    </tbody></table>"
      ],
      "text/plain": [
       "<pandas.io.formats.style.Styler at 0x7f652f242048>"
      ]
     },
     "execution_count": 114,
     "metadata": {},
     "output_type": "execute_result"
    }
   ],
   "source": [
    "df.style.apply(highlight_max).applymap(color_negative_red)"
   ]
  },
  {
   "cell_type": "markdown",
   "metadata": {},
   "source": [
    "Another useful method that will help us to find non values with styling is this:"
   ]
  },
  {
   "cell_type": "code",
   "execution_count": 115,
   "metadata": {},
   "outputs": [
    {
     "data": {
      "text/html": [
       "<style  type=\"text/css\" >\n",
       "    #T_928971d8_a99b_11e9_901b_354cfa192ecdrow0_col2 {\n",
       "            background-color:  red;\n",
       "        }</style><table id=\"T_928971d8_a99b_11e9_901b_354cfa192ecd\" ><thead>    <tr>        <th class=\"blank level0\" ></th>        <th class=\"col_heading level0 col0\" >A</th>        <th class=\"col_heading level0 col1\" >B</th>        <th class=\"col_heading level0 col2\" >C</th>        <th class=\"col_heading level0 col3\" >D</th>        <th class=\"col_heading level0 col4\" >E</th>    </tr></thead><tbody>\n",
       "                <tr>\n",
       "                        <th id=\"T_928971d8_a99b_11e9_901b_354cfa192ecdlevel0_row0\" class=\"row_heading level0 row0\" >0</th>\n",
       "                        <td id=\"T_928971d8_a99b_11e9_901b_354cfa192ecdrow0_col0\" class=\"data row0 col0\" >1</td>\n",
       "                        <td id=\"T_928971d8_a99b_11e9_901b_354cfa192ecdrow0_col1\" class=\"data row0 col1\" >1.32921</td>\n",
       "                        <td id=\"T_928971d8_a99b_11e9_901b_354cfa192ecdrow0_col2\" class=\"data row0 col2\" >nan</td>\n",
       "                        <td id=\"T_928971d8_a99b_11e9_901b_354cfa192ecdrow0_col3\" class=\"data row0 col3\" >-0.31628</td>\n",
       "                        <td id=\"T_928971d8_a99b_11e9_901b_354cfa192ecdrow0_col4\" class=\"data row0 col4\" >-0.99081</td>\n",
       "            </tr>\n",
       "            <tr>\n",
       "                        <th id=\"T_928971d8_a99b_11e9_901b_354cfa192ecdlevel0_row1\" class=\"row_heading level0 row1\" >1</th>\n",
       "                        <td id=\"T_928971d8_a99b_11e9_901b_354cfa192ecdrow1_col0\" class=\"data row1 col0\" >2</td>\n",
       "                        <td id=\"T_928971d8_a99b_11e9_901b_354cfa192ecdrow1_col1\" class=\"data row1 col1\" >-1.07082</td>\n",
       "                        <td id=\"T_928971d8_a99b_11e9_901b_354cfa192ecdrow1_col2\" class=\"data row1 col2\" >-1.43871</td>\n",
       "                        <td id=\"T_928971d8_a99b_11e9_901b_354cfa192ecdrow1_col3\" class=\"data row1 col3\" >0.564417</td>\n",
       "                        <td id=\"T_928971d8_a99b_11e9_901b_354cfa192ecdrow1_col4\" class=\"data row1 col4\" >0.295722</td>\n",
       "            </tr>\n",
       "            <tr>\n",
       "                        <th id=\"T_928971d8_a99b_11e9_901b_354cfa192ecdlevel0_row2\" class=\"row_heading level0 row2\" >2</th>\n",
       "                        <td id=\"T_928971d8_a99b_11e9_901b_354cfa192ecdrow2_col0\" class=\"data row2 col0\" >3</td>\n",
       "                        <td id=\"T_928971d8_a99b_11e9_901b_354cfa192ecdrow2_col1\" class=\"data row2 col1\" >-1.6264</td>\n",
       "                        <td id=\"T_928971d8_a99b_11e9_901b_354cfa192ecdrow2_col2\" class=\"data row2 col2\" >0.219565</td>\n",
       "                        <td id=\"T_928971d8_a99b_11e9_901b_354cfa192ecdrow2_col3\" class=\"data row2 col3\" >0.678805</td>\n",
       "                        <td id=\"T_928971d8_a99b_11e9_901b_354cfa192ecdrow2_col4\" class=\"data row2 col4\" >1.88927</td>\n",
       "            </tr>\n",
       "            <tr>\n",
       "                        <th id=\"T_928971d8_a99b_11e9_901b_354cfa192ecdlevel0_row3\" class=\"row_heading level0 row3\" >3</th>\n",
       "                        <td id=\"T_928971d8_a99b_11e9_901b_354cfa192ecdrow3_col0\" class=\"data row3 col0\" >4</td>\n",
       "                        <td id=\"T_928971d8_a99b_11e9_901b_354cfa192ecdrow3_col1\" class=\"data row3 col1\" >0.961538</td>\n",
       "                        <td id=\"T_928971d8_a99b_11e9_901b_354cfa192ecdrow3_col2\" class=\"data row3 col2\" >0.104011</td>\n",
       "                        <td id=\"T_928971d8_a99b_11e9_901b_354cfa192ecdrow3_col3\" class=\"data row3 col3\" >-0.481165</td>\n",
       "                        <td id=\"T_928971d8_a99b_11e9_901b_354cfa192ecdrow3_col4\" class=\"data row3 col4\" >0.850229</td>\n",
       "            </tr>\n",
       "            <tr>\n",
       "                        <th id=\"T_928971d8_a99b_11e9_901b_354cfa192ecdlevel0_row4\" class=\"row_heading level0 row4\" >4</th>\n",
       "                        <td id=\"T_928971d8_a99b_11e9_901b_354cfa192ecdrow4_col0\" class=\"data row4 col0\" >5</td>\n",
       "                        <td id=\"T_928971d8_a99b_11e9_901b_354cfa192ecdrow4_col1\" class=\"data row4 col1\" >1.45342</td>\n",
       "                        <td id=\"T_928971d8_a99b_11e9_901b_354cfa192ecdrow4_col2\" class=\"data row4 col2\" >1.05774</td>\n",
       "                        <td id=\"T_928971d8_a99b_11e9_901b_354cfa192ecdrow4_col3\" class=\"data row4 col3\" >0.165562</td>\n",
       "                        <td id=\"T_928971d8_a99b_11e9_901b_354cfa192ecdrow4_col4\" class=\"data row4 col4\" >0.515018</td>\n",
       "            </tr>\n",
       "            <tr>\n",
       "                        <th id=\"T_928971d8_a99b_11e9_901b_354cfa192ecdlevel0_row5\" class=\"row_heading level0 row5\" >5</th>\n",
       "                        <td id=\"T_928971d8_a99b_11e9_901b_354cfa192ecdrow5_col0\" class=\"data row5 col0\" >6</td>\n",
       "                        <td id=\"T_928971d8_a99b_11e9_901b_354cfa192ecdrow5_col1\" class=\"data row5 col1\" >-1.33694</td>\n",
       "                        <td id=\"T_928971d8_a99b_11e9_901b_354cfa192ecdrow5_col2\" class=\"data row5 col2\" >0.562861</td>\n",
       "                        <td id=\"T_928971d8_a99b_11e9_901b_354cfa192ecdrow5_col3\" class=\"data row5 col3\" >1.39285</td>\n",
       "                        <td id=\"T_928971d8_a99b_11e9_901b_354cfa192ecdrow5_col4\" class=\"data row5 col4\" >-0.063328</td>\n",
       "            </tr>\n",
       "            <tr>\n",
       "                        <th id=\"T_928971d8_a99b_11e9_901b_354cfa192ecdlevel0_row6\" class=\"row_heading level0 row6\" >6</th>\n",
       "                        <td id=\"T_928971d8_a99b_11e9_901b_354cfa192ecdrow6_col0\" class=\"data row6 col0\" >7</td>\n",
       "                        <td id=\"T_928971d8_a99b_11e9_901b_354cfa192ecdrow6_col1\" class=\"data row6 col1\" >0.121668</td>\n",
       "                        <td id=\"T_928971d8_a99b_11e9_901b_354cfa192ecdrow6_col2\" class=\"data row6 col2\" >1.2076</td>\n",
       "                        <td id=\"T_928971d8_a99b_11e9_901b_354cfa192ecdrow6_col3\" class=\"data row6 col3\" >-0.00204021</td>\n",
       "                        <td id=\"T_928971d8_a99b_11e9_901b_354cfa192ecdrow6_col4\" class=\"data row6 col4\" >1.6278</td>\n",
       "            </tr>\n",
       "            <tr>\n",
       "                        <th id=\"T_928971d8_a99b_11e9_901b_354cfa192ecdlevel0_row7\" class=\"row_heading level0 row7\" >7</th>\n",
       "                        <td id=\"T_928971d8_a99b_11e9_901b_354cfa192ecdrow7_col0\" class=\"data row7 col0\" >8</td>\n",
       "                        <td id=\"T_928971d8_a99b_11e9_901b_354cfa192ecdrow7_col1\" class=\"data row7 col1\" >0.354493</td>\n",
       "                        <td id=\"T_928971d8_a99b_11e9_901b_354cfa192ecdrow7_col2\" class=\"data row7 col2\" >1.03753</td>\n",
       "                        <td id=\"T_928971d8_a99b_11e9_901b_354cfa192ecdrow7_col3\" class=\"data row7 col3\" >-0.385684</td>\n",
       "                        <td id=\"T_928971d8_a99b_11e9_901b_354cfa192ecdrow7_col4\" class=\"data row7 col4\" >0.519818</td>\n",
       "            </tr>\n",
       "            <tr>\n",
       "                        <th id=\"T_928971d8_a99b_11e9_901b_354cfa192ecdlevel0_row8\" class=\"row_heading level0 row8\" >8</th>\n",
       "                        <td id=\"T_928971d8_a99b_11e9_901b_354cfa192ecdrow8_col0\" class=\"data row8 col0\" >9</td>\n",
       "                        <td id=\"T_928971d8_a99b_11e9_901b_354cfa192ecdrow8_col1\" class=\"data row8 col1\" >1.68658</td>\n",
       "                        <td id=\"T_928971d8_a99b_11e9_901b_354cfa192ecdrow8_col2\" class=\"data row8 col2\" >-1.32596</td>\n",
       "                        <td id=\"T_928971d8_a99b_11e9_901b_354cfa192ecdrow8_col3\" class=\"data row8 col3\" >1.42898</td>\n",
       "                        <td id=\"T_928971d8_a99b_11e9_901b_354cfa192ecdrow8_col4\" class=\"data row8 col4\" >-2.08935</td>\n",
       "            </tr>\n",
       "            <tr>\n",
       "                        <th id=\"T_928971d8_a99b_11e9_901b_354cfa192ecdlevel0_row9\" class=\"row_heading level0 row9\" >9</th>\n",
       "                        <td id=\"T_928971d8_a99b_11e9_901b_354cfa192ecdrow9_col0\" class=\"data row9 col0\" >10</td>\n",
       "                        <td id=\"T_928971d8_a99b_11e9_901b_354cfa192ecdrow9_col1\" class=\"data row9 col1\" >-0.12982</td>\n",
       "                        <td id=\"T_928971d8_a99b_11e9_901b_354cfa192ecdrow9_col2\" class=\"data row9 col2\" >0.631523</td>\n",
       "                        <td id=\"T_928971d8_a99b_11e9_901b_354cfa192ecdrow9_col3\" class=\"data row9 col3\" >-0.586538</td>\n",
       "                        <td id=\"T_928971d8_a99b_11e9_901b_354cfa192ecdrow9_col4\" class=\"data row9 col4\" >0.29072</td>\n",
       "            </tr>\n",
       "    </tbody></table>"
      ],
      "text/plain": [
       "<pandas.io.formats.style.Styler at 0x7f652f242908>"
      ]
     },
     "execution_count": 115,
     "metadata": {},
     "output_type": "execute_result"
    }
   ],
   "source": [
    "df.style.highlight_null(null_color='red')"
   ]
  },
  {
   "cell_type": "markdown",
   "metadata": {},
   "source": [
    "## Load data"
   ]
  },
  {
   "cell_type": "markdown",
   "metadata": {},
   "source": [
    "We can have different situations in order to load the data to process in our data projects, such as, we can have the data in our local computer, we would like to load the data from an open repository by an specific URL, and the data are located in the cloud with some aditional steps to make in code (login-security and other activities related with the technnology)."
   ]
  },
  {
   "cell_type": "markdown",
   "metadata": {},
   "source": [
    "### Datasets available\n",
    "\n",
    "A lot of datasets are available in order to learn about the data science world, some libraries like scikit-learn and tensorflow allow us to load recononized datasets that have excellent tutorials, for example, in the next URL we can have the information about the datasets.\n",
    "\n",
    "+ http://scikit-learn.org/stable/datasets/index.html"
   ]
  },
  {
   "cell_type": "code",
   "execution_count": 2,
   "metadata": {},
   "outputs": [
    {
     "name": "stdout",
     "output_type": "stream",
     "text": [
      "(506, 13)\n"
     ]
    }
   ],
   "source": [
    "# we will load the data from the Boston datasets from the scikit learn \n",
    "\n",
    "from sklearn.datasets import load_boston\n",
    "boston = load_boston()\n",
    "print(boston.data.shape)"
   ]
  },
  {
   "cell_type": "markdown",
   "metadata": {},
   "source": [
    "### Open source repositories"
   ]
  },
  {
   "cell_type": "markdown",
   "metadata": {},
   "source": [
    "Pandas has some methods to load the data in different shapes in a DataFrame \n",
    "We will use Iris dataset and the National Project, the data dictionaries can be found in these URLs:\n",
    "+ https://archive.ics.uci.edu/ml/machine-learning-databases/iris/iris.names\n",
    "+ https://www.kaggle.com/nationalparkservice/park-biodiversity/data\n",
    "+ https://archive.ics.uci.edu/ml/datasets/Car+Evaluation\n"
   ]
  },
  {
   "cell_type": "markdown",
   "metadata": {},
   "source": [
    "The next code lines will download a dataset from the repository of the University of California and save it in a Dataframe"
   ]
  },
  {
   "cell_type": "markdown",
   "metadata": {},
   "source": [
    "### CSV"
   ]
  },
  {
   "cell_type": "code",
   "execution_count": 2,
   "metadata": {},
   "outputs": [],
   "source": [
    "import pandas as pd\n",
    "\n",
    "# the next code will load the data but without the column names, so in the second line we can define them\n",
    "#df = pd.read_csv('https://archive.ics.uci.edu/ml/machine-learning-databases/iris/iris.data', header=None)\n",
    "df = pd.read_csv('https://archive.ics.uci.edu/ml/machine-learning-databases/iris/iris.data', \n",
    "                 header=None, names=[\"sepal_length\",\"sepal_width\", \"petal_length\",\"petal_width\",\"class\"])\n",
    "\n",
    "# the idea with this dataset is to explore some elements through pandas that Iris does not provide, \n",
    "# such as categorical variables, specifically, the method provides with index_col to select what is the main column to identify\n",
    "# each row\n",
    "df_park = pd.read_csv('../datasets/parks.csv', index_col=['Park Code'], encoding='utf-8')"
   ]
  },
  {
   "cell_type": "markdown",
   "metadata": {},
   "source": [
    "Another way is to save the dataset in your local computer in a csv file, the next code will do it"
   ]
  },
  {
   "cell_type": "code",
   "execution_count": 63,
   "metadata": {},
   "outputs": [
    {
     "data": {
      "text/html": [
       "<div>\n",
       "<style scoped>\n",
       "    .dataframe tbody tr th:only-of-type {\n",
       "        vertical-align: middle;\n",
       "    }\n",
       "\n",
       "    .dataframe tbody tr th {\n",
       "        vertical-align: top;\n",
       "    }\n",
       "\n",
       "    .dataframe thead th {\n",
       "        text-align: right;\n",
       "    }\n",
       "</style>\n",
       "<table border=\"1\" class=\"dataframe\">\n",
       "  <thead>\n",
       "    <tr style=\"text-align: right;\">\n",
       "      <th></th>\n",
       "      <th>vhigh</th>\n",
       "      <th>vhigh.1</th>\n",
       "      <th>2</th>\n",
       "      <th>2.1</th>\n",
       "      <th>small</th>\n",
       "      <th>low</th>\n",
       "      <th>unacc</th>\n",
       "    </tr>\n",
       "  </thead>\n",
       "  <tbody>\n",
       "    <tr>\n",
       "      <th>0</th>\n",
       "      <td>vhigh</td>\n",
       "      <td>vhigh</td>\n",
       "      <td>2</td>\n",
       "      <td>2</td>\n",
       "      <td>small</td>\n",
       "      <td>med</td>\n",
       "      <td>unacc</td>\n",
       "    </tr>\n",
       "    <tr>\n",
       "      <th>1</th>\n",
       "      <td>vhigh</td>\n",
       "      <td>vhigh</td>\n",
       "      <td>2</td>\n",
       "      <td>2</td>\n",
       "      <td>small</td>\n",
       "      <td>high</td>\n",
       "      <td>unacc</td>\n",
       "    </tr>\n",
       "    <tr>\n",
       "      <th>2</th>\n",
       "      <td>vhigh</td>\n",
       "      <td>vhigh</td>\n",
       "      <td>2</td>\n",
       "      <td>2</td>\n",
       "      <td>med</td>\n",
       "      <td>low</td>\n",
       "      <td>unacc</td>\n",
       "    </tr>\n",
       "    <tr>\n",
       "      <th>3</th>\n",
       "      <td>vhigh</td>\n",
       "      <td>vhigh</td>\n",
       "      <td>2</td>\n",
       "      <td>2</td>\n",
       "      <td>med</td>\n",
       "      <td>med</td>\n",
       "      <td>unacc</td>\n",
       "    </tr>\n",
       "    <tr>\n",
       "      <th>4</th>\n",
       "      <td>vhigh</td>\n",
       "      <td>vhigh</td>\n",
       "      <td>2</td>\n",
       "      <td>2</td>\n",
       "      <td>med</td>\n",
       "      <td>high</td>\n",
       "      <td>unacc</td>\n",
       "    </tr>\n",
       "  </tbody>\n",
       "</table>\n",
       "</div>"
      ],
      "text/plain": [
       "   vhigh vhigh.1  2 2.1  small   low  unacc\n",
       "0  vhigh   vhigh  2   2  small   med  unacc\n",
       "1  vhigh   vhigh  2   2  small  high  unacc\n",
       "2  vhigh   vhigh  2   2    med   low  unacc\n",
       "3  vhigh   vhigh  2   2    med   med  unacc\n",
       "4  vhigh   vhigh  2   2    med  high  unacc"
      ]
     },
     "execution_count": 63,
     "metadata": {},
     "output_type": "execute_result"
    }
   ],
   "source": [
    "import requests \n",
    "import csv\n",
    "data = requests.get('https://archive.ics.uci.edu/ml/machine-learning-databases/car/car.data')\n",
    "with open(\"../datasets/name.csv\", \"w+\") as f:\n",
    "    writer = csv.writer(f)\n",
    "    reader = csv.reader(data.text.splitlines())\n",
    "    for row in reader:\n",
    "        writer.writerow(row)\n",
    "data = pd.read_csv(\"../datasets/name.csv\")                    \n",
    "data.head()"
   ]
  },
  {
   "cell_type": "markdown",
   "metadata": {},
   "source": [
    "Pandas has several methods to read different types of files, we can find more information in it's webpage:\n",
    "\n",
    "https://pandas.pydata.org/pandas-docs/stable/reference/io.html\n",
    "\n",
    "Some of the files that we can process using this are:\n",
    "\n",
    "+ HTML\n",
    "+ JSON\n",
    "+ Excel\n",
    "+ SQL\n",
    "+ SAS\n",
    "+ Google BigQuery\n",
    "+ STATA"
   ]
  },
  {
   "cell_type": "code",
   "execution_count": 65,
   "metadata": {
    "scrolled": true
   },
   "outputs": [
    {
     "name": "stderr",
     "output_type": "stream",
     "text": [
      "/opt/anaconda3/lib/python3.6/site-packages/ipykernel_launcher.py:1: FutureWarning: read_table is deprecated, use read_csv instead, passing sep='\\t'.\n",
      "  \"\"\"Entry point for launching an IPython kernel.\n"
     ]
    },
    {
     "data": {
      "text/html": [
       "<div>\n",
       "<style scoped>\n",
       "    .dataframe tbody tr th:only-of-type {\n",
       "        vertical-align: middle;\n",
       "    }\n",
       "\n",
       "    .dataframe tbody tr th {\n",
       "        vertical-align: top;\n",
       "    }\n",
       "\n",
       "    .dataframe thead th {\n",
       "        text-align: right;\n",
       "    }\n",
       "</style>\n",
       "<table border=\"1\" class=\"dataframe\">\n",
       "  <thead>\n",
       "    <tr style=\"text-align: right;\">\n",
       "      <th></th>\n",
       "      <th>order_id</th>\n",
       "      <th>quantity</th>\n",
       "      <th>item_name</th>\n",
       "      <th>choice_description</th>\n",
       "      <th>item_price</th>\n",
       "    </tr>\n",
       "  </thead>\n",
       "  <tbody>\n",
       "    <tr>\n",
       "      <th>0</th>\n",
       "      <td>1</td>\n",
       "      <td>1</td>\n",
       "      <td>Chips and Fresh Tomato Salsa</td>\n",
       "      <td>NaN</td>\n",
       "      <td>$2.39</td>\n",
       "    </tr>\n",
       "    <tr>\n",
       "      <th>1</th>\n",
       "      <td>1</td>\n",
       "      <td>1</td>\n",
       "      <td>Izze</td>\n",
       "      <td>[Clementine]</td>\n",
       "      <td>$3.39</td>\n",
       "    </tr>\n",
       "    <tr>\n",
       "      <th>2</th>\n",
       "      <td>1</td>\n",
       "      <td>1</td>\n",
       "      <td>Nantucket Nectar</td>\n",
       "      <td>[Apple]</td>\n",
       "      <td>$3.39</td>\n",
       "    </tr>\n",
       "    <tr>\n",
       "      <th>3</th>\n",
       "      <td>1</td>\n",
       "      <td>1</td>\n",
       "      <td>Chips and Tomatillo-Green Chili Salsa</td>\n",
       "      <td>NaN</td>\n",
       "      <td>$2.39</td>\n",
       "    </tr>\n",
       "    <tr>\n",
       "      <th>4</th>\n",
       "      <td>2</td>\n",
       "      <td>2</td>\n",
       "      <td>Chicken Bowl</td>\n",
       "      <td>[Tomatillo-Red Chili Salsa (Hot), [Black Beans...</td>\n",
       "      <td>$16.98</td>\n",
       "    </tr>\n",
       "  </tbody>\n",
       "</table>\n",
       "</div>"
      ],
      "text/plain": [
       "   order_id  quantity                              item_name  \\\n",
       "0         1         1           Chips and Fresh Tomato Salsa   \n",
       "1         1         1                                   Izze   \n",
       "2         1         1                       Nantucket Nectar   \n",
       "3         1         1  Chips and Tomatillo-Green Chili Salsa   \n",
       "4         2         2                           Chicken Bowl   \n",
       "\n",
       "                                  choice_description item_price  \n",
       "0                                                NaN     $2.39   \n",
       "1                                       [Clementine]     $3.39   \n",
       "2                                            [Apple]     $3.39   \n",
       "3                                                NaN     $2.39   \n",
       "4  [Tomatillo-Red Chili Salsa (Hot), [Black Beans...    $16.98   "
      ]
     },
     "execution_count": 65,
     "metadata": {},
     "output_type": "execute_result"
    }
   ],
   "source": [
    "pd.read_table(\"http://bit.ly/chiporders\").head()"
   ]
  },
  {
   "cell_type": "markdown",
   "metadata": {},
   "source": [
    "### JSON"
   ]
  },
  {
   "cell_type": "code",
   "execution_count": 109,
   "metadata": {
    "scrolled": true
   },
   "outputs": [
    {
     "data": {
      "text/html": [
       "<div>\n",
       "<style scoped>\n",
       "    .dataframe tbody tr th:only-of-type {\n",
       "        vertical-align: middle;\n",
       "    }\n",
       "\n",
       "    .dataframe tbody tr th {\n",
       "        vertical-align: top;\n",
       "    }\n",
       "\n",
       "    .dataframe thead th {\n",
       "        text-align: right;\n",
       "    }\n",
       "</style>\n",
       "<table border=\"1\" class=\"dataframe\">\n",
       "  <thead>\n",
       "    <tr style=\"text-align: right;\">\n",
       "      <th></th>\n",
       "      <th>integer</th>\n",
       "      <th>datetime</th>\n",
       "      <th>category</th>\n",
       "    </tr>\n",
       "  </thead>\n",
       "  <tbody>\n",
       "    <tr>\n",
       "      <th>0</th>\n",
       "      <td>5</td>\n",
       "      <td>2015-01-01 00:00:00</td>\n",
       "      <td>0</td>\n",
       "    </tr>\n",
       "    <tr>\n",
       "      <th>1</th>\n",
       "      <td>5</td>\n",
       "      <td>2015-01-01 00:00:01</td>\n",
       "      <td>0</td>\n",
       "    </tr>\n",
       "    <tr>\n",
       "      <th>10</th>\n",
       "      <td>5</td>\n",
       "      <td>2015-01-01 00:00:10</td>\n",
       "      <td>0</td>\n",
       "    </tr>\n",
       "    <tr>\n",
       "      <th>11</th>\n",
       "      <td>5</td>\n",
       "      <td>2015-01-01 00:00:11</td>\n",
       "      <td>0</td>\n",
       "    </tr>\n",
       "    <tr>\n",
       "      <th>12</th>\n",
       "      <td>8</td>\n",
       "      <td>2015-01-01 00:00:12</td>\n",
       "      <td>0</td>\n",
       "    </tr>\n",
       "  </tbody>\n",
       "</table>\n",
       "</div>"
      ],
      "text/plain": [
       "    integer            datetime  category\n",
       "0         5 2015-01-01 00:00:00         0\n",
       "1         5 2015-01-01 00:00:01         0\n",
       "10        5 2015-01-01 00:00:10         0\n",
       "11        5 2015-01-01 00:00:11         0\n",
       "12        8 2015-01-01 00:00:12         0"
      ]
     },
     "execution_count": 109,
     "metadata": {},
     "output_type": "execute_result"
    }
   ],
   "source": [
    "# hay que tener encuenta que el json debe estar normalizado\n",
    "\n",
    "pd.read_json(\"https://raw.githubusercontent.com/chrisalbon/simulated_datasets/master/data.json\").head()"
   ]
  },
  {
   "cell_type": "code",
   "execution_count": 1,
   "metadata": {},
   "outputs": [],
   "source": [
    "import pandas as pd"
   ]
  },
  {
   "cell_type": "markdown",
   "metadata": {},
   "source": [
    "We can find a difference between read_excel and ExcelFile, the second is a class for parsing tabular excel sheets into a DataFrame  and the first is one is a method that allows us to load both 'xls' and 'xlsx' file extensions from a local filesystem or URL."
   ]
  },
  {
   "cell_type": "code",
   "execution_count": 3,
   "metadata": {},
   "outputs": [],
   "source": [
    "#df_excel =  pd.ExcelFile\n",
    "?pd.read_excel"
   ]
  },
  {
   "cell_type": "markdown",
   "metadata": {},
   "source": [
    "### EXCEL"
   ]
  },
  {
   "cell_type": "code",
   "execution_count": 2,
   "metadata": {},
   "outputs": [
    {
     "name": "stdout",
     "output_type": "stream",
     "text": [
      "<class 'pandas.core.frame.DataFrame'>\n",
      "RangeIndex: 10 entries, 0 to 9\n",
      "Data columns (total 5 columns):\n",
      "Name       10 non-null object\n",
      "ID         10 non-null int64\n",
      "Mean       9 non-null float64\n",
      "Correct    9 non-null float64\n",
      "Session    10 non-null int64\n",
      "dtypes: float64(2), int64(2), object(1)\n",
      "memory usage: 480.0+ bytes\n"
     ]
    }
   ],
   "source": [
    "\"\"\"\n",
    "We are going to use the next files downloaded from\n",
    "https://pbpython.com/excel-file-combine.html\n",
    "https://github.com/marsja/jupyter/blob/master/example_sheets2.xlsx\n",
    "\"\"\"\n",
    "# For the next example we are going to load an excel that has two sheets\n",
    "# by default the method load_excel uses the position 0\n",
    "#df = pd.read_excel(\"../../../datasets/example_sheets2.xlsx\")\n",
    "# let's load the second sheet by its index\n",
    "#df = pd.read_excel(\"../../../datasets/example_sheets2.xlsx\", sheet_name=1)\n",
    "# let's load the second sheet by it's label b\n",
    "df = pd.read_excel(\"../datasets/example_sheets2.xlsx\", sheet_name=\"Session2\")\n",
    "df.info()"
   ]
  },
  {
   "cell_type": "code",
   "execution_count": 3,
   "metadata": {},
   "outputs": [
    {
     "data": {
      "text/plain": [
       "collections.OrderedDict"
      ]
     },
     "execution_count": 3,
     "metadata": {},
     "output_type": "execute_result"
    }
   ],
   "source": [
    "# Now we are going to see the difference to load the data using the parameter sheet with None\n",
    "df = pd.read_excel(\"../datasets/example_sheets2.xlsx\", sheet_name=None)\n",
    "type(df)\n",
    "# we got a python dictionary where each key is the sheet identification from the excel\n",
    "#print(df.keys())"
   ]
  },
  {
   "cell_type": "code",
   "execution_count": null,
   "metadata": {},
   "outputs": [],
   "source": [
    "# With the keys we can the information from each sheet, pay attention that they are DataFrames \n",
    "# type(df['Session1'])\n",
    "df = df['Session1']\n",
    "df.info()"
   ]
  },
  {
   "cell_type": "markdown",
   "metadata": {},
   "source": [
    "A common problem that we might face is the format in the excel file, let's analyze the next file downladed from the next repository:\n",
    "\n",
    "<img src=\"../Utilities/excel_problem.png\" >\n",
    "<center> \n",
    "https://www.kaggle.com/plsms21/xls-files-all/downloads/xls-files-all.zip/1 </center>"
   ]
  },
  {
   "cell_type": "markdown",
   "metadata": {},
   "source": [
    "At the last capture we can see that the file many sheets, as we saw we can make a dataframe calling one of them, but what is going to on with it's format?"
   ]
  },
  {
   "cell_type": "code",
   "execution_count": 6,
   "metadata": {},
   "outputs": [
    {
     "data": {
      "text/html": [
       "<div>\n",
       "<style scoped>\n",
       "    .dataframe tbody tr th:only-of-type {\n",
       "        vertical-align: middle;\n",
       "    }\n",
       "\n",
       "    .dataframe tbody tr th {\n",
       "        vertical-align: top;\n",
       "    }\n",
       "\n",
       "    .dataframe thead th {\n",
       "        text-align: right;\n",
       "    }\n",
       "</style>\n",
       "<table border=\"1\" class=\"dataframe\">\n",
       "  <thead>\n",
       "    <tr style=\"text-align: right;\">\n",
       "      <th></th>\n",
       "      <th>WIC PROGRAM -- TOTAL NUMBER OF WOMEN PARTICIPATING</th>\n",
       "      <th>Unnamed: 1</th>\n",
       "      <th>Unnamed: 2</th>\n",
       "      <th>Unnamed: 3</th>\n",
       "      <th>Unnamed: 4</th>\n",
       "      <th>Unnamed: 5</th>\n",
       "      <th>Unnamed: 6</th>\n",
       "      <th>Unnamed: 7</th>\n",
       "      <th>Unnamed: 8</th>\n",
       "      <th>Unnamed: 9</th>\n",
       "      <th>Unnamed: 10</th>\n",
       "      <th>Unnamed: 11</th>\n",
       "      <th>Unnamed: 12</th>\n",
       "      <th>Unnamed: 13</th>\n",
       "    </tr>\n",
       "  </thead>\n",
       "  <tbody>\n",
       "    <tr>\n",
       "      <th>0</th>\n",
       "      <td>FISCAL YEAR 2013</td>\n",
       "      <td>NaN</td>\n",
       "      <td>NaN</td>\n",
       "      <td>NaN</td>\n",
       "      <td>NaN</td>\n",
       "      <td>NaN</td>\n",
       "      <td>NaN</td>\n",
       "      <td>NaN</td>\n",
       "      <td>NaN</td>\n",
       "      <td>NaN</td>\n",
       "      <td>NaN</td>\n",
       "      <td>NaN</td>\n",
       "      <td>NaN</td>\n",
       "      <td>NaN</td>\n",
       "    </tr>\n",
       "    <tr>\n",
       "      <th>1</th>\n",
       "      <td>Data as of October 05, 2018</td>\n",
       "      <td>NaN</td>\n",
       "      <td>NaN</td>\n",
       "      <td>NaN</td>\n",
       "      <td>NaN</td>\n",
       "      <td>NaN</td>\n",
       "      <td>NaN</td>\n",
       "      <td>NaN</td>\n",
       "      <td>NaN</td>\n",
       "      <td>NaN</td>\n",
       "      <td>NaN</td>\n",
       "      <td>NaN</td>\n",
       "      <td>NaN</td>\n",
       "      <td>NaN</td>\n",
       "    </tr>\n",
       "    <tr>\n",
       "      <th>2</th>\n",
       "      <td>NaN</td>\n",
       "      <td>NaN</td>\n",
       "      <td>NaN</td>\n",
       "      <td>NaN</td>\n",
       "      <td>NaN</td>\n",
       "      <td>NaN</td>\n",
       "      <td>NaN</td>\n",
       "      <td>NaN</td>\n",
       "      <td>NaN</td>\n",
       "      <td>NaN</td>\n",
       "      <td>NaN</td>\n",
       "      <td>NaN</td>\n",
       "      <td>NaN</td>\n",
       "      <td>NaN</td>\n",
       "    </tr>\n",
       "    <tr>\n",
       "      <th>3</th>\n",
       "      <td>State Agency or Indian Tribal Organization</td>\n",
       "      <td>2012-10-01 00:00:00</td>\n",
       "      <td>2012-11-01 00:00:00</td>\n",
       "      <td>2012-12-01 00:00:00</td>\n",
       "      <td>2013-01-01 00:00:00</td>\n",
       "      <td>2013-02-01 00:00:00</td>\n",
       "      <td>2013-03-01 00:00:00</td>\n",
       "      <td>2013-04-01 00:00:00</td>\n",
       "      <td>2013-05-01 00:00:00</td>\n",
       "      <td>2013-06-01 00:00:00</td>\n",
       "      <td>2013-07-01 00:00:00</td>\n",
       "      <td>2013-08-01 00:00:00</td>\n",
       "      <td>2013-09-01 00:00:00</td>\n",
       "      <td>Average Participation</td>\n",
       "    </tr>\n",
       "    <tr>\n",
       "      <th>4</th>\n",
       "      <td>Connecticut</td>\n",
       "      <td>11891</td>\n",
       "      <td>11763</td>\n",
       "      <td>11328</td>\n",
       "      <td>11786</td>\n",
       "      <td>11159</td>\n",
       "      <td>11070</td>\n",
       "      <td>11379</td>\n",
       "      <td>11666</td>\n",
       "      <td>11387</td>\n",
       "      <td>11587</td>\n",
       "      <td>11570</td>\n",
       "      <td>11376</td>\n",
       "      <td>11496.8</td>\n",
       "    </tr>\n",
       "  </tbody>\n",
       "</table>\n",
       "</div>"
      ],
      "text/plain": [
       "  WIC PROGRAM -- TOTAL NUMBER OF WOMEN PARTICIPATING           Unnamed: 1  \\\n",
       "0                                   FISCAL YEAR 2013                  NaN   \n",
       "1                        Data as of October 05, 2018                  NaN   \n",
       "2                                                NaN                  NaN   \n",
       "3         State Agency or Indian Tribal Organization  2012-10-01 00:00:00   \n",
       "4                                        Connecticut                11891   \n",
       "\n",
       "            Unnamed: 2           Unnamed: 3           Unnamed: 4  \\\n",
       "0                  NaN                  NaN                  NaN   \n",
       "1                  NaN                  NaN                  NaN   \n",
       "2                  NaN                  NaN                  NaN   \n",
       "3  2012-11-01 00:00:00  2012-12-01 00:00:00  2013-01-01 00:00:00   \n",
       "4                11763                11328                11786   \n",
       "\n",
       "            Unnamed: 5           Unnamed: 6           Unnamed: 7  \\\n",
       "0                  NaN                  NaN                  NaN   \n",
       "1                  NaN                  NaN                  NaN   \n",
       "2                  NaN                  NaN                  NaN   \n",
       "3  2013-02-01 00:00:00  2013-03-01 00:00:00  2013-04-01 00:00:00   \n",
       "4                11159                11070                11379   \n",
       "\n",
       "            Unnamed: 8           Unnamed: 9          Unnamed: 10  \\\n",
       "0                  NaN                  NaN                  NaN   \n",
       "1                  NaN                  NaN                  NaN   \n",
       "2                  NaN                  NaN                  NaN   \n",
       "3  2013-05-01 00:00:00  2013-06-01 00:00:00  2013-07-01 00:00:00   \n",
       "4                11666                11387                11587   \n",
       "\n",
       "           Unnamed: 11          Unnamed: 12            Unnamed: 13  \n",
       "0                  NaN                  NaN                    NaN  \n",
       "1                  NaN                  NaN                    NaN  \n",
       "2                  NaN                  NaN                    NaN  \n",
       "3  2013-08-01 00:00:00  2013-09-01 00:00:00  Average Participation  \n",
       "4                11570                11376                11496.8  "
      ]
     },
     "execution_count": 6,
     "metadata": {},
     "output_type": "execute_result"
    }
   ],
   "source": [
    "pd.read_excel(\"../Datasets/xls-files-all/WICAgencies2013ytd.xls\", sheet_name='Total Women').head()"
   ]
  },
  {
   "cell_type": "markdown",
   "metadata": {},
   "source": [
    "The excel's format influenced in how the data was loaded."
   ]
  },
  {
   "cell_type": "markdown",
   "metadata": {},
   "source": [
    "### SQL\n",
    "https://dev.mysql.com/doc/connector-python/en/connector-python-example-connecting.html\n",
    "\n",
    "Primero es necesario establecer una conexión con nuestro motor de base de datos, para ello utilizaremos el paquete pyodbc"
   ]
  },
  {
   "cell_type": "markdown",
   "metadata": {},
   "source": [
    "### SQLite\n",
    "\n",
    "I'm going to use the data from the next repository\n",
    "\n",
    "https://www.kaggle.com/rtatman/188-million-us-wildfires/downloads/188-million-us-wildfires.zip/1\n",
    "\n",
    "We can use the package **sqlite3** to manage the databases."
   ]
  },
  {
   "cell_type": "code",
   "execution_count": 15,
   "metadata": {},
   "outputs": [
    {
     "data": {
      "text/html": [
       "<div>\n",
       "<style scoped>\n",
       "    .dataframe tbody tr th:only-of-type {\n",
       "        vertical-align: middle;\n",
       "    }\n",
       "\n",
       "    .dataframe tbody tr th {\n",
       "        vertical-align: top;\n",
       "    }\n",
       "\n",
       "    .dataframe thead th {\n",
       "        text-align: right;\n",
       "    }\n",
       "</style>\n",
       "<table border=\"1\" class=\"dataframe\">\n",
       "  <thead>\n",
       "    <tr style=\"text-align: right;\">\n",
       "      <th></th>\n",
       "      <th>OBJECTID</th>\n",
       "      <th>FOD_ID</th>\n",
       "      <th>FPA_ID</th>\n",
       "      <th>SOURCE_SYSTEM_TYPE</th>\n",
       "      <th>SOURCE_SYSTEM</th>\n",
       "      <th>NWCG_REPORTING_AGENCY</th>\n",
       "      <th>NWCG_REPORTING_UNIT_ID</th>\n",
       "      <th>NWCG_REPORTING_UNIT_NAME</th>\n",
       "      <th>SOURCE_REPORTING_UNIT</th>\n",
       "      <th>SOURCE_REPORTING_UNIT_NAME</th>\n",
       "      <th>...</th>\n",
       "      <th>FIRE_SIZE_CLASS</th>\n",
       "      <th>LATITUDE</th>\n",
       "      <th>LONGITUDE</th>\n",
       "      <th>OWNER_CODE</th>\n",
       "      <th>OWNER_DESCR</th>\n",
       "      <th>STATE</th>\n",
       "      <th>COUNTY</th>\n",
       "      <th>FIPS_CODE</th>\n",
       "      <th>FIPS_NAME</th>\n",
       "      <th>Shape</th>\n",
       "    </tr>\n",
       "  </thead>\n",
       "  <tbody>\n",
       "    <tr>\n",
       "      <th>0</th>\n",
       "      <td>1</td>\n",
       "      <td>1</td>\n",
       "      <td>FS-1418826</td>\n",
       "      <td>FED</td>\n",
       "      <td>FS-FIRESTAT</td>\n",
       "      <td>FS</td>\n",
       "      <td>USCAPNF</td>\n",
       "      <td>Plumas National Forest</td>\n",
       "      <td>0511</td>\n",
       "      <td>Plumas National Forest</td>\n",
       "      <td>...</td>\n",
       "      <td>A</td>\n",
       "      <td>40.036944</td>\n",
       "      <td>-121.005833</td>\n",
       "      <td>5.0</td>\n",
       "      <td>USFS</td>\n",
       "      <td>CA</td>\n",
       "      <td>63</td>\n",
       "      <td>063</td>\n",
       "      <td>Plumas</td>\n",
       "      <td>b'\\x00\\x01\\xad\\x10\\x00\\x00\\xe8d\\xc2\\x92_@^\\xc0...</td>\n",
       "    </tr>\n",
       "    <tr>\n",
       "      <th>1</th>\n",
       "      <td>2</td>\n",
       "      <td>2</td>\n",
       "      <td>FS-1418827</td>\n",
       "      <td>FED</td>\n",
       "      <td>FS-FIRESTAT</td>\n",
       "      <td>FS</td>\n",
       "      <td>USCAENF</td>\n",
       "      <td>Eldorado National Forest</td>\n",
       "      <td>0503</td>\n",
       "      <td>Eldorado National Forest</td>\n",
       "      <td>...</td>\n",
       "      <td>A</td>\n",
       "      <td>38.933056</td>\n",
       "      <td>-120.404444</td>\n",
       "      <td>5.0</td>\n",
       "      <td>USFS</td>\n",
       "      <td>CA</td>\n",
       "      <td>61</td>\n",
       "      <td>061</td>\n",
       "      <td>Placer</td>\n",
       "      <td>b'\\x00\\x01\\xad\\x10\\x00\\x00T\\xb6\\xeej\\xe2\\x19^\\...</td>\n",
       "    </tr>\n",
       "    <tr>\n",
       "      <th>2</th>\n",
       "      <td>3</td>\n",
       "      <td>3</td>\n",
       "      <td>FS-1418835</td>\n",
       "      <td>FED</td>\n",
       "      <td>FS-FIRESTAT</td>\n",
       "      <td>FS</td>\n",
       "      <td>USCAENF</td>\n",
       "      <td>Eldorado National Forest</td>\n",
       "      <td>0503</td>\n",
       "      <td>Eldorado National Forest</td>\n",
       "      <td>...</td>\n",
       "      <td>A</td>\n",
       "      <td>38.984167</td>\n",
       "      <td>-120.735556</td>\n",
       "      <td>13.0</td>\n",
       "      <td>STATE OR PRIVATE</td>\n",
       "      <td>CA</td>\n",
       "      <td>17</td>\n",
       "      <td>017</td>\n",
       "      <td>El Dorado</td>\n",
       "      <td>b'\\x00\\x01\\xad\\x10\\x00\\x00\\xd0\\xa5\\xa0W\\x13/^\\...</td>\n",
       "    </tr>\n",
       "    <tr>\n",
       "      <th>3</th>\n",
       "      <td>4</td>\n",
       "      <td>4</td>\n",
       "      <td>FS-1418845</td>\n",
       "      <td>FED</td>\n",
       "      <td>FS-FIRESTAT</td>\n",
       "      <td>FS</td>\n",
       "      <td>USCAENF</td>\n",
       "      <td>Eldorado National Forest</td>\n",
       "      <td>0503</td>\n",
       "      <td>Eldorado National Forest</td>\n",
       "      <td>...</td>\n",
       "      <td>A</td>\n",
       "      <td>38.559167</td>\n",
       "      <td>-119.913333</td>\n",
       "      <td>5.0</td>\n",
       "      <td>USFS</td>\n",
       "      <td>CA</td>\n",
       "      <td>3</td>\n",
       "      <td>003</td>\n",
       "      <td>Alpine</td>\n",
       "      <td>b'\\x00\\x01\\xad\\x10\\x00\\x00\\x94\\xac\\xa3\\rt\\xfa]...</td>\n",
       "    </tr>\n",
       "    <tr>\n",
       "      <th>4</th>\n",
       "      <td>5</td>\n",
       "      <td>5</td>\n",
       "      <td>FS-1418847</td>\n",
       "      <td>FED</td>\n",
       "      <td>FS-FIRESTAT</td>\n",
       "      <td>FS</td>\n",
       "      <td>USCAENF</td>\n",
       "      <td>Eldorado National Forest</td>\n",
       "      <td>0503</td>\n",
       "      <td>Eldorado National Forest</td>\n",
       "      <td>...</td>\n",
       "      <td>A</td>\n",
       "      <td>38.559167</td>\n",
       "      <td>-119.933056</td>\n",
       "      <td>5.0</td>\n",
       "      <td>USFS</td>\n",
       "      <td>CA</td>\n",
       "      <td>3</td>\n",
       "      <td>003</td>\n",
       "      <td>Alpine</td>\n",
       "      <td>b'\\x00\\x01\\xad\\x10\\x00\\x00@\\xe3\\xaa.\\xb7\\xfb]\\...</td>\n",
       "    </tr>\n",
       "  </tbody>\n",
       "</table>\n",
       "<p>5 rows × 39 columns</p>\n",
       "</div>"
      ],
      "text/plain": [
       "   OBJECTID  FOD_ID      FPA_ID SOURCE_SYSTEM_TYPE SOURCE_SYSTEM  \\\n",
       "0         1       1  FS-1418826                FED   FS-FIRESTAT   \n",
       "1         2       2  FS-1418827                FED   FS-FIRESTAT   \n",
       "2         3       3  FS-1418835                FED   FS-FIRESTAT   \n",
       "3         4       4  FS-1418845                FED   FS-FIRESTAT   \n",
       "4         5       5  FS-1418847                FED   FS-FIRESTAT   \n",
       "\n",
       "  NWCG_REPORTING_AGENCY NWCG_REPORTING_UNIT_ID  NWCG_REPORTING_UNIT_NAME  \\\n",
       "0                    FS                USCAPNF    Plumas National Forest   \n",
       "1                    FS                USCAENF  Eldorado National Forest   \n",
       "2                    FS                USCAENF  Eldorado National Forest   \n",
       "3                    FS                USCAENF  Eldorado National Forest   \n",
       "4                    FS                USCAENF  Eldorado National Forest   \n",
       "\n",
       "  SOURCE_REPORTING_UNIT SOURCE_REPORTING_UNIT_NAME  ... FIRE_SIZE_CLASS  \\\n",
       "0                  0511     Plumas National Forest  ...               A   \n",
       "1                  0503   Eldorado National Forest  ...               A   \n",
       "2                  0503   Eldorado National Forest  ...               A   \n",
       "3                  0503   Eldorado National Forest  ...               A   \n",
       "4                  0503   Eldorado National Forest  ...               A   \n",
       "\n",
       "    LATITUDE   LONGITUDE OWNER_CODE       OWNER_DESCR STATE COUNTY FIPS_CODE  \\\n",
       "0  40.036944 -121.005833        5.0              USFS    CA     63       063   \n",
       "1  38.933056 -120.404444        5.0              USFS    CA     61       061   \n",
       "2  38.984167 -120.735556       13.0  STATE OR PRIVATE    CA     17       017   \n",
       "3  38.559167 -119.913333        5.0              USFS    CA      3       003   \n",
       "4  38.559167 -119.933056        5.0              USFS    CA      3       003   \n",
       "\n",
       "   FIPS_NAME                                              Shape  \n",
       "0     Plumas  b'\\x00\\x01\\xad\\x10\\x00\\x00\\xe8d\\xc2\\x92_@^\\xc0...  \n",
       "1     Placer  b'\\x00\\x01\\xad\\x10\\x00\\x00T\\xb6\\xeej\\xe2\\x19^\\...  \n",
       "2  El Dorado  b'\\x00\\x01\\xad\\x10\\x00\\x00\\xd0\\xa5\\xa0W\\x13/^\\...  \n",
       "3     Alpine  b'\\x00\\x01\\xad\\x10\\x00\\x00\\x94\\xac\\xa3\\rt\\xfa]...  \n",
       "4     Alpine  b'\\x00\\x01\\xad\\x10\\x00\\x00@\\xe3\\xaa.\\xb7\\xfb]\\...  \n",
       "\n",
       "[5 rows x 39 columns]"
      ]
     },
     "execution_count": 15,
     "metadata": {},
     "output_type": "execute_result"
    }
   ],
   "source": [
    "import sqlite3\n",
    "# let's make the connection with our database\n",
    "conn = sqlite3.connect(\"../Datasets/FPA_FOD_20170508.sqlite\")\n",
    "# we are going to use pandas to query a table\n",
    "fires = pd.read_sql_query(\"SELECT * FROM Fires\", conn)\n",
    "fires.head()"
   ]
  },
  {
   "cell_type": "markdown",
   "metadata": {},
   "source": [
    "## Rename columns\n",
    "\n",
    "We have a lot of ways to change the columns in our dataset, we are going to see some of them, but first, it is important how to get information about our dimensions."
   ]
  },
  {
   "cell_type": "code",
   "execution_count": 116,
   "metadata": {},
   "outputs": [
    {
     "name": "stdout",
     "output_type": "stream",
     "text": [
      "<class 'pandas.core.frame.DataFrame'>\n",
      "Index: 56 entries, ACAD to ZION\n",
      "Data columns (total 5 columns):\n",
      "Park Name    56 non-null object\n",
      "State        56 non-null object\n",
      "Acres        56 non-null int64\n",
      "Latitude     56 non-null float64\n",
      "Longitude    56 non-null float64\n",
      "dtypes: float64(2), int64(1), object(2)\n",
      "memory usage: 2.6+ KB\n"
     ]
    }
   ],
   "source": [
    "df_park = pd.read_csv('https://raw.githubusercontent.com/urcuqui/Data-Science/master/datasets/parks.csv', index_col=['Park Code'], encoding='utf-8')\n",
    "df_park.info()"
   ]
  },
  {
   "cell_type": "code",
   "execution_count": 117,
   "metadata": {},
   "outputs": [
    {
     "name": "stdout",
     "output_type": "stream",
     "text": [
      "(56, 5)\n",
      "\n",
      "56\n",
      "\n",
      "Index(['Park Name', 'State', 'Acres', 'Latitude', 'Longitude'], dtype='object')\n"
     ]
    }
   ],
   "source": [
    "print(df_park.shape)\n",
    "print(\"\")\n",
    "print(len(df_park))\n",
    "print(\"\")\n",
    "print(df_park.columns)"
   ]
  },
  {
   "cell_type": "markdown",
   "metadata": {},
   "source": [
    "An easy way to change our column names is by the method **rename()** which receives a dictionary where the keys are the old names and their values will be the new column names."
   ]
  },
  {
   "cell_type": "code",
   "execution_count": 118,
   "metadata": {},
   "outputs": [
    {
     "data": {
      "text/html": [
       "<div>\n",
       "<style scoped>\n",
       "    .dataframe tbody tr th:only-of-type {\n",
       "        vertical-align: middle;\n",
       "    }\n",
       "\n",
       "    .dataframe tbody tr th {\n",
       "        vertical-align: top;\n",
       "    }\n",
       "\n",
       "    .dataframe thead th {\n",
       "        text-align: right;\n",
       "    }\n",
       "</style>\n",
       "<table border=\"1\" class=\"dataframe\">\n",
       "  <thead>\n",
       "    <tr style=\"text-align: right;\">\n",
       "      <th></th>\n",
       "      <th>park_name</th>\n",
       "      <th>state</th>\n",
       "      <th>acres</th>\n",
       "      <th>latitude</th>\n",
       "      <th>longitude</th>\n",
       "    </tr>\n",
       "    <tr>\n",
       "      <th>Park Code</th>\n",
       "      <th></th>\n",
       "      <th></th>\n",
       "      <th></th>\n",
       "      <th></th>\n",
       "      <th></th>\n",
       "    </tr>\n",
       "  </thead>\n",
       "  <tbody>\n",
       "    <tr>\n",
       "      <th>ACAD</th>\n",
       "      <td>Acadia National Park</td>\n",
       "      <td>ME</td>\n",
       "      <td>47390</td>\n",
       "      <td>44.35</td>\n",
       "      <td>-68.21</td>\n",
       "    </tr>\n",
       "    <tr>\n",
       "      <th>ARCH</th>\n",
       "      <td>Arches National Park</td>\n",
       "      <td>UT</td>\n",
       "      <td>76519</td>\n",
       "      <td>38.68</td>\n",
       "      <td>-109.57</td>\n",
       "    </tr>\n",
       "    <tr>\n",
       "      <th>BADL</th>\n",
       "      <td>Badlands National Park</td>\n",
       "      <td>SD</td>\n",
       "      <td>242756</td>\n",
       "      <td>43.75</td>\n",
       "      <td>-102.50</td>\n",
       "    </tr>\n",
       "    <tr>\n",
       "      <th>BIBE</th>\n",
       "      <td>Big Bend National Park</td>\n",
       "      <td>TX</td>\n",
       "      <td>801163</td>\n",
       "      <td>29.25</td>\n",
       "      <td>-103.25</td>\n",
       "    </tr>\n",
       "    <tr>\n",
       "      <th>BISC</th>\n",
       "      <td>Biscayne National Park</td>\n",
       "      <td>FL</td>\n",
       "      <td>172924</td>\n",
       "      <td>25.65</td>\n",
       "      <td>-80.08</td>\n",
       "    </tr>\n",
       "  </tbody>\n",
       "</table>\n",
       "</div>"
      ],
      "text/plain": [
       "                        park_name state   acres  latitude  longitude\n",
       "Park Code                                                           \n",
       "ACAD         Acadia National Park    ME   47390     44.35     -68.21\n",
       "ARCH         Arches National Park    UT   76519     38.68    -109.57\n",
       "BADL       Badlands National Park    SD  242756     43.75    -102.50\n",
       "BIBE       Big Bend National Park    TX  801163     29.25    -103.25\n",
       "BISC       Biscayne National Park    FL  172924     25.65     -80.08"
      ]
     },
     "execution_count": 118,
     "metadata": {},
     "output_type": "execute_result"
    }
   ],
   "source": [
    "df_park.rename({'Park Name': 'park_name', 'State': 'state', 'Acres': 'acres', 'Latitude': 'latitude', \n",
    "                'Longitude': 'longitude'}, axis='columns').copy().head()"
   ]
  },
  {
   "cell_type": "markdown",
   "metadata": {},
   "source": [
    "In some ocasions we might face with column names that have upper letters and spaces, in order to keep column names to a standard we can use the next methods."
   ]
  },
  {
   "cell_type": "code",
   "execution_count": 119,
   "metadata": {},
   "outputs": [
    {
     "data": {
      "text/plain": [
       "Index(['Park_Name', 'State', 'Acres', 'Latitude', 'Longitude'], dtype='object')"
      ]
     },
     "execution_count": 119,
     "metadata": {},
     "output_type": "execute_result"
    }
   ],
   "source": [
    "df_park.columns.str.replace(' ', '_')"
   ]
  },
  {
   "cell_type": "code",
   "execution_count": 120,
   "metadata": {},
   "outputs": [
    {
     "data": {
      "text/plain": [
       "['park_name', 'state', 'acres', 'latitude', 'longitude']"
      ]
     },
     "execution_count": 120,
     "metadata": {},
     "output_type": "execute_result"
    }
   ],
   "source": [
    "# the next line gets each column name and applies the replace and lower methods\n",
    "[col.replace(' ', '_').lower() for col in df_park.columns]"
   ]
  },
  {
   "cell_type": "markdown",
   "metadata": {},
   "source": [
    "## Change Column Types\n",
    "\n",
    "We have different ways to change the types of our columns, let's see some of them "
   ]
  },
  {
   "cell_type": "code",
   "execution_count": 16,
   "metadata": {},
   "outputs": [
    {
     "data": {
      "text/plain": [
       "Park Name     object\n",
       "State         object\n",
       "Acres          int64\n",
       "Latitude     float64\n",
       "Longitude    float64\n",
       "dtype: object"
      ]
     },
     "execution_count": 16,
     "metadata": {},
     "output_type": "execute_result"
    }
   ],
   "source": [
    "data = pd.read_csv(\"../datasets/parks.csv\", index_col=['Park Code'], encoding='utf-8')\n",
    "data.dtypes"
   ]
  },
  {
   "cell_type": "markdown",
   "metadata": {},
   "source": [
    "the method astype(\"type to change\") allows us to change the type of a specific column"
   ]
  },
  {
   "cell_type": "code",
   "execution_count": 12,
   "metadata": {},
   "outputs": [
    {
     "data": {
      "text/plain": [
       "Park Name      object\n",
       "State        category\n",
       "Acres           int64\n",
       "Latitude      float64\n",
       "Longitude     float64\n",
       "dtype: object"
      ]
     },
     "execution_count": 12,
     "metadata": {},
     "output_type": "execute_result"
    }
   ],
   "source": [
    "#data.State = data.State.astype(\"category\")\n",
    "data['State'] = data['State'].astype(\"category\")\n",
    "data.dtypes"
   ]
  },
  {
   "cell_type": "code",
   "execution_count": 15,
   "metadata": {},
   "outputs": [
    {
     "data": {
      "text/plain": [
       "Park Name    object\n",
       "State        object\n",
       "Acres        object\n",
       "Latitude     object\n",
       "Longitude    object\n",
       "dtype: object"
      ]
     },
     "execution_count": 15,
     "metadata": {},
     "output_type": "execute_result"
    }
   ],
   "source": [
    "# change all the columns\n",
    "data.astype(\"object\").dtypes"
   ]
  },
  {
   "cell_type": "markdown",
   "metadata": {},
   "source": [
    "Pandas has another way to change the columns by methods that start with  `to_*`, for example `to_numeric()` and `to_datetime`\n",
    "\n",
    "**Advices**: \n",
    "+ the method only receives a Serie object.\n",
    "+ this is the URL https://docs.python.org/3/library/datetime.html#strftime-and-strptime-behavior to review the format for datetimes "
   ]
  },
  {
   "cell_type": "code",
   "execution_count": 41,
   "metadata": {},
   "outputs": [
    {
     "data": {
      "text/plain": [
       "0   1970-01-01\n",
       "1   1980-01-01\n",
       "2   2019-03-01\n",
       "3   2019-02-16\n",
       "dtype: datetime64[ns]"
      ]
     },
     "execution_count": 41,
     "metadata": {},
     "output_type": "execute_result"
    }
   ],
   "source": [
    "# https://docs.python.org/3/library/datetime.html#strftime-and-strptime-behavior\n",
    "serie_dates = pd.Series([\"1970-01-01\", \"1980-01-01\", \"2019-03-01\", \"2019-02-16\"])\n",
    "pd.to_datetime(serie_dates, format='%Y-%m-%d')"
   ]
  },
  {
   "cell_type": "markdown",
   "metadata": {
    "heading_collapsed": true
   },
   "source": [
    "## Data Persistence\n",
    "\n",
    "We can write our data in a DataFrame file for future works, Pandas provides a set of writing methods, some of them are:\n",
    "```\n",
    "+ to_csv:\tWrite object to a comma-separated values (csv) file.\n",
    "+ to_excel():\tWrite object to an Excel sheet.\n",
    "+ to_gbq():\tWrite a DataFrame to a Google BigQuery table.\n",
    "+ to_hdf():\tWrite the contained data to an HDF5 file using HDFStore.\n",
    "+ to_html():\tRender a DataFrame as an HTML table.\n",
    "+ to_json():\tConvert the object to a JSON string.\n",
    "+ to_latex():\tRender an object to a LaTeX tabular environment table.\n",
    "+ to_pickle():\tPickle (serialize) object to file.\n",
    "```\n",
    "If you need more information about it you can check in the Pandas documentation.\n",
    "\n",
    "https://pandas.pydata.org/pandas-docs/stable/reference/api/pandas.DataFrame.html"
   ]
  },
  {
   "cell_type": "code",
   "execution_count": 18,
   "metadata": {
    "hidden": true,
    "scrolled": true
   },
   "outputs": [
    {
     "data": {
      "text/html": [
       "<div>\n",
       "<style scoped>\n",
       "    .dataframe tbody tr th:only-of-type {\n",
       "        vertical-align: middle;\n",
       "    }\n",
       "\n",
       "    .dataframe tbody tr th {\n",
       "        vertical-align: top;\n",
       "    }\n",
       "\n",
       "    .dataframe thead th {\n",
       "        text-align: right;\n",
       "    }\n",
       "</style>\n",
       "<table border=\"1\" class=\"dataframe\">\n",
       "  <thead>\n",
       "    <tr style=\"text-align: right;\">\n",
       "      <th></th>\n",
       "      <th>Unnamed: 0</th>\n",
       "      <th>state</th>\n",
       "      <th>year</th>\n",
       "      <th>pop</th>\n",
       "    </tr>\n",
       "  </thead>\n",
       "  <tbody>\n",
       "    <tr>\n",
       "      <th>0</th>\n",
       "      <td>indice1</td>\n",
       "      <td>Ohio</td>\n",
       "      <td>2000</td>\n",
       "      <td>1.5</td>\n",
       "    </tr>\n",
       "    <tr>\n",
       "      <th>1</th>\n",
       "      <td>indice2</td>\n",
       "      <td>Ohio</td>\n",
       "      <td>2001</td>\n",
       "      <td>1.7</td>\n",
       "    </tr>\n",
       "    <tr>\n",
       "      <th>2</th>\n",
       "      <td>indice3</td>\n",
       "      <td>Ohio</td>\n",
       "      <td>2002</td>\n",
       "      <td>3.6</td>\n",
       "    </tr>\n",
       "    <tr>\n",
       "      <th>3</th>\n",
       "      <td>indice4</td>\n",
       "      <td>Nevada</td>\n",
       "      <td>2001</td>\n",
       "      <td>2.4</td>\n",
       "    </tr>\n",
       "    <tr>\n",
       "      <th>4</th>\n",
       "      <td>indice5</td>\n",
       "      <td>Nevada</td>\n",
       "      <td>2002</td>\n",
       "      <td>2.9</td>\n",
       "    </tr>\n",
       "  </tbody>\n",
       "</table>\n",
       "</div>"
      ],
      "text/plain": [
       "  Unnamed: 0   state  year  pop\n",
       "0    indice1    Ohio  2000  1.5\n",
       "1    indice2    Ohio  2001  1.7\n",
       "2    indice3    Ohio  2002  3.6\n",
       "3    indice4  Nevada  2001  2.4\n",
       "4    indice5  Nevada  2002  2.9"
      ]
     },
     "execution_count": 18,
     "metadata": {},
     "output_type": "execute_result"
    }
   ],
   "source": [
    "# let's make a dataframe\n",
    "data = {'state': ['Ohio', 'Ohio', 'Ohio', 'Nevada', 'Nevada', 'Nevada'],\n",
    "       'year': [2000, 2001, 2002, 2001, 2002, 2003],\n",
    "       'pop': [1.5, 1.7, 3.6, 2.4, 2.9, 3.2]}\n",
    "data = pd.DataFrame(data, index=['indice1', 'indice2', 'indice3','indice4', 'indice5', 'indice6'])\n",
    "# we are going to write the last object in a csv file\n",
    "data.to_csv(\"prueba.csv\")\n",
    "# we are going to erase the object dataframe\n",
    "del data\n",
    "# let's load the new csv previously made\n",
    "pd.read_csv(\"prueba.csv\").head()"
   ]
  },
  {
   "cell_type": "markdown",
   "metadata": {
    "hidden": true
   },
   "source": [
    "Note that the indexes were stored as a column, we should take them into account again when we load the dataset."
   ]
  },
  {
   "cell_type": "code",
   "execution_count": 19,
   "metadata": {
    "hidden": true
   },
   "outputs": [
    {
     "data": {
      "text/html": [
       "<div>\n",
       "<style scoped>\n",
       "    .dataframe tbody tr th:only-of-type {\n",
       "        vertical-align: middle;\n",
       "    }\n",
       "\n",
       "    .dataframe tbody tr th {\n",
       "        vertical-align: top;\n",
       "    }\n",
       "\n",
       "    .dataframe thead th {\n",
       "        text-align: right;\n",
       "    }\n",
       "</style>\n",
       "<table border=\"1\" class=\"dataframe\">\n",
       "  <thead>\n",
       "    <tr style=\"text-align: right;\">\n",
       "      <th></th>\n",
       "      <th>state</th>\n",
       "      <th>year</th>\n",
       "      <th>pop</th>\n",
       "    </tr>\n",
       "  </thead>\n",
       "  <tbody>\n",
       "    <tr>\n",
       "      <th>indice1</th>\n",
       "      <td>Ohio</td>\n",
       "      <td>2000</td>\n",
       "      <td>1.5</td>\n",
       "    </tr>\n",
       "    <tr>\n",
       "      <th>indice2</th>\n",
       "      <td>Ohio</td>\n",
       "      <td>2001</td>\n",
       "      <td>1.7</td>\n",
       "    </tr>\n",
       "    <tr>\n",
       "      <th>indice3</th>\n",
       "      <td>Ohio</td>\n",
       "      <td>2002</td>\n",
       "      <td>3.6</td>\n",
       "    </tr>\n",
       "    <tr>\n",
       "      <th>indice4</th>\n",
       "      <td>Nevada</td>\n",
       "      <td>2001</td>\n",
       "      <td>2.4</td>\n",
       "    </tr>\n",
       "    <tr>\n",
       "      <th>indice5</th>\n",
       "      <td>Nevada</td>\n",
       "      <td>2002</td>\n",
       "      <td>2.9</td>\n",
       "    </tr>\n",
       "  </tbody>\n",
       "</table>\n",
       "</div>"
      ],
      "text/plain": [
       "          state  year  pop\n",
       "indice1    Ohio  2000  1.5\n",
       "indice2    Ohio  2001  1.7\n",
       "indice3    Ohio  2002  3.6\n",
       "indice4  Nevada  2001  2.4\n",
       "indice5  Nevada  2002  2.9"
      ]
     },
     "execution_count": 19,
     "metadata": {},
     "output_type": "execute_result"
    }
   ],
   "source": [
    "pd.read_csv(\"prueba.csv\", index_col=0).head()"
   ]
  },
  {
   "cell_type": "markdown",
   "metadata": {},
   "source": [
    "## Exploration"
   ]
  },
  {
   "cell_type": "markdown",
   "metadata": {},
   "source": [
    "Know the datatypes for each column"
   ]
  },
  {
   "cell_type": "code",
   "execution_count": 7,
   "metadata": {},
   "outputs": [
    {
     "data": {
      "text/plain": [
       "sepal_length    float64\n",
       "sepal_width     float64\n",
       "petal_length    float64\n",
       "petal_width     float64\n",
       "class            object\n",
       "dtype: object"
      ]
     },
     "execution_count": 7,
     "metadata": {},
     "output_type": "execute_result"
    }
   ],
   "source": [
    "df.dtypes"
   ]
  },
  {
   "cell_type": "markdown",
   "metadata": {},
   "source": [
    "Print the first three rows"
   ]
  },
  {
   "cell_type": "code",
   "execution_count": 40,
   "metadata": {},
   "outputs": [
    {
     "data": {
      "text/html": [
       "<div>\n",
       "<style scoped>\n",
       "    .dataframe tbody tr th:only-of-type {\n",
       "        vertical-align: middle;\n",
       "    }\n",
       "\n",
       "    .dataframe tbody tr th {\n",
       "        vertical-align: top;\n",
       "    }\n",
       "\n",
       "    .dataframe thead th {\n",
       "        text-align: right;\n",
       "    }\n",
       "</style>\n",
       "<table border=\"1\" class=\"dataframe\">\n",
       "  <thead>\n",
       "    <tr style=\"text-align: right;\">\n",
       "      <th></th>\n",
       "      <th>sepal_length</th>\n",
       "      <th>sepal_width</th>\n",
       "      <th>petal_length</th>\n",
       "      <th>petal_width</th>\n",
       "      <th>class</th>\n",
       "    </tr>\n",
       "  </thead>\n",
       "  <tbody>\n",
       "    <tr>\n",
       "      <th>0</th>\n",
       "      <td>5.1</td>\n",
       "      <td>3.5</td>\n",
       "      <td>1.4</td>\n",
       "      <td>0.2</td>\n",
       "      <td>Iris-setosa</td>\n",
       "    </tr>\n",
       "    <tr>\n",
       "      <th>1</th>\n",
       "      <td>4.9</td>\n",
       "      <td>3.0</td>\n",
       "      <td>1.4</td>\n",
       "      <td>0.2</td>\n",
       "      <td>Iris-setosa</td>\n",
       "    </tr>\n",
       "    <tr>\n",
       "      <th>2</th>\n",
       "      <td>4.7</td>\n",
       "      <td>3.2</td>\n",
       "      <td>1.3</td>\n",
       "      <td>0.2</td>\n",
       "      <td>Iris-setosa</td>\n",
       "    </tr>\n",
       "  </tbody>\n",
       "</table>\n",
       "</div>"
      ],
      "text/plain": [
       "   sepal_length  sepal_width  petal_length  petal_width        class\n",
       "0           5.1          3.5           1.4          0.2  Iris-setosa\n",
       "1           4.9          3.0           1.4          0.2  Iris-setosa\n",
       "2           4.7          3.2           1.3          0.2  Iris-setosa"
      ]
     },
     "execution_count": 40,
     "metadata": {},
     "output_type": "execute_result"
    }
   ],
   "source": [
    "df.head(3)"
   ]
  },
  {
   "cell_type": "code",
   "execution_count": 64,
   "metadata": {
    "scrolled": true
   },
   "outputs": [
    {
     "data": {
      "text/html": [
       "<div>\n",
       "<style scoped>\n",
       "    .dataframe tbody tr th:only-of-type {\n",
       "        vertical-align: middle;\n",
       "    }\n",
       "\n",
       "    .dataframe tbody tr th {\n",
       "        vertical-align: top;\n",
       "    }\n",
       "\n",
       "    .dataframe thead th {\n",
       "        text-align: right;\n",
       "    }\n",
       "</style>\n",
       "<table border=\"1\" class=\"dataframe\">\n",
       "  <thead>\n",
       "    <tr style=\"text-align: right;\">\n",
       "      <th></th>\n",
       "      <th>Park Name</th>\n",
       "      <th>State</th>\n",
       "      <th>Acres</th>\n",
       "      <th>Latitude</th>\n",
       "      <th>Longitude</th>\n",
       "    </tr>\n",
       "    <tr>\n",
       "      <th>Park Code</th>\n",
       "      <th></th>\n",
       "      <th></th>\n",
       "      <th></th>\n",
       "      <th></th>\n",
       "      <th></th>\n",
       "    </tr>\n",
       "  </thead>\n",
       "  <tbody>\n",
       "    <tr>\n",
       "      <th>ACAD</th>\n",
       "      <td>Acadia National Park</td>\n",
       "      <td>ME</td>\n",
       "      <td>47390</td>\n",
       "      <td>44.35</td>\n",
       "      <td>-68.21</td>\n",
       "    </tr>\n",
       "    <tr>\n",
       "      <th>ARCH</th>\n",
       "      <td>Arches National Park</td>\n",
       "      <td>UT</td>\n",
       "      <td>76519</td>\n",
       "      <td>38.68</td>\n",
       "      <td>-109.57</td>\n",
       "    </tr>\n",
       "    <tr>\n",
       "      <th>BADL</th>\n",
       "      <td>Badlands National Park</td>\n",
       "      <td>SD</td>\n",
       "      <td>242756</td>\n",
       "      <td>43.75</td>\n",
       "      <td>-102.50</td>\n",
       "    </tr>\n",
       "  </tbody>\n",
       "</table>\n",
       "</div>"
      ],
      "text/plain": [
       "                        Park Name State   Acres  Latitude  Longitude\n",
       "Park Code                                                           \n",
       "ACAD         Acadia National Park    ME   47390     44.35     -68.21\n",
       "ARCH         Arches National Park    UT   76519     38.68    -109.57\n",
       "BADL       Badlands National Park    SD  242756     43.75    -102.50"
      ]
     },
     "execution_count": 64,
     "metadata": {},
     "output_type": "execute_result"
    }
   ],
   "source": [
    "df_park.head(3)"
   ]
  },
  {
   "cell_type": "markdown",
   "metadata": {},
   "source": [
    "We can get the data behind a variable in different ways, the first one is calling it like an attribute from the object DataFrame. "
   ]
  },
  {
   "cell_type": "code",
   "execution_count": 8,
   "metadata": {
    "scrolled": true
   },
   "outputs": [
    {
     "data": {
      "text/plain": [
       "Park Code\n",
       "ACAD      Acadia National Park\n",
       "ARCH      Arches National Park\n",
       "BADL    Badlands National Park\n",
       "Name: park_name, dtype: object"
      ]
     },
     "execution_count": 8,
     "metadata": {},
     "output_type": "execute_result"
    }
   ],
   "source": [
    "df_park.park_name.head(3)"
   ]
  },
  {
   "cell_type": "markdown",
   "metadata": {},
   "source": [
    "Another way is to calling is like a Python dictionary where each key is the variable's name."
   ]
  },
  {
   "cell_type": "code",
   "execution_count": 9,
   "metadata": {},
   "outputs": [
    {
     "data": {
      "text/plain": [
       "Park Code\n",
       "ACAD      Acadia National Park\n",
       "ARCH      Arches National Park\n",
       "BADL    Badlands National Park\n",
       "Name: park_name, dtype: object"
      ]
     },
     "execution_count": 9,
     "metadata": {},
     "output_type": "execute_result"
    }
   ],
   "source": [
    "df_park['park_name'].head(3)"
   ]
  },
  {
   "cell_type": "markdown",
   "metadata": {},
   "source": [
    "Note that the type of the last data is an object Series."
   ]
  },
  {
   "cell_type": "code",
   "execution_count": 14,
   "metadata": {},
   "outputs": [
    {
     "data": {
      "text/plain": [
       "pandas.core.series.Series"
      ]
     },
     "execution_count": 14,
     "metadata": {},
     "output_type": "execute_result"
    }
   ],
   "source": [
    "type(data['park_name'])"
   ]
  },
  {
   "cell_type": "markdown",
   "metadata": {},
   "source": [
    "Now if we want to get the values in the object Series we can use indexes associated to each register, like this"
   ]
  },
  {
   "cell_type": "code",
   "execution_count": 19,
   "metadata": {},
   "outputs": [
    {
     "name": "stdout",
     "output_type": "stream",
     "text": [
      "<class 'str'>\n"
     ]
    },
    {
     "data": {
      "text/plain": [
       "Park Code\n",
       "ARCH      Arches National Park\n",
       "BADL    Badlands National Park\n",
       "Name: park_name, dtype: object"
      ]
     },
     "execution_count": 19,
     "metadata": {},
     "output_type": "execute_result"
    }
   ],
   "source": [
    "print(type(data['park_name'][0]))\n",
    "data['park_name'][1:3]"
   ]
  },
  {
   "cell_type": "markdown",
   "metadata": {},
   "source": [
    "Get and print a specific row"
   ]
  },
  {
   "cell_type": "code",
   "execution_count": 20,
   "metadata": {},
   "outputs": [
    {
     "data": {
      "text/plain": [
       "park_name    Acadia National Park\n",
       "state                          ME\n",
       "acres                       47390\n",
       "latitude                    44.35\n",
       "longitude                  -68.21\n",
       "Name: ACAD, dtype: object"
      ]
     },
     "execution_count": 20,
     "metadata": {},
     "output_type": "execute_result"
    }
   ],
   "source": [
    "data.iloc[0]"
   ]
  },
  {
   "cell_type": "markdown",
   "metadata": {},
   "source": [
    "Get values through your dataframe's indexes:\n",
    "+ loc() receives a string index or an array of string indexes\n",
    "+ iloc() receives the position index or an array of position indexes (int)\n",
    "\n",
    "The sintax of these methods is [row, column]"
   ]
  },
  {
   "cell_type": "code",
   "execution_count": 24,
   "metadata": {},
   "outputs": [
    {
     "data": {
      "text/plain": [
       "acres       76519\n",
       "latitude    38.68\n",
       "Name: ARCH, dtype: object"
      ]
     },
     "execution_count": 24,
     "metadata": {},
     "output_type": "execute_result"
    }
   ],
   "source": [
    "data.iloc[1,2:4]"
   ]
  },
  {
   "cell_type": "code",
   "execution_count": 25,
   "metadata": {
    "scrolled": true
   },
   "outputs": [
    {
     "data": {
      "text/html": [
       "<div>\n",
       "<style scoped>\n",
       "    .dataframe tbody tr th:only-of-type {\n",
       "        vertical-align: middle;\n",
       "    }\n",
       "\n",
       "    .dataframe tbody tr th {\n",
       "        vertical-align: top;\n",
       "    }\n",
       "\n",
       "    .dataframe thead th {\n",
       "        text-align: right;\n",
       "    }\n",
       "</style>\n",
       "<table border=\"1\" class=\"dataframe\">\n",
       "  <thead>\n",
       "    <tr style=\"text-align: right;\">\n",
       "      <th></th>\n",
       "      <th>state</th>\n",
       "      <th>acres</th>\n",
       "    </tr>\n",
       "    <tr>\n",
       "      <th>Park Code</th>\n",
       "      <th></th>\n",
       "      <th></th>\n",
       "    </tr>\n",
       "  </thead>\n",
       "  <tbody>\n",
       "    <tr>\n",
       "      <th>ARCH</th>\n",
       "      <td>UT</td>\n",
       "      <td>76519</td>\n",
       "    </tr>\n",
       "    <tr>\n",
       "      <th>BADL</th>\n",
       "      <td>SD</td>\n",
       "      <td>242756</td>\n",
       "    </tr>\n",
       "  </tbody>\n",
       "</table>\n",
       "</div>"
      ],
      "text/plain": [
       "          state   acres\n",
       "Park Code              \n",
       "ARCH         UT   76519\n",
       "BADL         SD  242756"
      ]
     },
     "execution_count": 25,
     "metadata": {},
     "output_type": "execute_result"
    }
   ],
   "source": [
    "# it also possible to pass a list\n",
    "data.iloc[1:3, [1,2]]"
   ]
  },
  {
   "cell_type": "code",
   "execution_count": 31,
   "metadata": {},
   "outputs": [
    {
     "data": {
      "text/plain": [
       "Index(['ACAD', 'ARCH', 'BADL', 'BIBE', 'BISC', 'BLCA', 'BRCA', 'CANY', 'CARE',\n",
       "       'CAVE', 'CHIS', 'CONG', 'CRLA', 'CUVA', 'DENA', 'DEVA', 'DRTO', 'EVER',\n",
       "       'GAAR', 'GLAC', 'GLBA', 'GRBA', 'GRCA', 'GRSA', 'GRSM', 'GRTE', 'GUMO',\n",
       "       'HALE', 'HAVO', 'HOSP', 'ISRO', 'JOTR', 'KATM', 'KEFJ', 'KOVA', 'LACL',\n",
       "       'LAVO', 'MACA', 'MEVE', 'MORA', 'NOCA', 'OLYM', 'PEFO', 'PINN', 'REDW',\n",
       "       'ROMO', 'SAGU', 'SEKI', 'SHEN', 'THRO', 'VOYA', 'WICA', 'WRST', 'YELL',\n",
       "       'YOSE', 'ZION'],\n",
       "      dtype='object', name='Park Code')"
      ]
     },
     "execution_count": 31,
     "metadata": {},
     "output_type": "execute_result"
    }
   ],
   "source": [
    "data.index # we got the indexes associated to each register"
   ]
  },
  {
   "cell_type": "code",
   "execution_count": 32,
   "metadata": {},
   "outputs": [
    {
     "data": {
      "text/plain": [
       "44.35"
      ]
     },
     "execution_count": 32,
     "metadata": {},
     "output_type": "execute_result"
    }
   ],
   "source": [
    "data.loc['ACAD', 'latitude']"
   ]
  },
  {
   "cell_type": "code",
   "execution_count": 35,
   "metadata": {},
   "outputs": [
    {
     "name": "stdout",
     "output_type": "stream",
     "text": [
      "park_name    Acadia National Park\n",
      "state                          ME\n",
      "acres                       47390\n",
      "latitude                    44.35\n",
      "longitude                  -68.21\n",
      "Name: ACAD, dtype: object\n",
      "\n",
      "                      park_name state  acres  latitude  longitude\n",
      "Park Code                                                        \n",
      "ACAD       Acadia National Park    ME  47390     44.35     -68.21\n",
      "ARCH       Arches National Park    UT  76519     38.68    -109.57\n",
      "\n",
      "                        park_name state   acres  latitude  longitude\n",
      "Park Code                                                           \n",
      "ARCH         Arches National Park    UT   76519     38.68    -109.57\n",
      "BADL       Badlands National Park    SD  242756     43.75    -102.50\n",
      "\n",
      "           latitude    acres\n",
      "Park Code                   \n",
      "ACAD          44.35    47390\n",
      "ARCH          38.68    76519\n",
      "BADL          43.75   242756\n",
      "BIBE          29.25   801163\n",
      "BISC          25.65   172924\n",
      "BLCA          38.57    32950\n",
      "BRCA          37.57    35835\n",
      "CANY          38.20   337598\n",
      "CARE          38.20   241904\n",
      "CAVE          32.17    46766\n",
      "CHIS          34.01   249561\n",
      "CONG          33.78    26546\n",
      "CRLA          42.94   183224\n",
      "CUVA          41.24    32950\n",
      "DENA          63.33  3372402\n",
      "DEVA          36.24  4740912\n",
      "DRTO          24.63    64701\n",
      "EVER          25.32  1508538\n",
      "GAAR          67.78  7523898\n",
      "GLAC          48.80  1013572\n",
      "GLBA          58.50  3224840\n",
      "GRBA          38.98    77180\n",
      "GRCA          36.06  1217403\n",
      "GRSA          37.73    42984\n",
      "GRSM          35.68   521490\n",
      "GRTE          43.73   309995\n",
      "GUMO          31.92    86416\n",
      "HALE          20.72    29094\n",
      "HAVO          19.38   323431\n",
      "HOSP          34.51     5550\n",
      "ISRO          48.10   571790\n",
      "JOTR          33.79   789745\n",
      "KATM          58.50  3674530\n",
      "KEFJ          59.92   669983\n",
      "KOVA          67.55  1750717\n",
      "LACL          60.97  2619733\n",
      "LAVO          40.49   106372\n",
      "MACA          37.18    52830\n",
      "MEVE          37.18    52122\n",
      "MORA          46.85   235625\n",
      "NOCA          48.70   504781\n",
      "OLYM          47.97   922651\n",
      "PEFO          35.07    93533\n",
      "PINN          36.48    26606\n",
      "REDW          41.30   112512\n",
      "ROMO          40.40   265828\n",
      "SAGU          32.25    91440\n",
      "SEKI          36.43   865952\n",
      "SHEN          38.53   199045\n",
      "THRO          46.97    70447\n",
      "VOYA          48.50   218200\n",
      "WICA          43.57    28295\n",
      "WRST          61.00  8323148\n",
      "YELL          44.60  2219791\n",
      "YOSE          37.83   761266\n",
      "ZION          37.30   146598\n"
     ]
    }
   ],
   "source": [
    "print(df_park.loc[\"ACAD\"])\n",
    "print(\"\")\n",
    "print(df_park.loc[[\"ACAD\",\"ARCH\"]]) # we got two registers associated to ACAD and ARCH\n",
    "print(\"\")\n",
    "print(df_park.iloc[[1,2]])\n",
    "print()\n",
    "print(df_park.loc[:,[\"latitude\", \"acres\"]])"
   ]
  },
  {
   "cell_type": "code",
   "execution_count": 37,
   "metadata": {},
   "outputs": [
    {
     "data": {
      "text/html": [
       "<div>\n",
       "<style scoped>\n",
       "    .dataframe tbody tr th:only-of-type {\n",
       "        vertical-align: middle;\n",
       "    }\n",
       "\n",
       "    .dataframe tbody tr th {\n",
       "        vertical-align: top;\n",
       "    }\n",
       "\n",
       "    .dataframe thead th {\n",
       "        text-align: right;\n",
       "    }\n",
       "</style>\n",
       "<table border=\"1\" class=\"dataframe\">\n",
       "  <thead>\n",
       "    <tr style=\"text-align: right;\">\n",
       "      <th></th>\n",
       "      <th>state</th>\n",
       "      <th>park_name</th>\n",
       "    </tr>\n",
       "    <tr>\n",
       "      <th>Park Code</th>\n",
       "      <th></th>\n",
       "      <th></th>\n",
       "    </tr>\n",
       "  </thead>\n",
       "  <tbody>\n",
       "    <tr>\n",
       "      <th>ARCH</th>\n",
       "      <td>UT</td>\n",
       "      <td>Arches National Park</td>\n",
       "    </tr>\n",
       "    <tr>\n",
       "      <th>BADL</th>\n",
       "      <td>SD</td>\n",
       "      <td>Badlands National Park</td>\n",
       "    </tr>\n",
       "  </tbody>\n",
       "</table>\n",
       "</div>"
      ],
      "text/plain": [
       "          state               park_name\n",
       "Park Code                              \n",
       "ARCH         UT    Arches National Park\n",
       "BADL         SD  Badlands National Park"
      ]
     },
     "execution_count": 37,
     "metadata": {},
     "output_type": "execute_result"
    }
   ],
   "source": [
    "# we can use both methods\n",
    "df_park.iloc[1:3].loc[:,['state','park_name']]"
   ]
  },
  {
   "cell_type": "markdown",
   "metadata": {},
   "source": [
    "We can manipulate the index."
   ]
  },
  {
   "cell_type": "code",
   "execution_count": 41,
   "metadata": {},
   "outputs": [
    {
     "data": {
      "text/html": [
       "<div>\n",
       "<style scoped>\n",
       "    .dataframe tbody tr th:only-of-type {\n",
       "        vertical-align: middle;\n",
       "    }\n",
       "\n",
       "    .dataframe tbody tr th {\n",
       "        vertical-align: top;\n",
       "    }\n",
       "\n",
       "    .dataframe thead th {\n",
       "        text-align: right;\n",
       "    }\n",
       "</style>\n",
       "<table border=\"1\" class=\"dataframe\">\n",
       "  <thead>\n",
       "    <tr style=\"text-align: right;\">\n",
       "      <th></th>\n",
       "      <th>park_name</th>\n",
       "      <th>acres</th>\n",
       "      <th>latitude</th>\n",
       "      <th>longitude</th>\n",
       "    </tr>\n",
       "    <tr>\n",
       "      <th>state</th>\n",
       "      <th></th>\n",
       "      <th></th>\n",
       "      <th></th>\n",
       "      <th></th>\n",
       "    </tr>\n",
       "  </thead>\n",
       "  <tbody>\n",
       "    <tr>\n",
       "      <th>ME</th>\n",
       "      <td>Acadia National Park</td>\n",
       "      <td>47390</td>\n",
       "      <td>44.35</td>\n",
       "      <td>-68.21</td>\n",
       "    </tr>\n",
       "    <tr>\n",
       "      <th>UT</th>\n",
       "      <td>Arches National Park</td>\n",
       "      <td>76519</td>\n",
       "      <td>38.68</td>\n",
       "      <td>-109.57</td>\n",
       "    </tr>\n",
       "    <tr>\n",
       "      <th>SD</th>\n",
       "      <td>Badlands National Park</td>\n",
       "      <td>242756</td>\n",
       "      <td>43.75</td>\n",
       "      <td>-102.50</td>\n",
       "    </tr>\n",
       "    <tr>\n",
       "      <th>TX</th>\n",
       "      <td>Big Bend National Park</td>\n",
       "      <td>801163</td>\n",
       "      <td>29.25</td>\n",
       "      <td>-103.25</td>\n",
       "    </tr>\n",
       "    <tr>\n",
       "      <th>FL</th>\n",
       "      <td>Biscayne National Park</td>\n",
       "      <td>172924</td>\n",
       "      <td>25.65</td>\n",
       "      <td>-80.08</td>\n",
       "    </tr>\n",
       "    <tr>\n",
       "      <th>CO</th>\n",
       "      <td>Black Canyon of the Gunnison National Park</td>\n",
       "      <td>32950</td>\n",
       "      <td>38.57</td>\n",
       "      <td>-107.72</td>\n",
       "    </tr>\n",
       "    <tr>\n",
       "      <th>UT</th>\n",
       "      <td>Bryce Canyon National Park</td>\n",
       "      <td>35835</td>\n",
       "      <td>37.57</td>\n",
       "      <td>-112.18</td>\n",
       "    </tr>\n",
       "    <tr>\n",
       "      <th>UT</th>\n",
       "      <td>Canyonlands National Park</td>\n",
       "      <td>337598</td>\n",
       "      <td>38.20</td>\n",
       "      <td>-109.93</td>\n",
       "    </tr>\n",
       "    <tr>\n",
       "      <th>UT</th>\n",
       "      <td>Capitol Reef National Park</td>\n",
       "      <td>241904</td>\n",
       "      <td>38.20</td>\n",
       "      <td>-111.17</td>\n",
       "    </tr>\n",
       "    <tr>\n",
       "      <th>NM</th>\n",
       "      <td>Carlsbad Caverns National Park</td>\n",
       "      <td>46766</td>\n",
       "      <td>32.17</td>\n",
       "      <td>-104.44</td>\n",
       "    </tr>\n",
       "    <tr>\n",
       "      <th>CA</th>\n",
       "      <td>Channel Islands National Park</td>\n",
       "      <td>249561</td>\n",
       "      <td>34.01</td>\n",
       "      <td>-119.42</td>\n",
       "    </tr>\n",
       "    <tr>\n",
       "      <th>SC</th>\n",
       "      <td>Congaree National Park</td>\n",
       "      <td>26546</td>\n",
       "      <td>33.78</td>\n",
       "      <td>-80.78</td>\n",
       "    </tr>\n",
       "    <tr>\n",
       "      <th>OR</th>\n",
       "      <td>Crater Lake National Park</td>\n",
       "      <td>183224</td>\n",
       "      <td>42.94</td>\n",
       "      <td>-122.10</td>\n",
       "    </tr>\n",
       "    <tr>\n",
       "      <th>OH</th>\n",
       "      <td>Cuyahoga Valley National Park</td>\n",
       "      <td>32950</td>\n",
       "      <td>41.24</td>\n",
       "      <td>-81.55</td>\n",
       "    </tr>\n",
       "    <tr>\n",
       "      <th>AK</th>\n",
       "      <td>Denali National Park and Preserve</td>\n",
       "      <td>3372402</td>\n",
       "      <td>63.33</td>\n",
       "      <td>-150.50</td>\n",
       "    </tr>\n",
       "    <tr>\n",
       "      <th>CA, NV</th>\n",
       "      <td>Death Valley National Park</td>\n",
       "      <td>4740912</td>\n",
       "      <td>36.24</td>\n",
       "      <td>-116.82</td>\n",
       "    </tr>\n",
       "    <tr>\n",
       "      <th>FL</th>\n",
       "      <td>Dry Tortugas National Park</td>\n",
       "      <td>64701</td>\n",
       "      <td>24.63</td>\n",
       "      <td>-82.87</td>\n",
       "    </tr>\n",
       "    <tr>\n",
       "      <th>FL</th>\n",
       "      <td>Everglades National Park</td>\n",
       "      <td>1508538</td>\n",
       "      <td>25.32</td>\n",
       "      <td>-80.93</td>\n",
       "    </tr>\n",
       "    <tr>\n",
       "      <th>AK</th>\n",
       "      <td>Gates Of The Arctic National Park and Preserve</td>\n",
       "      <td>7523898</td>\n",
       "      <td>67.78</td>\n",
       "      <td>-153.30</td>\n",
       "    </tr>\n",
       "    <tr>\n",
       "      <th>MT</th>\n",
       "      <td>Glacier National Park</td>\n",
       "      <td>1013572</td>\n",
       "      <td>48.80</td>\n",
       "      <td>-114.00</td>\n",
       "    </tr>\n",
       "    <tr>\n",
       "      <th>AK</th>\n",
       "      <td>Glacier Bay National Park and Preserve</td>\n",
       "      <td>3224840</td>\n",
       "      <td>58.50</td>\n",
       "      <td>-137.00</td>\n",
       "    </tr>\n",
       "    <tr>\n",
       "      <th>NV</th>\n",
       "      <td>Great Basin National Park</td>\n",
       "      <td>77180</td>\n",
       "      <td>38.98</td>\n",
       "      <td>-114.30</td>\n",
       "    </tr>\n",
       "    <tr>\n",
       "      <th>AZ</th>\n",
       "      <td>Grand Canyon National Park</td>\n",
       "      <td>1217403</td>\n",
       "      <td>36.06</td>\n",
       "      <td>-112.14</td>\n",
       "    </tr>\n",
       "    <tr>\n",
       "      <th>CO</th>\n",
       "      <td>Great Sand Dunes National Park and Preserve</td>\n",
       "      <td>42984</td>\n",
       "      <td>37.73</td>\n",
       "      <td>-105.51</td>\n",
       "    </tr>\n",
       "    <tr>\n",
       "      <th>TN, NC</th>\n",
       "      <td>Great Smoky Mountains National Park</td>\n",
       "      <td>521490</td>\n",
       "      <td>35.68</td>\n",
       "      <td>-83.53</td>\n",
       "    </tr>\n",
       "    <tr>\n",
       "      <th>WY</th>\n",
       "      <td>Grand Teton National Park</td>\n",
       "      <td>309995</td>\n",
       "      <td>43.73</td>\n",
       "      <td>-110.80</td>\n",
       "    </tr>\n",
       "    <tr>\n",
       "      <th>TX</th>\n",
       "      <td>Guadalupe Mountains National Park</td>\n",
       "      <td>86416</td>\n",
       "      <td>31.92</td>\n",
       "      <td>-104.87</td>\n",
       "    </tr>\n",
       "    <tr>\n",
       "      <th>HI</th>\n",
       "      <td>Haleakala National Park</td>\n",
       "      <td>29094</td>\n",
       "      <td>20.72</td>\n",
       "      <td>-156.17</td>\n",
       "    </tr>\n",
       "    <tr>\n",
       "      <th>HI</th>\n",
       "      <td>Hawaii Volcanoes National Park</td>\n",
       "      <td>323431</td>\n",
       "      <td>19.38</td>\n",
       "      <td>-155.20</td>\n",
       "    </tr>\n",
       "    <tr>\n",
       "      <th>AR</th>\n",
       "      <td>Hot Springs National Park</td>\n",
       "      <td>5550</td>\n",
       "      <td>34.51</td>\n",
       "      <td>-93.05</td>\n",
       "    </tr>\n",
       "    <tr>\n",
       "      <th>MI</th>\n",
       "      <td>Isle Royale National Park</td>\n",
       "      <td>571790</td>\n",
       "      <td>48.10</td>\n",
       "      <td>-88.55</td>\n",
       "    </tr>\n",
       "    <tr>\n",
       "      <th>CA</th>\n",
       "      <td>Joshua Tree National Park</td>\n",
       "      <td>789745</td>\n",
       "      <td>33.79</td>\n",
       "      <td>-115.90</td>\n",
       "    </tr>\n",
       "    <tr>\n",
       "      <th>AK</th>\n",
       "      <td>Katmai National Park and Preserve</td>\n",
       "      <td>3674530</td>\n",
       "      <td>58.50</td>\n",
       "      <td>-155.00</td>\n",
       "    </tr>\n",
       "    <tr>\n",
       "      <th>AK</th>\n",
       "      <td>Kenai Fjords National Park</td>\n",
       "      <td>669983</td>\n",
       "      <td>59.92</td>\n",
       "      <td>-149.65</td>\n",
       "    </tr>\n",
       "    <tr>\n",
       "      <th>AK</th>\n",
       "      <td>Kobuk Valley National Park</td>\n",
       "      <td>1750717</td>\n",
       "      <td>67.55</td>\n",
       "      <td>-159.28</td>\n",
       "    </tr>\n",
       "    <tr>\n",
       "      <th>AK</th>\n",
       "      <td>Lake Clark National Park and Preserve</td>\n",
       "      <td>2619733</td>\n",
       "      <td>60.97</td>\n",
       "      <td>-153.42</td>\n",
       "    </tr>\n",
       "    <tr>\n",
       "      <th>CA</th>\n",
       "      <td>Lassen Volcanic National Park</td>\n",
       "      <td>106372</td>\n",
       "      <td>40.49</td>\n",
       "      <td>-121.51</td>\n",
       "    </tr>\n",
       "    <tr>\n",
       "      <th>KY</th>\n",
       "      <td>Mammoth Cave National Park</td>\n",
       "      <td>52830</td>\n",
       "      <td>37.18</td>\n",
       "      <td>-86.10</td>\n",
       "    </tr>\n",
       "    <tr>\n",
       "      <th>CO</th>\n",
       "      <td>Mesa Verde National Park</td>\n",
       "      <td>52122</td>\n",
       "      <td>37.18</td>\n",
       "      <td>-108.49</td>\n",
       "    </tr>\n",
       "    <tr>\n",
       "      <th>WA</th>\n",
       "      <td>Mount Rainier National Park</td>\n",
       "      <td>235625</td>\n",
       "      <td>46.85</td>\n",
       "      <td>-121.75</td>\n",
       "    </tr>\n",
       "    <tr>\n",
       "      <th>WA</th>\n",
       "      <td>North Cascades National Park</td>\n",
       "      <td>504781</td>\n",
       "      <td>48.70</td>\n",
       "      <td>-121.20</td>\n",
       "    </tr>\n",
       "    <tr>\n",
       "      <th>WA</th>\n",
       "      <td>Olympic National Park</td>\n",
       "      <td>922651</td>\n",
       "      <td>47.97</td>\n",
       "      <td>-123.50</td>\n",
       "    </tr>\n",
       "    <tr>\n",
       "      <th>AZ</th>\n",
       "      <td>Petrified Forest National Park</td>\n",
       "      <td>93533</td>\n",
       "      <td>35.07</td>\n",
       "      <td>-109.78</td>\n",
       "    </tr>\n",
       "    <tr>\n",
       "      <th>CA</th>\n",
       "      <td>Pinnacles National Park</td>\n",
       "      <td>26606</td>\n",
       "      <td>36.48</td>\n",
       "      <td>-121.16</td>\n",
       "    </tr>\n",
       "    <tr>\n",
       "      <th>CA</th>\n",
       "      <td>Redwood National Park</td>\n",
       "      <td>112512</td>\n",
       "      <td>41.30</td>\n",
       "      <td>-124.00</td>\n",
       "    </tr>\n",
       "    <tr>\n",
       "      <th>CO</th>\n",
       "      <td>Rocky Mountain National Park</td>\n",
       "      <td>265828</td>\n",
       "      <td>40.40</td>\n",
       "      <td>-105.58</td>\n",
       "    </tr>\n",
       "    <tr>\n",
       "      <th>AZ</th>\n",
       "      <td>Saguaro National Park</td>\n",
       "      <td>91440</td>\n",
       "      <td>32.25</td>\n",
       "      <td>-110.50</td>\n",
       "    </tr>\n",
       "    <tr>\n",
       "      <th>CA</th>\n",
       "      <td>Sequoia and Kings Canyon National Parks</td>\n",
       "      <td>865952</td>\n",
       "      <td>36.43</td>\n",
       "      <td>-118.68</td>\n",
       "    </tr>\n",
       "    <tr>\n",
       "      <th>VA</th>\n",
       "      <td>Shenandoah National Park</td>\n",
       "      <td>199045</td>\n",
       "      <td>38.53</td>\n",
       "      <td>-78.35</td>\n",
       "    </tr>\n",
       "    <tr>\n",
       "      <th>ND</th>\n",
       "      <td>Theodore Roosevelt National Park</td>\n",
       "      <td>70447</td>\n",
       "      <td>46.97</td>\n",
       "      <td>-103.45</td>\n",
       "    </tr>\n",
       "    <tr>\n",
       "      <th>MN</th>\n",
       "      <td>Voyageurs National Park</td>\n",
       "      <td>218200</td>\n",
       "      <td>48.50</td>\n",
       "      <td>-92.88</td>\n",
       "    </tr>\n",
       "    <tr>\n",
       "      <th>SD</th>\n",
       "      <td>Wind Cave National Park</td>\n",
       "      <td>28295</td>\n",
       "      <td>43.57</td>\n",
       "      <td>-103.48</td>\n",
       "    </tr>\n",
       "    <tr>\n",
       "      <th>AK</th>\n",
       "      <td>Wrangell - St Elias National Park and Preserve</td>\n",
       "      <td>8323148</td>\n",
       "      <td>61.00</td>\n",
       "      <td>-142.00</td>\n",
       "    </tr>\n",
       "    <tr>\n",
       "      <th>WY, MT, ID</th>\n",
       "      <td>Yellowstone National Park</td>\n",
       "      <td>2219791</td>\n",
       "      <td>44.60</td>\n",
       "      <td>-110.50</td>\n",
       "    </tr>\n",
       "    <tr>\n",
       "      <th>CA</th>\n",
       "      <td>Yosemite National Park</td>\n",
       "      <td>761266</td>\n",
       "      <td>37.83</td>\n",
       "      <td>-119.50</td>\n",
       "    </tr>\n",
       "    <tr>\n",
       "      <th>UT</th>\n",
       "      <td>Zion National Park</td>\n",
       "      <td>146598</td>\n",
       "      <td>37.30</td>\n",
       "      <td>-113.05</td>\n",
       "    </tr>\n",
       "  </tbody>\n",
       "</table>\n",
       "</div>"
      ],
      "text/plain": [
       "                                                 park_name    acres  latitude  \\\n",
       "state                                                                           \n",
       "ME                                    Acadia National Park    47390     44.35   \n",
       "UT                                    Arches National Park    76519     38.68   \n",
       "SD                                  Badlands National Park   242756     43.75   \n",
       "TX                                  Big Bend National Park   801163     29.25   \n",
       "FL                                  Biscayne National Park   172924     25.65   \n",
       "CO              Black Canyon of the Gunnison National Park    32950     38.57   \n",
       "UT                              Bryce Canyon National Park    35835     37.57   \n",
       "UT                               Canyonlands National Park   337598     38.20   \n",
       "UT                              Capitol Reef National Park   241904     38.20   \n",
       "NM                          Carlsbad Caverns National Park    46766     32.17   \n",
       "CA                           Channel Islands National Park   249561     34.01   \n",
       "SC                                  Congaree National Park    26546     33.78   \n",
       "OR                               Crater Lake National Park   183224     42.94   \n",
       "OH                           Cuyahoga Valley National Park    32950     41.24   \n",
       "AK                       Denali National Park and Preserve  3372402     63.33   \n",
       "CA, NV                          Death Valley National Park  4740912     36.24   \n",
       "FL                              Dry Tortugas National Park    64701     24.63   \n",
       "FL                                Everglades National Park  1508538     25.32   \n",
       "AK          Gates Of The Arctic National Park and Preserve  7523898     67.78   \n",
       "MT                                   Glacier National Park  1013572     48.80   \n",
       "AK                  Glacier Bay National Park and Preserve  3224840     58.50   \n",
       "NV                               Great Basin National Park    77180     38.98   \n",
       "AZ                              Grand Canyon National Park  1217403     36.06   \n",
       "CO             Great Sand Dunes National Park and Preserve    42984     37.73   \n",
       "TN, NC                 Great Smoky Mountains National Park   521490     35.68   \n",
       "WY                               Grand Teton National Park   309995     43.73   \n",
       "TX                       Guadalupe Mountains National Park    86416     31.92   \n",
       "HI                                 Haleakala National Park    29094     20.72   \n",
       "HI                          Hawaii Volcanoes National Park   323431     19.38   \n",
       "AR                               Hot Springs National Park     5550     34.51   \n",
       "MI                               Isle Royale National Park   571790     48.10   \n",
       "CA                               Joshua Tree National Park   789745     33.79   \n",
       "AK                       Katmai National Park and Preserve  3674530     58.50   \n",
       "AK                              Kenai Fjords National Park   669983     59.92   \n",
       "AK                              Kobuk Valley National Park  1750717     67.55   \n",
       "AK                   Lake Clark National Park and Preserve  2619733     60.97   \n",
       "CA                           Lassen Volcanic National Park   106372     40.49   \n",
       "KY                              Mammoth Cave National Park    52830     37.18   \n",
       "CO                                Mesa Verde National Park    52122     37.18   \n",
       "WA                             Mount Rainier National Park   235625     46.85   \n",
       "WA                            North Cascades National Park   504781     48.70   \n",
       "WA                                   Olympic National Park   922651     47.97   \n",
       "AZ                          Petrified Forest National Park    93533     35.07   \n",
       "CA                                 Pinnacles National Park    26606     36.48   \n",
       "CA                                   Redwood National Park   112512     41.30   \n",
       "CO                            Rocky Mountain National Park   265828     40.40   \n",
       "AZ                                   Saguaro National Park    91440     32.25   \n",
       "CA                 Sequoia and Kings Canyon National Parks   865952     36.43   \n",
       "VA                                Shenandoah National Park   199045     38.53   \n",
       "ND                        Theodore Roosevelt National Park    70447     46.97   \n",
       "MN                                 Voyageurs National Park   218200     48.50   \n",
       "SD                                 Wind Cave National Park    28295     43.57   \n",
       "AK          Wrangell - St Elias National Park and Preserve  8323148     61.00   \n",
       "WY, MT, ID                       Yellowstone National Park  2219791     44.60   \n",
       "CA                                  Yosemite National Park   761266     37.83   \n",
       "UT                                      Zion National Park   146598     37.30   \n",
       "\n",
       "            longitude  \n",
       "state                  \n",
       "ME             -68.21  \n",
       "UT            -109.57  \n",
       "SD            -102.50  \n",
       "TX            -103.25  \n",
       "FL             -80.08  \n",
       "CO            -107.72  \n",
       "UT            -112.18  \n",
       "UT            -109.93  \n",
       "UT            -111.17  \n",
       "NM            -104.44  \n",
       "CA            -119.42  \n",
       "SC             -80.78  \n",
       "OR            -122.10  \n",
       "OH             -81.55  \n",
       "AK            -150.50  \n",
       "CA, NV        -116.82  \n",
       "FL             -82.87  \n",
       "FL             -80.93  \n",
       "AK            -153.30  \n",
       "MT            -114.00  \n",
       "AK            -137.00  \n",
       "NV            -114.30  \n",
       "AZ            -112.14  \n",
       "CO            -105.51  \n",
       "TN, NC         -83.53  \n",
       "WY            -110.80  \n",
       "TX            -104.87  \n",
       "HI            -156.17  \n",
       "HI            -155.20  \n",
       "AR             -93.05  \n",
       "MI             -88.55  \n",
       "CA            -115.90  \n",
       "AK            -155.00  \n",
       "AK            -149.65  \n",
       "AK            -159.28  \n",
       "AK            -153.42  \n",
       "CA            -121.51  \n",
       "KY             -86.10  \n",
       "CO            -108.49  \n",
       "WA            -121.75  \n",
       "WA            -121.20  \n",
       "WA            -123.50  \n",
       "AZ            -109.78  \n",
       "CA            -121.16  \n",
       "CA            -124.00  \n",
       "CO            -105.58  \n",
       "AZ            -110.50  \n",
       "CA            -118.68  \n",
       "VA             -78.35  \n",
       "ND            -103.45  \n",
       "MN             -92.88  \n",
       "SD            -103.48  \n",
       "AK            -142.00  \n",
       "WY, MT, ID    -110.50  \n",
       "CA            -119.50  \n",
       "UT            -113.05  "
      ]
     },
     "execution_count": 41,
     "metadata": {},
     "output_type": "execute_result"
    }
   ],
   "source": [
    "df_park.set_index('state')"
   ]
  },
  {
   "cell_type": "markdown",
   "metadata": {},
   "source": [
    "The next lines determine the number of rows and columns in the dataset, the specific number of rows and how get the column names.\n"
   ]
  },
  {
   "cell_type": "code",
   "execution_count": 89,
   "metadata": {},
   "outputs": [
    {
     "name": "stdout",
     "output_type": "stream",
     "text": [
      "(150, 5)\n",
      "\n",
      "150\n",
      "\n",
      "Index(['Park Name', 'State', 'Acres', 'Latitude', 'Longitude'], dtype='object')\n",
      "\n",
      "Index(['sepal_length', 'sepal_width', 'petal_length', 'petal_width', 'class'], dtype='object')\n"
     ]
    }
   ],
   "source": [
    "print(df.shape)\n",
    "print(\"\")\n",
    "print(len(df))\n",
    "print(\"\")\n",
    "print(df_park.columns)\n",
    "print(\"\")\n",
    "print(df.columns)"
   ]
  },
  {
   "cell_type": "markdown",
   "metadata": {},
   "source": [
    "Get the data by column name and the number of rows to display"
   ]
  },
  {
   "cell_type": "code",
   "execution_count": 94,
   "metadata": {},
   "outputs": [
    {
     "name": "stdout",
     "output_type": "stream",
     "text": [
      "Park Code\n",
      "ACAD    ME\n",
      "ARCH    UT\n",
      "Name: State, dtype: object\n",
      "\n",
      "0    5.1\n",
      "1    4.9\n",
      "2    4.7\n",
      "3    4.6\n",
      "4    5.0\n",
      "Name: sepal_length, dtype: float64\n",
      "\n",
      "Park Code\n",
      "ACAD    47390\n",
      "ARCH    76519\n",
      "Name: Acres, dtype: int64\n"
     ]
    }
   ],
   "source": [
    "print(df_park['State'][:2])\n",
    "print(\"\")\n",
    "print(df['sepal_length'][:5])\n",
    "print(\"\")\n",
    "#see how the columns are maped in the data_frame and how we can call it\n",
    "print(df_park.Acres.head(2))"
   ]
  },
  {
   "cell_type": "markdown",
   "metadata": {},
   "source": [
    "In our dataset of parks the column \"Park Name\" has a space separator between the words, one recommendation is to have a simple words connected by a character, for example we will use _ in the next code:"
   ]
  },
  {
   "cell_type": "code",
   "execution_count": 65,
   "metadata": {},
   "outputs": [
    {
     "name": "stdout",
     "output_type": "stream",
     "text": [
      "Index(['park_name', 'state', 'acres', 'latitude', 'longitude'], dtype='object')\n"
     ]
    }
   ],
   "source": [
    "df_park.columns = [col.replace(' ','_').lower() for col in df_park.columns]\n",
    "print(df_park.columns)"
   ]
  },
  {
   "cell_type": "markdown",
   "metadata": {},
   "source": [
    "If you need a subset of your data we can use the above methods, for example"
   ]
  },
  {
   "cell_type": "code",
   "execution_count": 6,
   "metadata": {},
   "outputs": [
    {
     "data": {
      "text/html": [
       "<div>\n",
       "<style scoped>\n",
       "    .dataframe tbody tr th:only-of-type {\n",
       "        vertical-align: middle;\n",
       "    }\n",
       "\n",
       "    .dataframe tbody tr th {\n",
       "        vertical-align: top;\n",
       "    }\n",
       "\n",
       "    .dataframe thead th {\n",
       "        text-align: right;\n",
       "    }\n",
       "</style>\n",
       "<table border=\"1\" class=\"dataframe\">\n",
       "  <thead>\n",
       "    <tr style=\"text-align: right;\">\n",
       "      <th></th>\n",
       "      <th>state</th>\n",
       "      <th>acres</th>\n",
       "    </tr>\n",
       "    <tr>\n",
       "      <th>Park Code</th>\n",
       "      <th></th>\n",
       "      <th></th>\n",
       "    </tr>\n",
       "  </thead>\n",
       "  <tbody>\n",
       "    <tr>\n",
       "      <th>ACAD</th>\n",
       "      <td>ME</td>\n",
       "      <td>47390</td>\n",
       "    </tr>\n",
       "    <tr>\n",
       "      <th>ARCH</th>\n",
       "      <td>UT</td>\n",
       "      <td>76519</td>\n",
       "    </tr>\n",
       "    <tr>\n",
       "      <th>BADL</th>\n",
       "      <td>SD</td>\n",
       "      <td>242756</td>\n",
       "    </tr>\n",
       "  </tbody>\n",
       "</table>\n",
       "</div>"
      ],
      "text/plain": [
       "          state   acres\n",
       "Park Code              \n",
       "ACAD         ME   47390\n",
       "ARCH         UT   76519\n",
       "BADL         SD  242756"
      ]
     },
     "execution_count": 6,
     "metadata": {},
     "output_type": "execute_result"
    }
   ],
   "source": [
    "df_park[['state','acres']][:3]"
   ]
  },
  {
   "cell_type": "markdown",
   "metadata": {},
   "source": [
    "Get and print a specific value in a row and column"
   ]
  },
  {
   "cell_type": "code",
   "execution_count": 13,
   "metadata": {},
   "outputs": [
    {
     "name": "stdout",
     "output_type": "stream",
     "text": [
      "SD\n",
      "-----\n",
      "Park Code\n",
      "BADL    SD\n",
      "Name: state, dtype: object\n"
     ]
    }
   ],
   "source": [
    "print(df_park.state.iloc[2]) # note again that you can call the column and next use iloc method\n",
    "print(\"-----\")\n",
    "print(df_park.state.iloc[[2]]) # it is totally different from the previous example, note that you are printing the object propierties"
   ]
  },
  {
   "cell_type": "markdown",
   "metadata": {},
   "source": [
    "Filtering the data by conditions through the columns and the values in rows (Similar to R)"
   ]
  },
  {
   "cell_type": "code",
   "execution_count": 15,
   "metadata": {
    "scrolled": true
   },
   "outputs": [
    {
     "data": {
      "text/html": [
       "<div>\n",
       "<style scoped>\n",
       "    .dataframe tbody tr th:only-of-type {\n",
       "        vertical-align: middle;\n",
       "    }\n",
       "\n",
       "    .dataframe tbody tr th {\n",
       "        vertical-align: top;\n",
       "    }\n",
       "\n",
       "    .dataframe thead th {\n",
       "        text-align: right;\n",
       "    }\n",
       "</style>\n",
       "<table border=\"1\" class=\"dataframe\">\n",
       "  <thead>\n",
       "    <tr style=\"text-align: right;\">\n",
       "      <th></th>\n",
       "      <th>park_name</th>\n",
       "      <th>state</th>\n",
       "      <th>acres</th>\n",
       "      <th>latitude</th>\n",
       "      <th>longitude</th>\n",
       "    </tr>\n",
       "    <tr>\n",
       "      <th>Park Code</th>\n",
       "      <th></th>\n",
       "      <th></th>\n",
       "      <th></th>\n",
       "      <th></th>\n",
       "      <th></th>\n",
       "    </tr>\n",
       "  </thead>\n",
       "  <tbody>\n",
       "    <tr>\n",
       "      <th>ARCH</th>\n",
       "      <td>Arches National Park</td>\n",
       "      <td>UT</td>\n",
       "      <td>76519</td>\n",
       "      <td>38.68</td>\n",
       "      <td>-109.57</td>\n",
       "    </tr>\n",
       "    <tr>\n",
       "      <th>BRCA</th>\n",
       "      <td>Bryce Canyon National Park</td>\n",
       "      <td>UT</td>\n",
       "      <td>35835</td>\n",
       "      <td>37.57</td>\n",
       "      <td>-112.18</td>\n",
       "    </tr>\n",
       "    <tr>\n",
       "      <th>CANY</th>\n",
       "      <td>Canyonlands National Park</td>\n",
       "      <td>UT</td>\n",
       "      <td>337598</td>\n",
       "      <td>38.20</td>\n",
       "      <td>-109.93</td>\n",
       "    </tr>\n",
       "    <tr>\n",
       "      <th>CARE</th>\n",
       "      <td>Capitol Reef National Park</td>\n",
       "      <td>UT</td>\n",
       "      <td>241904</td>\n",
       "      <td>38.20</td>\n",
       "      <td>-111.17</td>\n",
       "    </tr>\n",
       "    <tr>\n",
       "      <th>ZION</th>\n",
       "      <td>Zion National Park</td>\n",
       "      <td>UT</td>\n",
       "      <td>146598</td>\n",
       "      <td>37.30</td>\n",
       "      <td>-113.05</td>\n",
       "    </tr>\n",
       "  </tbody>\n",
       "</table>\n",
       "</div>"
      ],
      "text/plain": [
       "                            park_name state   acres  latitude  longitude\n",
       "Park Code                                                               \n",
       "ARCH             Arches National Park    UT   76519     38.68    -109.57\n",
       "BRCA       Bryce Canyon National Park    UT   35835     37.57    -112.18\n",
       "CANY        Canyonlands National Park    UT  337598     38.20    -109.93\n",
       "CARE       Capitol Reef National Park    UT  241904     38.20    -111.17\n",
       "ZION               Zion National Park    UT  146598     37.30    -113.05"
      ]
     },
     "execution_count": 15,
     "metadata": {},
     "output_type": "execute_result"
    }
   ],
   "source": [
    "df_park[df_park.state == 'UT']"
   ]
  },
  {
   "cell_type": "markdown",
   "metadata": {},
   "source": [
    "#### Conditional selection"
   ]
  },
  {
   "cell_type": "markdown",
   "metadata": {},
   "source": [
    "Some logical operators are:\n",
    "\n",
    "+ ~ it is \"not\"\n",
    "+ | it is \"or\"\n",
    "+ & it is \"and\""
   ]
  },
  {
   "cell_type": "code",
   "execution_count": 16,
   "metadata": {
    "scrolled": true
   },
   "outputs": [
    {
     "data": {
      "text/html": [
       "<div>\n",
       "<style scoped>\n",
       "    .dataframe tbody tr th:only-of-type {\n",
       "        vertical-align: middle;\n",
       "    }\n",
       "\n",
       "    .dataframe tbody tr th {\n",
       "        vertical-align: top;\n",
       "    }\n",
       "\n",
       "    .dataframe thead th {\n",
       "        text-align: right;\n",
       "    }\n",
       "</style>\n",
       "<table border=\"1\" class=\"dataframe\">\n",
       "  <thead>\n",
       "    <tr style=\"text-align: right;\">\n",
       "      <th></th>\n",
       "      <th>park_name</th>\n",
       "      <th>state</th>\n",
       "      <th>acres</th>\n",
       "      <th>latitude</th>\n",
       "      <th>longitude</th>\n",
       "    </tr>\n",
       "    <tr>\n",
       "      <th>Park Code</th>\n",
       "      <th></th>\n",
       "      <th></th>\n",
       "      <th></th>\n",
       "      <th></th>\n",
       "      <th></th>\n",
       "    </tr>\n",
       "  </thead>\n",
       "  <tbody>\n",
       "    <tr>\n",
       "      <th>DENA</th>\n",
       "      <td>Denali National Park and Preserve</td>\n",
       "      <td>AK</td>\n",
       "      <td>3372402</td>\n",
       "      <td>63.33</td>\n",
       "      <td>-150.50</td>\n",
       "    </tr>\n",
       "    <tr>\n",
       "      <th>DEVA</th>\n",
       "      <td>Death Valley National Park</td>\n",
       "      <td>CA, NV</td>\n",
       "      <td>4740912</td>\n",
       "      <td>36.24</td>\n",
       "      <td>-116.82</td>\n",
       "    </tr>\n",
       "    <tr>\n",
       "      <th>EVER</th>\n",
       "      <td>Everglades National Park</td>\n",
       "      <td>FL</td>\n",
       "      <td>1508538</td>\n",
       "      <td>25.32</td>\n",
       "      <td>-80.93</td>\n",
       "    </tr>\n",
       "  </tbody>\n",
       "</table>\n",
       "</div>"
      ],
      "text/plain": [
       "                                   park_name   state    acres  latitude  \\\n",
       "Park Code                                                                 \n",
       "DENA       Denali National Park and Preserve      AK  3372402     63.33   \n",
       "DEVA              Death Valley National Park  CA, NV  4740912     36.24   \n",
       "EVER                Everglades National Park      FL  1508538     25.32   \n",
       "\n",
       "           longitude  \n",
       "Park Code             \n",
       "DENA         -150.50  \n",
       "DEVA         -116.82  \n",
       "EVER          -80.93  "
      ]
     },
     "execution_count": 16,
     "metadata": {},
     "output_type": "execute_result"
    }
   ],
   "source": [
    "df_park[(df_park.latitude > 60) | (df_park.acres > (10**6))].head(3)"
   ]
  },
  {
   "cell_type": "markdown",
   "metadata": {},
   "source": [
    "#### Other logical operators "
   ]
  },
  {
   "cell_type": "code",
   "execution_count": 7,
   "metadata": {},
   "outputs": [
    {
     "data": {
      "text/html": [
       "<div>\n",
       "<style scoped>\n",
       "    .dataframe tbody tr th:only-of-type {\n",
       "        vertical-align: middle;\n",
       "    }\n",
       "\n",
       "    .dataframe tbody tr th {\n",
       "        vertical-align: top;\n",
       "    }\n",
       "\n",
       "    .dataframe thead th {\n",
       "        text-align: right;\n",
       "    }\n",
       "</style>\n",
       "<table border=\"1\" class=\"dataframe\">\n",
       "  <thead>\n",
       "    <tr style=\"text-align: right;\">\n",
       "      <th></th>\n",
       "      <th>park_name</th>\n",
       "      <th>state</th>\n",
       "      <th>acres</th>\n",
       "      <th>latitude</th>\n",
       "      <th>longitude</th>\n",
       "    </tr>\n",
       "    <tr>\n",
       "      <th>Park Code</th>\n",
       "      <th></th>\n",
       "      <th></th>\n",
       "      <th></th>\n",
       "      <th></th>\n",
       "      <th></th>\n",
       "    </tr>\n",
       "  </thead>\n",
       "  <tbody>\n",
       "    <tr>\n",
       "      <th>CHIS</th>\n",
       "      <td>Channel Islands National Park</td>\n",
       "      <td>CA</td>\n",
       "      <td>249561</td>\n",
       "      <td>34.01</td>\n",
       "      <td>-119.42</td>\n",
       "    </tr>\n",
       "    <tr>\n",
       "      <th>DENA</th>\n",
       "      <td>Denali National Park and Preserve</td>\n",
       "      <td>AK</td>\n",
       "      <td>3372402</td>\n",
       "      <td>63.33</td>\n",
       "      <td>-150.50</td>\n",
       "    </tr>\n",
       "    <tr>\n",
       "      <th>GAAR</th>\n",
       "      <td>Gates Of The Arctic National Park and Preserve</td>\n",
       "      <td>AK</td>\n",
       "      <td>7523898</td>\n",
       "      <td>67.78</td>\n",
       "      <td>-153.30</td>\n",
       "    </tr>\n",
       "    <tr>\n",
       "      <th>GLBA</th>\n",
       "      <td>Glacier Bay National Park and Preserve</td>\n",
       "      <td>AK</td>\n",
       "      <td>3224840</td>\n",
       "      <td>58.50</td>\n",
       "      <td>-137.00</td>\n",
       "    </tr>\n",
       "    <tr>\n",
       "      <th>JOTR</th>\n",
       "      <td>Joshua Tree National Park</td>\n",
       "      <td>CA</td>\n",
       "      <td>789745</td>\n",
       "      <td>33.79</td>\n",
       "      <td>-115.90</td>\n",
       "    </tr>\n",
       "    <tr>\n",
       "      <th>KATM</th>\n",
       "      <td>Katmai National Park and Preserve</td>\n",
       "      <td>AK</td>\n",
       "      <td>3674530</td>\n",
       "      <td>58.50</td>\n",
       "      <td>-155.00</td>\n",
       "    </tr>\n",
       "    <tr>\n",
       "      <th>KEFJ</th>\n",
       "      <td>Kenai Fjords National Park</td>\n",
       "      <td>AK</td>\n",
       "      <td>669983</td>\n",
       "      <td>59.92</td>\n",
       "      <td>-149.65</td>\n",
       "    </tr>\n",
       "    <tr>\n",
       "      <th>KOVA</th>\n",
       "      <td>Kobuk Valley National Park</td>\n",
       "      <td>AK</td>\n",
       "      <td>1750717</td>\n",
       "      <td>67.55</td>\n",
       "      <td>-159.28</td>\n",
       "    </tr>\n",
       "    <tr>\n",
       "      <th>LACL</th>\n",
       "      <td>Lake Clark National Park and Preserve</td>\n",
       "      <td>AK</td>\n",
       "      <td>2619733</td>\n",
       "      <td>60.97</td>\n",
       "      <td>-153.42</td>\n",
       "    </tr>\n",
       "    <tr>\n",
       "      <th>LAVO</th>\n",
       "      <td>Lassen Volcanic National Park</td>\n",
       "      <td>CA</td>\n",
       "      <td>106372</td>\n",
       "      <td>40.49</td>\n",
       "      <td>-121.51</td>\n",
       "    </tr>\n",
       "    <tr>\n",
       "      <th>PINN</th>\n",
       "      <td>Pinnacles National Park</td>\n",
       "      <td>CA</td>\n",
       "      <td>26606</td>\n",
       "      <td>36.48</td>\n",
       "      <td>-121.16</td>\n",
       "    </tr>\n",
       "    <tr>\n",
       "      <th>REDW</th>\n",
       "      <td>Redwood National Park</td>\n",
       "      <td>CA</td>\n",
       "      <td>112512</td>\n",
       "      <td>41.30</td>\n",
       "      <td>-124.00</td>\n",
       "    </tr>\n",
       "    <tr>\n",
       "      <th>SEKI</th>\n",
       "      <td>Sequoia and Kings Canyon National Parks</td>\n",
       "      <td>CA</td>\n",
       "      <td>865952</td>\n",
       "      <td>36.43</td>\n",
       "      <td>-118.68</td>\n",
       "    </tr>\n",
       "    <tr>\n",
       "      <th>WRST</th>\n",
       "      <td>Wrangell - St Elias National Park and Preserve</td>\n",
       "      <td>AK</td>\n",
       "      <td>8323148</td>\n",
       "      <td>61.00</td>\n",
       "      <td>-142.00</td>\n",
       "    </tr>\n",
       "    <tr>\n",
       "      <th>YOSE</th>\n",
       "      <td>Yosemite National Park</td>\n",
       "      <td>CA</td>\n",
       "      <td>761266</td>\n",
       "      <td>37.83</td>\n",
       "      <td>-119.50</td>\n",
       "    </tr>\n",
       "  </tbody>\n",
       "</table>\n",
       "</div>"
      ],
      "text/plain": [
       "                                                park_name state    acres  \\\n",
       "Park Code                                                                  \n",
       "CHIS                        Channel Islands National Park    CA   249561   \n",
       "DENA                    Denali National Park and Preserve    AK  3372402   \n",
       "GAAR       Gates Of The Arctic National Park and Preserve    AK  7523898   \n",
       "GLBA               Glacier Bay National Park and Preserve    AK  3224840   \n",
       "JOTR                            Joshua Tree National Park    CA   789745   \n",
       "KATM                    Katmai National Park and Preserve    AK  3674530   \n",
       "KEFJ                           Kenai Fjords National Park    AK   669983   \n",
       "KOVA                           Kobuk Valley National Park    AK  1750717   \n",
       "LACL                Lake Clark National Park and Preserve    AK  2619733   \n",
       "LAVO                        Lassen Volcanic National Park    CA   106372   \n",
       "PINN                              Pinnacles National Park    CA    26606   \n",
       "REDW                                Redwood National Park    CA   112512   \n",
       "SEKI              Sequoia and Kings Canyon National Parks    CA   865952   \n",
       "WRST       Wrangell - St Elias National Park and Preserve    AK  8323148   \n",
       "YOSE                               Yosemite National Park    CA   761266   \n",
       "\n",
       "           latitude  longitude  \n",
       "Park Code                       \n",
       "CHIS          34.01    -119.42  \n",
       "DENA          63.33    -150.50  \n",
       "GAAR          67.78    -153.30  \n",
       "GLBA          58.50    -137.00  \n",
       "JOTR          33.79    -115.90  \n",
       "KATM          58.50    -155.00  \n",
       "KEFJ          59.92    -149.65  \n",
       "KOVA          67.55    -159.28  \n",
       "LACL          60.97    -153.42  \n",
       "LAVO          40.49    -121.51  \n",
       "PINN          36.48    -121.16  \n",
       "REDW          41.30    -124.00  \n",
       "SEKI          36.43    -118.68  \n",
       "WRST          61.00    -142.00  \n",
       "YOSE          37.83    -119.50  "
      ]
     },
     "execution_count": 7,
     "metadata": {},
     "output_type": "execute_result"
    }
   ],
   "source": [
    "df_park[df_park.state.isin(['AK', 'CA'])]"
   ]
  },
  {
   "cell_type": "markdown",
   "metadata": {},
   "source": [
    "Get a count of the unique values of a column"
   ]
  },
  {
   "cell_type": "code",
   "execution_count": 35,
   "metadata": {},
   "outputs": [
    {
     "name": "stdout",
     "output_type": "stream",
     "text": [
      "(56, 5)\n"
     ]
    },
    {
     "data": {
      "text/plain": [
       "56"
      ]
     },
     "execution_count": 35,
     "metadata": {},
     "output_type": "execute_result"
    }
   ],
   "source": [
    "print(df_park.shape)\n",
    "len(df_park.park_name.unique()) # it allows to know that each park is unique in our dataset"
   ]
  },
  {
   "cell_type": "markdown",
   "metadata": {},
   "source": [
    "### lambda\n",
    "\n",
    "It is another important concept to apply in the searching process, it allows us to have more complex querys.\n",
    "\n"
   ]
  },
  {
   "cell_type": "code",
   "execution_count": 19,
   "metadata": {},
   "outputs": [
    {
     "data": {
      "text/html": [
       "<div>\n",
       "<style scoped>\n",
       "    .dataframe tbody tr th:only-of-type {\n",
       "        vertical-align: middle;\n",
       "    }\n",
       "\n",
       "    .dataframe tbody tr th {\n",
       "        vertical-align: top;\n",
       "    }\n",
       "\n",
       "    .dataframe thead th {\n",
       "        text-align: right;\n",
       "    }\n",
       "</style>\n",
       "<table border=\"1\" class=\"dataframe\">\n",
       "  <thead>\n",
       "    <tr style=\"text-align: right;\">\n",
       "      <th></th>\n",
       "      <th>park_name</th>\n",
       "      <th>state</th>\n",
       "      <th>acres</th>\n",
       "      <th>latitude</th>\n",
       "      <th>longitude</th>\n",
       "    </tr>\n",
       "    <tr>\n",
       "      <th>Park Code</th>\n",
       "      <th></th>\n",
       "      <th></th>\n",
       "      <th></th>\n",
       "      <th></th>\n",
       "      <th></th>\n",
       "    </tr>\n",
       "  </thead>\n",
       "  <tbody>\n",
       "    <tr>\n",
       "      <th>ACAD</th>\n",
       "      <td>Acadia National Park</td>\n",
       "      <td>ME</td>\n",
       "      <td>47390</td>\n",
       "      <td>44.35</td>\n",
       "      <td>-68.21</td>\n",
       "    </tr>\n",
       "    <tr>\n",
       "      <th>ARCH</th>\n",
       "      <td>Arches National Park</td>\n",
       "      <td>UT</td>\n",
       "      <td>76519</td>\n",
       "      <td>38.68</td>\n",
       "      <td>-109.57</td>\n",
       "    </tr>\n",
       "    <tr>\n",
       "      <th>BADL</th>\n",
       "      <td>Badlands National Park</td>\n",
       "      <td>SD</td>\n",
       "      <td>242756</td>\n",
       "      <td>43.75</td>\n",
       "      <td>-102.50</td>\n",
       "    </tr>\n",
       "  </tbody>\n",
       "</table>\n",
       "</div>"
      ],
      "text/plain": [
       "                        park_name state   acres  latitude  longitude\n",
       "Park Code                                                           \n",
       "ACAD         Acadia National Park    ME   47390     44.35     -68.21\n",
       "ARCH         Arches National Park    UT   76519     38.68    -109.57\n",
       "BADL       Badlands National Park    SD  242756     43.75    -102.50"
      ]
     },
     "execution_count": 19,
     "metadata": {},
     "output_type": "execute_result"
    }
   ],
   "source": [
    "# the next code provides the park's names with a length of 3\n",
    "df_park[df_park['park_name'].str.split().apply(lambda x: len(x) == 3)].head(3)"
   ]
  },
  {
   "cell_type": "markdown",
   "metadata": {},
   "source": [
    "## Cleaning\n",
    "\n",
    "In some situations you have to work with datasets with bad values, due the problems originated in their registration process (by a human error or a machine failure), problems related to the integrity of the data, data format, and other kind of situations that influence in the information. It is an important activity because the future analyses depend of this work. "
   ]
  },
  {
   "cell_type": "code",
   "execution_count": 2,
   "metadata": {},
   "outputs": [],
   "source": [
    "# for example, you have the next list of states, pay attention of the format and the values, are they ok?\n",
    "\n",
    "states = ['  Alabama', 'Georgia!', 'georgia', 'Fl0rIda', 'south  Carolina##', 'West virginia?']"
   ]
  },
  {
   "cell_type": "code",
   "execution_count": 9,
   "metadata": {},
   "outputs": [],
   "source": [
    "import re # regular expression package\n",
    "def clean_strings(strings):\n",
    "    result = []\n",
    "    for value in strings:\n",
    "        value = value.strip() # this method will erase all the whitespace characters by default\n",
    "        value = re.sub('[!#?]', '', value) # it will return a string by replacing the leftmost non overlapping occurrences of pattern\n",
    "        value = value.title() # it will change the first character in each word to Uppercase and remaining characters to Lowercase\n",
    "        result.append(value)\n",
    "    return result                         \n",
    "        "
   ]
  },
  {
   "cell_type": "code",
   "execution_count": 10,
   "metadata": {},
   "outputs": [
    {
     "name": "stdout",
     "output_type": "stream",
     "text": [
      "['Alabama', 'Georgia', 'Georgia', 'Fl0Rida', 'South  Carolina', 'West Virginia']\n"
     ]
    }
   ],
   "source": [
    "print(clean_strings(states))"
   ]
  },
  {
   "cell_type": "markdown",
   "metadata": {},
   "source": [
    "### Get only a dataframe without NA's\n",
    "\n",
    "In a exploratory data analysis is important to know the rows that have non values, the aim is to explore what happened during the capture process and what will do to resolve it. two methods to help us are:\n",
    "\n",
    "+ isin, https://pandas.pydata.org/pandas-docs/stable/generated/pandas.DataFrame.isin.html\n",
    "+ isnull, https://pandas.pydata.org/pandas-docs/stable/generated/pandas.isnull.html"
   ]
  },
  {
   "cell_type": "code",
   "execution_count": 66,
   "metadata": {
    "scrolled": true
   },
   "outputs": [
    {
     "name": "stdout",
     "output_type": "stream",
     "text": [
      "data without non values in the state feature\n",
      "                               park_name state   acres  latitude  longitude\n",
      "Park Code                                                                  \n",
      "CHIS       Channel Islands National Park    CA  249561     34.01    -119.42\n",
      "CRLA           Crater Lake National Park    OR  183224     42.94    -122.10\n",
      "JOTR           Joshua Tree National Park    CA  789745     33.79    -115.90\n",
      "LAVO       Lassen Volcanic National Park    CA  106372     40.49    -121.51\n",
      "MORA         Mount Rainier National Park    WA  235625     46.85    -121.75\n",
      "\n",
      "data with non values\n",
      "\n",
      "           park_name  state  acres  latitude  longitude\n",
      "Park Code                                              \n",
      "ACAD           False  False  False     False      False\n",
      "ARCH           False  False  False     False      False\n",
      "BADL           False  False  False     False      False\n",
      "BIBE           False  False  False     False      False\n",
      "BISC           False  False  False     False      False\n"
     ]
    }
   ],
   "source": [
    "print(\"data without non values in the state feature\")\n",
    "print(df_park[df_park.state.isin([\"WA\",\"OR\",\"CA\"])].head())\n",
    "print(\"\")\n",
    "print(\"data with non values\")\n",
    "print(\"\")\n",
    "print(df_park.isna().head())"
   ]
  },
  {
   "cell_type": "markdown",
   "metadata": {},
   "source": [
    "### Descriptive stadistics\n",
    "\n",
    "Pandas allows us to get the descriptive stadistics from our dataframe, let's use it. "
   ]
  },
  {
   "cell_type": "code",
   "execution_count": null,
   "metadata": {},
   "outputs": [],
   "source": []
  },
  {
   "cell_type": "markdown",
   "metadata": {},
   "source": [
    "## References\n",
    "\n",
    "+ McKinney, W. (2012). Python for data analysis: Data wrangling with Pandas, NumPy, and IPython. \" O'Reilly Media, Inc.\".\n",
    "+ https://www.kaggle.com/sohier/tutorial-accessing-data-with-pandas/\n",
    "+ http://wavedatalab.github.io/datawithpython/munge.html\n",
    "+ https://cloud.google.com/bigquery/docs/bigquery-storage-python-pandas"
   ]
  }
 ],
 "metadata": {
  "kernelspec": {
   "display_name": "Python 3",
   "language": "python",
   "name": "python3"
  },
  "language_info": {
   "codemirror_mode": {
    "name": "ipython",
    "version": 3
   },
   "file_extension": ".py",
   "mimetype": "text/x-python",
   "name": "python",
   "nbconvert_exporter": "python",
   "pygments_lexer": "ipython3",
   "version": "3.6.8"
  }
 },
 "nbformat": 4,
 "nbformat_minor": 2
}
