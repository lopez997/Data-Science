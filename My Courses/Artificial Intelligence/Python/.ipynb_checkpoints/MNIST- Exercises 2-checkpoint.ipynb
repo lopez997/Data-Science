{
 "cells": [
  {
   "cell_type": "markdown",
   "metadata": {},
   "source": [
    "# MNIST (dígitos) solución tradicional\n",
    "\n",
    "__Integrantes:__\n",
    "\n",
    "+ Nombre: Manuel Quintero \n",
    "+ Nombre: Santiago Del Campo\n",
    "+ Nombre: Juan David Lopéz\n",
    "\n",
    "__Números asignados:__\n",
    "0 y 3"
   ]
  },
  {
   "cell_type": "markdown",
   "metadata": {},
   "source": [
    "## Taller \n",
    "\n",
    "_Suponga que trabajan para el desarrollo de un sistema de lectura y reconocimiento de dígitos. Para este trabajo le han proporcionado un conjunto de fotos en grises con el fin que proponga una solución de programación tradicional, es decir, sin el uso de la inteligencia artificial. El software que proponga debe tener la capacidad de determinar con una precisión una muestra de los datos que le han suministrado_\n",
    "\n",
    "Durante la clase se le proporcionaran dos números para trabajar:\n",
    "+ 1 y 5\n",
    "+ 8 y 2\n",
    "+ 9 y 7\n",
    "+ 0 y 3\n",
    "+ 4 y 6\n",
    "\n",
    "**Evaluación del método**\n",
    "\n",
    "Seleccione aleatoriamente una muestra de 30% de los datos, en donde se incluya un balance entre los dígitos asignados (despliéguelo y evidencie las cantidades).\n",
    "\n",
    "Utilice la muestra obtenida y evalué el software (proceso o métodos) que ha propuesto, es decir, a cuantos números acertó (VP) contra los que no acertó (FP), calcule los siguientes datos:\n",
    "\n",
    "```\n",
    "Para el primer número\n",
    "\n",
    "Reales =  número de datos\n",
    "\n",
    "Estimados = cantidad de dígitos estimados correctamente \n",
    "\n",
    "Para el segundo número\n",
    "\n",
    "Reales =  número de datos\n",
    "\n",
    "Estimados = cantidad de dígitos estimados correctamente\n",
    "```\n",
    "_Para todos los números que le corresponden_\n",
    "\n",
    "$ Precision = \\frac{VP}{VP+FP}$\n",
    "\n",
    "\n",
    "Finalmente, despliegue el tiempo que tomo todo el proceso de evaluación."
   ]
  },
  {
   "cell_type": "markdown",
   "metadata": {
    "heading_collapsed": true
   },
   "source": [
    "#### Entregas\n",
    "\n",
    "+ Prepare una presentación donde muestre los resultados\n",
    "+ Envié por un correo electrónico este archivo ipynb con la solución y resultados conseguidos\n"
   ]
  },
  {
   "cell_type": "markdown",
   "metadata": {},
   "source": [
    "#### Paquetes"
   ]
  },
  {
   "cell_type": "code",
   "execution_count": 1,
   "metadata": {},
   "outputs": [],
   "source": [
    "from sklearn.datasets import load_digits\n",
    "import pylab as pl\n",
    "import sklearn"
   ]
  },
  {
   "cell_type": "code",
   "execution_count": 2,
   "metadata": {},
   "outputs": [
    {
     "data": {
      "text/plain": [
       "sklearn.utils.Bunch"
      ]
     },
     "execution_count": 2,
     "metadata": {},
     "output_type": "execute_result"
    }
   ],
   "source": [
    "# cargamos los datos y desplegamos el objeto\n",
    "digits = load_digits()\n",
    "type(digits)"
   ]
  },
  {
   "cell_type": "code",
   "execution_count": 4,
   "metadata": {},
   "outputs": [],
   "source": [
    "# observe las propieades del objeto, ¿a que tipo se le parece?\n",
    "?sklearn.utils.Bunch"
   ]
  },
  {
   "cell_type": "code",
   "execution_count": 17,
   "metadata": {},
   "outputs": [
    {
     "name": "stdout",
     "output_type": "stream",
     "text": [
      "\n",
      "\n",
      "2\n",
      "Se tienen en total: 1797 imágenes\n",
      "[[ 0.  0.  0.  4. 15. 12.  0.  0.]\n",
      " [ 0.  0.  3. 16. 15. 14.  0.  0.]\n",
      " [ 0.  0.  8. 13.  8. 16.  0.  0.]\n",
      " [ 0.  0.  1.  6. 15. 11.  0.  0.]\n",
      " [ 0.  1.  8. 13. 15.  1.  0.  0.]\n",
      " [ 0.  9. 16. 16.  5.  0.  0.  0.]\n",
      " [ 0.  3. 13. 16. 16. 11.  5.  0.]\n",
      " [ 0.  0.  0.  3. 11. 16.  9.  0.]]\n",
      "\n",
      "\n",
      "[[ 0.  2.  9. 15. 14.  9.  3.  0.]\n",
      " [ 0.  4. 13.  8.  9. 16.  8.  0.]\n",
      " [ 0.  0.  0.  6. 14. 15.  3.  0.]\n",
      " [ 0.  0.  0. 11. 14.  2.  0.  0.]\n",
      " [ 0.  0.  0.  2. 15. 11.  0.  0.]\n",
      " [ 0.  0.  0.  0.  2. 15.  4.  0.]\n",
      " [ 0.  1.  5.  6. 13. 16.  6.  0.]\n",
      " [ 0.  2. 12. 12. 13. 11.  0.  0.]]\n"
     ]
    },
    {
     "data": {
      "text/plain": [
       "<Figure size 432x288 with 0 Axes>"
      ]
     },
     "metadata": {},
     "output_type": "display_data"
    },
    {
     "data": {
      "image/png": "[encoded data removed]",
      "text/plain": [
       "<Figure size 288x288 with 1 Axes>"
      ]
     },
     "metadata": {
      "needs_background": "light"
     },
     "output_type": "display_data"
    },
    {
     "data": {
      "image/png": "[encoded data removed]",
      "text/plain": [
       "<Figure size 288x288 with 1 Axes>"
      ]
     },
     "metadata": {
      "needs_background": "light"
     },
     "output_type": "display_data"
    }
   ],
   "source": [
    "pl.gray() # Queremos las imágenes en grises\n",
    "pl.matshow(digits.images[2]) # Imprimir una imagen dada\n",
    "print(\"\\n\")\n",
    "pl.matshow(digits.images[13]) # Imprimir una imagen dada\n",
    "\n",
    "numImagenes = len(digits.images) # Numero de imagenes, len es un método que provee el tamaño del arreglo\n",
    "print(digits.target[2])\n",
    "print(\"Se tienen en total:\", numImagenes, \"imágenes\")\n",
    "print(digits.images[2]) # Ver su representación en pixeles\n",
    "print(\"\\n\")\n",
    "print(digits.images[13]) # Ver su representación en pixeles"
   ]
  },
  {
   "cell_type": "markdown",
   "metadata": {},
   "source": [
    "Observe cada atributo del objeto digits, recorra cada imagen y obtenga su representación (_target_)"
   ]
  },
  {
   "cell_type": "markdown",
   "metadata": {
    "heading_collapsed": true
   },
   "source": [
    "#### Solución"
   ]
  },
  {
   "cell_type": "code",
   "execution_count": 41,
   "metadata": {
    "scrolled": true
   },
   "outputs": [
    {
     "name": "stdout",
     "output_type": "stream",
     "text": [
      "matriz num: 0\n",
      "[[ 0.  0.  1.  9. 15. 11.  0.  0.]\n",
      " [ 0.  0. 11. 16.  8. 14.  6.  0.]\n",
      " [ 0.  2. 16. 10.  0.  9.  9.  0.]\n",
      " [ 0.  1. 16.  4.  0.  8.  8.  0.]\n",
      " [ 0.  4. 16.  4.  0.  8.  8.  0.]\n",
      " [ 0.  1. 16.  5.  1. 11.  3.  0.]\n",
      " [ 0.  0. 12. 12. 10. 10.  0.  0.]\n",
      " [ 0.  0.  1. 10. 13.  3.  0.  0.]]\n",
      "\n",
      "\n",
      "0\n"
     ]
    },
    {
     "data": {
      "text/plain": [
       "<matplotlib.image.AxesImage at 0x239af2416d8>"
      ]
     },
     "execution_count": 41,
     "metadata": {},
     "output_type": "execute_result"
    },
    {
     "data": {
      "text/plain": [
       "<Figure size 432x288 with 0 Axes>"
      ]
     },
     "metadata": {},
     "output_type": "display_data"
    },
    {
     "data": {
      "image/png": "[encoded data removed]",
      "text/plain": [
       "<Figure size 288x288 with 1 Axes>"
      ]
     },
     "metadata": {
      "needs_background": "light"
     },
     "output_type": "display_data"
    }
   ],
   "source": [
    "pl.gray() # Queremos las imágenes en grises\n",
    "\n",
    "print(\"matriz num: 0\")\n",
    "print(digits.images[10])\n",
    "print(\"\\n\")\n",
    "print(digits.target[10])\n",
    "pl.matshow(digits.images[10]) # Imprimir una imagen dada\n",
    "\n"
   ]
  },
  {
   "cell_type": "code",
   "execution_count": 16,
   "metadata": {},
   "outputs": [],
   "source": [
    "def patronCero(matriz):\n",
    "    prom=0\n",
    "    for x in range(len(matriz)):\n",
    "        if x>=2 and x<=5:\n",
    "            for y in range(len(matriz[x])):\n",
    "                if y>=3 and y<=4:\n",
    "                    \"\"\"\n",
    "                    print(\"x: \"+ str(x)+\" y: \"+ str(y))                    \n",
    "                    print(matriz[x][y])\n",
    "                    \"\"\"\n",
    "                    prom+= matriz[x][y]\n",
    "    return prom/8                   \n",
    "            "
   ]
  },
  {
   "cell_type": "code",
   "execution_count": 18,
   "metadata": {},
   "outputs": [
    {
     "name": "stdout",
     "output_type": "stream",
     "text": [
      "[0.375, 3.0, 2.5, 0.375, 3.625, 2.25, 1.75, 5.375, 4.625, 1.375, 0.5, 4.75, 4.75, 0.75, 2.25, 3.625, 2.875, 1.125, 1.875, 4.0, 5.125, 1.5, 6.75, 5.5, 0.375, 2.75, 2.375, 1.875, 1.25, 0.625, 0.125, 1.5, 0.375, 0.625, 2.0, 1.25, 1.75, 4.125, 1.375, 1.125, 1.5, 1.125, 2.25, 1.75, 0.5, 1.25, 0.0, 1.25, 0.0, 1.875, 1.875, 0.75, 0.625, 0.125, 1.0, 0.0, 0.375, 1.0, 0.25, 0.25, 3.625, 1.0, 0.625, 0.125, 0.375, 1.875, 1.125, 3.875, 1.25, 0.5, 1.25, 0.25, 6.75, 2.375, 1.875, 1.75, 2.5, 1.5, 0.625, 0.125, 0.125, 0.5, 0.5, 5.125, 3.625, 2.5, 2.125, 5.625, 0.125, 0.75, 2.375, 0.0, 0.0, 0.5, 0.0, 0.25, 0.0, 0.5, 0.25, 0.5, 0.125, 0.375, 0.25, 0.5, 0.0, 1.5, 2.5, 0.25, 0.25, 0.25, 0.5, 0.375, 0.0, 0.0, 0.625, 0.625, 2.375, 1.875, 0.875, 0.75, 1.125, 0.625, 1.5, 0.625, 0.375, 4.625, 1.125, 0.625, 2.5, 1.75, 1.25, 6.0, 2.625, 2.0, 1.5, 1.0, 0.125, 3.875, 1.875, 5.5, 0.0, 0.625, 0.75, 0.75, 1.25, 0.375, 0.375, 0.625, 0.5, 0.875, 0.0, 0.375, 0.25, 2.625, 3.625, 2.25, 7.25, 1.75, 7.125, 2.75, 3.75, 6.375, 1.0, 3.125, 0.5, 1.5, 1.0, 2.375, 0.375, 3.5, 1.875, 0.875, 4.625, 2.125, 0.625, 2.25, 5.0, 2.875]\n",
      "minimo:0.0\n",
      "maximo:7.25\n",
      "1.7029494382022472\n",
      "piso: 1.7029494382022472\n",
      "techo: 5.547050561797753\n"
     ]
    },
    {
     "data": {
      "text/plain": [
       "<Figure size 432x288 with 0 Axes>"
      ]
     },
     "metadata": {},
     "output_type": "display_data"
    }
   ],
   "source": [
    "pl.gray()\n",
    "diction = {'cero': [], 'tres':[]}\n",
    "for i in range(1797):\n",
    "    targ = digits.target[i]\n",
    "    if targ == 0:\n",
    "       diction['cero'].append(digits.images[i])\n",
    "       \"\"\"\n",
    "       print(digits.images[i])\n",
    "       print(\"\\n\")\n",
    "       pl.matshow(digits.images[i])\n",
    "       \"\"\"\n",
    "    if targ == 3:\n",
    "        diction['tres'].append(digits.images[i])\n",
    "\n",
    "arreglo=[]\n",
    "for w in range(len(diction['cero'])):\n",
    "    arreglo.append(patronCero(diction['cero'][w]))\n",
    "\n",
    "\n",
    "print(arreglo)\n",
    "print(\"minimo:\"+ str(min(arreglo)))\n",
    "print(\"maximo:\"+ str(max(arreglo)))\n",
    "promCero= sum(arreglo)/len(arreglo)\n",
    "print(promCero)\n",
    "piso=abs(promCero-min(arreglo))\n",
    "techo=abs(promCero-max(arreglo))\n",
    "print(\"piso: \"+ str(piso))\n",
    "print(\"techo: \"+ str(techo))\n"
   ]
  },
  {
   "cell_type": "code",
   "execution_count": 44,
   "metadata": {},
   "outputs": [
    {
     "name": "stdout",
     "output_type": "stream",
     "text": [
      "Numero cero\n",
      "Numero Real: 178\n",
      "Numero Estimado: 149\n",
      "Precision: 0.8370786516853933\n"
     ]
    }
   ],
   "source": [
    "diction2 = {'cero': [], 'tres':[]}\n",
    "for p in range(1797):\n",
    "    prome= patronCero(digits.images[p])\n",
    "    if(promCero-prome)<0:\n",
    "        if abs(promCero-prome)<piso:\n",
    "            diction2['cero'].append(digits.target[p])\n",
    "    elif(promCero-prome)>0:\n",
    "        if abs(promCero-prome)<techo:\n",
    "            diction2['cero'].append(digits.target[p])\n",
    "\n",
    "correctos=0\n",
    "for t in range(len(diction2['cero'])):\n",
    "    if diction2['cero'][t]==0:\n",
    "        correctos+=1\n",
    "\n",
    "precision= correctos/len(diction['cero']) \n",
    "        \n",
    "print(\"Numero cero\")\n",
    "print(\"Numero Real: \" + str(len(diction['cero'])))    \n",
    "print(\"Numero Estimado: \" + str(correctos))   \n",
    "print(\"Precision: \" + str(precision))    "
   ]
  }
 ],
 "metadata": {
  "kernelspec": {
   "display_name": "Python 3",
   "language": "python",
   "name": "python3"
  },
  "language_info": {
   "codemirror_mode": {
    "name": "ipython",
    "version": 3
   },
   "file_extension": ".py",
   "mimetype": "text/x-python",
   "name": "python",
   "nbconvert_exporter": "python",
   "pygments_lexer": "ipython3",
   "version": "3.7.3"
  }
 },
 "nbformat": 4,
 "nbformat_minor": 2
}
