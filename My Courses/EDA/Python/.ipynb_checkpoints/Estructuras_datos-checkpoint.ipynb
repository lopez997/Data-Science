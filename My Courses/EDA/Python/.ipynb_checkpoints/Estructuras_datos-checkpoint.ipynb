{
 "cells": [
  {
   "cell_type": "markdown",
   "metadata": {},
   "source": [
    "_Autor: Christian Camilo Urcuqui López_\n",
    "\n",
    "# Python como herramienta para la preparación y el análisis exploratorio de datos\n",
    "\n",
    "\n",
    "__Contenido__\n",
    "\n",
    "+ [Pandas](#Pandas)\n",
    "    + [Estructuras de datos](#Estructuras-de-datos)\n",
    "        + [Series](#Series)\n",
    "        + [Dataframe](#Dataframe)\n",
    "            + [Carga de datos](#Carga-de-datos)\n",
    "                - [CSV](#CSV)\n",
    "                - [JSON](#JSON)\n",
    "                - [EXCEL](#EXCEL)\n",
    "                - [SQLite](#SQLite)\n",
    "            + [Persistencia de datos](#Persistencia-de-datos)\n",
    "            + [Cambiando tipos de las variables](#Cambiando-tipos-de-las-variables)\n",
    "            + [Renombrando Columnas](#Renombrando-columnas)\n",
    "            + [Obteniendo información de nuestro dataframe](#Obteniendo-información-de-nuestro-dataframe)\n",
    "            + [Indexación, selección y asignación](#Indexación,-selección-y-asignación)\n",
    "            + [Selección condicional](#Selección-condicional)\n",
    "            + [Asignación de datos](#Asignación-de-datos)\n",
    "+ [Ejercicios prácticos](#Ejercicios-prácticos)"
   ]
  },
  {
   "cell_type": "markdown",
   "metadata": {},
   "source": [
    "## Pandas\n",
    "\n",
    "<img src=\"https://github.com/urcuqui/Data-Science/blob/master/Utilities/pandas_logo.png?raw=true\" >\n",
    "<center>https://pandas.pydata.org/ </center>\n",
    "\n",
    "<br>\n",
    "\n",
    "Pandas es una libreria _open source_ de estructuras de datos para el análisis de información en el lenguaje de programación Python. \n",
    "\n",
    "En este notebook veremos las funciones esenciales para la aplicación de análisis de datos a través de Pandas, además, veremos los primeros pasos de un análisis exploratorio de datos (_Exploratory Data Analysis_) desde la carga de los datos hasta el descubrimiento de elementos de valor en nuestros conjuntos de datos.\n",
    "\n",
    "_La gran diferencia entre Pandas y NumPy es que esta librería esta diseñada para la manipulación de datos de distinto tipo en un mismo objeto, es común que ambas herramientas se utilicen juntas ya que Pandas depende en gran medida de la matriz NumPy_.\n",
    "\n"
   ]
  },
  {
   "cell_type": "markdown",
   "metadata": {},
   "source": [
    "### Importando pandas\n",
    "\n",
    "Es común que algunos desarrolladores por estándar usen el seudónimo _pd_ al momento de importar el paquete Pandas."
   ]
  },
  {
   "cell_type": "code",
   "execution_count": 1,
   "metadata": {},
   "outputs": [
    {
     "data": {
      "text/plain": [
       "'0.24.0'"
      ]
     },
     "execution_count": 1,
     "metadata": {},
     "output_type": "execute_result"
    }
   ],
   "source": [
    "import pandas as pd\n",
    "pd.__version__"
   ]
  },
  {
   "cell_type": "markdown",
   "metadata": {},
   "source": [
    "### Estructuras de datos"
   ]
  },
  {
   "cell_type": "markdown",
   "metadata": {},
   "source": [
    "En Pandas podemos encontrar dos tipos de estructuras de datos:\n",
    "+ Series \n",
    "+ Dataframes"
   ]
  },
  {
   "cell_type": "code",
   "execution_count": 23,
   "metadata": {},
   "outputs": [],
   "source": [
    "from pandas import Series, DataFrame"
   ]
  },
  {
   "cell_type": "markdown",
   "metadata": {},
   "source": [
    "#### Series\n",
    "\n",
    "Las series representan a un arreglo de secuencia de valores de una sola dimensión que se encuentra asociado a un arreglo de labels (_index_).\n",
    "\n",
    "**Un objeto Serie es más flexible que un array NumPy ya que podemos definir nuestras propias etiquetas para los índices, es decir, podemos utilizar tanto números como letras**"
   ]
  },
  {
   "cell_type": "code",
   "execution_count": 9,
   "metadata": {},
   "outputs": [
    {
     "data": {
      "text/plain": [
       "0     3\n",
       "1    -8\n",
       "2     a\n",
       "dtype: object"
      ]
     },
     "execution_count": 9,
     "metadata": {},
     "output_type": "execute_result"
    }
   ],
   "source": [
    "serie = Series([3, -8, \"a\"])\n",
    "serie"
   ]
  },
  {
   "cell_type": "markdown",
   "metadata": {},
   "source": [
    "Del anterior ejemplo podemos observar dos cosas, en primer lugar la serie puede integrar objetos de distinto tipo y en segundo lugar hay una asociación con unos indices que inician en 0."
   ]
  },
  {
   "cell_type": "code",
   "execution_count": 10,
   "metadata": {},
   "outputs": [
    {
     "data": {
      "text/plain": [
       "array([3, -8, 'a'], dtype=object)"
      ]
     },
     "execution_count": 10,
     "metadata": {},
     "output_type": "execute_result"
    }
   ],
   "source": [
    "# la forma de obtener los valores\n",
    "serie.values"
   ]
  },
  {
   "cell_type": "code",
   "execution_count": 11,
   "metadata": {},
   "outputs": [
    {
     "data": {
      "text/plain": [
       "RangeIndex(start=0, stop=3, step=1)"
      ]
     },
     "execution_count": 11,
     "metadata": {},
     "output_type": "execute_result"
    }
   ],
   "source": [
    "# Podemos ver el rango de indexes desde donde inicia, cuanto imcrementa y donde finaliza\n",
    "serie.index"
   ]
  },
  {
   "cell_type": "code",
   "execution_count": 12,
   "metadata": {},
   "outputs": [
    {
     "data": {
      "text/plain": [
       "a     3\n",
       "b    -8\n",
       "c     a\n",
       "dtype: object"
      ]
     },
     "execution_count": 12,
     "metadata": {},
     "output_type": "execute_result"
    }
   ],
   "source": [
    "# también podemos cambiar los indices \n",
    "serie.index = [\"a\", \"b\", \"c\"]\n",
    "serie"
   ]
  },
  {
   "cell_type": "code",
   "execution_count": 24,
   "metadata": {},
   "outputs": [
    {
     "data": {
      "text/plain": [
       "a     3\n",
       "b    -8\n",
       "c     a\n",
       "dtype: object"
      ]
     },
     "execution_count": 24,
     "metadata": {},
     "output_type": "execute_result"
    }
   ],
   "source": [
    "# también podemos cambiar los indices \n",
    "serie = Series([3, -8, \"a\"], index=[\"a\", \"b\", \"c\"])\n",
    "serie"
   ]
  },
  {
   "cell_type": "code",
   "execution_count": 14,
   "metadata": {},
   "outputs": [
    {
     "data": {
      "text/plain": [
       "Index(['a', 'b', 'c'], dtype='object')"
      ]
     },
     "execution_count": 14,
     "metadata": {},
     "output_type": "execute_result"
    }
   ],
   "source": [
    "# observe que el objeto asociado (RangeIndex -> Index) cambia ya que no \n",
    "# estamos utilizando datos númericos\n",
    "serie.index"
   ]
  },
  {
   "cell_type": "markdown",
   "metadata": {},
   "source": [
    "__Los indices nos permitirán recorrer y obtener los valores__"
   ]
  },
  {
   "cell_type": "code",
   "execution_count": 4,
   "metadata": {},
   "outputs": [
    {
     "data": {
      "text/plain": [
       "3"
      ]
     },
     "execution_count": 4,
     "metadata": {},
     "output_type": "execute_result"
    }
   ],
   "source": [
    "serie['a']"
   ]
  },
  {
   "cell_type": "code",
   "execution_count": 27,
   "metadata": {},
   "outputs": [
    {
     "data": {
      "text/plain": [
       "'k'"
      ]
     },
     "execution_count": 27,
     "metadata": {},
     "output_type": "execute_result"
    }
   ],
   "source": [
    "# cambiemos el valor de la posición con indice 'c'\n",
    "serie['c'] = 'k'\n",
    "serie['c']"
   ]
  },
  {
   "cell_type": "markdown",
   "metadata": {},
   "source": [
    "__Podemos realizar filtros y otras operaciones__"
   ]
  },
  {
   "cell_type": "code",
   "execution_count": 13,
   "metadata": {},
   "outputs": [
    {
     "data": {
      "text/plain": [
       "c    k\n",
       "dtype: object"
      ]
     },
     "execution_count": 13,
     "metadata": {},
     "output_type": "execute_result"
    }
   ],
   "source": [
    "# operaciones lógicas para filtros\n",
    "serie[serie == \"k\"]"
   ]
  },
  {
   "cell_type": "code",
   "execution_count": 7,
   "metadata": {},
   "outputs": [
    {
     "data": {
      "text/plain": [
       "0    2\n",
       "2    3\n",
       "dtype: int64"
      ]
     },
     "execution_count": 7,
     "metadata": {},
     "output_type": "execute_result"
    }
   ],
   "source": [
    "# operaciones lógicas para filtros\n",
    "serie = Series([2, -8, 3])\n",
    "serie[serie >= 1]"
   ]
  },
  {
   "cell_type": "code",
   "execution_count": 4,
   "metadata": {},
   "outputs": [
    {
     "data": {
      "text/plain": [
       "0     6\n",
       "1   -16\n",
       "2     6\n",
       "dtype: int64"
      ]
     },
     "execution_count": 4,
     "metadata": {},
     "output_type": "execute_result"
    }
   ],
   "source": [
    "# operaciones matemáticas para los valores\n",
    "serie = Series([3, -8, 3])\n",
    "serie * 2"
   ]
  },
  {
   "cell_type": "code",
   "execution_count": 9,
   "metadata": {
    "scrolled": true
   },
   "outputs": [
    {
     "data": {
      "text/plain": [
       "0     3\n",
       "1   -10\n",
       "2     3\n",
       "dtype: int64"
      ]
     },
     "execution_count": 9,
     "metadata": {},
     "output_type": "execute_result"
    }
   ],
   "source": [
    "# operaciones matemáticas para los valores\n",
    "serie2 = Series([1, -2, 0])\n",
    "serie + serie2"
   ]
  },
  {
   "cell_type": "markdown",
   "metadata": {},
   "source": [
    "Otra forma de crear una Serie es a través de diccionarios"
   ]
  },
  {
   "cell_type": "code",
   "execution_count": 29,
   "metadata": {},
   "outputs": [
    {
     "data": {
      "text/plain": [
       "Ohio      35000\n",
       "Texas     71000\n",
       "Oregon    16000\n",
       "Utah       5000\n",
       "dtype: int64"
      ]
     },
     "execution_count": 29,
     "metadata": {},
     "output_type": "execute_result"
    }
   ],
   "source": [
    "sdata = {'Ohio': 35000, 'Texas': 71000, 'Oregon': 16000, 'Utah':5000}\n",
    "series = Series(sdata)\n",
    "series"
   ]
  },
  {
   "cell_type": "code",
   "execution_count": 30,
   "metadata": {},
   "outputs": [
    {
     "data": {
      "text/plain": [
       "California        NaN\n",
       "Ohio          35000.0\n",
       "Oregon        16000.0\n",
       "Texas         71000.0\n",
       "dtype: float64"
      ]
     },
     "execution_count": 30,
     "metadata": {},
     "output_type": "execute_result"
    }
   ],
   "source": [
    "# observe que en el anterior ejemplo obtuvimos una serie ordenada númericamente, esto lo podemos \n",
    "# cambiar pasandole las llaves directamente\n",
    "states = ['California','Ohio', 'Oregon', 'Texas']\n",
    "series = Series(sdata, index=states)\n",
    "series"
   ]
  },
  {
   "cell_type": "markdown",
   "metadata": {},
   "source": [
    "**Observación:** debido a que ingresamos una llave nueva (california) al conjunto de datos (sdata) sin un valor asignado obtenemos como resultado un NaN (valor faltante) y el valor de la llave 'Utah' se pierde. "
   ]
  },
  {
   "cell_type": "code",
   "execution_count": 31,
   "metadata": {},
   "outputs": [
    {
     "name": "stdout",
     "output_type": "stream",
     "text": [
      "California        NaN\n",
      "Ohio          35000.0\n",
      "Oregon        16000.0\n",
      "Texas         71000.0\n",
      "dtype: float64\n",
      "\n",
      "Ohio      35000\n",
      "Texas     71000\n",
      "Oregon    16000\n",
      "Utah       5000\n",
      "dtype: int64\n",
      "\n",
      "California         NaN\n",
      "Ohio           70000.0\n",
      "Oregon         32000.0\n",
      "Texas         142000.0\n",
      "Utah               NaN\n",
      "dtype: float64\n"
     ]
    }
   ],
   "source": [
    "series2 = Series(sdata)\n",
    "print(series)\n",
    "print()\n",
    "print(series2)\n",
    "print()\n",
    "print(series + series2) "
   ]
  },
  {
   "cell_type": "markdown",
   "metadata": {},
   "source": [
    "**Observación:** Del anterior ejemplo podemos ver que las operaciones de registros con NaN implica como resultado NaN. "
   ]
  },
  {
   "cell_type": "markdown",
   "metadata": {},
   "source": [
    "Podemos encontrar más atributos como el nombre del objeto Serie y el nombre asignado a los indices."
   ]
  },
  {
   "cell_type": "code",
   "execution_count": 32,
   "metadata": {},
   "outputs": [
    {
     "data": {
      "text/plain": [
       "Ohio      35000\n",
       "Texas     71000\n",
       "Oregon    16000\n",
       "Utah       5000\n",
       "Name: population, dtype: int64"
      ]
     },
     "execution_count": 32,
     "metadata": {},
     "output_type": "execute_result"
    }
   ],
   "source": [
    "series2.name = 'population'\n",
    "series2"
   ]
  },
  {
   "cell_type": "code",
   "execution_count": 33,
   "metadata": {},
   "outputs": [
    {
     "data": {
      "text/plain": [
       "Index(['Ohio', 'Texas', 'Oregon', 'Utah'], dtype='object', name='states')"
      ]
     },
     "execution_count": 33,
     "metadata": {},
     "output_type": "execute_result"
    }
   ],
   "source": [
    "series2.index.name = 'states'\n",
    "series2.index"
   ]
  },
  {
   "cell_type": "markdown",
   "metadata": {},
   "source": [
    "#### Dataframe\n",
    "Un dataframe es una estructura similar a una tabla de datos rectangular donde cada columna puede tener distintos tipos de datos (numéricos, caracteres, boolean). Un Dataframe tiene tanto una indexación para sus filas y columnas por lo cual permite almacenar en memoria más de dos bloques dimensionales a diferencia de otros tipos de estructuras.\n",
    "\n",
    "<img src=\"https://storage.googleapis.com/lds-media/images/series-and-dataframe.width-1200.png\" width=\"450\">\n",
    "<center> https://www.learndatasci.com/tutorials/python-pandas-tutorial-complete-introduction-for-beginners/ </center>\n"
   ]
  },
  {
   "cell_type": "markdown",
   "metadata": {},
   "source": [
    "_Observemos distintas formas para crear un dataframe_"
   ]
  },
  {
   "cell_type": "code",
   "execution_count": 41,
   "metadata": {},
   "outputs": [
    {
     "name": "stdout",
     "output_type": "stream",
     "text": [
      "<class 'pandas.core.frame.DataFrame'>\n"
     ]
    },
    {
     "data": {
      "text/html": [
       "<div>\n",
       "<style scoped>\n",
       "    .dataframe tbody tr th:only-of-type {\n",
       "        vertical-align: middle;\n",
       "    }\n",
       "\n",
       "    .dataframe tbody tr th {\n",
       "        vertical-align: top;\n",
       "    }\n",
       "\n",
       "    .dataframe thead th {\n",
       "        text-align: right;\n",
       "    }\n",
       "</style>\n",
       "<table border=\"1\" class=\"dataframe\">\n",
       "  <thead>\n",
       "    <tr style=\"text-align: right;\">\n",
       "      <th></th>\n",
       "      <th>state</th>\n",
       "      <th>year</th>\n",
       "      <th>pop</th>\n",
       "    </tr>\n",
       "  </thead>\n",
       "  <tbody>\n",
       "    <tr>\n",
       "      <th>0</th>\n",
       "      <td>Ohio</td>\n",
       "      <td>2000</td>\n",
       "      <td>1.5</td>\n",
       "    </tr>\n",
       "    <tr>\n",
       "      <th>1</th>\n",
       "      <td>Ohio</td>\n",
       "      <td>2001</td>\n",
       "      <td>1.7</td>\n",
       "    </tr>\n",
       "    <tr>\n",
       "      <th>2</th>\n",
       "      <td>Ohio</td>\n",
       "      <td>2002</td>\n",
       "      <td>3.6</td>\n",
       "    </tr>\n",
       "    <tr>\n",
       "      <th>3</th>\n",
       "      <td>Nevada</td>\n",
       "      <td>2001</td>\n",
       "      <td>2.4</td>\n",
       "    </tr>\n",
       "    <tr>\n",
       "      <th>4</th>\n",
       "      <td>Nevada</td>\n",
       "      <td>2002</td>\n",
       "      <td>2.9</td>\n",
       "    </tr>\n",
       "    <tr>\n",
       "      <th>5</th>\n",
       "      <td>Nevada</td>\n",
       "      <td>2003</td>\n",
       "      <td>3.2</td>\n",
       "    </tr>\n",
       "  </tbody>\n",
       "</table>\n",
       "</div>"
      ],
      "text/plain": [
       "    state  year  pop\n",
       "0    Ohio  2000  1.5\n",
       "1    Ohio  2001  1.7\n",
       "2    Ohio  2002  3.6\n",
       "3  Nevada  2001  2.4\n",
       "4  Nevada  2002  2.9\n",
       "5  Nevada  2003  3.2"
      ]
     },
     "execution_count": 41,
     "metadata": {},
     "output_type": "execute_result"
    }
   ],
   "source": [
    "state = Series( ['Ohio', 'Ohio', 'Ohio', 'Nevada', 'Nevada', 'Nevada'], name=\"state\")\n",
    "year = Series([2000, 2001, 2002, 2001, 2002, 2003], name=\"year\")\n",
    "pop =  Series([1.5, 1.7, 3.6, 2.4, 2.9, 3.2], name=\"pop\")\n",
    "# concatenamos las tres series por sus columnas (axis=1) y obtenemos un dataframe\n",
    "data = pd.concat([state,year,pop], axis=1)\n",
    "print(type(data))\n",
    "data"
   ]
  },
  {
   "cell_type": "code",
   "execution_count": 42,
   "metadata": {},
   "outputs": [
    {
     "name": "stdout",
     "output_type": "stream",
     "text": [
      "<class 'pandas.core.frame.DataFrame'>\n"
     ]
    },
    {
     "data": {
      "text/html": [
       "<div>\n",
       "<style scoped>\n",
       "    .dataframe tbody tr th:only-of-type {\n",
       "        vertical-align: middle;\n",
       "    }\n",
       "\n",
       "    .dataframe tbody tr th {\n",
       "        vertical-align: top;\n",
       "    }\n",
       "\n",
       "    .dataframe thead th {\n",
       "        text-align: right;\n",
       "    }\n",
       "</style>\n",
       "<table border=\"1\" class=\"dataframe\">\n",
       "  <thead>\n",
       "    <tr style=\"text-align: right;\">\n",
       "      <th></th>\n",
       "      <th>state</th>\n",
       "      <th>year</th>\n",
       "      <th>pop</th>\n",
       "    </tr>\n",
       "  </thead>\n",
       "  <tbody>\n",
       "    <tr>\n",
       "      <th>0</th>\n",
       "      <td>Ohio</td>\n",
       "      <td>2000</td>\n",
       "      <td>1.5</td>\n",
       "    </tr>\n",
       "    <tr>\n",
       "      <th>1</th>\n",
       "      <td>Ohio</td>\n",
       "      <td>2001</td>\n",
       "      <td>1.7</td>\n",
       "    </tr>\n",
       "    <tr>\n",
       "      <th>2</th>\n",
       "      <td>Ohio</td>\n",
       "      <td>2002</td>\n",
       "      <td>3.6</td>\n",
       "    </tr>\n",
       "    <tr>\n",
       "      <th>3</th>\n",
       "      <td>Nevada</td>\n",
       "      <td>2001</td>\n",
       "      <td>2.4</td>\n",
       "    </tr>\n",
       "    <tr>\n",
       "      <th>4</th>\n",
       "      <td>Nevada</td>\n",
       "      <td>2002</td>\n",
       "      <td>2.9</td>\n",
       "    </tr>\n",
       "    <tr>\n",
       "      <th>5</th>\n",
       "      <td>Nevada</td>\n",
       "      <td>2003</td>\n",
       "      <td>3.2</td>\n",
       "    </tr>\n",
       "  </tbody>\n",
       "</table>\n",
       "</div>"
      ],
      "text/plain": [
       "    state  year  pop\n",
       "0    Ohio  2000  1.5\n",
       "1    Ohio  2001  1.7\n",
       "2    Ohio  2002  3.6\n",
       "3  Nevada  2001  2.4\n",
       "4  Nevada  2002  2.9\n",
       "5  Nevada  2003  3.2"
      ]
     },
     "execution_count": 42,
     "metadata": {},
     "output_type": "execute_result"
    }
   ],
   "source": [
    "data = {'state': ['Ohio', 'Ohio', 'Ohio', 'Nevada', 'Nevada', 'Nevada'],\n",
    "       'year': [2000, 2001, 2002, 2001, 2002, 2003],\n",
    "       'pop': [1.5, 1.7, 3.6, 2.4, 2.9, 3.2]}\n",
    "# utilizamos un diccionario en Python \n",
    "data = DataFrame(data)\n",
    "print(type(data))\n",
    "data"
   ]
  },
  {
   "cell_type": "code",
   "execution_count": 44,
   "metadata": {},
   "outputs": [
    {
     "name": "stdout",
     "output_type": "stream",
     "text": [
      "<class 'pandas.core.frame.DataFrame'>\n"
     ]
    },
    {
     "data": {
      "text/html": [
       "<div>\n",
       "<style scoped>\n",
       "    .dataframe tbody tr th:only-of-type {\n",
       "        vertical-align: middle;\n",
       "    }\n",
       "\n",
       "    .dataframe tbody tr th {\n",
       "        vertical-align: top;\n",
       "    }\n",
       "\n",
       "    .dataframe thead th {\n",
       "        text-align: right;\n",
       "    }\n",
       "</style>\n",
       "<table border=\"1\" class=\"dataframe\">\n",
       "  <thead>\n",
       "    <tr style=\"text-align: right;\">\n",
       "      <th></th>\n",
       "      <th>Park Code</th>\n",
       "      <th>Park Name</th>\n",
       "      <th>State</th>\n",
       "      <th>Acres</th>\n",
       "      <th>Latitude</th>\n",
       "      <th>Longitude</th>\n",
       "    </tr>\n",
       "  </thead>\n",
       "  <tbody>\n",
       "    <tr>\n",
       "      <th>0</th>\n",
       "      <td>ACAD</td>\n",
       "      <td>Acadia National Park</td>\n",
       "      <td>ME</td>\n",
       "      <td>47390</td>\n",
       "      <td>44.35</td>\n",
       "      <td>-68.21</td>\n",
       "    </tr>\n",
       "    <tr>\n",
       "      <th>1</th>\n",
       "      <td>ARCH</td>\n",
       "      <td>Arches National Park</td>\n",
       "      <td>UT</td>\n",
       "      <td>76519</td>\n",
       "      <td>38.68</td>\n",
       "      <td>-109.57</td>\n",
       "    </tr>\n",
       "    <tr>\n",
       "      <th>2</th>\n",
       "      <td>BADL</td>\n",
       "      <td>Badlands National Park</td>\n",
       "      <td>SD</td>\n",
       "      <td>242756</td>\n",
       "      <td>43.75</td>\n",
       "      <td>-102.50</td>\n",
       "    </tr>\n",
       "    <tr>\n",
       "      <th>3</th>\n",
       "      <td>BIBE</td>\n",
       "      <td>Big Bend National Park</td>\n",
       "      <td>TX</td>\n",
       "      <td>801163</td>\n",
       "      <td>29.25</td>\n",
       "      <td>-103.25</td>\n",
       "    </tr>\n",
       "    <tr>\n",
       "      <th>4</th>\n",
       "      <td>BISC</td>\n",
       "      <td>Biscayne National Park</td>\n",
       "      <td>FL</td>\n",
       "      <td>172924</td>\n",
       "      <td>25.65</td>\n",
       "      <td>-80.08</td>\n",
       "    </tr>\n",
       "  </tbody>\n",
       "</table>\n",
       "</div>"
      ],
      "text/plain": [
       "  Park Code               Park Name State   Acres  Latitude  Longitude\n",
       "0      ACAD    Acadia National Park    ME   47390     44.35     -68.21\n",
       "1      ARCH    Arches National Park    UT   76519     38.68    -109.57\n",
       "2      BADL  Badlands National Park    SD  242756     43.75    -102.50\n",
       "3      BIBE  Big Bend National Park    TX  801163     29.25    -103.25\n",
       "4      BISC  Biscayne National Park    FL  172924     25.65     -80.08"
      ]
     },
     "execution_count": 44,
     "metadata": {},
     "output_type": "execute_result"
    }
   ],
   "source": [
    "# podemos leer un archivo (csv) y cargarlo como un dataframe\n",
    "data = pd.read_csv(\"../../../Datasets/parks.csv\")\n",
    "print(type(data))\n",
    "data.head(5)"
   ]
  },
  {
   "cell_type": "markdown",
   "metadata": {},
   "source": [
    "Podemos cambiar los nombres de las columnas y a los índices"
   ]
  },
  {
   "cell_type": "code",
   "execution_count": 21,
   "metadata": {
    "scrolled": true
   },
   "outputs": [
    {
     "data": {
      "text/html": [
       "<div>\n",
       "<style scoped>\n",
       "    .dataframe tbody tr th:only-of-type {\n",
       "        vertical-align: middle;\n",
       "    }\n",
       "\n",
       "    .dataframe tbody tr th {\n",
       "        vertical-align: top;\n",
       "    }\n",
       "\n",
       "    .dataframe thead th {\n",
       "        text-align: right;\n",
       "    }\n",
       "</style>\n",
       "<table border=\"1\" class=\"dataframe\">\n",
       "  <thead>\n",
       "    <tr style=\"text-align: right;\">\n",
       "      <th></th>\n",
       "      <th>Estado</th>\n",
       "      <th>Año</th>\n",
       "      <th>Población</th>\n",
       "    </tr>\n",
       "  </thead>\n",
       "  <tbody>\n",
       "    <tr>\n",
       "      <th>Registro1</th>\n",
       "      <td>Ohio</td>\n",
       "      <td>2000</td>\n",
       "      <td>1.5</td>\n",
       "    </tr>\n",
       "    <tr>\n",
       "      <th>Registro2</th>\n",
       "      <td>Ohio</td>\n",
       "      <td>2001</td>\n",
       "      <td>1.7</td>\n",
       "    </tr>\n",
       "    <tr>\n",
       "      <th>Registro3</th>\n",
       "      <td>Ohio</td>\n",
       "      <td>2002</td>\n",
       "      <td>3.6</td>\n",
       "    </tr>\n",
       "    <tr>\n",
       "      <th>Registro4</th>\n",
       "      <td>Nevada</td>\n",
       "      <td>2001</td>\n",
       "      <td>2.4</td>\n",
       "    </tr>\n",
       "    <tr>\n",
       "      <th>Registro5</th>\n",
       "      <td>Nevada</td>\n",
       "      <td>2002</td>\n",
       "      <td>2.9</td>\n",
       "    </tr>\n",
       "    <tr>\n",
       "      <th>Registro6</th>\n",
       "      <td>Nevada</td>\n",
       "      <td>2003</td>\n",
       "      <td>3.2</td>\n",
       "    </tr>\n",
       "  </tbody>\n",
       "</table>\n",
       "</div>"
      ],
      "text/plain": [
       "           Estado   Año  Población\n",
       "Registro1    Ohio  2000        1.5\n",
       "Registro2    Ohio  2001        1.7\n",
       "Registro3    Ohio  2002        3.6\n",
       "Registro4  Nevada  2001        2.4\n",
       "Registro5  Nevada  2002        2.9\n",
       "Registro6  Nevada  2003        3.2"
      ]
     },
     "execution_count": 21,
     "metadata": {},
     "output_type": "execute_result"
    }
   ],
   "source": [
    "state = Series( ['Ohio', 'Ohio', 'Ohio', 'Nevada', 'Nevada', 'Nevada'], name=\"state\")\n",
    "year = Series([2000, 2001, 2002, 2001, 2002, 2003], name=\"year\")\n",
    "pop =  Series([1.5, 1.7, 3.6, 2.4, 2.9, 3.2], name=\"pop\")\n",
    "data = pd.concat([state,year,pop], axis=1)\n",
    "# cambiemos los nombres de las columnas a español\n",
    "data.columns = [\"Estado\", \"Año\", \"Población\"]\n",
    "#data = data.rename({'state':'Estado','year':'Año','pop':'Población'}, axis='columns')\n",
    "# cambiemos los nombres de los indices de las filas \n",
    "data.index = [\"Registro1\", \"Registro2\", \"Registro3\", \"Registro4\", \"Registro5\", \"Registro6\"]\n",
    "data"
   ]
  },
  {
   "cell_type": "markdown",
   "metadata": {},
   "source": [
    "##### Carga de datos\n",
    "\n",
    "Podemos tener distintas situaciones donde debemos cargar conjuntos de datos (posiblemente de distinto tipo) a nuestra computadora local, observemos algunos ejemplos de Pandas para cargar datos."
   ]
  },
  {
   "cell_type": "markdown",
   "metadata": {},
   "source": [
    "+ _Si tenemos disponible un URL (enlace) donde podemos descargar y cargar los datos en memoria_, Pandas nos ofrece un método para realizar estas operaciones. Existen multiples repositorios abiertos a su uso para el trabajo de ciencia de datos, entre estos podemos citar:\n",
    "    + Kaggle\n",
    "    + University of California Machine Learning (UCI Machine Learning)\n",
    "    + IEEE DataPort\n",
    "    + World Bank Dataset\n",
    "    + AWS datasets\n",
    "    + Fuentes abiertas de instituciones públicas (por ejemplo, data.gov.in y datos.gov.co)\n",
    "    "
   ]
  },
  {
   "cell_type": "markdown",
   "metadata": {},
   "source": [
    "###### CSV"
   ]
  },
  {
   "cell_type": "code",
   "execution_count": 58,
   "metadata": {},
   "outputs": [],
   "source": [
    "?pd.read_csv"
   ]
  },
  {
   "cell_type": "code",
   "execution_count": 53,
   "metadata": {},
   "outputs": [
    {
     "data": {
      "text/html": [
       "<div>\n",
       "<style scoped>\n",
       "    .dataframe tbody tr th:only-of-type {\n",
       "        vertical-align: middle;\n",
       "    }\n",
       "\n",
       "    .dataframe tbody tr th {\n",
       "        vertical-align: top;\n",
       "    }\n",
       "\n",
       "    .dataframe thead th {\n",
       "        text-align: right;\n",
       "    }\n",
       "</style>\n",
       "<table border=\"1\" class=\"dataframe\">\n",
       "  <thead>\n",
       "    <tr style=\"text-align: right;\">\n",
       "      <th></th>\n",
       "      <th>sepal_length</th>\n",
       "      <th>sepal_width</th>\n",
       "      <th>petal_length</th>\n",
       "      <th>petal_width</th>\n",
       "      <th>class</th>\n",
       "    </tr>\n",
       "  </thead>\n",
       "  <tbody>\n",
       "    <tr>\n",
       "      <th>0</th>\n",
       "      <td>5.1</td>\n",
       "      <td>3.5</td>\n",
       "      <td>1.4</td>\n",
       "      <td>0.2</td>\n",
       "      <td>Iris-setosa</td>\n",
       "    </tr>\n",
       "    <tr>\n",
       "      <th>1</th>\n",
       "      <td>4.9</td>\n",
       "      <td>3.0</td>\n",
       "      <td>1.4</td>\n",
       "      <td>0.2</td>\n",
       "      <td>Iris-setosa</td>\n",
       "    </tr>\n",
       "    <tr>\n",
       "      <th>2</th>\n",
       "      <td>4.7</td>\n",
       "      <td>3.2</td>\n",
       "      <td>1.3</td>\n",
       "      <td>0.2</td>\n",
       "      <td>Iris-setosa</td>\n",
       "    </tr>\n",
       "    <tr>\n",
       "      <th>3</th>\n",
       "      <td>4.6</td>\n",
       "      <td>3.1</td>\n",
       "      <td>1.5</td>\n",
       "      <td>0.2</td>\n",
       "      <td>Iris-setosa</td>\n",
       "    </tr>\n",
       "    <tr>\n",
       "      <th>4</th>\n",
       "      <td>5.0</td>\n",
       "      <td>3.6</td>\n",
       "      <td>1.4</td>\n",
       "      <td>0.2</td>\n",
       "      <td>Iris-setosa</td>\n",
       "    </tr>\n",
       "  </tbody>\n",
       "</table>\n",
       "</div>"
      ],
      "text/plain": [
       "   sepal_length  sepal_width  petal_length  petal_width        class\n",
       "0           5.1          3.5           1.4          0.2  Iris-setosa\n",
       "1           4.9          3.0           1.4          0.2  Iris-setosa\n",
       "2           4.7          3.2           1.3          0.2  Iris-setosa\n",
       "3           4.6          3.1           1.5          0.2  Iris-setosa\n",
       "4           5.0          3.6           1.4          0.2  Iris-setosa"
      ]
     },
     "execution_count": 53,
     "metadata": {},
     "output_type": "execute_result"
    }
   ],
   "source": [
    "# cargamos un conjunto de datos (tipo .data) y les asignamos los nombres a cada columna\n",
    "df = pd.read_csv('https://archive.ics.uci.edu/ml/machine-learning-databases/iris/iris.data', \n",
    "                 header=None, names=[\"sepal_length\",\"sepal_width\", \"petal_length\",\"petal_width\",\"class\"])\n",
    "\n",
    "#df = pd.read_csv('../../../Datasets/iris.data', \n",
    "#                 header=None, names=[\"sepal_length\",\"sepal_width\", \"petal_length\",\"petal_width\",\"class\"])\n",
    "\n",
    "df.head(5)"
   ]
  },
  {
   "cell_type": "code",
   "execution_count": 61,
   "metadata": {
    "scrolled": false
   },
   "outputs": [
    {
     "data": {
      "text/html": [
       "<div>\n",
       "<style scoped>\n",
       "    .dataframe tbody tr th:only-of-type {\n",
       "        vertical-align: middle;\n",
       "    }\n",
       "\n",
       "    .dataframe tbody tr th {\n",
       "        vertical-align: top;\n",
       "    }\n",
       "\n",
       "    .dataframe thead th {\n",
       "        text-align: right;\n",
       "    }\n",
       "</style>\n",
       "<table border=\"1\" class=\"dataframe\">\n",
       "  <thead>\n",
       "    <tr style=\"text-align: right;\">\n",
       "      <th></th>\n",
       "      <th>fixed acidity</th>\n",
       "      <th>volatile acidity</th>\n",
       "      <th>citric acid</th>\n",
       "      <th>residual sugar</th>\n",
       "      <th>chlorides</th>\n",
       "      <th>free sulfur dioxide</th>\n",
       "      <th>total sulfur dioxide</th>\n",
       "      <th>density</th>\n",
       "      <th>pH</th>\n",
       "      <th>sulphates</th>\n",
       "      <th>alcohol</th>\n",
       "      <th>quality</th>\n",
       "    </tr>\n",
       "  </thead>\n",
       "  <tbody>\n",
       "    <tr>\n",
       "      <th>0</th>\n",
       "      <td>7.4</td>\n",
       "      <td>0.70</td>\n",
       "      <td>0.00</td>\n",
       "      <td>1.9</td>\n",
       "      <td>0.076</td>\n",
       "      <td>11.0</td>\n",
       "      <td>34.0</td>\n",
       "      <td>0.9978</td>\n",
       "      <td>3.51</td>\n",
       "      <td>0.56</td>\n",
       "      <td>9.4</td>\n",
       "      <td>5</td>\n",
       "    </tr>\n",
       "    <tr>\n",
       "      <th>1</th>\n",
       "      <td>7.8</td>\n",
       "      <td>0.88</td>\n",
       "      <td>0.00</td>\n",
       "      <td>2.6</td>\n",
       "      <td>0.098</td>\n",
       "      <td>25.0</td>\n",
       "      <td>67.0</td>\n",
       "      <td>0.9968</td>\n",
       "      <td>3.20</td>\n",
       "      <td>0.68</td>\n",
       "      <td>9.8</td>\n",
       "      <td>5</td>\n",
       "    </tr>\n",
       "    <tr>\n",
       "      <th>2</th>\n",
       "      <td>7.8</td>\n",
       "      <td>0.76</td>\n",
       "      <td>0.04</td>\n",
       "      <td>2.3</td>\n",
       "      <td>0.092</td>\n",
       "      <td>15.0</td>\n",
       "      <td>54.0</td>\n",
       "      <td>0.9970</td>\n",
       "      <td>3.26</td>\n",
       "      <td>0.65</td>\n",
       "      <td>9.8</td>\n",
       "      <td>5</td>\n",
       "    </tr>\n",
       "    <tr>\n",
       "      <th>3</th>\n",
       "      <td>11.2</td>\n",
       "      <td>0.28</td>\n",
       "      <td>0.56</td>\n",
       "      <td>1.9</td>\n",
       "      <td>0.075</td>\n",
       "      <td>17.0</td>\n",
       "      <td>60.0</td>\n",
       "      <td>0.9980</td>\n",
       "      <td>3.16</td>\n",
       "      <td>0.58</td>\n",
       "      <td>9.8</td>\n",
       "      <td>6</td>\n",
       "    </tr>\n",
       "    <tr>\n",
       "      <th>4</th>\n",
       "      <td>7.4</td>\n",
       "      <td>0.70</td>\n",
       "      <td>0.00</td>\n",
       "      <td>1.9</td>\n",
       "      <td>0.076</td>\n",
       "      <td>11.0</td>\n",
       "      <td>34.0</td>\n",
       "      <td>0.9978</td>\n",
       "      <td>3.51</td>\n",
       "      <td>0.56</td>\n",
       "      <td>9.4</td>\n",
       "      <td>5</td>\n",
       "    </tr>\n",
       "  </tbody>\n",
       "</table>\n",
       "</div>"
      ],
      "text/plain": [
       "   fixed acidity  volatile acidity  citric acid  residual sugar  chlorides  \\\n",
       "0            7.4              0.70         0.00             1.9      0.076   \n",
       "1            7.8              0.88         0.00             2.6      0.098   \n",
       "2            7.8              0.76         0.04             2.3      0.092   \n",
       "3           11.2              0.28         0.56             1.9      0.075   \n",
       "4            7.4              0.70         0.00             1.9      0.076   \n",
       "\n",
       "   free sulfur dioxide  total sulfur dioxide  density    pH  sulphates  \\\n",
       "0                 11.0                  34.0   0.9978  3.51       0.56   \n",
       "1                 25.0                  67.0   0.9968  3.20       0.68   \n",
       "2                 15.0                  54.0   0.9970  3.26       0.65   \n",
       "3                 17.0                  60.0   0.9980  3.16       0.58   \n",
       "4                 11.0                  34.0   0.9978  3.51       0.56   \n",
       "\n",
       "   alcohol  quality  \n",
       "0      9.4        5  \n",
       "1      9.8        5  \n",
       "2      9.8        5  \n",
       "3      9.8        6  \n",
       "4      9.4        5  "
      ]
     },
     "execution_count": 61,
     "metadata": {},
     "output_type": "execute_result"
    }
   ],
   "source": [
    "\"\"\" Cargamos un csv desde un URL, preste atención que ahora definimos el separador (por defecto\n",
    "procesa datos separados por comas) \"\"\"\n",
    "df = pd.read_csv('https://archive.ics.uci.edu/ml/machine-learning-databases/wine-quality/winequality-red.csv',\n",
    "                sep=';')\n",
    "#df = pd.read_csv('../../../Datasets/winequality-red.csv', sep=';')\n",
    "df.head(5)"
   ]
  },
  {
   "cell_type": "code",
   "execution_count": 14,
   "metadata": {
    "scrolled": true
   },
   "outputs": [
    {
     "data": {
      "text/html": [
       "<div>\n",
       "<style scoped>\n",
       "    .dataframe tbody tr th:only-of-type {\n",
       "        vertical-align: middle;\n",
       "    }\n",
       "\n",
       "    .dataframe tbody tr th {\n",
       "        vertical-align: top;\n",
       "    }\n",
       "\n",
       "    .dataframe thead th {\n",
       "        text-align: right;\n",
       "    }\n",
       "</style>\n",
       "<table border=\"1\" class=\"dataframe\">\n",
       "  <thead>\n",
       "    <tr style=\"text-align: right;\">\n",
       "      <th></th>\n",
       "      <th>ID</th>\n",
       "      <th>Longitude</th>\n",
       "      <th>Latitude</th>\n",
       "      <th>Report key</th>\n",
       "      <th>Date and time</th>\n",
       "      <th>Type</th>\n",
       "      <th>Category</th>\n",
       "      <th>Title</th>\n",
       "      <th>Region</th>\n",
       "      <th>Attack on</th>\n",
       "      <th>...</th>\n",
       "      <th>Coalition forces killed</th>\n",
       "      <th>Iraq forces wounded</th>\n",
       "      <th>Iraq forces killed</th>\n",
       "      <th>Civilian wia</th>\n",
       "      <th>Civilian kia</th>\n",
       "      <th>Enemy wia</th>\n",
       "      <th>Enemy kia</th>\n",
       "      <th>Enemy detained</th>\n",
       "      <th>Total deaths</th>\n",
       "      <th>Longitude.1</th>\n",
       "    </tr>\n",
       "  </thead>\n",
       "  <tbody>\n",
       "    <tr>\n",
       "      <th>0</th>\n",
       "      <td>9488</td>\n",
       "      <td>44.390114</td>\n",
       "      <td>33.299713</td>\n",
       "      <td>9488</td>\n",
       "      <td>01/01/2004 03:00</td>\n",
       "      <td>Non-Combat Event</td>\n",
       "      <td>Accident</td>\n",
       "      <td>FATAL VEHICLE ACCIDENT IN BAGHDAD (ZONE 1) - 2...</td>\n",
       "      <td>MND-BAGHDAD</td>\n",
       "      <td>NEUTRAL</td>\n",
       "      <td>...</td>\n",
       "      <td>2</td>\n",
       "      <td>0</td>\n",
       "      <td>0</td>\n",
       "      <td>0</td>\n",
       "      <td>0</td>\n",
       "      <td>0</td>\n",
       "      <td>0</td>\n",
       "      <td>0</td>\n",
       "      <td>2</td>\n",
       "      <td>44.390114</td>\n",
       "    </tr>\n",
       "    <tr>\n",
       "      <th>1</th>\n",
       "      <td>9507</td>\n",
       "      <td>43.403477</td>\n",
       "      <td>33.181026</td>\n",
       "      <td>9507</td>\n",
       "      <td>01/01/2004 09:26</td>\n",
       "      <td>Non-Combat Event</td>\n",
       "      <td>Accident</td>\n",
       "      <td>1/1 ID 5-TON TRUCK ACCIDENT S. OF AR RAMADI: 1...</td>\n",
       "      <td>MNF-W</td>\n",
       "      <td>NEUTRAL</td>\n",
       "      <td>...</td>\n",
       "      <td>1</td>\n",
       "      <td>0</td>\n",
       "      <td>0</td>\n",
       "      <td>0</td>\n",
       "      <td>0</td>\n",
       "      <td>0</td>\n",
       "      <td>0</td>\n",
       "      <td>0</td>\n",
       "      <td>1</td>\n",
       "      <td>43.403477</td>\n",
       "    </tr>\n",
       "    <tr>\n",
       "      <th>2</th>\n",
       "      <td>9543</td>\n",
       "      <td>43.166100</td>\n",
       "      <td>36.378567</td>\n",
       "      <td>9543</td>\n",
       "      <td>01/01/2004 12:00</td>\n",
       "      <td>Criminal Event</td>\n",
       "      <td>Murder</td>\n",
       "      <td>UNIVERSITY DEAN FOUND DEAD</td>\n",
       "      <td>MND-N</td>\n",
       "      <td>ENEMY</td>\n",
       "      <td>...</td>\n",
       "      <td>0</td>\n",
       "      <td>0</td>\n",
       "      <td>0</td>\n",
       "      <td>0</td>\n",
       "      <td>1</td>\n",
       "      <td>0</td>\n",
       "      <td>0</td>\n",
       "      <td>0</td>\n",
       "      <td>1</td>\n",
       "      <td>43.166100</td>\n",
       "    </tr>\n",
       "    <tr>\n",
       "      <th>3</th>\n",
       "      <td>9549</td>\n",
       "      <td>46.187485</td>\n",
       "      <td>31.057678</td>\n",
       "      <td>9549</td>\n",
       "      <td>01/01/2004 16:30</td>\n",
       "      <td>Friendly Action</td>\n",
       "      <td>Other</td>\n",
       "      <td>GAS STATION SET ON FIRE; 1 X EN KIA, 2 X EN WIA</td>\n",
       "      <td>MND-SE</td>\n",
       "      <td>FRIEND</td>\n",
       "      <td>...</td>\n",
       "      <td>0</td>\n",
       "      <td>0</td>\n",
       "      <td>0</td>\n",
       "      <td>0</td>\n",
       "      <td>0</td>\n",
       "      <td>2</td>\n",
       "      <td>1</td>\n",
       "      <td>0</td>\n",
       "      <td>1</td>\n",
       "      <td>46.187485</td>\n",
       "    </tr>\n",
       "    <tr>\n",
       "      <th>4</th>\n",
       "      <td>63A65482-0487-4D2C-93F6-E3AD2637CDA0</td>\n",
       "      <td>46.187485</td>\n",
       "      <td>31.057678</td>\n",
       "      <td>63A65482-0487-4D2C-93F6-E3AD2637CDA0</td>\n",
       "      <td>01/01/2004 16:30</td>\n",
       "      <td>Criminal Event</td>\n",
       "      <td>Arson</td>\n",
       "      <td>TF DIMONIUS personnel guarding CIMIC house, re...</td>\n",
       "      <td>MND-SE</td>\n",
       "      <td>ENEMY</td>\n",
       "      <td>...</td>\n",
       "      <td>0</td>\n",
       "      <td>0</td>\n",
       "      <td>0</td>\n",
       "      <td>2</td>\n",
       "      <td>1</td>\n",
       "      <td>0</td>\n",
       "      <td>0</td>\n",
       "      <td>0</td>\n",
       "      <td>1</td>\n",
       "      <td>46.187485</td>\n",
       "    </tr>\n",
       "  </tbody>\n",
       "</table>\n",
       "<p>5 rows × 21 columns</p>\n",
       "</div>"
      ],
      "text/plain": [
       "                                     ID  Longitude   Latitude  \\\n",
       "0                                  9488  44.390114  33.299713   \n",
       "1                                  9507  43.403477  33.181026   \n",
       "2                                  9543  43.166100  36.378567   \n",
       "3                                  9549  46.187485  31.057678   \n",
       "4  63A65482-0487-4D2C-93F6-E3AD2637CDA0  46.187485  31.057678   \n",
       "\n",
       "                             Report key     Date and time              Type  \\\n",
       "0                                  9488  01/01/2004 03:00  Non-Combat Event   \n",
       "1                                  9507  01/01/2004 09:26  Non-Combat Event   \n",
       "2                                  9543  01/01/2004 12:00    Criminal Event   \n",
       "3                                  9549  01/01/2004 16:30   Friendly Action   \n",
       "4  63A65482-0487-4D2C-93F6-E3AD2637CDA0  01/01/2004 16:30    Criminal Event   \n",
       "\n",
       "   Category                                              Title       Region  \\\n",
       "0  Accident  FATAL VEHICLE ACCIDENT IN BAGHDAD (ZONE 1) - 2...  MND-BAGHDAD   \n",
       "1  Accident  1/1 ID 5-TON TRUCK ACCIDENT S. OF AR RAMADI: 1...        MNF-W   \n",
       "2    Murder                         UNIVERSITY DEAN FOUND DEAD        MND-N   \n",
       "3     Other    GAS STATION SET ON FIRE; 1 X EN KIA, 2 X EN WIA       MND-SE   \n",
       "4     Arson  TF DIMONIUS personnel guarding CIMIC house, re...       MND-SE   \n",
       "\n",
       "  Attack on  ...  Coalition forces killed  Iraq forces wounded  \\\n",
       "0   NEUTRAL  ...                        2                    0   \n",
       "1   NEUTRAL  ...                        1                    0   \n",
       "2     ENEMY  ...                        0                    0   \n",
       "3    FRIEND  ...                        0                    0   \n",
       "4     ENEMY  ...                        0                    0   \n",
       "\n",
       "   Iraq forces killed  Civilian wia  Civilian kia  Enemy wia  Enemy kia  \\\n",
       "0                   0             0             0          0          0   \n",
       "1                   0             0             0          0          0   \n",
       "2                   0             0             1          0          0   \n",
       "3                   0             0             0          2          1   \n",
       "4                   0             2             1          0          0   \n",
       "\n",
       "   Enemy detained  Total deaths  Longitude.1  \n",
       "0               0             2    44.390114  \n",
       "1               0             1    43.403477  \n",
       "2               0             1    43.166100  \n",
       "3               0             1    46.187485  \n",
       "4               0             1    46.187485  \n",
       "\n",
       "[5 rows x 21 columns]"
      ]
     },
     "execution_count": 14,
     "metadata": {},
     "output_type": "execute_result"
    }
   ],
   "source": [
    "# Cargamos un csv que se encuentra comprimido dentro de un archivo .zip\n",
    "df = pd.read_csv('https://gist.github.com/cjpeterein/643029/raw/4d7064c0f0a680deadc9f34056a8fb1d2711e45b/deaths.csv.zip')\n",
    "df.head(5)"
   ]
  },
  {
   "cell_type": "markdown",
   "metadata": {},
   "source": [
    "Otra forma de cargar y su vez grabar el archivo csv en nuestro disco duro."
   ]
  },
  {
   "cell_type": "code",
   "execution_count": 7,
   "metadata": {},
   "outputs": [
    {
     "data": {
      "text/html": [
       "<div>\n",
       "<style scoped>\n",
       "    .dataframe tbody tr th:only-of-type {\n",
       "        vertical-align: middle;\n",
       "    }\n",
       "\n",
       "    .dataframe tbody tr th {\n",
       "        vertical-align: top;\n",
       "    }\n",
       "\n",
       "    .dataframe thead th {\n",
       "        text-align: right;\n",
       "    }\n",
       "</style>\n",
       "<table border=\"1\" class=\"dataframe\">\n",
       "  <thead>\n",
       "    <tr style=\"text-align: right;\">\n",
       "      <th></th>\n",
       "      <th>vhigh</th>\n",
       "      <th>vhigh.1</th>\n",
       "      <th>2</th>\n",
       "      <th>2.1</th>\n",
       "      <th>small</th>\n",
       "      <th>low</th>\n",
       "      <th>unacc</th>\n",
       "    </tr>\n",
       "  </thead>\n",
       "  <tbody>\n",
       "    <tr>\n",
       "      <th>0</th>\n",
       "      <td>vhigh</td>\n",
       "      <td>vhigh</td>\n",
       "      <td>2</td>\n",
       "      <td>2</td>\n",
       "      <td>small</td>\n",
       "      <td>med</td>\n",
       "      <td>unacc</td>\n",
       "    </tr>\n",
       "    <tr>\n",
       "      <th>1</th>\n",
       "      <td>vhigh</td>\n",
       "      <td>vhigh</td>\n",
       "      <td>2</td>\n",
       "      <td>2</td>\n",
       "      <td>small</td>\n",
       "      <td>high</td>\n",
       "      <td>unacc</td>\n",
       "    </tr>\n",
       "    <tr>\n",
       "      <th>2</th>\n",
       "      <td>vhigh</td>\n",
       "      <td>vhigh</td>\n",
       "      <td>2</td>\n",
       "      <td>2</td>\n",
       "      <td>med</td>\n",
       "      <td>low</td>\n",
       "      <td>unacc</td>\n",
       "    </tr>\n",
       "    <tr>\n",
       "      <th>3</th>\n",
       "      <td>vhigh</td>\n",
       "      <td>vhigh</td>\n",
       "      <td>2</td>\n",
       "      <td>2</td>\n",
       "      <td>med</td>\n",
       "      <td>med</td>\n",
       "      <td>unacc</td>\n",
       "    </tr>\n",
       "    <tr>\n",
       "      <th>4</th>\n",
       "      <td>vhigh</td>\n",
       "      <td>vhigh</td>\n",
       "      <td>2</td>\n",
       "      <td>2</td>\n",
       "      <td>med</td>\n",
       "      <td>high</td>\n",
       "      <td>unacc</td>\n",
       "    </tr>\n",
       "  </tbody>\n",
       "</table>\n",
       "</div>"
      ],
      "text/plain": [
       "   vhigh vhigh.1  2 2.1  small   low  unacc\n",
       "0  vhigh   vhigh  2   2  small   med  unacc\n",
       "1  vhigh   vhigh  2   2  small  high  unacc\n",
       "2  vhigh   vhigh  2   2    med   low  unacc\n",
       "3  vhigh   vhigh  2   2    med   med  unacc\n",
       "4  vhigh   vhigh  2   2    med  high  unacc"
      ]
     },
     "execution_count": 7,
     "metadata": {},
     "output_type": "execute_result"
    }
   ],
   "source": [
    "import requests \n",
    "import csv\n",
    "data = requests.get('https://archive.ics.uci.edu/ml/machine-learning-databases/car/car.data')\n",
    "with open(\"name.csv\", \"w+\") as f:\n",
    "    writer = csv.writer(f)\n",
    "    reader = csv.reader(data.text.splitlines())\n",
    "    for row in reader:\n",
    "        writer.writerow(row)\n",
    "data = pd.read_csv(\"name.csv\")                    \n",
    "data.head()"
   ]
  },
  {
   "cell_type": "markdown",
   "metadata": {},
   "source": [
    "Pandas tiene métodos dedicados a procesar distintas fuentes de datos, esta y más información la podemos encontrar en su página web:\n",
    "\n",
    "https://pandas.pydata.org/pandas-docs/stable/reference/io.html\n",
    "\n",
    "Algunos de los tipos de archivos que podemos tratar son los siguientes:\n",
    "\n",
    "+ HTML\n",
    "+ JSON\n",
    "+ Excel\n",
    "+ SQL\n",
    "+ SAS\n",
    "+ Google BigQuery\n",
    "+ STATA"
   ]
  },
  {
   "cell_type": "markdown",
   "metadata": {},
   "source": [
    "###### JSON"
   ]
  },
  {
   "cell_type": "code",
   "execution_count": 34,
   "metadata": {
    "scrolled": true
   },
   "outputs": [
    {
     "data": {
      "text/html": [
       "<div>\n",
       "<style scoped>\n",
       "    .dataframe tbody tr th:only-of-type {\n",
       "        vertical-align: middle;\n",
       "    }\n",
       "\n",
       "    .dataframe tbody tr th {\n",
       "        vertical-align: top;\n",
       "    }\n",
       "\n",
       "    .dataframe thead th {\n",
       "        text-align: right;\n",
       "    }\n",
       "</style>\n",
       "<table border=\"1\" class=\"dataframe\">\n",
       "  <thead>\n",
       "    <tr style=\"text-align: right;\">\n",
       "      <th></th>\n",
       "      <th>integer</th>\n",
       "      <th>datetime</th>\n",
       "      <th>category</th>\n",
       "    </tr>\n",
       "  </thead>\n",
       "  <tbody>\n",
       "    <tr>\n",
       "      <th>0</th>\n",
       "      <td>5</td>\n",
       "      <td>2015-01-01 00:00:00</td>\n",
       "      <td>0</td>\n",
       "    </tr>\n",
       "    <tr>\n",
       "      <th>1</th>\n",
       "      <td>5</td>\n",
       "      <td>2015-01-01 00:00:01</td>\n",
       "      <td>0</td>\n",
       "    </tr>\n",
       "    <tr>\n",
       "      <th>10</th>\n",
       "      <td>5</td>\n",
       "      <td>2015-01-01 00:00:10</td>\n",
       "      <td>0</td>\n",
       "    </tr>\n",
       "    <tr>\n",
       "      <th>11</th>\n",
       "      <td>5</td>\n",
       "      <td>2015-01-01 00:00:11</td>\n",
       "      <td>0</td>\n",
       "    </tr>\n",
       "    <tr>\n",
       "      <th>12</th>\n",
       "      <td>8</td>\n",
       "      <td>2015-01-01 00:00:12</td>\n",
       "      <td>0</td>\n",
       "    </tr>\n",
       "  </tbody>\n",
       "</table>\n",
       "</div>"
      ],
      "text/plain": [
       "    integer            datetime  category\n",
       "0         5 2015-01-01 00:00:00         0\n",
       "1         5 2015-01-01 00:00:01         0\n",
       "10        5 2015-01-01 00:00:10         0\n",
       "11        5 2015-01-01 00:00:11         0\n",
       "12        8 2015-01-01 00:00:12         0"
      ]
     },
     "execution_count": 34,
     "metadata": {},
     "output_type": "execute_result"
    }
   ],
   "source": [
    "# hay que tener encuenta que el json debe estar normalizado\n",
    "\n",
    "pd.read_json(\"https://raw.githubusercontent.com/chrisalbon/simulated_datasets/master/data.json\").head()"
   ]
  },
  {
   "cell_type": "markdown",
   "metadata": {},
   "source": [
    "###### EXCEL"
   ]
  },
  {
   "cell_type": "code",
   "execution_count": 10,
   "metadata": {},
   "outputs": [
    {
     "name": "stdout",
     "output_type": "stream",
     "text": [
      "<class 'pandas.core.frame.DataFrame'>\n",
      "RangeIndex: 10 entries, 0 to 9\n",
      "Data columns (total 5 columns):\n",
      "Name       10 non-null object\n",
      "ID         10 non-null int64\n",
      "Mean       9 non-null float64\n",
      "Correct    9 non-null float64\n",
      "Session    10 non-null int64\n",
      "dtypes: float64(2), int64(2), object(1)\n",
      "memory usage: 480.0+ bytes\n"
     ]
    }
   ],
   "source": [
    "\"\"\"\n",
    "Vamos a cargar los siguientes archivos de excel obtenidos de las siguientes páginas \n",
    "https://pbpython.com/excel-file-combine.html\n",
    "https://github.com/marsja/jupyter/blob/master/example_sheets2.xlsx\n",
    "\"\"\"\n",
    "# Para el siguiente ejemplo cargaremos un excel que tiene dos sheets, debemos tener presente\n",
    "# que por defecto trae la posición 0\n",
    "#df = pd.read_excel(\"../../../datasets/example_sheets2.xlsx\")\n",
    "# cargamos el segundo sheet desde el indice\n",
    "#df = pd.read_excel(\"../../../datasets/example_sheets2.xlsx\", sheet_name=1)\n",
    "# cargamos el segundo desde su nombre que lo identifica\n",
    "df = pd.read_excel(\"../../../datasets/example_sheets2.xlsx\", sheet_name=\"Session2\")\n",
    "df.info()"
   ]
  },
  {
   "cell_type": "code",
   "execution_count": 17,
   "metadata": {},
   "outputs": [
    {
     "name": "stdout",
     "output_type": "stream",
     "text": [
      "odict_keys(['Session1', 'Session2'])\n"
     ]
    }
   ],
   "source": [
    "# Ahora veamos la diferencia de cargar los datos con el sheet igual a None\n",
    "df = pd.read_excel(\"../../../datasets/example_sheets2.xlsx\", sheet_name=None)\n",
    "type(df)\n",
    "# Observemos que obtenemos un diccionario donde cada key corresponde a un identificador sheet\n",
    "#print(df.keys())"
   ]
  },
  {
   "cell_type": "code",
   "execution_count": 19,
   "metadata": {},
   "outputs": [
    {
     "name": "stdout",
     "output_type": "stream",
     "text": [
      "<class 'pandas.core.frame.DataFrame'>\n",
      "RangeIndex: 10 entries, 0 to 9\n",
      "Data columns (total 5 columns):\n",
      "Name       10 non-null object\n",
      "ID         10 non-null int64\n",
      "Mean       10 non-null int64\n",
      "Correct    10 non-null int64\n",
      "Session    10 non-null int64\n",
      "dtypes: int64(4), object(1)\n",
      "memory usage: 480.0+ bytes\n"
     ]
    }
   ],
   "source": [
    "# obteniendo los valores por identificador vemos que son de tipo DataFrame de Pandas\n",
    "# type(df['Session1'])\n",
    "df = df['Session1']\n",
    "df.info()"
   ]
  },
  {
   "cell_type": "markdown",
   "metadata": {},
   "source": [
    "¿Cuantos recursos se encuentra consumiendo nuestro dataframe?"
   ]
  },
  {
   "cell_type": "code",
   "execution_count": 29,
   "metadata": {},
   "outputs": [
    {
     "name": "stdout",
     "output_type": "stream",
     "text": [
      "<class 'pandas.core.frame.DataFrame'>\n",
      "RangeIndex: 1599 entries, 0 to 1598\n",
      "Data columns (total 12 columns):\n",
      "fixed acidity           1599 non-null float64\n",
      "volatile acidity        1599 non-null float64\n",
      "citric acid             1599 non-null float64\n",
      "residual sugar          1599 non-null float64\n",
      "chlorides               1599 non-null float64\n",
      "free sulfur dioxide     1599 non-null float64\n",
      "total sulfur dioxide    1599 non-null float64\n",
      "density                 1599 non-null float64\n",
      "pH                      1599 non-null float64\n",
      "sulphates               1599 non-null float64\n",
      "alcohol                 1599 non-null float64\n",
      "quality                 1599 non-null int64\n",
      "dtypes: float64(11), int64(1)\n",
      "memory usage: 150.0 KB\n"
     ]
    }
   ],
   "source": [
    "df = pd.read_csv('https://archive.ics.uci.edu/ml/machine-learning-databases/wine-quality/winequality-red.csv',\n",
    "                sep=';')\n",
    "df.info()"
   ]
  },
  {
   "cell_type": "markdown",
   "metadata": {},
   "source": [
    "Un problema común que podríamos enfrentar es el formato en el archivo excel, analicemos el siguiente archivo descargado desde el siguiente repositorio:\n",
    "\n",
    "<img src=\"../../../Utilities/excel_problem.png\" >\n",
    "<center> \n",
    "https://www.kaggle.com/plsms21/xls-files-all/downloads/xls-files-all.zip/1 </center>"
   ]
  },
  {
   "cell_type": "markdown",
   "metadata": {},
   "source": [
    "En la última captura podemos ver que el archivo tiene muchas hojas, como vimos podemos hacer un dataframe llamando a una de ellas, pero ¿qué va a pasar con su formato?"
   ]
  },
  {
   "cell_type": "code",
   "execution_count": 45,
   "metadata": {
    "scrolled": true
   },
   "outputs": [
    {
     "data": {
      "text/html": [
       "<div>\n",
       "<style scoped>\n",
       "    .dataframe tbody tr th:only-of-type {\n",
       "        vertical-align: middle;\n",
       "    }\n",
       "\n",
       "    .dataframe tbody tr th {\n",
       "        vertical-align: top;\n",
       "    }\n",
       "\n",
       "    .dataframe thead th {\n",
       "        text-align: right;\n",
       "    }\n",
       "</style>\n",
       "<table border=\"1\" class=\"dataframe\">\n",
       "  <thead>\n",
       "    <tr style=\"text-align: right;\">\n",
       "      <th></th>\n",
       "      <th>WIC PROGRAM -- TOTAL NUMBER OF WOMEN PARTICIPATING</th>\n",
       "      <th>Unnamed: 1</th>\n",
       "      <th>Unnamed: 2</th>\n",
       "      <th>Unnamed: 3</th>\n",
       "      <th>Unnamed: 4</th>\n",
       "      <th>Unnamed: 5</th>\n",
       "      <th>Unnamed: 6</th>\n",
       "      <th>Unnamed: 7</th>\n",
       "      <th>Unnamed: 8</th>\n",
       "      <th>Unnamed: 9</th>\n",
       "      <th>Unnamed: 10</th>\n",
       "      <th>Unnamed: 11</th>\n",
       "      <th>Unnamed: 12</th>\n",
       "      <th>Unnamed: 13</th>\n",
       "    </tr>\n",
       "  </thead>\n",
       "  <tbody>\n",
       "    <tr>\n",
       "      <th>0</th>\n",
       "      <td>FISCAL YEAR 2013</td>\n",
       "      <td>NaN</td>\n",
       "      <td>NaN</td>\n",
       "      <td>NaN</td>\n",
       "      <td>NaN</td>\n",
       "      <td>NaN</td>\n",
       "      <td>NaN</td>\n",
       "      <td>NaN</td>\n",
       "      <td>NaN</td>\n",
       "      <td>NaN</td>\n",
       "      <td>NaN</td>\n",
       "      <td>NaN</td>\n",
       "      <td>NaN</td>\n",
       "      <td>NaN</td>\n",
       "    </tr>\n",
       "    <tr>\n",
       "      <th>1</th>\n",
       "      <td>Data as of October 05, 2018</td>\n",
       "      <td>NaN</td>\n",
       "      <td>NaN</td>\n",
       "      <td>NaN</td>\n",
       "      <td>NaN</td>\n",
       "      <td>NaN</td>\n",
       "      <td>NaN</td>\n",
       "      <td>NaN</td>\n",
       "      <td>NaN</td>\n",
       "      <td>NaN</td>\n",
       "      <td>NaN</td>\n",
       "      <td>NaN</td>\n",
       "      <td>NaN</td>\n",
       "      <td>NaN</td>\n",
       "    </tr>\n",
       "    <tr>\n",
       "      <th>2</th>\n",
       "      <td>NaN</td>\n",
       "      <td>NaN</td>\n",
       "      <td>NaN</td>\n",
       "      <td>NaN</td>\n",
       "      <td>NaN</td>\n",
       "      <td>NaN</td>\n",
       "      <td>NaN</td>\n",
       "      <td>NaN</td>\n",
       "      <td>NaN</td>\n",
       "      <td>NaN</td>\n",
       "      <td>NaN</td>\n",
       "      <td>NaN</td>\n",
       "      <td>NaN</td>\n",
       "      <td>NaN</td>\n",
       "    </tr>\n",
       "    <tr>\n",
       "      <th>3</th>\n",
       "      <td>State Agency or Indian Tribal Organization</td>\n",
       "      <td>2012-10-01 00:00:00</td>\n",
       "      <td>2012-11-01 00:00:00</td>\n",
       "      <td>2012-12-01 00:00:00</td>\n",
       "      <td>2013-01-01 00:00:00</td>\n",
       "      <td>2013-02-01 00:00:00</td>\n",
       "      <td>2013-03-01 00:00:00</td>\n",
       "      <td>2013-04-01 00:00:00</td>\n",
       "      <td>2013-05-01 00:00:00</td>\n",
       "      <td>2013-06-01 00:00:00</td>\n",
       "      <td>2013-07-01 00:00:00</td>\n",
       "      <td>2013-08-01 00:00:00</td>\n",
       "      <td>2013-09-01 00:00:00</td>\n",
       "      <td>Average Participation</td>\n",
       "    </tr>\n",
       "    <tr>\n",
       "      <th>4</th>\n",
       "      <td>Connecticut</td>\n",
       "      <td>11891</td>\n",
       "      <td>11763</td>\n",
       "      <td>11328</td>\n",
       "      <td>11786</td>\n",
       "      <td>11159</td>\n",
       "      <td>11070</td>\n",
       "      <td>11379</td>\n",
       "      <td>11666</td>\n",
       "      <td>11387</td>\n",
       "      <td>11587</td>\n",
       "      <td>11570</td>\n",
       "      <td>11376</td>\n",
       "      <td>11496.8</td>\n",
       "    </tr>\n",
       "  </tbody>\n",
       "</table>\n",
       "</div>"
      ],
      "text/plain": [
       "  WIC PROGRAM -- TOTAL NUMBER OF WOMEN PARTICIPATING           Unnamed: 1  \\\n",
       "0                                   FISCAL YEAR 2013                  NaN   \n",
       "1                        Data as of October 05, 2018                  NaN   \n",
       "2                                                NaN                  NaN   \n",
       "3         State Agency or Indian Tribal Organization  2012-10-01 00:00:00   \n",
       "4                                        Connecticut                11891   \n",
       "\n",
       "            Unnamed: 2           Unnamed: 3           Unnamed: 4  \\\n",
       "0                  NaN                  NaN                  NaN   \n",
       "1                  NaN                  NaN                  NaN   \n",
       "2                  NaN                  NaN                  NaN   \n",
       "3  2012-11-01 00:00:00  2012-12-01 00:00:00  2013-01-01 00:00:00   \n",
       "4                11763                11328                11786   \n",
       "\n",
       "            Unnamed: 5           Unnamed: 6           Unnamed: 7  \\\n",
       "0                  NaN                  NaN                  NaN   \n",
       "1                  NaN                  NaN                  NaN   \n",
       "2                  NaN                  NaN                  NaN   \n",
       "3  2013-02-01 00:00:00  2013-03-01 00:00:00  2013-04-01 00:00:00   \n",
       "4                11159                11070                11379   \n",
       "\n",
       "            Unnamed: 8           Unnamed: 9          Unnamed: 10  \\\n",
       "0                  NaN                  NaN                  NaN   \n",
       "1                  NaN                  NaN                  NaN   \n",
       "2                  NaN                  NaN                  NaN   \n",
       "3  2013-05-01 00:00:00  2013-06-01 00:00:00  2013-07-01 00:00:00   \n",
       "4                11666                11387                11587   \n",
       "\n",
       "           Unnamed: 11          Unnamed: 12            Unnamed: 13  \n",
       "0                  NaN                  NaN                    NaN  \n",
       "1                  NaN                  NaN                    NaN  \n",
       "2                  NaN                  NaN                    NaN  \n",
       "3  2013-08-01 00:00:00  2013-09-01 00:00:00  Average Participation  \n",
       "4                11570                11376                11496.8  "
      ]
     },
     "execution_count": 45,
     "metadata": {},
     "output_type": "execute_result"
    }
   ],
   "source": [
    "pd.read_excel(\"../../../Datasets/xls-files-all/WICAgencies2013ytd.xls\", \n",
    "              sheet_name='Total Women').head()"
   ]
  },
  {
   "cell_type": "markdown",
   "metadata": {},
   "source": [
    "###### SQLite\n",
    "\n",
    "Voy a utilizar una base de datos descargada del siguiente repositorio \n",
    "\n",
    "https://www.kaggle.com/rtatman/188-million-us-wildfires/downloads/188-million-us-wildfires.zip/1\n",
    "\n",
    "Para generar la conexión entre Python y una base de datos SQLite podemos utilizar el paquete **sqlite3**."
   ]
  },
  {
   "cell_type": "code",
   "execution_count": 38,
   "metadata": {},
   "outputs": [
    {
     "data": {
      "text/html": [
       "<div>\n",
       "<style scoped>\n",
       "    .dataframe tbody tr th:only-of-type {\n",
       "        vertical-align: middle;\n",
       "    }\n",
       "\n",
       "    .dataframe tbody tr th {\n",
       "        vertical-align: top;\n",
       "    }\n",
       "\n",
       "    .dataframe thead th {\n",
       "        text-align: right;\n",
       "    }\n",
       "</style>\n",
       "<table border=\"1\" class=\"dataframe\">\n",
       "  <thead>\n",
       "    <tr style=\"text-align: right;\">\n",
       "      <th></th>\n",
       "      <th>OBJECTID</th>\n",
       "      <th>FOD_ID</th>\n",
       "      <th>FPA_ID</th>\n",
       "      <th>SOURCE_SYSTEM_TYPE</th>\n",
       "      <th>SOURCE_SYSTEM</th>\n",
       "      <th>NWCG_REPORTING_AGENCY</th>\n",
       "      <th>NWCG_REPORTING_UNIT_ID</th>\n",
       "      <th>NWCG_REPORTING_UNIT_NAME</th>\n",
       "      <th>SOURCE_REPORTING_UNIT</th>\n",
       "      <th>SOURCE_REPORTING_UNIT_NAME</th>\n",
       "      <th>...</th>\n",
       "      <th>FIRE_SIZE_CLASS</th>\n",
       "      <th>LATITUDE</th>\n",
       "      <th>LONGITUDE</th>\n",
       "      <th>OWNER_CODE</th>\n",
       "      <th>OWNER_DESCR</th>\n",
       "      <th>STATE</th>\n",
       "      <th>COUNTY</th>\n",
       "      <th>FIPS_CODE</th>\n",
       "      <th>FIPS_NAME</th>\n",
       "      <th>Shape</th>\n",
       "    </tr>\n",
       "  </thead>\n",
       "  <tbody>\n",
       "    <tr>\n",
       "      <th>0</th>\n",
       "      <td>1</td>\n",
       "      <td>1</td>\n",
       "      <td>FS-1418826</td>\n",
       "      <td>FED</td>\n",
       "      <td>FS-FIRESTAT</td>\n",
       "      <td>FS</td>\n",
       "      <td>USCAPNF</td>\n",
       "      <td>Plumas National Forest</td>\n",
       "      <td>0511</td>\n",
       "      <td>Plumas National Forest</td>\n",
       "      <td>...</td>\n",
       "      <td>A</td>\n",
       "      <td>40.036944</td>\n",
       "      <td>-121.005833</td>\n",
       "      <td>5.0</td>\n",
       "      <td>USFS</td>\n",
       "      <td>CA</td>\n",
       "      <td>63</td>\n",
       "      <td>063</td>\n",
       "      <td>Plumas</td>\n",
       "      <td>b'\\x00\\x01\\xad\\x10\\x00\\x00\\xe8d\\xc2\\x92_@^\\xc0...</td>\n",
       "    </tr>\n",
       "    <tr>\n",
       "      <th>1</th>\n",
       "      <td>2</td>\n",
       "      <td>2</td>\n",
       "      <td>FS-1418827</td>\n",
       "      <td>FED</td>\n",
       "      <td>FS-FIRESTAT</td>\n",
       "      <td>FS</td>\n",
       "      <td>USCAENF</td>\n",
       "      <td>Eldorado National Forest</td>\n",
       "      <td>0503</td>\n",
       "      <td>Eldorado National Forest</td>\n",
       "      <td>...</td>\n",
       "      <td>A</td>\n",
       "      <td>38.933056</td>\n",
       "      <td>-120.404444</td>\n",
       "      <td>5.0</td>\n",
       "      <td>USFS</td>\n",
       "      <td>CA</td>\n",
       "      <td>61</td>\n",
       "      <td>061</td>\n",
       "      <td>Placer</td>\n",
       "      <td>b'\\x00\\x01\\xad\\x10\\x00\\x00T\\xb6\\xeej\\xe2\\x19^\\...</td>\n",
       "    </tr>\n",
       "    <tr>\n",
       "      <th>2</th>\n",
       "      <td>3</td>\n",
       "      <td>3</td>\n",
       "      <td>FS-1418835</td>\n",
       "      <td>FED</td>\n",
       "      <td>FS-FIRESTAT</td>\n",
       "      <td>FS</td>\n",
       "      <td>USCAENF</td>\n",
       "      <td>Eldorado National Forest</td>\n",
       "      <td>0503</td>\n",
       "      <td>Eldorado National Forest</td>\n",
       "      <td>...</td>\n",
       "      <td>A</td>\n",
       "      <td>38.984167</td>\n",
       "      <td>-120.735556</td>\n",
       "      <td>13.0</td>\n",
       "      <td>STATE OR PRIVATE</td>\n",
       "      <td>CA</td>\n",
       "      <td>17</td>\n",
       "      <td>017</td>\n",
       "      <td>El Dorado</td>\n",
       "      <td>b'\\x00\\x01\\xad\\x10\\x00\\x00\\xd0\\xa5\\xa0W\\x13/^\\...</td>\n",
       "    </tr>\n",
       "    <tr>\n",
       "      <th>3</th>\n",
       "      <td>4</td>\n",
       "      <td>4</td>\n",
       "      <td>FS-1418845</td>\n",
       "      <td>FED</td>\n",
       "      <td>FS-FIRESTAT</td>\n",
       "      <td>FS</td>\n",
       "      <td>USCAENF</td>\n",
       "      <td>Eldorado National Forest</td>\n",
       "      <td>0503</td>\n",
       "      <td>Eldorado National Forest</td>\n",
       "      <td>...</td>\n",
       "      <td>A</td>\n",
       "      <td>38.559167</td>\n",
       "      <td>-119.913333</td>\n",
       "      <td>5.0</td>\n",
       "      <td>USFS</td>\n",
       "      <td>CA</td>\n",
       "      <td>3</td>\n",
       "      <td>003</td>\n",
       "      <td>Alpine</td>\n",
       "      <td>b'\\x00\\x01\\xad\\x10\\x00\\x00\\x94\\xac\\xa3\\rt\\xfa]...</td>\n",
       "    </tr>\n",
       "    <tr>\n",
       "      <th>4</th>\n",
       "      <td>5</td>\n",
       "      <td>5</td>\n",
       "      <td>FS-1418847</td>\n",
       "      <td>FED</td>\n",
       "      <td>FS-FIRESTAT</td>\n",
       "      <td>FS</td>\n",
       "      <td>USCAENF</td>\n",
       "      <td>Eldorado National Forest</td>\n",
       "      <td>0503</td>\n",
       "      <td>Eldorado National Forest</td>\n",
       "      <td>...</td>\n",
       "      <td>A</td>\n",
       "      <td>38.559167</td>\n",
       "      <td>-119.933056</td>\n",
       "      <td>5.0</td>\n",
       "      <td>USFS</td>\n",
       "      <td>CA</td>\n",
       "      <td>3</td>\n",
       "      <td>003</td>\n",
       "      <td>Alpine</td>\n",
       "      <td>b'\\x00\\x01\\xad\\x10\\x00\\x00@\\xe3\\xaa.\\xb7\\xfb]\\...</td>\n",
       "    </tr>\n",
       "  </tbody>\n",
       "</table>\n",
       "<p>5 rows × 39 columns</p>\n",
       "</div>"
      ],
      "text/plain": [
       "   OBJECTID  FOD_ID      FPA_ID SOURCE_SYSTEM_TYPE SOURCE_SYSTEM  \\\n",
       "0         1       1  FS-1418826                FED   FS-FIRESTAT   \n",
       "1         2       2  FS-1418827                FED   FS-FIRESTAT   \n",
       "2         3       3  FS-1418835                FED   FS-FIRESTAT   \n",
       "3         4       4  FS-1418845                FED   FS-FIRESTAT   \n",
       "4         5       5  FS-1418847                FED   FS-FIRESTAT   \n",
       "\n",
       "  NWCG_REPORTING_AGENCY NWCG_REPORTING_UNIT_ID  NWCG_REPORTING_UNIT_NAME  \\\n",
       "0                    FS                USCAPNF    Plumas National Forest   \n",
       "1                    FS                USCAENF  Eldorado National Forest   \n",
       "2                    FS                USCAENF  Eldorado National Forest   \n",
       "3                    FS                USCAENF  Eldorado National Forest   \n",
       "4                    FS                USCAENF  Eldorado National Forest   \n",
       "\n",
       "  SOURCE_REPORTING_UNIT SOURCE_REPORTING_UNIT_NAME  ... FIRE_SIZE_CLASS  \\\n",
       "0                  0511     Plumas National Forest  ...               A   \n",
       "1                  0503   Eldorado National Forest  ...               A   \n",
       "2                  0503   Eldorado National Forest  ...               A   \n",
       "3                  0503   Eldorado National Forest  ...               A   \n",
       "4                  0503   Eldorado National Forest  ...               A   \n",
       "\n",
       "    LATITUDE   LONGITUDE OWNER_CODE       OWNER_DESCR STATE COUNTY FIPS_CODE  \\\n",
       "0  40.036944 -121.005833        5.0              USFS    CA     63       063   \n",
       "1  38.933056 -120.404444        5.0              USFS    CA     61       061   \n",
       "2  38.984167 -120.735556       13.0  STATE OR PRIVATE    CA     17       017   \n",
       "3  38.559167 -119.913333        5.0              USFS    CA      3       003   \n",
       "4  38.559167 -119.933056        5.0              USFS    CA      3       003   \n",
       "\n",
       "   FIPS_NAME                                              Shape  \n",
       "0     Plumas  b'\\x00\\x01\\xad\\x10\\x00\\x00\\xe8d\\xc2\\x92_@^\\xc0...  \n",
       "1     Placer  b'\\x00\\x01\\xad\\x10\\x00\\x00T\\xb6\\xeej\\xe2\\x19^\\...  \n",
       "2  El Dorado  b'\\x00\\x01\\xad\\x10\\x00\\x00\\xd0\\xa5\\xa0W\\x13/^\\...  \n",
       "3     Alpine  b'\\x00\\x01\\xad\\x10\\x00\\x00\\x94\\xac\\xa3\\rt\\xfa]...  \n",
       "4     Alpine  b'\\x00\\x01\\xad\\x10\\x00\\x00@\\xe3\\xaa.\\xb7\\xfb]\\...  \n",
       "\n",
       "[5 rows x 39 columns]"
      ]
     },
     "execution_count": 38,
     "metadata": {},
     "output_type": "execute_result"
    }
   ],
   "source": [
    "import sqlite3\n",
    "# let's make the connection with our database\n",
    "conn = sqlite3.connect(\"../../../Datasets/FPA_FOD_20170508.sqlite\")\n",
    "# we are going to use pandas to query a table\n",
    "fires = pd.read_sql_query(\"SELECT * FROM Fires\", conn)\n",
    "fires.head()"
   ]
  },
  {
   "cell_type": "markdown",
   "metadata": {
    "heading_collapsed": true
   },
   "source": [
    "##### Cambiando tipos de las variables"
   ]
  },
  {
   "cell_type": "code",
   "execution_count": 3,
   "metadata": {
    "hidden": true
   },
   "outputs": [
    {
     "data": {
      "text/plain": [
       "Park Name     object\n",
       "State         object\n",
       "Acres          int64\n",
       "Latitude     float64\n",
       "Longitude    float64\n",
       "dtype: object"
      ]
     },
     "execution_count": 3,
     "metadata": {},
     "output_type": "execute_result"
    }
   ],
   "source": [
    "data = pd.read_csv(\"../../../Datasets/parks.csv\", index_col=['Park Code'], encoding='utf-8')\n",
    "data.dtypes"
   ]
  },
  {
   "cell_type": "markdown",
   "metadata": {
    "hidden": true
   },
   "source": [
    "Podemos utilizar el método astype(“el tipo a cambiar”) de un objeto tipo DataFrame con el fin de cambiar  el tipo de una columna en especifico. También, podemos utilizar el método sobre el DataFrame para afectar a todas las variables, en el siguiente ejemplo cambiaremos solo la columna State."
   ]
  },
  {
   "cell_type": "code",
   "execution_count": 4,
   "metadata": {
    "hidden": true
   },
   "outputs": [
    {
     "data": {
      "text/plain": [
       "Park Name      object\n",
       "State        category\n",
       "Acres           int64\n",
       "Latitude      float64\n",
       "Longitude     float64\n",
       "dtype: object"
      ]
     },
     "execution_count": 4,
     "metadata": {},
     "output_type": "execute_result"
    }
   ],
   "source": [
    "#data.State = data.State.astype(\"category\")\n",
    "data['State'] = data['State'].astype(\"category\")\n",
    "data.dtypes"
   ]
  },
  {
   "cell_type": "code",
   "execution_count": 5,
   "metadata": {
    "hidden": true
   },
   "outputs": [
    {
     "data": {
      "text/plain": [
       "Park Name    object\n",
       "State        object\n",
       "Acres        object\n",
       "Latitude     object\n",
       "Longitude    object\n",
       "dtype: object"
      ]
     },
     "execution_count": 5,
     "metadata": {},
     "output_type": "execute_result"
    }
   ],
   "source": [
    "# change all the columns\n",
    "data.astype(\"object\").dtypes"
   ]
  },
  {
   "cell_type": "markdown",
   "metadata": {
    "hidden": true
   },
   "source": [
    "Pandas también provee dos métodos que nos ayudarán a cambiar los tipos de una variable\n",
    "+ to_numeric()\n",
    "+ to_datetime()\n",
    "\n",
    "**Recomendaciones:**\n",
    "\n",
    "+ Los métodos solo reciben objetos tipos Series de Pandas\n",
    "+ Esta es la URL https://docs.python.org/3/library/datetime.html#strftime-and-strptime-behavior donde podemos revisar los formatos para el tratamiento de datetime (fechas en Python)"
   ]
  },
  {
   "cell_type": "code",
   "execution_count": 6,
   "metadata": {
    "hidden": true
   },
   "outputs": [
    {
     "data": {
      "text/plain": [
       "0   1970-01-01\n",
       "1   1980-01-01\n",
       "2   2019-03-01\n",
       "3   2019-02-16\n",
       "dtype: datetime64[ns]"
      ]
     },
     "execution_count": 6,
     "metadata": {},
     "output_type": "execute_result"
    }
   ],
   "source": [
    "# https://docs.python.org/3/library/datetime.html#strftime-and-strptime-behavior\n",
    "serie_dates = pd.Series([\"1970-01-01\", \"1980-01-01\", \"2019-03-01\", \"2019-02-16\"])\n",
    "pd.to_datetime(serie_dates, format='%Y-%m-%d')"
   ]
  },
  {
   "cell_type": "markdown",
   "metadata": {},
   "source": [
    "##### Renombrando columnas"
   ]
  },
  {
   "cell_type": "markdown",
   "metadata": {},
   "source": [
    "Observemos que un objeto pandas nos retorna información acerca de sus dimensiones y los nombres asignados a cada variable."
   ]
  },
  {
   "cell_type": "code",
   "execution_count": 10,
   "metadata": {},
   "outputs": [
    {
     "name": "stdout",
     "output_type": "stream",
     "text": [
      "<class 'pandas.core.frame.DataFrame'>\n",
      "Index: 56 entries, ACAD to ZION\n",
      "Data columns (total 5 columns):\n",
      "Park Name    56 non-null object\n",
      "State        56 non-null object\n",
      "Acres        56 non-null int64\n",
      "Latitude     56 non-null float64\n",
      "Longitude    56 non-null float64\n",
      "dtypes: float64(2), int64(1), object(2)\n",
      "memory usage: 2.6+ KB\n"
     ]
    }
   ],
   "source": [
    "df_park = pd.read_csv('https://raw.githubusercontent.com/urcuqui/Data-Science/master/datasets/parks.csv', index_col=['Park Code'], encoding='utf-8')\n",
    "df_park.info()"
   ]
  },
  {
   "cell_type": "code",
   "execution_count": 44,
   "metadata": {},
   "outputs": [
    {
     "name": "stdout",
     "output_type": "stream",
     "text": [
      "(56, 5)\n",
      "\n",
      "56\n",
      "\n",
      "Index(['Park Name', 'State', 'Acres', 'Latitude', 'Longitude'], dtype='object')\n"
     ]
    }
   ],
   "source": [
    "print(df_park.shape)\n",
    "print(\"\")\n",
    "print(len(df_park))\n",
    "print(\"\")\n",
    "print(df_park.columns)"
   ]
  },
  {
   "cell_type": "markdown",
   "metadata": {},
   "source": [
    "La forma más sencilla es a través del método **rename()**; esta función recibe por parámetro un diccionario con las llaves de los viejos nombres y por cada valor serán los nombres para las columnas."
   ]
  },
  {
   "cell_type": "code",
   "execution_count": 49,
   "metadata": {},
   "outputs": [
    {
     "data": {
      "text/html": [
       "<div>\n",
       "<style scoped>\n",
       "    .dataframe tbody tr th:only-of-type {\n",
       "        vertical-align: middle;\n",
       "    }\n",
       "\n",
       "    .dataframe tbody tr th {\n",
       "        vertical-align: top;\n",
       "    }\n",
       "\n",
       "    .dataframe thead th {\n",
       "        text-align: right;\n",
       "    }\n",
       "</style>\n",
       "<table border=\"1\" class=\"dataframe\">\n",
       "  <thead>\n",
       "    <tr style=\"text-align: right;\">\n",
       "      <th></th>\n",
       "      <th>park_name</th>\n",
       "      <th>state</th>\n",
       "      <th>acres</th>\n",
       "      <th>latitude</th>\n",
       "      <th>longitude</th>\n",
       "    </tr>\n",
       "    <tr>\n",
       "      <th>Park Code</th>\n",
       "      <th></th>\n",
       "      <th></th>\n",
       "      <th></th>\n",
       "      <th></th>\n",
       "      <th></th>\n",
       "    </tr>\n",
       "  </thead>\n",
       "  <tbody>\n",
       "    <tr>\n",
       "      <th>ACAD</th>\n",
       "      <td>Acadia National Park</td>\n",
       "      <td>ME</td>\n",
       "      <td>47390</td>\n",
       "      <td>44.35</td>\n",
       "      <td>-68.21</td>\n",
       "    </tr>\n",
       "    <tr>\n",
       "      <th>ARCH</th>\n",
       "      <td>Arches National Park</td>\n",
       "      <td>UT</td>\n",
       "      <td>76519</td>\n",
       "      <td>38.68</td>\n",
       "      <td>-109.57</td>\n",
       "    </tr>\n",
       "    <tr>\n",
       "      <th>BADL</th>\n",
       "      <td>Badlands National Park</td>\n",
       "      <td>SD</td>\n",
       "      <td>242756</td>\n",
       "      <td>43.75</td>\n",
       "      <td>-102.50</td>\n",
       "    </tr>\n",
       "    <tr>\n",
       "      <th>BIBE</th>\n",
       "      <td>Big Bend National Park</td>\n",
       "      <td>TX</td>\n",
       "      <td>801163</td>\n",
       "      <td>29.25</td>\n",
       "      <td>-103.25</td>\n",
       "    </tr>\n",
       "    <tr>\n",
       "      <th>BISC</th>\n",
       "      <td>Biscayne National Park</td>\n",
       "      <td>FL</td>\n",
       "      <td>172924</td>\n",
       "      <td>25.65</td>\n",
       "      <td>-80.08</td>\n",
       "    </tr>\n",
       "  </tbody>\n",
       "</table>\n",
       "</div>"
      ],
      "text/plain": [
       "                        park_name state   acres  latitude  longitude\n",
       "Park Code                                                           \n",
       "ACAD         Acadia National Park    ME   47390     44.35     -68.21\n",
       "ARCH         Arches National Park    UT   76519     38.68    -109.57\n",
       "BADL       Badlands National Park    SD  242756     43.75    -102.50\n",
       "BIBE       Big Bend National Park    TX  801163     29.25    -103.25\n",
       "BISC       Biscayne National Park    FL  172924     25.65     -80.08"
      ]
     },
     "execution_count": 49,
     "metadata": {},
     "output_type": "execute_result"
    }
   ],
   "source": [
    "df_park.rename({'Park Name': 'park_name', 'State': 'state', 'Acres': 'acres', 'Latitude': 'latitude', \n",
    "                'Longitude': 'longitude'}, axis='columns').copy().head()"
   ]
  },
  {
   "cell_type": "markdown",
   "metadata": {},
   "source": [
    "En algunas ocasiones podemos encontrarnos nombres con espacios y mayúsculas, existen dos métodos que nos permitirán llevar todos los nombres a un mismo estándar."
   ]
  },
  {
   "cell_type": "code",
   "execution_count": 11,
   "metadata": {},
   "outputs": [
    {
     "data": {
      "text/plain": [
       "Index(['Park_Name', 'State', 'Acres', 'Latitude', 'Longitude'], dtype='object')"
      ]
     },
     "execution_count": 11,
     "metadata": {},
     "output_type": "execute_result"
    }
   ],
   "source": [
    "df_park.columns.str.replace(' ', '_')"
   ]
  },
  {
   "cell_type": "code",
   "execution_count": 16,
   "metadata": {},
   "outputs": [
    {
     "data": {
      "text/plain": [
       "Index(['park_name', 'state', 'acres', 'latitude', 'longitude'], dtype='object')"
      ]
     },
     "execution_count": 16,
     "metadata": {},
     "output_type": "execute_result"
    }
   ],
   "source": [
    "# obtenemos cada nombre en un repetitiva y a este le aplicamos el reemplazo y el lower\n",
    "df_park.columns = [col.replace(' ', '_').lower() for col in df_park.columns]\n",
    "df_park.columns"
   ]
  },
  {
   "cell_type": "code",
   "execution_count": 9,
   "metadata": {},
   "outputs": [
    {
     "data": {
      "text/plain": [
       "Index(['park_name', 'state', 'acres', 'latitude', 'longitude'], dtype='object')"
      ]
     },
     "execution_count": 9,
     "metadata": {},
     "output_type": "execute_result"
    }
   ],
   "source": [
    "df_park.columns = df_park.columns.str.replace(' ', '_').str.lower()\n",
    "df_park.columns"
   ]
  },
  {
   "cell_type": "markdown",
   "metadata": {},
   "source": [
    "##### Obteniendo información de nuestro dataframe"
   ]
  },
  {
   "cell_type": "code",
   "execution_count": 19,
   "metadata": {},
   "outputs": [
    {
     "data": {
      "text/html": [
       "<div>\n",
       "<style scoped>\n",
       "    .dataframe tbody tr th:only-of-type {\n",
       "        vertical-align: middle;\n",
       "    }\n",
       "\n",
       "    .dataframe tbody tr th {\n",
       "        vertical-align: top;\n",
       "    }\n",
       "\n",
       "    .dataframe thead th {\n",
       "        text-align: right;\n",
       "    }\n",
       "</style>\n",
       "<table border=\"1\" class=\"dataframe\">\n",
       "  <thead>\n",
       "    <tr style=\"text-align: right;\">\n",
       "      <th></th>\n",
       "      <th>acres</th>\n",
       "      <th>latitude</th>\n",
       "      <th>longitude</th>\n",
       "    </tr>\n",
       "  </thead>\n",
       "  <tbody>\n",
       "    <tr>\n",
       "      <th>count</th>\n",
       "      <td>5.600000e+01</td>\n",
       "      <td>56.000000</td>\n",
       "      <td>56.000000</td>\n",
       "    </tr>\n",
       "    <tr>\n",
       "      <th>mean</th>\n",
       "      <td>9.279291e+05</td>\n",
       "      <td>41.233929</td>\n",
       "      <td>-113.234821</td>\n",
       "    </tr>\n",
       "    <tr>\n",
       "      <th>std</th>\n",
       "      <td>1.709258e+06</td>\n",
       "      <td>10.908831</td>\n",
       "      <td>22.440287</td>\n",
       "    </tr>\n",
       "    <tr>\n",
       "      <th>min</th>\n",
       "      <td>5.550000e+03</td>\n",
       "      <td>19.380000</td>\n",
       "      <td>-159.280000</td>\n",
       "    </tr>\n",
       "    <tr>\n",
       "      <th>25%</th>\n",
       "      <td>6.901050e+04</td>\n",
       "      <td>35.527500</td>\n",
       "      <td>-121.570000</td>\n",
       "    </tr>\n",
       "    <tr>\n",
       "      <th>50%</th>\n",
       "      <td>2.387645e+05</td>\n",
       "      <td>38.550000</td>\n",
       "      <td>-110.985000</td>\n",
       "    </tr>\n",
       "    <tr>\n",
       "      <th>75%</th>\n",
       "      <td>8.173602e+05</td>\n",
       "      <td>46.880000</td>\n",
       "      <td>-103.400000</td>\n",
       "    </tr>\n",
       "    <tr>\n",
       "      <th>max</th>\n",
       "      <td>8.323148e+06</td>\n",
       "      <td>67.780000</td>\n",
       "      <td>-68.210000</td>\n",
       "    </tr>\n",
       "  </tbody>\n",
       "</table>\n",
       "</div>"
      ],
      "text/plain": [
       "              acres   latitude   longitude\n",
       "count  5.600000e+01  56.000000   56.000000\n",
       "mean   9.279291e+05  41.233929 -113.234821\n",
       "std    1.709258e+06  10.908831   22.440287\n",
       "min    5.550000e+03  19.380000 -159.280000\n",
       "25%    6.901050e+04  35.527500 -121.570000\n",
       "50%    2.387645e+05  38.550000 -110.985000\n",
       "75%    8.173602e+05  46.880000 -103.400000\n",
       "max    8.323148e+06  67.780000  -68.210000"
      ]
     },
     "execution_count": 19,
     "metadata": {},
     "output_type": "execute_result"
    }
   ],
   "source": [
    "data = pd.read_csv(\"../../../Datasets/parks.csv\", index_col=['Park Code'], encoding='utf-8')\n",
    "data.columns = data.columns.str.replace(\" \", \"_\").str.lower()\n",
    "data.state = data.state.astype(\"category\")\n",
    "data.describe()"
   ]
  },
  {
   "cell_type": "code",
   "execution_count": 26,
   "metadata": {},
   "outputs": [
    {
     "data": {
      "text/html": [
       "<div>\n",
       "<style scoped>\n",
       "    .dataframe tbody tr th:only-of-type {\n",
       "        vertical-align: middle;\n",
       "    }\n",
       "\n",
       "    .dataframe tbody tr th {\n",
       "        vertical-align: top;\n",
       "    }\n",
       "\n",
       "    .dataframe thead th {\n",
       "        text-align: right;\n",
       "    }\n",
       "</style>\n",
       "<table border=\"1\" class=\"dataframe\">\n",
       "  <thead>\n",
       "    <tr style=\"text-align: right;\">\n",
       "      <th></th>\n",
       "      <th>park_name</th>\n",
       "      <th>state</th>\n",
       "      <th>acres</th>\n",
       "      <th>latitude</th>\n",
       "      <th>longitude</th>\n",
       "    </tr>\n",
       "  </thead>\n",
       "  <tbody>\n",
       "    <tr>\n",
       "      <th>count</th>\n",
       "      <td>56</td>\n",
       "      <td>56</td>\n",
       "      <td>5.600000e+01</td>\n",
       "      <td>56.000000</td>\n",
       "      <td>56.000000</td>\n",
       "    </tr>\n",
       "    <tr>\n",
       "      <th>unique</th>\n",
       "      <td>56</td>\n",
       "      <td>27</td>\n",
       "      <td>NaN</td>\n",
       "      <td>NaN</td>\n",
       "      <td>NaN</td>\n",
       "    </tr>\n",
       "    <tr>\n",
       "      <th>top</th>\n",
       "      <td>Cuyahoga Valley National Park</td>\n",
       "      <td>AK</td>\n",
       "      <td>NaN</td>\n",
       "      <td>NaN</td>\n",
       "      <td>NaN</td>\n",
       "    </tr>\n",
       "    <tr>\n",
       "      <th>freq</th>\n",
       "      <td>1</td>\n",
       "      <td>8</td>\n",
       "      <td>NaN</td>\n",
       "      <td>NaN</td>\n",
       "      <td>NaN</td>\n",
       "    </tr>\n",
       "    <tr>\n",
       "      <th>mean</th>\n",
       "      <td>NaN</td>\n",
       "      <td>NaN</td>\n",
       "      <td>9.279291e+05</td>\n",
       "      <td>41.233929</td>\n",
       "      <td>-113.234821</td>\n",
       "    </tr>\n",
       "    <tr>\n",
       "      <th>std</th>\n",
       "      <td>NaN</td>\n",
       "      <td>NaN</td>\n",
       "      <td>1.709258e+06</td>\n",
       "      <td>10.908831</td>\n",
       "      <td>22.440287</td>\n",
       "    </tr>\n",
       "    <tr>\n",
       "      <th>min</th>\n",
       "      <td>NaN</td>\n",
       "      <td>NaN</td>\n",
       "      <td>5.550000e+03</td>\n",
       "      <td>19.380000</td>\n",
       "      <td>-159.280000</td>\n",
       "    </tr>\n",
       "    <tr>\n",
       "      <th>25%</th>\n",
       "      <td>NaN</td>\n",
       "      <td>NaN</td>\n",
       "      <td>6.901050e+04</td>\n",
       "      <td>35.527500</td>\n",
       "      <td>-121.570000</td>\n",
       "    </tr>\n",
       "    <tr>\n",
       "      <th>50%</th>\n",
       "      <td>NaN</td>\n",
       "      <td>NaN</td>\n",
       "      <td>2.387645e+05</td>\n",
       "      <td>38.550000</td>\n",
       "      <td>-110.985000</td>\n",
       "    </tr>\n",
       "    <tr>\n",
       "      <th>75%</th>\n",
       "      <td>NaN</td>\n",
       "      <td>NaN</td>\n",
       "      <td>8.173602e+05</td>\n",
       "      <td>46.880000</td>\n",
       "      <td>-103.400000</td>\n",
       "    </tr>\n",
       "    <tr>\n",
       "      <th>max</th>\n",
       "      <td>NaN</td>\n",
       "      <td>NaN</td>\n",
       "      <td>8.323148e+06</td>\n",
       "      <td>67.780000</td>\n",
       "      <td>-68.210000</td>\n",
       "    </tr>\n",
       "  </tbody>\n",
       "</table>\n",
       "</div>"
      ],
      "text/plain": [
       "                            park_name state         acres   latitude  \\\n",
       "count                              56    56  5.600000e+01  56.000000   \n",
       "unique                             56    27           NaN        NaN   \n",
       "top     Cuyahoga Valley National Park    AK           NaN        NaN   \n",
       "freq                                1     8           NaN        NaN   \n",
       "mean                              NaN   NaN  9.279291e+05  41.233929   \n",
       "std                               NaN   NaN  1.709258e+06  10.908831   \n",
       "min                               NaN   NaN  5.550000e+03  19.380000   \n",
       "25%                               NaN   NaN  6.901050e+04  35.527500   \n",
       "50%                               NaN   NaN  2.387645e+05  38.550000   \n",
       "75%                               NaN   NaN  8.173602e+05  46.880000   \n",
       "max                               NaN   NaN  8.323148e+06  67.780000   \n",
       "\n",
       "         longitude  \n",
       "count    56.000000  \n",
       "unique         NaN  \n",
       "top            NaN  \n",
       "freq           NaN  \n",
       "mean   -113.234821  \n",
       "std      22.440287  \n",
       "min    -159.280000  \n",
       "25%    -121.570000  \n",
       "50%    -110.985000  \n",
       "75%    -103.400000  \n",
       "max     -68.210000  "
      ]
     },
     "execution_count": 26,
     "metadata": {},
     "output_type": "execute_result"
    }
   ],
   "source": [
    "data.describe(include=\"all\")"
   ]
  },
  {
   "cell_type": "code",
   "execution_count": 34,
   "metadata": {},
   "outputs": [
    {
     "data": {
      "text/html": [
       "<div>\n",
       "<style scoped>\n",
       "    .dataframe tbody tr th:only-of-type {\n",
       "        vertical-align: middle;\n",
       "    }\n",
       "\n",
       "    .dataframe tbody tr th {\n",
       "        vertical-align: top;\n",
       "    }\n",
       "\n",
       "    .dataframe thead th {\n",
       "        text-align: right;\n",
       "    }\n",
       "</style>\n",
       "<table border=\"1\" class=\"dataframe\">\n",
       "  <thead>\n",
       "    <tr style=\"text-align: right;\">\n",
       "      <th></th>\n",
       "      <th>park_name</th>\n",
       "    </tr>\n",
       "  </thead>\n",
       "  <tbody>\n",
       "    <tr>\n",
       "      <th>count</th>\n",
       "      <td>56</td>\n",
       "    </tr>\n",
       "    <tr>\n",
       "      <th>unique</th>\n",
       "      <td>56</td>\n",
       "    </tr>\n",
       "    <tr>\n",
       "      <th>top</th>\n",
       "      <td>Cuyahoga Valley National Park</td>\n",
       "    </tr>\n",
       "    <tr>\n",
       "      <th>freq</th>\n",
       "      <td>1</td>\n",
       "    </tr>\n",
       "  </tbody>\n",
       "</table>\n",
       "</div>"
      ],
      "text/plain": [
       "                            park_name\n",
       "count                              56\n",
       "unique                             56\n",
       "top     Cuyahoga Valley National Park\n",
       "freq                                1"
      ]
     },
     "execution_count": 34,
     "metadata": {},
     "output_type": "execute_result"
    }
   ],
   "source": [
    "data.describe(include=['O'])"
   ]
  },
  {
   "cell_type": "code",
   "execution_count": 35,
   "metadata": {
    "scrolled": true
   },
   "outputs": [
    {
     "data": {
      "text/html": [
       "<div>\n",
       "<style scoped>\n",
       "    .dataframe tbody tr th:only-of-type {\n",
       "        vertical-align: middle;\n",
       "    }\n",
       "\n",
       "    .dataframe tbody tr th {\n",
       "        vertical-align: top;\n",
       "    }\n",
       "\n",
       "    .dataframe thead th {\n",
       "        text-align: right;\n",
       "    }\n",
       "</style>\n",
       "<table border=\"1\" class=\"dataframe\">\n",
       "  <thead>\n",
       "    <tr style=\"text-align: right;\">\n",
       "      <th></th>\n",
       "      <th>state</th>\n",
       "    </tr>\n",
       "  </thead>\n",
       "  <tbody>\n",
       "    <tr>\n",
       "      <th>count</th>\n",
       "      <td>56</td>\n",
       "    </tr>\n",
       "    <tr>\n",
       "      <th>unique</th>\n",
       "      <td>27</td>\n",
       "    </tr>\n",
       "    <tr>\n",
       "      <th>top</th>\n",
       "      <td>AK</td>\n",
       "    </tr>\n",
       "    <tr>\n",
       "      <th>freq</th>\n",
       "      <td>8</td>\n",
       "    </tr>\n",
       "  </tbody>\n",
       "</table>\n",
       "</div>"
      ],
      "text/plain": [
       "       state\n",
       "count     56\n",
       "unique    27\n",
       "top       AK\n",
       "freq       8"
      ]
     },
     "execution_count": 35,
     "metadata": {},
     "output_type": "execute_result"
    }
   ],
   "source": [
    "data.describe(include=['category'])"
   ]
  },
  {
   "cell_type": "code",
   "execution_count": 45,
   "metadata": {},
   "outputs": [
    {
     "data": {
      "text/plain": [
       "AK            8\n",
       "CA            7\n",
       "UT            5\n",
       "CO            4\n",
       "WA            3\n",
       "AZ            3\n",
       "FL            3\n",
       "TX            2\n",
       "SD            2\n",
       "HI            2\n",
       "MI            1\n",
       "AR            1\n",
       "CA, NV        1\n",
       "KY            1\n",
       "ME            1\n",
       "WY, MT, ID    1\n",
       "MN            1\n",
       "MT            1\n",
       "WY            1\n",
       "NM            1\n",
       "NV            1\n",
       "OH            1\n",
       "OR            1\n",
       "SC            1\n",
       "TN, NC        1\n",
       "VA            1\n",
       "ND            1\n",
       "Name: state, dtype: int64"
      ]
     },
     "execution_count": 45,
     "metadata": {},
     "output_type": "execute_result"
    }
   ],
   "source": [
    "data.state.value_counts()"
   ]
  },
  {
   "cell_type": "markdown",
   "metadata": {},
   "source": [
    "##### Indexación, selección y asignación\n",
    "\n",
    "Podemos acceder a una variable como si fuera un atributo del objeto. Un parque nacional en US podría tener una propiedad nombre, podemos obtener los datos así:  "
   ]
  },
  {
   "cell_type": "code",
   "execution_count": 3,
   "metadata": {},
   "outputs": [
    {
     "data": {
      "text/plain": [
       "Park Code\n",
       "ACAD      Acadia National Park\n",
       "ARCH      Arches National Park\n",
       "BADL    Badlands National Park\n",
       "BIBE    Big Bend National Park\n",
       "BISC    Biscayne National Park\n",
       "Name: park_name, dtype: object"
      ]
     },
     "execution_count": 3,
     "metadata": {},
     "output_type": "execute_result"
    }
   ],
   "source": [
    "data.park_name.head()"
   ]
  },
  {
   "cell_type": "markdown",
   "metadata": {},
   "source": [
    "Otra manera que podemos acceder a los datos es como si fuera un directorio en Python, es decir, la llave seria el nombre de la variable."
   ]
  },
  {
   "cell_type": "code",
   "execution_count": 4,
   "metadata": {
    "scrolled": true
   },
   "outputs": [
    {
     "data": {
      "text/plain": [
       "Park Code\n",
       "ACAD      Acadia National Park\n",
       "ARCH      Arches National Park\n",
       "BADL    Badlands National Park\n",
       "BIBE    Big Bend National Park\n",
       "BISC    Biscayne National Park\n",
       "Name: park_name, dtype: object"
      ]
     },
     "execution_count": 4,
     "metadata": {},
     "output_type": "execute_result"
    }
   ],
   "source": [
    "data['park_name'].head()"
   ]
  },
  {
   "cell_type": "markdown",
   "metadata": {},
   "source": [
    "**Observación**: Note que el tipo de objeto que obtenemos del anterior proceso es de tipo Serie.\n"
   ]
  },
  {
   "cell_type": "code",
   "execution_count": 6,
   "metadata": {},
   "outputs": [
    {
     "data": {
      "text/plain": [
       "pandas.core.series.Series"
      ]
     },
     "execution_count": 6,
     "metadata": {},
     "output_type": "execute_result"
    }
   ],
   "source": [
    "type(data.park_name)"
   ]
  },
  {
   "cell_type": "markdown",
   "metadata": {},
   "source": [
    "Ahora si deseamos obtener uno o más  valores de la serie solo le agregamos unos índices asociados a los registros, es decir..."
   ]
  },
  {
   "cell_type": "code",
   "execution_count": 7,
   "metadata": {},
   "outputs": [
    {
     "data": {
      "text/plain": [
       "'Acadia National Park'"
      ]
     },
     "execution_count": 7,
     "metadata": {},
     "output_type": "execute_result"
    }
   ],
   "source": [
    "data.park_name[0] # primer registro"
   ]
  },
  {
   "cell_type": "code",
   "execution_count": 9,
   "metadata": {
    "scrolled": true
   },
   "outputs": [
    {
     "data": {
      "text/plain": [
       "Park Code\n",
       "ACAD                          Acadia National Park\n",
       "ARCH                          Arches National Park\n",
       "BADL                        Badlands National Park\n",
       "BIBE                        Big Bend National Park\n",
       "BISC                        Biscayne National Park\n",
       "BLCA    Black Canyon of the Gunnison National Park\n",
       "BRCA                    Bryce Canyon National Park\n",
       "CANY                     Canyonlands National Park\n",
       "Name: park_name, dtype: object"
      ]
     },
     "execution_count": 9,
     "metadata": {},
     "output_type": "execute_result"
    }
   ],
   "source": [
    "data['park_name'][0:8]  # slice – los primeros ocho registros"
   ]
  },
  {
   "cell_type": "markdown",
   "metadata": {},
   "source": [
    "**Observación**: podríamos decir que el estándar base en Python para acceder a los datos por índices es [columna, fila]"
   ]
  },
  {
   "cell_type": "markdown",
   "metadata": {},
   "source": [
    "Otra forma de acceder a los datos es a través de los métodos indexación que Pandas nos provee, entre estos encontramos dos:\n",
    "+ **iloc**, obtenemos los datos a partir de su posición numérica. \n",
    "+ **loc**, obtenemos los datos con los identificadores.\n",
    "\n",
    "Ambos métodos utilizan una convención de [fila, columna] totalmente opuesto al enfoque nativo en Python."
   ]
  },
  {
   "cell_type": "markdown",
   "metadata": {},
   "source": [
    "_iloc_"
   ]
  },
  {
   "cell_type": "code",
   "execution_count": 10,
   "metadata": {},
   "outputs": [
    {
     "data": {
      "text/plain": [
       "park_name    Acadia National Park\n",
       "state                          ME\n",
       "acres                       47390\n",
       "latitude                    44.35\n",
       "longitude                  -68.21\n",
       "Name: ACAD, dtype: object"
      ]
     },
     "execution_count": 10,
     "metadata": {},
     "output_type": "execute_result"
    }
   ],
   "source": [
    "data.iloc[0] # obtenemos el primer registro"
   ]
  },
  {
   "cell_type": "code",
   "execution_count": 11,
   "metadata": {},
   "outputs": [
    {
     "data": {
      "text/plain": [
       "acres       76519\n",
       "latitude    38.68\n",
       "Name: ARCH, dtype: object"
      ]
     },
     "execution_count": 11,
     "metadata": {},
     "output_type": "execute_result"
    }
   ],
   "source": [
    "data.iloc[1, 2:4] # obtenemos del segundo registro las columnas 2 y 3"
   ]
  },
  {
   "cell_type": "code",
   "execution_count": 12,
   "metadata": {},
   "outputs": [
    {
     "data": {
      "text/html": [
       "<div>\n",
       "<style scoped>\n",
       "    .dataframe tbody tr th:only-of-type {\n",
       "        vertical-align: middle;\n",
       "    }\n",
       "\n",
       "    .dataframe tbody tr th {\n",
       "        vertical-align: top;\n",
       "    }\n",
       "\n",
       "    .dataframe thead th {\n",
       "        text-align: right;\n",
       "    }\n",
       "</style>\n",
       "<table border=\"1\" class=\"dataframe\">\n",
       "  <thead>\n",
       "    <tr style=\"text-align: right;\">\n",
       "      <th></th>\n",
       "      <th>state</th>\n",
       "      <th>acres</th>\n",
       "    </tr>\n",
       "    <tr>\n",
       "      <th>Park Code</th>\n",
       "      <th></th>\n",
       "      <th></th>\n",
       "    </tr>\n",
       "  </thead>\n",
       "  <tbody>\n",
       "    <tr>\n",
       "      <th>ARCH</th>\n",
       "      <td>UT</td>\n",
       "      <td>76519</td>\n",
       "    </tr>\n",
       "    <tr>\n",
       "      <th>BADL</th>\n",
       "      <td>SD</td>\n",
       "      <td>242756</td>\n",
       "    </tr>\n",
       "  </tbody>\n",
       "</table>\n",
       "</div>"
      ],
      "text/plain": [
       "          state   acres\n",
       "Park Code              \n",
       "ARCH         UT   76519\n",
       "BADL         SD  242756"
      ]
     },
     "execution_count": 12,
     "metadata": {},
     "output_type": "execute_result"
    }
   ],
   "source": [
    "data.iloc[1:3, [1,2]] # podemos pasar una lista"
   ]
  },
  {
   "cell_type": "markdown",
   "metadata": {},
   "source": [
    "_loc_"
   ]
  },
  {
   "cell_type": "code",
   "execution_count": 13,
   "metadata": {},
   "outputs": [
    {
     "data": {
      "text/plain": [
       "Index(['ACAD', 'ARCH', 'BADL', 'BIBE', 'BISC', 'BLCA', 'BRCA', 'CANY', 'CARE',\n",
       "       'CAVE', 'CHIS', 'CONG', 'CRLA', 'CUVA', 'DENA', 'DEVA', 'DRTO', 'EVER',\n",
       "       'GAAR', 'GLAC', 'GLBA', 'GRBA', 'GRCA', 'GRSA', 'GRSM', 'GRTE', 'GUMO',\n",
       "       'HALE', 'HAVO', 'HOSP', 'ISRO', 'JOTR', 'KATM', 'KEFJ', 'KOVA', 'LACL',\n",
       "       'LAVO', 'MACA', 'MEVE', 'MORA', 'NOCA', 'OLYM', 'PEFO', 'PINN', 'REDW',\n",
       "       'ROMO', 'SAGU', 'SEKI', 'SHEN', 'THRO', 'VOYA', 'WICA', 'WRST', 'YELL',\n",
       "       'YOSE', 'ZION'],\n",
       "      dtype='object', name='Park Code')"
      ]
     },
     "execution_count": 13,
     "metadata": {},
     "output_type": "execute_result"
    }
   ],
   "source": [
    "data.index # obtenemos los índices, es decir, la variable “Park Code” "
   ]
  },
  {
   "cell_type": "code",
   "execution_count": 15,
   "metadata": {},
   "outputs": [
    {
     "data": {
      "text/plain": [
       "44.35"
      ]
     },
     "execution_count": 15,
     "metadata": {},
     "output_type": "execute_result"
    }
   ],
   "source": [
    "data.loc['ACAD', 'latitude'] # del registro ‘ACAD’ obtenemos la latitude"
   ]
  },
  {
   "cell_type": "code",
   "execution_count": 17,
   "metadata": {},
   "outputs": [
    {
     "data": {
      "text/html": [
       "<div>\n",
       "<style scoped>\n",
       "    .dataframe tbody tr th:only-of-type {\n",
       "        vertical-align: middle;\n",
       "    }\n",
       "\n",
       "    .dataframe tbody tr th {\n",
       "        vertical-align: top;\n",
       "    }\n",
       "\n",
       "    .dataframe thead th {\n",
       "        text-align: right;\n",
       "    }\n",
       "</style>\n",
       "<table border=\"1\" class=\"dataframe\">\n",
       "  <thead>\n",
       "    <tr style=\"text-align: right;\">\n",
       "      <th></th>\n",
       "      <th>park_name</th>\n",
       "      <th>state</th>\n",
       "      <th>acres</th>\n",
       "      <th>latitude</th>\n",
       "      <th>longitude</th>\n",
       "    </tr>\n",
       "    <tr>\n",
       "      <th>Park Code</th>\n",
       "      <th></th>\n",
       "      <th></th>\n",
       "      <th></th>\n",
       "      <th></th>\n",
       "      <th></th>\n",
       "    </tr>\n",
       "  </thead>\n",
       "  <tbody>\n",
       "    <tr>\n",
       "      <th>ACAD</th>\n",
       "      <td>Acadia National Park</td>\n",
       "      <td>ME</td>\n",
       "      <td>47390</td>\n",
       "      <td>44.35</td>\n",
       "      <td>-68.21</td>\n",
       "    </tr>\n",
       "    <tr>\n",
       "      <th>ARCH</th>\n",
       "      <td>Arches National Park</td>\n",
       "      <td>UT</td>\n",
       "      <td>76519</td>\n",
       "      <td>38.68</td>\n",
       "      <td>-109.57</td>\n",
       "    </tr>\n",
       "  </tbody>\n",
       "</table>\n",
       "</div>"
      ],
      "text/plain": [
       "                      park_name state  acres  latitude  longitude\n",
       "Park Code                                                        \n",
       "ACAD       Acadia National Park    ME  47390     44.35     -68.21\n",
       "ARCH       Arches National Park    UT  76519     38.68    -109.57"
      ]
     },
     "execution_count": 17,
     "metadata": {},
     "output_type": "execute_result"
    }
   ],
   "source": [
    "data.loc[[\"ACAD\",\"ARCH\"]] # obtenemos dos registros"
   ]
  },
  {
   "cell_type": "code",
   "execution_count": 18,
   "metadata": {
    "scrolled": true
   },
   "outputs": [
    {
     "data": {
      "text/html": [
       "<div>\n",
       "<style scoped>\n",
       "    .dataframe tbody tr th:only-of-type {\n",
       "        vertical-align: middle;\n",
       "    }\n",
       "\n",
       "    .dataframe tbody tr th {\n",
       "        vertical-align: top;\n",
       "    }\n",
       "\n",
       "    .dataframe thead th {\n",
       "        text-align: right;\n",
       "    }\n",
       "</style>\n",
       "<table border=\"1\" class=\"dataframe\">\n",
       "  <thead>\n",
       "    <tr style=\"text-align: right;\">\n",
       "      <th></th>\n",
       "      <th>latitude</th>\n",
       "      <th>acres</th>\n",
       "    </tr>\n",
       "    <tr>\n",
       "      <th>Park Code</th>\n",
       "      <th></th>\n",
       "      <th></th>\n",
       "    </tr>\n",
       "  </thead>\n",
       "  <tbody>\n",
       "    <tr>\n",
       "      <th>ACAD</th>\n",
       "      <td>44.35</td>\n",
       "      <td>47390</td>\n",
       "    </tr>\n",
       "    <tr>\n",
       "      <th>ARCH</th>\n",
       "      <td>38.68</td>\n",
       "      <td>76519</td>\n",
       "    </tr>\n",
       "    <tr>\n",
       "      <th>BADL</th>\n",
       "      <td>43.75</td>\n",
       "      <td>242756</td>\n",
       "    </tr>\n",
       "    <tr>\n",
       "      <th>BIBE</th>\n",
       "      <td>29.25</td>\n",
       "      <td>801163</td>\n",
       "    </tr>\n",
       "    <tr>\n",
       "      <th>BISC</th>\n",
       "      <td>25.65</td>\n",
       "      <td>172924</td>\n",
       "    </tr>\n",
       "    <tr>\n",
       "      <th>BLCA</th>\n",
       "      <td>38.57</td>\n",
       "      <td>32950</td>\n",
       "    </tr>\n",
       "    <tr>\n",
       "      <th>BRCA</th>\n",
       "      <td>37.57</td>\n",
       "      <td>35835</td>\n",
       "    </tr>\n",
       "    <tr>\n",
       "      <th>CANY</th>\n",
       "      <td>38.20</td>\n",
       "      <td>337598</td>\n",
       "    </tr>\n",
       "    <tr>\n",
       "      <th>CARE</th>\n",
       "      <td>38.20</td>\n",
       "      <td>241904</td>\n",
       "    </tr>\n",
       "    <tr>\n",
       "      <th>CAVE</th>\n",
       "      <td>32.17</td>\n",
       "      <td>46766</td>\n",
       "    </tr>\n",
       "    <tr>\n",
       "      <th>CHIS</th>\n",
       "      <td>34.01</td>\n",
       "      <td>249561</td>\n",
       "    </tr>\n",
       "    <tr>\n",
       "      <th>CONG</th>\n",
       "      <td>33.78</td>\n",
       "      <td>26546</td>\n",
       "    </tr>\n",
       "    <tr>\n",
       "      <th>CRLA</th>\n",
       "      <td>42.94</td>\n",
       "      <td>183224</td>\n",
       "    </tr>\n",
       "    <tr>\n",
       "      <th>CUVA</th>\n",
       "      <td>41.24</td>\n",
       "      <td>32950</td>\n",
       "    </tr>\n",
       "    <tr>\n",
       "      <th>DENA</th>\n",
       "      <td>63.33</td>\n",
       "      <td>3372402</td>\n",
       "    </tr>\n",
       "    <tr>\n",
       "      <th>DEVA</th>\n",
       "      <td>36.24</td>\n",
       "      <td>4740912</td>\n",
       "    </tr>\n",
       "    <tr>\n",
       "      <th>DRTO</th>\n",
       "      <td>24.63</td>\n",
       "      <td>64701</td>\n",
       "    </tr>\n",
       "    <tr>\n",
       "      <th>EVER</th>\n",
       "      <td>25.32</td>\n",
       "      <td>1508538</td>\n",
       "    </tr>\n",
       "    <tr>\n",
       "      <th>GAAR</th>\n",
       "      <td>67.78</td>\n",
       "      <td>7523898</td>\n",
       "    </tr>\n",
       "    <tr>\n",
       "      <th>GLAC</th>\n",
       "      <td>48.80</td>\n",
       "      <td>1013572</td>\n",
       "    </tr>\n",
       "    <tr>\n",
       "      <th>GLBA</th>\n",
       "      <td>58.50</td>\n",
       "      <td>3224840</td>\n",
       "    </tr>\n",
       "    <tr>\n",
       "      <th>GRBA</th>\n",
       "      <td>38.98</td>\n",
       "      <td>77180</td>\n",
       "    </tr>\n",
       "    <tr>\n",
       "      <th>GRCA</th>\n",
       "      <td>36.06</td>\n",
       "      <td>1217403</td>\n",
       "    </tr>\n",
       "    <tr>\n",
       "      <th>GRSA</th>\n",
       "      <td>37.73</td>\n",
       "      <td>42984</td>\n",
       "    </tr>\n",
       "    <tr>\n",
       "      <th>GRSM</th>\n",
       "      <td>35.68</td>\n",
       "      <td>521490</td>\n",
       "    </tr>\n",
       "    <tr>\n",
       "      <th>GRTE</th>\n",
       "      <td>43.73</td>\n",
       "      <td>309995</td>\n",
       "    </tr>\n",
       "    <tr>\n",
       "      <th>GUMO</th>\n",
       "      <td>31.92</td>\n",
       "      <td>86416</td>\n",
       "    </tr>\n",
       "    <tr>\n",
       "      <th>HALE</th>\n",
       "      <td>20.72</td>\n",
       "      <td>29094</td>\n",
       "    </tr>\n",
       "    <tr>\n",
       "      <th>HAVO</th>\n",
       "      <td>19.38</td>\n",
       "      <td>323431</td>\n",
       "    </tr>\n",
       "    <tr>\n",
       "      <th>HOSP</th>\n",
       "      <td>34.51</td>\n",
       "      <td>5550</td>\n",
       "    </tr>\n",
       "    <tr>\n",
       "      <th>ISRO</th>\n",
       "      <td>48.10</td>\n",
       "      <td>571790</td>\n",
       "    </tr>\n",
       "    <tr>\n",
       "      <th>JOTR</th>\n",
       "      <td>33.79</td>\n",
       "      <td>789745</td>\n",
       "    </tr>\n",
       "    <tr>\n",
       "      <th>KATM</th>\n",
       "      <td>58.50</td>\n",
       "      <td>3674530</td>\n",
       "    </tr>\n",
       "    <tr>\n",
       "      <th>KEFJ</th>\n",
       "      <td>59.92</td>\n",
       "      <td>669983</td>\n",
       "    </tr>\n",
       "    <tr>\n",
       "      <th>KOVA</th>\n",
       "      <td>67.55</td>\n",
       "      <td>1750717</td>\n",
       "    </tr>\n",
       "    <tr>\n",
       "      <th>LACL</th>\n",
       "      <td>60.97</td>\n",
       "      <td>2619733</td>\n",
       "    </tr>\n",
       "    <tr>\n",
       "      <th>LAVO</th>\n",
       "      <td>40.49</td>\n",
       "      <td>106372</td>\n",
       "    </tr>\n",
       "    <tr>\n",
       "      <th>MACA</th>\n",
       "      <td>37.18</td>\n",
       "      <td>52830</td>\n",
       "    </tr>\n",
       "    <tr>\n",
       "      <th>MEVE</th>\n",
       "      <td>37.18</td>\n",
       "      <td>52122</td>\n",
       "    </tr>\n",
       "    <tr>\n",
       "      <th>MORA</th>\n",
       "      <td>46.85</td>\n",
       "      <td>235625</td>\n",
       "    </tr>\n",
       "    <tr>\n",
       "      <th>NOCA</th>\n",
       "      <td>48.70</td>\n",
       "      <td>504781</td>\n",
       "    </tr>\n",
       "    <tr>\n",
       "      <th>OLYM</th>\n",
       "      <td>47.97</td>\n",
       "      <td>922651</td>\n",
       "    </tr>\n",
       "    <tr>\n",
       "      <th>PEFO</th>\n",
       "      <td>35.07</td>\n",
       "      <td>93533</td>\n",
       "    </tr>\n",
       "    <tr>\n",
       "      <th>PINN</th>\n",
       "      <td>36.48</td>\n",
       "      <td>26606</td>\n",
       "    </tr>\n",
       "    <tr>\n",
       "      <th>REDW</th>\n",
       "      <td>41.30</td>\n",
       "      <td>112512</td>\n",
       "    </tr>\n",
       "    <tr>\n",
       "      <th>ROMO</th>\n",
       "      <td>40.40</td>\n",
       "      <td>265828</td>\n",
       "    </tr>\n",
       "    <tr>\n",
       "      <th>SAGU</th>\n",
       "      <td>32.25</td>\n",
       "      <td>91440</td>\n",
       "    </tr>\n",
       "    <tr>\n",
       "      <th>SEKI</th>\n",
       "      <td>36.43</td>\n",
       "      <td>865952</td>\n",
       "    </tr>\n",
       "    <tr>\n",
       "      <th>SHEN</th>\n",
       "      <td>38.53</td>\n",
       "      <td>199045</td>\n",
       "    </tr>\n",
       "    <tr>\n",
       "      <th>THRO</th>\n",
       "      <td>46.97</td>\n",
       "      <td>70447</td>\n",
       "    </tr>\n",
       "    <tr>\n",
       "      <th>VOYA</th>\n",
       "      <td>48.50</td>\n",
       "      <td>218200</td>\n",
       "    </tr>\n",
       "    <tr>\n",
       "      <th>WICA</th>\n",
       "      <td>43.57</td>\n",
       "      <td>28295</td>\n",
       "    </tr>\n",
       "    <tr>\n",
       "      <th>WRST</th>\n",
       "      <td>61.00</td>\n",
       "      <td>8323148</td>\n",
       "    </tr>\n",
       "    <tr>\n",
       "      <th>YELL</th>\n",
       "      <td>44.60</td>\n",
       "      <td>2219791</td>\n",
       "    </tr>\n",
       "    <tr>\n",
       "      <th>YOSE</th>\n",
       "      <td>37.83</td>\n",
       "      <td>761266</td>\n",
       "    </tr>\n",
       "    <tr>\n",
       "      <th>ZION</th>\n",
       "      <td>37.30</td>\n",
       "      <td>146598</td>\n",
       "    </tr>\n",
       "  </tbody>\n",
       "</table>\n",
       "</div>"
      ],
      "text/plain": [
       "           latitude    acres\n",
       "Park Code                   \n",
       "ACAD          44.35    47390\n",
       "ARCH          38.68    76519\n",
       "BADL          43.75   242756\n",
       "BIBE          29.25   801163\n",
       "BISC          25.65   172924\n",
       "BLCA          38.57    32950\n",
       "BRCA          37.57    35835\n",
       "CANY          38.20   337598\n",
       "CARE          38.20   241904\n",
       "CAVE          32.17    46766\n",
       "CHIS          34.01   249561\n",
       "CONG          33.78    26546\n",
       "CRLA          42.94   183224\n",
       "CUVA          41.24    32950\n",
       "DENA          63.33  3372402\n",
       "DEVA          36.24  4740912\n",
       "DRTO          24.63    64701\n",
       "EVER          25.32  1508538\n",
       "GAAR          67.78  7523898\n",
       "GLAC          48.80  1013572\n",
       "GLBA          58.50  3224840\n",
       "GRBA          38.98    77180\n",
       "GRCA          36.06  1217403\n",
       "GRSA          37.73    42984\n",
       "GRSM          35.68   521490\n",
       "GRTE          43.73   309995\n",
       "GUMO          31.92    86416\n",
       "HALE          20.72    29094\n",
       "HAVO          19.38   323431\n",
       "HOSP          34.51     5550\n",
       "ISRO          48.10   571790\n",
       "JOTR          33.79   789745\n",
       "KATM          58.50  3674530\n",
       "KEFJ          59.92   669983\n",
       "KOVA          67.55  1750717\n",
       "LACL          60.97  2619733\n",
       "LAVO          40.49   106372\n",
       "MACA          37.18    52830\n",
       "MEVE          37.18    52122\n",
       "MORA          46.85   235625\n",
       "NOCA          48.70   504781\n",
       "OLYM          47.97   922651\n",
       "PEFO          35.07    93533\n",
       "PINN          36.48    26606\n",
       "REDW          41.30   112512\n",
       "ROMO          40.40   265828\n",
       "SAGU          32.25    91440\n",
       "SEKI          36.43   865952\n",
       "SHEN          38.53   199045\n",
       "THRO          46.97    70447\n",
       "VOYA          48.50   218200\n",
       "WICA          43.57    28295\n",
       "WRST          61.00  8323148\n",
       "YELL          44.60  2219791\n",
       "YOSE          37.83   761266\n",
       "ZION          37.30   146598"
      ]
     },
     "execution_count": 18,
     "metadata": {},
     "output_type": "execute_result"
    }
   ],
   "source": [
    "data.loc[:, [\"latitude\", \"acres\"]]# la latitude y acres de todos los registros"
   ]
  },
  {
   "cell_type": "markdown",
   "metadata": {},
   "source": [
    "Finalmente ya es cuestión del programador el proceso de indexación y selección de los datos."
   ]
  },
  {
   "cell_type": "code",
   "execution_count": 19,
   "metadata": {},
   "outputs": [
    {
     "data": {
      "text/html": [
       "<div>\n",
       "<style scoped>\n",
       "    .dataframe tbody tr th:only-of-type {\n",
       "        vertical-align: middle;\n",
       "    }\n",
       "\n",
       "    .dataframe tbody tr th {\n",
       "        vertical-align: top;\n",
       "    }\n",
       "\n",
       "    .dataframe thead th {\n",
       "        text-align: right;\n",
       "    }\n",
       "</style>\n",
       "<table border=\"1\" class=\"dataframe\">\n",
       "  <thead>\n",
       "    <tr style=\"text-align: right;\">\n",
       "      <th></th>\n",
       "      <th>state</th>\n",
       "      <th>park_name</th>\n",
       "    </tr>\n",
       "    <tr>\n",
       "      <th>Park Code</th>\n",
       "      <th></th>\n",
       "      <th></th>\n",
       "    </tr>\n",
       "  </thead>\n",
       "  <tbody>\n",
       "    <tr>\n",
       "      <th>ARCH</th>\n",
       "      <td>UT</td>\n",
       "      <td>Arches National Park</td>\n",
       "    </tr>\n",
       "    <tr>\n",
       "      <th>BADL</th>\n",
       "      <td>SD</td>\n",
       "      <td>Badlands National Park</td>\n",
       "    </tr>\n",
       "  </tbody>\n",
       "</table>\n",
       "</div>"
      ],
      "text/plain": [
       "          state               park_name\n",
       "Park Code                              \n",
       "ARCH         UT    Arches National Park\n",
       "BADL         SD  Badlands National Park"
      ]
     },
     "execution_count": 19,
     "metadata": {},
     "output_type": "execute_result"
    }
   ],
   "source": [
    "data.iloc[1:3].loc[: ,['state','park_name']]"
   ]
  },
  {
   "cell_type": "markdown",
   "metadata": {},
   "source": [
    "##### Selección condicional\n",
    "\n",
    "Podemos realizar filtros en nuestro conjunto de datos a partir de condicionales en el DataFrame.\n",
    "Supongamos que estamos interesados en conocer solo los registros que pertenecen al estado de ‘CA’."
   ]
  },
  {
   "cell_type": "code",
   "execution_count": 20,
   "metadata": {
    "scrolled": true
   },
   "outputs": [
    {
     "data": {
      "text/html": [
       "<div>\n",
       "<style scoped>\n",
       "    .dataframe tbody tr th:only-of-type {\n",
       "        vertical-align: middle;\n",
       "    }\n",
       "\n",
       "    .dataframe tbody tr th {\n",
       "        vertical-align: top;\n",
       "    }\n",
       "\n",
       "    .dataframe thead th {\n",
       "        text-align: right;\n",
       "    }\n",
       "</style>\n",
       "<table border=\"1\" class=\"dataframe\">\n",
       "  <thead>\n",
       "    <tr style=\"text-align: right;\">\n",
       "      <th></th>\n",
       "      <th>park_name</th>\n",
       "      <th>state</th>\n",
       "      <th>acres</th>\n",
       "      <th>latitude</th>\n",
       "      <th>longitude</th>\n",
       "    </tr>\n",
       "    <tr>\n",
       "      <th>Park Code</th>\n",
       "      <th></th>\n",
       "      <th></th>\n",
       "      <th></th>\n",
       "      <th></th>\n",
       "      <th></th>\n",
       "    </tr>\n",
       "  </thead>\n",
       "  <tbody>\n",
       "    <tr>\n",
       "      <th>CHIS</th>\n",
       "      <td>Channel Islands National Park</td>\n",
       "      <td>CA</td>\n",
       "      <td>249561</td>\n",
       "      <td>34.01</td>\n",
       "      <td>-119.42</td>\n",
       "    </tr>\n",
       "    <tr>\n",
       "      <th>JOTR</th>\n",
       "      <td>Joshua Tree National Park</td>\n",
       "      <td>CA</td>\n",
       "      <td>789745</td>\n",
       "      <td>33.79</td>\n",
       "      <td>-115.90</td>\n",
       "    </tr>\n",
       "    <tr>\n",
       "      <th>LAVO</th>\n",
       "      <td>Lassen Volcanic National Park</td>\n",
       "      <td>CA</td>\n",
       "      <td>106372</td>\n",
       "      <td>40.49</td>\n",
       "      <td>-121.51</td>\n",
       "    </tr>\n",
       "    <tr>\n",
       "      <th>PINN</th>\n",
       "      <td>Pinnacles National Park</td>\n",
       "      <td>CA</td>\n",
       "      <td>26606</td>\n",
       "      <td>36.48</td>\n",
       "      <td>-121.16</td>\n",
       "    </tr>\n",
       "    <tr>\n",
       "      <th>REDW</th>\n",
       "      <td>Redwood National Park</td>\n",
       "      <td>CA</td>\n",
       "      <td>112512</td>\n",
       "      <td>41.30</td>\n",
       "      <td>-124.00</td>\n",
       "    </tr>\n",
       "    <tr>\n",
       "      <th>SEKI</th>\n",
       "      <td>Sequoia and Kings Canyon National Parks</td>\n",
       "      <td>CA</td>\n",
       "      <td>865952</td>\n",
       "      <td>36.43</td>\n",
       "      <td>-118.68</td>\n",
       "    </tr>\n",
       "    <tr>\n",
       "      <th>YOSE</th>\n",
       "      <td>Yosemite National Park</td>\n",
       "      <td>CA</td>\n",
       "      <td>761266</td>\n",
       "      <td>37.83</td>\n",
       "      <td>-119.50</td>\n",
       "    </tr>\n",
       "  </tbody>\n",
       "</table>\n",
       "</div>"
      ],
      "text/plain": [
       "                                         park_name state   acres  latitude  \\\n",
       "Park Code                                                                    \n",
       "CHIS                 Channel Islands National Park    CA  249561     34.01   \n",
       "JOTR                     Joshua Tree National Park    CA  789745     33.79   \n",
       "LAVO                 Lassen Volcanic National Park    CA  106372     40.49   \n",
       "PINN                       Pinnacles National Park    CA   26606     36.48   \n",
       "REDW                         Redwood National Park    CA  112512     41.30   \n",
       "SEKI       Sequoia and Kings Canyon National Parks    CA  865952     36.43   \n",
       "YOSE                        Yosemite National Park    CA  761266     37.83   \n",
       "\n",
       "           longitude  \n",
       "Park Code             \n",
       "CHIS         -119.42  \n",
       "JOTR         -115.90  \n",
       "LAVO         -121.51  \n",
       "PINN         -121.16  \n",
       "REDW         -124.00  \n",
       "SEKI         -118.68  \n",
       "YOSE         -119.50  "
      ]
     },
     "execution_count": 20,
     "metadata": {},
     "output_type": "execute_result"
    }
   ],
   "source": [
    "data.loc[data.state == \"CA\"]"
   ]
  },
  {
   "cell_type": "code",
   "execution_count": 23,
   "metadata": {
    "scrolled": true
   },
   "outputs": [
    {
     "data": {
      "text/html": [
       "<div>\n",
       "<style scoped>\n",
       "    .dataframe tbody tr th:only-of-type {\n",
       "        vertical-align: middle;\n",
       "    }\n",
       "\n",
       "    .dataframe tbody tr th {\n",
       "        vertical-align: top;\n",
       "    }\n",
       "\n",
       "    .dataframe thead th {\n",
       "        text-align: right;\n",
       "    }\n",
       "</style>\n",
       "<table border=\"1\" class=\"dataframe\">\n",
       "  <thead>\n",
       "    <tr style=\"text-align: right;\">\n",
       "      <th></th>\n",
       "      <th>park_name</th>\n",
       "      <th>state</th>\n",
       "      <th>acres</th>\n",
       "      <th>latitude</th>\n",
       "      <th>longitude</th>\n",
       "    </tr>\n",
       "    <tr>\n",
       "      <th>Park Code</th>\n",
       "      <th></th>\n",
       "      <th></th>\n",
       "      <th></th>\n",
       "      <th></th>\n",
       "      <th></th>\n",
       "    </tr>\n",
       "  </thead>\n",
       "  <tbody>\n",
       "    <tr>\n",
       "      <th>JOTR</th>\n",
       "      <td>Joshua Tree National Park</td>\n",
       "      <td>CA</td>\n",
       "      <td>789745</td>\n",
       "      <td>33.79</td>\n",
       "      <td>-115.90</td>\n",
       "    </tr>\n",
       "    <tr>\n",
       "      <th>SEKI</th>\n",
       "      <td>Sequoia and Kings Canyon National Parks</td>\n",
       "      <td>CA</td>\n",
       "      <td>865952</td>\n",
       "      <td>36.43</td>\n",
       "      <td>-118.68</td>\n",
       "    </tr>\n",
       "    <tr>\n",
       "      <th>YOSE</th>\n",
       "      <td>Yosemite National Park</td>\n",
       "      <td>CA</td>\n",
       "      <td>761266</td>\n",
       "      <td>37.83</td>\n",
       "      <td>-119.50</td>\n",
       "    </tr>\n",
       "  </tbody>\n",
       "</table>\n",
       "</div>"
      ],
      "text/plain": [
       "                                         park_name state   acres  latitude  \\\n",
       "Park Code                                                                    \n",
       "JOTR                     Joshua Tree National Park    CA  789745     33.79   \n",
       "SEKI       Sequoia and Kings Canyon National Parks    CA  865952     36.43   \n",
       "YOSE                        Yosemite National Park    CA  761266     37.83   \n",
       "\n",
       "           longitude  \n",
       "Park Code             \n",
       "JOTR         -115.90  \n",
       "SEKI         -118.68  \n",
       "YOSE         -119.50  "
      ]
     },
     "execution_count": 23,
     "metadata": {},
     "output_type": "execute_result"
    }
   ],
   "source": [
    "data.loc[(data.state == \"CA\") & (data.acres >= 700000)]"
   ]
  },
  {
   "cell_type": "markdown",
   "metadata": {},
   "source": [
    "Pandas provee otros métodos para selección condicional, un ejemplo de estos es isin(). isin selecciona los datos cuyo valor pertenece a una lista. \n",
    "\n",
    "_Supongamos que estamos interesados obtener los datos de los estados de ‘CA’ y ‘AK’_"
   ]
  },
  {
   "cell_type": "code",
   "execution_count": 24,
   "metadata": {
    "scrolled": true
   },
   "outputs": [
    {
     "data": {
      "text/html": [
       "<div>\n",
       "<style scoped>\n",
       "    .dataframe tbody tr th:only-of-type {\n",
       "        vertical-align: middle;\n",
       "    }\n",
       "\n",
       "    .dataframe tbody tr th {\n",
       "        vertical-align: top;\n",
       "    }\n",
       "\n",
       "    .dataframe thead th {\n",
       "        text-align: right;\n",
       "    }\n",
       "</style>\n",
       "<table border=\"1\" class=\"dataframe\">\n",
       "  <thead>\n",
       "    <tr style=\"text-align: right;\">\n",
       "      <th></th>\n",
       "      <th>park_name</th>\n",
       "      <th>state</th>\n",
       "      <th>acres</th>\n",
       "      <th>latitude</th>\n",
       "      <th>longitude</th>\n",
       "    </tr>\n",
       "    <tr>\n",
       "      <th>Park Code</th>\n",
       "      <th></th>\n",
       "      <th></th>\n",
       "      <th></th>\n",
       "      <th></th>\n",
       "      <th></th>\n",
       "    </tr>\n",
       "  </thead>\n",
       "  <tbody>\n",
       "    <tr>\n",
       "      <th>CHIS</th>\n",
       "      <td>Channel Islands National Park</td>\n",
       "      <td>CA</td>\n",
       "      <td>249561</td>\n",
       "      <td>34.01</td>\n",
       "      <td>-119.42</td>\n",
       "    </tr>\n",
       "    <tr>\n",
       "      <th>DENA</th>\n",
       "      <td>Denali National Park and Preserve</td>\n",
       "      <td>AK</td>\n",
       "      <td>3372402</td>\n",
       "      <td>63.33</td>\n",
       "      <td>-150.50</td>\n",
       "    </tr>\n",
       "    <tr>\n",
       "      <th>GAAR</th>\n",
       "      <td>Gates Of The Arctic National Park and Preserve</td>\n",
       "      <td>AK</td>\n",
       "      <td>7523898</td>\n",
       "      <td>67.78</td>\n",
       "      <td>-153.30</td>\n",
       "    </tr>\n",
       "    <tr>\n",
       "      <th>GLBA</th>\n",
       "      <td>Glacier Bay National Park and Preserve</td>\n",
       "      <td>AK</td>\n",
       "      <td>3224840</td>\n",
       "      <td>58.50</td>\n",
       "      <td>-137.00</td>\n",
       "    </tr>\n",
       "    <tr>\n",
       "      <th>JOTR</th>\n",
       "      <td>Joshua Tree National Park</td>\n",
       "      <td>CA</td>\n",
       "      <td>789745</td>\n",
       "      <td>33.79</td>\n",
       "      <td>-115.90</td>\n",
       "    </tr>\n",
       "    <tr>\n",
       "      <th>KATM</th>\n",
       "      <td>Katmai National Park and Preserve</td>\n",
       "      <td>AK</td>\n",
       "      <td>3674530</td>\n",
       "      <td>58.50</td>\n",
       "      <td>-155.00</td>\n",
       "    </tr>\n",
       "    <tr>\n",
       "      <th>KEFJ</th>\n",
       "      <td>Kenai Fjords National Park</td>\n",
       "      <td>AK</td>\n",
       "      <td>669983</td>\n",
       "      <td>59.92</td>\n",
       "      <td>-149.65</td>\n",
       "    </tr>\n",
       "    <tr>\n",
       "      <th>KOVA</th>\n",
       "      <td>Kobuk Valley National Park</td>\n",
       "      <td>AK</td>\n",
       "      <td>1750717</td>\n",
       "      <td>67.55</td>\n",
       "      <td>-159.28</td>\n",
       "    </tr>\n",
       "    <tr>\n",
       "      <th>LACL</th>\n",
       "      <td>Lake Clark National Park and Preserve</td>\n",
       "      <td>AK</td>\n",
       "      <td>2619733</td>\n",
       "      <td>60.97</td>\n",
       "      <td>-153.42</td>\n",
       "    </tr>\n",
       "    <tr>\n",
       "      <th>LAVO</th>\n",
       "      <td>Lassen Volcanic National Park</td>\n",
       "      <td>CA</td>\n",
       "      <td>106372</td>\n",
       "      <td>40.49</td>\n",
       "      <td>-121.51</td>\n",
       "    </tr>\n",
       "    <tr>\n",
       "      <th>PINN</th>\n",
       "      <td>Pinnacles National Park</td>\n",
       "      <td>CA</td>\n",
       "      <td>26606</td>\n",
       "      <td>36.48</td>\n",
       "      <td>-121.16</td>\n",
       "    </tr>\n",
       "    <tr>\n",
       "      <th>REDW</th>\n",
       "      <td>Redwood National Park</td>\n",
       "      <td>CA</td>\n",
       "      <td>112512</td>\n",
       "      <td>41.30</td>\n",
       "      <td>-124.00</td>\n",
       "    </tr>\n",
       "    <tr>\n",
       "      <th>SEKI</th>\n",
       "      <td>Sequoia and Kings Canyon National Parks</td>\n",
       "      <td>CA</td>\n",
       "      <td>865952</td>\n",
       "      <td>36.43</td>\n",
       "      <td>-118.68</td>\n",
       "    </tr>\n",
       "    <tr>\n",
       "      <th>WRST</th>\n",
       "      <td>Wrangell - St Elias National Park and Preserve</td>\n",
       "      <td>AK</td>\n",
       "      <td>8323148</td>\n",
       "      <td>61.00</td>\n",
       "      <td>-142.00</td>\n",
       "    </tr>\n",
       "    <tr>\n",
       "      <th>YOSE</th>\n",
       "      <td>Yosemite National Park</td>\n",
       "      <td>CA</td>\n",
       "      <td>761266</td>\n",
       "      <td>37.83</td>\n",
       "      <td>-119.50</td>\n",
       "    </tr>\n",
       "  </tbody>\n",
       "</table>\n",
       "</div>"
      ],
      "text/plain": [
       "                                                park_name state    acres  \\\n",
       "Park Code                                                                  \n",
       "CHIS                        Channel Islands National Park    CA   249561   \n",
       "DENA                    Denali National Park and Preserve    AK  3372402   \n",
       "GAAR       Gates Of The Arctic National Park and Preserve    AK  7523898   \n",
       "GLBA               Glacier Bay National Park and Preserve    AK  3224840   \n",
       "JOTR                            Joshua Tree National Park    CA   789745   \n",
       "KATM                    Katmai National Park and Preserve    AK  3674530   \n",
       "KEFJ                           Kenai Fjords National Park    AK   669983   \n",
       "KOVA                           Kobuk Valley National Park    AK  1750717   \n",
       "LACL                Lake Clark National Park and Preserve    AK  2619733   \n",
       "LAVO                        Lassen Volcanic National Park    CA   106372   \n",
       "PINN                              Pinnacles National Park    CA    26606   \n",
       "REDW                                Redwood National Park    CA   112512   \n",
       "SEKI              Sequoia and Kings Canyon National Parks    CA   865952   \n",
       "WRST       Wrangell - St Elias National Park and Preserve    AK  8323148   \n",
       "YOSE                               Yosemite National Park    CA   761266   \n",
       "\n",
       "           latitude  longitude  \n",
       "Park Code                       \n",
       "CHIS          34.01    -119.42  \n",
       "DENA          63.33    -150.50  \n",
       "GAAR          67.78    -153.30  \n",
       "GLBA          58.50    -137.00  \n",
       "JOTR          33.79    -115.90  \n",
       "KATM          58.50    -155.00  \n",
       "KEFJ          59.92    -149.65  \n",
       "KOVA          67.55    -159.28  \n",
       "LACL          60.97    -153.42  \n",
       "LAVO          40.49    -121.51  \n",
       "PINN          36.48    -121.16  \n",
       "REDW          41.30    -124.00  \n",
       "SEKI          36.43    -118.68  \n",
       "WRST          61.00    -142.00  \n",
       "YOSE          37.83    -119.50  "
      ]
     },
     "execution_count": 24,
     "metadata": {},
     "output_type": "execute_result"
    }
   ],
   "source": [
    "data[data.state.isin(['AK', 'CA'])]"
   ]
  },
  {
   "cell_type": "markdown",
   "metadata": {},
   "source": [
    "##### Asignación de datos"
   ]
  },
  {
   "cell_type": "markdown",
   "metadata": {},
   "source": [
    "La asignación de datos a una DataFrame es relativamente sencilla, podemos aplicar los pasos vistos y asignar los registros a un valor constante. \n",
    "\n",
    "_Supongamos que deseamos cambiar los registros que tienen un estado 'AK' por NaN_"
   ]
  },
  {
   "cell_type": "code",
   "execution_count": 5,
   "metadata": {},
   "outputs": [],
   "source": [
    "data[data.state =='AK']['state'] = np.nan"
   ]
  },
  {
   "cell_type": "markdown",
   "metadata": {},
   "source": [
    "##### Selección condicional NaN"
   ]
  },
  {
   "cell_type": "code",
   "execution_count": 14,
   "metadata": {},
   "outputs": [
    {
     "name": "stdout",
     "output_type": "stream",
     "text": [
      "<class 'pandas.core.frame.DataFrame'>\n",
      "Index: 56 entries, ACAD to ZION\n",
      "Data columns (total 5 columns):\n",
      "park_name    48 non-null object\n",
      "state        48 non-null category\n",
      "acres        48 non-null float64\n",
      "latitude     48 non-null float64\n",
      "longitude    48 non-null float64\n",
      "dtypes: category(1), float64(3), object(1)\n",
      "memory usage: 3.7+ KB\n"
     ]
    }
   ],
   "source": [
    "data.info()"
   ]
  },
  {
   "cell_type": "code",
   "execution_count": 13,
   "metadata": {},
   "outputs": [
    {
     "name": "stdout",
     "output_type": "stream",
     "text": [
      "(56, 5)\n",
      "(8, 5)\n"
     ]
    }
   ],
   "source": [
    "print(data[data.state.notnull()].shape)\n",
    "print(data[data.state.isnull()].shape)"
   ]
  },
  {
   "cell_type": "markdown",
   "metadata": {
    "heading_collapsed": true
   },
   "source": [
    "##### Eliminando objetos en memoria"
   ]
  },
  {
   "cell_type": "markdown",
   "metadata": {
    "hidden": true
   },
   "source": [
    "_Si deseamos liberar el espacio de memoria solo le asignamos null al objetivo_"
   ]
  },
  {
   "cell_type": "code",
   "execution_count": 30,
   "metadata": {
    "hidden": true
   },
   "outputs": [
    {
     "name": "stdout",
     "output_type": "stream",
     "text": [
      "No existe el dataframe en memoria\n"
     ]
    }
   ],
   "source": [
    "df = pd.read_csv('https://archive.ics.uci.edu/ml/machine-learning-databases/wine-quality/winequality-red.csv',\n",
    "                sep=';')\n",
    "try:\n",
    "    del df\n",
    "    df\n",
    "except:\n",
    "    print(\"No existe el dataframe en memoria\")   "
   ]
  },
  {
   "cell_type": "markdown",
   "metadata": {
    "heading_collapsed": true
   },
   "source": [
    "##### Persistencia de datos\n",
    "\n",
    "Podemos escribir los datos de un dataframe en un archivo para futuros trabajos, para esta tarea Pandas nos provee un conjunto de métodos para la escritura, entre estos podemos encontrar:\n",
    "```\n",
    "+ to_csv:\tWrite object to a comma-separated values (csv) file.\n",
    "+ to_excel():\tWrite object to an Excel sheet.\n",
    "+ to_gbq():\tWrite a DataFrame to a Google BigQuery table.\n",
    "+ to_hdf():\tWrite the contained data to an HDF5 file using HDFStore.\n",
    "+ to_html():\tRender a DataFrame as an HTML table.\n",
    "+ to_json():\tConvert the object to a JSON string.\n",
    "+ to_latex():\tRender an object to a LaTeX tabular environment table.\n",
    "+ to_pickle():\tPickle (serialize) object to file.\n",
    "```\n",
    "Para mayor información podemos ir a la documentación oficial del paquete:\n",
    "\n",
    "https://pandas.pydata.org/pandas-docs/stable/reference/api/pandas.DataFrame.html"
   ]
  },
  {
   "cell_type": "code",
   "execution_count": 48,
   "metadata": {
    "hidden": true
   },
   "outputs": [
    {
     "data": {
      "text/html": [
       "<div>\n",
       "<style scoped>\n",
       "    .dataframe tbody tr th:only-of-type {\n",
       "        vertical-align: middle;\n",
       "    }\n",
       "\n",
       "    .dataframe tbody tr th {\n",
       "        vertical-align: top;\n",
       "    }\n",
       "\n",
       "    .dataframe thead th {\n",
       "        text-align: right;\n",
       "    }\n",
       "</style>\n",
       "<table border=\"1\" class=\"dataframe\">\n",
       "  <thead>\n",
       "    <tr style=\"text-align: right;\">\n",
       "      <th></th>\n",
       "      <th>Unnamed: 0</th>\n",
       "      <th>state</th>\n",
       "      <th>year</th>\n",
       "      <th>pop</th>\n",
       "    </tr>\n",
       "  </thead>\n",
       "  <tbody>\n",
       "    <tr>\n",
       "      <th>0</th>\n",
       "      <td>indice1</td>\n",
       "      <td>Ohio</td>\n",
       "      <td>2000</td>\n",
       "      <td>1.5</td>\n",
       "    </tr>\n",
       "    <tr>\n",
       "      <th>1</th>\n",
       "      <td>indice2</td>\n",
       "      <td>Ohio</td>\n",
       "      <td>2001</td>\n",
       "      <td>1.7</td>\n",
       "    </tr>\n",
       "    <tr>\n",
       "      <th>2</th>\n",
       "      <td>indice3</td>\n",
       "      <td>Ohio</td>\n",
       "      <td>2002</td>\n",
       "      <td>3.6</td>\n",
       "    </tr>\n",
       "    <tr>\n",
       "      <th>3</th>\n",
       "      <td>indice4</td>\n",
       "      <td>Nevada</td>\n",
       "      <td>2001</td>\n",
       "      <td>2.4</td>\n",
       "    </tr>\n",
       "    <tr>\n",
       "      <th>4</th>\n",
       "      <td>indice5</td>\n",
       "      <td>Nevada</td>\n",
       "      <td>2002</td>\n",
       "      <td>2.9</td>\n",
       "    </tr>\n",
       "  </tbody>\n",
       "</table>\n",
       "</div>"
      ],
      "text/plain": [
       "  Unnamed: 0   state  year  pop\n",
       "0    indice1    Ohio  2000  1.5\n",
       "1    indice2    Ohio  2001  1.7\n",
       "2    indice3    Ohio  2002  3.6\n",
       "3    indice4  Nevada  2001  2.4\n",
       "4    indice5  Nevada  2002  2.9"
      ]
     },
     "execution_count": 48,
     "metadata": {},
     "output_type": "execute_result"
    }
   ],
   "source": [
    "# Vamos a crear un nuevo dataframe\n",
    "data = {'state': ['Ohio', 'Ohio', 'Ohio', 'Nevada', 'Nevada', 'Nevada'],\n",
    "       'year': [2000, 2001, 2002, 2001, 2002, 2003],\n",
    "       'pop': [1.5, 1.7, 3.6, 2.4, 2.9, 3.2]}\n",
    "data = DataFrame(data, index=['indice1', 'indice2', 'indice3','indice4', 'indice5', 'indice6'])\n",
    "# ahora vamos a guardarlo como un csv\n",
    "data.to_csv(\"prueba.csv\")\n",
    "# el objeto dataframe previamente creado lo borramos \n",
    "del data\n",
    "# cargamos el csv previamente creado en un dataframe\n",
    "pd.read_csv(\"prueba.csv\").head()"
   ]
  },
  {
   "cell_type": "markdown",
   "metadata": {
    "hidden": true
   },
   "source": [
    "Observe que los índices fueron almacenados como una columna, deberíamos tenerlos en cuenta nuevamente cuando carguemos el dataset."
   ]
  },
  {
   "cell_type": "code",
   "execution_count": 51,
   "metadata": {
    "hidden": true,
    "scrolled": true
   },
   "outputs": [
    {
     "data": {
      "text/html": [
       "<div>\n",
       "<style scoped>\n",
       "    .dataframe tbody tr th:only-of-type {\n",
       "        vertical-align: middle;\n",
       "    }\n",
       "\n",
       "    .dataframe tbody tr th {\n",
       "        vertical-align: top;\n",
       "    }\n",
       "\n",
       "    .dataframe thead th {\n",
       "        text-align: right;\n",
       "    }\n",
       "</style>\n",
       "<table border=\"1\" class=\"dataframe\">\n",
       "  <thead>\n",
       "    <tr style=\"text-align: right;\">\n",
       "      <th></th>\n",
       "      <th>state</th>\n",
       "      <th>year</th>\n",
       "      <th>pop</th>\n",
       "    </tr>\n",
       "  </thead>\n",
       "  <tbody>\n",
       "    <tr>\n",
       "      <th>indice1</th>\n",
       "      <td>Ohio</td>\n",
       "      <td>2000</td>\n",
       "      <td>1.5</td>\n",
       "    </tr>\n",
       "    <tr>\n",
       "      <th>indice2</th>\n",
       "      <td>Ohio</td>\n",
       "      <td>2001</td>\n",
       "      <td>1.7</td>\n",
       "    </tr>\n",
       "    <tr>\n",
       "      <th>indice3</th>\n",
       "      <td>Ohio</td>\n",
       "      <td>2002</td>\n",
       "      <td>3.6</td>\n",
       "    </tr>\n",
       "    <tr>\n",
       "      <th>indice4</th>\n",
       "      <td>Nevada</td>\n",
       "      <td>2001</td>\n",
       "      <td>2.4</td>\n",
       "    </tr>\n",
       "    <tr>\n",
       "      <th>indice5</th>\n",
       "      <td>Nevada</td>\n",
       "      <td>2002</td>\n",
       "      <td>2.9</td>\n",
       "    </tr>\n",
       "  </tbody>\n",
       "</table>\n",
       "</div>"
      ],
      "text/plain": [
       "          state  year  pop\n",
       "indice1    Ohio  2000  1.5\n",
       "indice2    Ohio  2001  1.7\n",
       "indice3    Ohio  2002  3.6\n",
       "indice4  Nevada  2001  2.4\n",
       "indice5  Nevada  2002  2.9"
      ]
     },
     "execution_count": 51,
     "metadata": {},
     "output_type": "execute_result"
    }
   ],
   "source": [
    "pd.read_csv(\"prueba.csv\", index_col=0).head()"
   ]
  },
  {
   "cell_type": "code",
   "execution_count": null,
   "metadata": {
    "hidden": true
   },
   "outputs": [],
   "source": []
  },
  {
   "cell_type": "markdown",
   "metadata": {},
   "source": [
    "## Ejercicios prácticos"
   ]
  },
  {
   "cell_type": "markdown",
   "metadata": {},
   "source": [
    "#### Ejercicio 1"
   ]
  },
  {
   "cell_type": "markdown",
   "metadata": {},
   "source": [
    "Cree un DataFrame que represente a la siguiente información:\n",
    "\n",
    "<table> \n",
    "    <tr>\n",
    "        <th>\n",
    "            <td> asd\n",
    "            </td>\n",
    "            <td> Apples\n",
    "            </td>\n",
    "            <td>\n",
    "                Bananas\n",
    "            </td>\n",
    "   </tr>\n",
    "   <tr>\n",
    "        <td>\n",
    "            2017 Sales\n",
    "        </td>    \n",
    "        <td>\n",
    "            2017 Sales\n",
    "        </td>    \n",
    "        <td>\n",
    "            35\n",
    "        </td>\n",
    "        <td>\n",
    "            21\n",
    "        </td>    \n",
    "    </tr>\n",
    "    <tr>\n",
    "        <td>\n",
    "            2017 Sales\n",
    "        </td>    \n",
    "        <td>\n",
    "            2017 Sales\n",
    "        </td>    \n",
    "        <td>\n",
    "            41\n",
    "        </td>\n",
    "        <td>\n",
    "            34\n",
    "        </td>    \n",
    "    </tr>\n",
    "</table>"
   ]
  },
  {
   "cell_type": "code",
   "execution_count": 6,
   "metadata": {},
   "outputs": [
    {
     "data": {
      "text/html": [
       "<div>\n",
       "<style scoped>\n",
       "    .dataframe tbody tr th:only-of-type {\n",
       "        vertical-align: middle;\n",
       "    }\n",
       "\n",
       "    .dataframe tbody tr th {\n",
       "        vertical-align: top;\n",
       "    }\n",
       "\n",
       "    .dataframe thead th {\n",
       "        text-align: right;\n",
       "    }\n",
       "</style>\n",
       "<table border=\"1\" class=\"dataframe\">\n",
       "  <thead>\n",
       "    <tr style=\"text-align: right;\">\n",
       "      <th></th>\n",
       "      <th>Apples</th>\n",
       "      <th>Bananas</th>\n",
       "    </tr>\n",
       "  </thead>\n",
       "  <tbody>\n",
       "    <tr>\n",
       "      <th>2017 Sales</th>\n",
       "      <td>35</td>\n",
       "      <td>21</td>\n",
       "    </tr>\n",
       "    <tr>\n",
       "      <th>2018 Sales</th>\n",
       "      <td>41</td>\n",
       "      <td>34</td>\n",
       "    </tr>\n",
       "  </tbody>\n",
       "</table>\n",
       "</div>"
      ],
      "text/plain": [
       "            Apples  Bananas\n",
       "2017 Sales      35       21\n",
       "2018 Sales      41       34"
      ]
     },
     "execution_count": 6,
     "metadata": {},
     "output_type": "execute_result"
    }
   ],
   "source": [
    "fruit_sales = pd.DataFrame({'Apples':[35,41],'Bananas':[21,34]})\n",
    "fruit_sales.index = [\"2017 Sales\", \"2018 Sales\"]\n",
    "fruit_sales"
   ]
  },
  {
   "cell_type": "markdown",
   "metadata": {},
   "source": [
    "#### Ejercicio 2"
   ]
  },
  {
   "cell_type": "markdown",
   "metadata": {},
   "source": [
    "Descargue el archivo studentgrades.csv.\n",
    "+ Construya un data frame a partir del archivo csv, sin especificar los tipos de clase de las variables. Las filas deben nombrarse con el valor del ID de cada estudiante\n",
    "+ Data frame resultante:\n",
    "\n",
    "| First  | Last  | Math  | Science  | Social.Studies  |\n",
    "|:-:|:-:|:-:|:-:|:-:|\n",
    "| Bob | Smith  | 90  | 80  | 67  |\n",
    "| Jane | Weary  | 75  | NA  | 80  |\n",
    "| Dan | Thornton, III  | 65  | 75  | 70  |\n",
    "| Mary|  O'Leary |  90 | 95 | 92  |"
   ]
  },
  {
   "cell_type": "code",
   "execution_count": 20,
   "metadata": {
    "scrolled": true
   },
   "outputs": [
    {
     "data": {
      "text/html": [
       "<div>\n",
       "<style scoped>\n",
       "    .dataframe tbody tr th:only-of-type {\n",
       "        vertical-align: middle;\n",
       "    }\n",
       "\n",
       "    .dataframe tbody tr th {\n",
       "        vertical-align: top;\n",
       "    }\n",
       "\n",
       "    .dataframe thead th {\n",
       "        text-align: right;\n",
       "    }\n",
       "</style>\n",
       "<table border=\"1\" class=\"dataframe\">\n",
       "  <thead>\n",
       "    <tr style=\"text-align: right;\">\n",
       "      <th></th>\n",
       "      <th>First</th>\n",
       "      <th>Last</th>\n",
       "      <th>Math</th>\n",
       "      <th>Science</th>\n",
       "      <th>Social Studies</th>\n",
       "    </tr>\n",
       "    <tr>\n",
       "      <th>StudentID</th>\n",
       "      <th></th>\n",
       "      <th></th>\n",
       "      <th></th>\n",
       "      <th></th>\n",
       "      <th></th>\n",
       "    </tr>\n",
       "  </thead>\n",
       "  <tbody>\n",
       "    <tr>\n",
       "      <th>11</th>\n",
       "      <td>Bob</td>\n",
       "      <td>Smith</td>\n",
       "      <td>90</td>\n",
       "      <td>80.0</td>\n",
       "      <td>67</td>\n",
       "    </tr>\n",
       "    <tr>\n",
       "      <th>12</th>\n",
       "      <td>Jane</td>\n",
       "      <td>Weary</td>\n",
       "      <td>75</td>\n",
       "      <td>NaN</td>\n",
       "      <td>80</td>\n",
       "    </tr>\n",
       "    <tr>\n",
       "      <th>10</th>\n",
       "      <td>Dan</td>\n",
       "      <td>Thornton, III</td>\n",
       "      <td>65</td>\n",
       "      <td>75.0</td>\n",
       "      <td>70</td>\n",
       "    </tr>\n",
       "    <tr>\n",
       "      <th>40</th>\n",
       "      <td>Mary</td>\n",
       "      <td>O'Leary</td>\n",
       "      <td>90</td>\n",
       "      <td>95.0</td>\n",
       "      <td>92</td>\n",
       "    </tr>\n",
       "  </tbody>\n",
       "</table>\n",
       "</div>"
      ],
      "text/plain": [
       "          First           Last  Math  Science  Social Studies\n",
       "StudentID                                                    \n",
       "11          Bob          Smith    90     80.0              67\n",
       "12         Jane          Weary    75      NaN              80\n",
       "10          Dan  Thornton, III    65     75.0              70\n",
       "40         Mary        O'Leary    90     95.0              92"
      ]
     },
     "execution_count": 20,
     "metadata": {},
     "output_type": "execute_result"
    }
   ],
   "source": [
    "import pandas as pd\n",
    "df = pd.read_csv(\"../../../Datasets/studentgrades.csv\", index_col=0)\n",
    "df.head()"
   ]
  },
  {
   "cell_type": "code",
   "execution_count": 7,
   "metadata": {},
   "outputs": [
    {
     "name": "stdout",
     "output_type": "stream",
     "text": [
      "<class 'pandas.core.frame.DataFrame'>\n",
      "Int64Index: 4 entries, 11 to 40\n",
      "Data columns (total 5 columns):\n",
      "First             4 non-null object\n",
      "Last              4 non-null object\n",
      "Math              4 non-null int64\n",
      "Science           3 non-null float64\n",
      "Social Studies    4 non-null int64\n",
      "dtypes: float64(1), int64(2), object(2)\n",
      "memory usage: 192.0+ bytes\n"
     ]
    }
   ],
   "source": [
    "df.info()"
   ]
  },
  {
   "cell_type": "markdown",
   "metadata": {},
   "source": [
    "Observemos como fueron cargados los tipos de las variables, para los nombres lo correcto es que sean de tipo carácter."
   ]
  },
  {
   "cell_type": "markdown",
   "metadata": {},
   "source": [
    "#### Ejercicio 3\n",
    "\n",
    "Convierta todos los nombres de las columnas en minúsculas y reemplace el carácter \" \" por \"_\"."
   ]
  },
  {
   "cell_type": "code",
   "execution_count": 21,
   "metadata": {},
   "outputs": [
    {
     "data": {
      "text/plain": [
       "Index(['first', 'last', 'math', 'science', 'social_studies'], dtype='object')"
      ]
     },
     "execution_count": 21,
     "metadata": {},
     "output_type": "execute_result"
    }
   ],
   "source": [
    "df.columns = [col.replace(' ','_').lower() for col in df.columns]\n",
    "df.columns"
   ]
  },
  {
   "cell_type": "markdown",
   "metadata": {},
   "source": [
    "#### Ejercicio 4\n",
    "Cree una variable **ingredientes** tipo Series que sea así:\n",
    "```\n",
    "Flour     4 cups\n",
    "Milk       1 cup\n",
    "Eggs     2 large\n",
    "Spam       1 can\n",
    "Name: Dinner, dtype: object\n",
    "```"
   ]
  },
  {
   "cell_type": "code",
   "execution_count": 35,
   "metadata": {},
   "outputs": [
    {
     "data": {
      "text/plain": [
       "Flour     4 cups\n",
       "Milk       1 cup\n",
       "Eggs     2 large\n",
       "Spam       1 can\n",
       "Name: Dinner, dtype: object"
      ]
     },
     "execution_count": 35,
     "metadata": {},
     "output_type": "execute_result"
    }
   ],
   "source": [
    "ingredientes = pd.Series(['4 cups', '1 cup', '2 large','1 can'], index=[\"Flour\", \"Milk\", \"Eggs\", \"Spam\"], name=\"Dinner\")\n",
    "ingredientes"
   ]
  },
  {
   "cell_type": "markdown",
   "metadata": {},
   "source": [
    "#### Ejercicio 5\n",
    "\n",
    "Cargue el dataset train_titanic.csv con index_col para PassengerId"
   ]
  },
  {
   "cell_type": "code",
   "execution_count": 19,
   "metadata": {},
   "outputs": [
    {
     "data": {
      "text/html": [
       "<div>\n",
       "<style scoped>\n",
       "    .dataframe tbody tr th:only-of-type {\n",
       "        vertical-align: middle;\n",
       "    }\n",
       "\n",
       "    .dataframe tbody tr th {\n",
       "        vertical-align: top;\n",
       "    }\n",
       "\n",
       "    .dataframe thead th {\n",
       "        text-align: right;\n",
       "    }\n",
       "</style>\n",
       "<table border=\"1\" class=\"dataframe\">\n",
       "  <thead>\n",
       "    <tr style=\"text-align: right;\">\n",
       "      <th></th>\n",
       "      <th>Survived</th>\n",
       "      <th>Pclass</th>\n",
       "      <th>Name</th>\n",
       "      <th>Sex</th>\n",
       "      <th>Age</th>\n",
       "      <th>SibSp</th>\n",
       "      <th>Parch</th>\n",
       "      <th>Ticket</th>\n",
       "      <th>Fare</th>\n",
       "      <th>Cabin</th>\n",
       "      <th>Embarked</th>\n",
       "    </tr>\n",
       "    <tr>\n",
       "      <th>PassengerId</th>\n",
       "      <th></th>\n",
       "      <th></th>\n",
       "      <th></th>\n",
       "      <th></th>\n",
       "      <th></th>\n",
       "      <th></th>\n",
       "      <th></th>\n",
       "      <th></th>\n",
       "      <th></th>\n",
       "      <th></th>\n",
       "      <th></th>\n",
       "    </tr>\n",
       "  </thead>\n",
       "  <tbody>\n",
       "    <tr>\n",
       "      <th>1</th>\n",
       "      <td>0</td>\n",
       "      <td>3</td>\n",
       "      <td>Braund, Mr. Owen Harris</td>\n",
       "      <td>male</td>\n",
       "      <td>22.0</td>\n",
       "      <td>1</td>\n",
       "      <td>0</td>\n",
       "      <td>A/5 21171</td>\n",
       "      <td>7.2500</td>\n",
       "      <td>NaN</td>\n",
       "      <td>S</td>\n",
       "    </tr>\n",
       "    <tr>\n",
       "      <th>2</th>\n",
       "      <td>1</td>\n",
       "      <td>1</td>\n",
       "      <td>Cumings, Mrs. John Bradley (Florence Briggs Th...</td>\n",
       "      <td>female</td>\n",
       "      <td>38.0</td>\n",
       "      <td>1</td>\n",
       "      <td>0</td>\n",
       "      <td>PC 17599</td>\n",
       "      <td>71.2833</td>\n",
       "      <td>C85</td>\n",
       "      <td>C</td>\n",
       "    </tr>\n",
       "    <tr>\n",
       "      <th>3</th>\n",
       "      <td>1</td>\n",
       "      <td>3</td>\n",
       "      <td>Heikkinen, Miss. Laina</td>\n",
       "      <td>female</td>\n",
       "      <td>26.0</td>\n",
       "      <td>0</td>\n",
       "      <td>0</td>\n",
       "      <td>STON/O2. 3101282</td>\n",
       "      <td>7.9250</td>\n",
       "      <td>NaN</td>\n",
       "      <td>S</td>\n",
       "    </tr>\n",
       "    <tr>\n",
       "      <th>4</th>\n",
       "      <td>1</td>\n",
       "      <td>1</td>\n",
       "      <td>Futrelle, Mrs. Jacques Heath (Lily May Peel)</td>\n",
       "      <td>female</td>\n",
       "      <td>35.0</td>\n",
       "      <td>1</td>\n",
       "      <td>0</td>\n",
       "      <td>113803</td>\n",
       "      <td>53.1000</td>\n",
       "      <td>C123</td>\n",
       "      <td>S</td>\n",
       "    </tr>\n",
       "    <tr>\n",
       "      <th>5</th>\n",
       "      <td>0</td>\n",
       "      <td>3</td>\n",
       "      <td>Allen, Mr. William Henry</td>\n",
       "      <td>male</td>\n",
       "      <td>35.0</td>\n",
       "      <td>0</td>\n",
       "      <td>0</td>\n",
       "      <td>373450</td>\n",
       "      <td>8.0500</td>\n",
       "      <td>NaN</td>\n",
       "      <td>S</td>\n",
       "    </tr>\n",
       "  </tbody>\n",
       "</table>\n",
       "</div>"
      ],
      "text/plain": [
       "             Survived  Pclass  \\\n",
       "PassengerId                     \n",
       "1                   0       3   \n",
       "2                   1       1   \n",
       "3                   1       3   \n",
       "4                   1       1   \n",
       "5                   0       3   \n",
       "\n",
       "                                                          Name     Sex   Age  \\\n",
       "PassengerId                                                                    \n",
       "1                                      Braund, Mr. Owen Harris    male  22.0   \n",
       "2            Cumings, Mrs. John Bradley (Florence Briggs Th...  female  38.0   \n",
       "3                                       Heikkinen, Miss. Laina  female  26.0   \n",
       "4                 Futrelle, Mrs. Jacques Heath (Lily May Peel)  female  35.0   \n",
       "5                                     Allen, Mr. William Henry    male  35.0   \n",
       "\n",
       "             SibSp  Parch            Ticket     Fare Cabin Embarked  \n",
       "PassengerId                                                          \n",
       "1                1      0         A/5 21171   7.2500   NaN        S  \n",
       "2                1      0          PC 17599  71.2833   C85        C  \n",
       "3                0      0  STON/O2. 3101282   7.9250   NaN        S  \n",
       "4                1      0            113803  53.1000  C123        S  \n",
       "5                0      0            373450   8.0500   NaN        S  "
      ]
     },
     "execution_count": 19,
     "metadata": {},
     "output_type": "execute_result"
    }
   ],
   "source": [
    "df = pd.read_csv(\"https://raw.githubusercontent.com/urcuqui/Ciencia-de-datos-ICESI/master/posgrado/datasets/titanic/train_titanic.csv\", index_col=[\"PassengerId\"])\n",
    "df.head()"
   ]
  },
  {
   "cell_type": "markdown",
   "metadata": {},
   "source": [
    "#### Ejercicio 6\n",
    "\n",
    "Transforme los nombres de las columnas a minúsculas"
   ]
  },
  {
   "cell_type": "code",
   "execution_count": 20,
   "metadata": {
    "scrolled": true
   },
   "outputs": [
    {
     "data": {
      "text/plain": [
       "Index(['survived', 'pclass', 'name', 'sex', 'age', 'sibsp', 'parch', 'ticket',\n",
       "       'fare', 'cabin', 'embarked'],\n",
       "      dtype='object')"
      ]
     },
     "execution_count": 20,
     "metadata": {},
     "output_type": "execute_result"
    }
   ],
   "source": [
    "df.columns = df.columns.str.lower()\n",
    "df.columns"
   ]
  },
  {
   "cell_type": "markdown",
   "metadata": {},
   "source": [
    "#### Ejercicio 7\n",
    "\n",
    "Explore el dataset e identifique las variables que presentan datos faltantes"
   ]
  },
  {
   "cell_type": "code",
   "execution_count": 11,
   "metadata": {},
   "outputs": [
    {
     "name": "stdout",
     "output_type": "stream",
     "text": [
      "<class 'pandas.core.frame.DataFrame'>\n",
      "Int64Index: 891 entries, 1 to 891\n",
      "Data columns (total 11 columns):\n",
      "survived    891 non-null int64\n",
      "pclass      891 non-null int64\n",
      "name        891 non-null object\n",
      "sex         891 non-null object\n",
      "age         714 non-null float64\n",
      "sibsp       891 non-null int64\n",
      "parch       891 non-null int64\n",
      "ticket      891 non-null object\n",
      "fare        891 non-null float64\n",
      "cabin       204 non-null object\n",
      "embarked    889 non-null object\n",
      "dtypes: float64(2), int64(4), object(5)\n",
      "memory usage: 83.5+ KB\n"
     ]
    }
   ],
   "source": [
    "df.info()"
   ]
  },
  {
   "cell_type": "markdown",
   "metadata": {},
   "source": [
    "### Ejercicio 8\n",
    "\n",
    "Transforme las variables a los siguientes tipos (solo si es necesario):\n",
    "+ Name -> object\n",
    "+ Ticket -> object\n",
    "+ Cabin -> category\n",
    "+ Embarked -> category\n",
    "+ Survived -> category\n",
    "+ pclass -> category"
   ]
  },
  {
   "cell_type": "code",
   "execution_count": 21,
   "metadata": {},
   "outputs": [
    {
     "data": {
      "text/plain": [
       "survived    category\n",
       "pclass      category\n",
       "name          object\n",
       "sex           object\n",
       "age          float64\n",
       "sibsp          int64\n",
       "parch          int64\n",
       "ticket      category\n",
       "fare         float64\n",
       "cabin       category\n",
       "embarked    category\n",
       "dtype: object"
      ]
     },
     "execution_count": 21,
     "metadata": {},
     "output_type": "execute_result"
    }
   ],
   "source": [
    "columns= ['ticket', 'cabin', 'embarked', 'survived', 'pclass']\n",
    "df.loc[:, columns] = df.loc[:, columns].astype(\"category\")\n",
    "df.dtypes"
   ]
  },
  {
   "cell_type": "markdown",
   "metadata": {},
   "source": [
    "### Ejercicio 9\n",
    "\n",
    "Filtre los datos y obtenga los registros que no tienen datos faltantes"
   ]
  },
  {
   "cell_type": "code",
   "execution_count": 18,
   "metadata": {},
   "outputs": [
    {
     "name": "stdout",
     "output_type": "stream",
     "text": [
      "<class 'pandas.core.frame.DataFrame'>\n",
      "Int64Index: 183 entries, 2 to 890\n",
      "Data columns (total 11 columns):\n",
      "survived    183 non-null category\n",
      "pclass      183 non-null category\n",
      "name        183 non-null object\n",
      "sex         183 non-null object\n",
      "age         183 non-null float64\n",
      "sibsp       183 non-null int64\n",
      "parch       183 non-null int64\n",
      "ticket      183 non-null category\n",
      "fare        183 non-null float64\n",
      "cabin       183 non-null category\n",
      "embarked    183 non-null category\n",
      "dtypes: category(5), float64(2), int64(2), object(2)\n",
      "memory usage: 43.0+ KB\n"
     ]
    }
   ],
   "source": [
    "df = df.dropna()\n",
    "df.info()"
   ]
  },
  {
   "cell_type": "markdown",
   "metadata": {},
   "source": [
    "### Ejercicio 10\n",
    "\n",
    "Cual es el número de registros (valores) más grande para la variable Survived (0,1) "
   ]
  },
  {
   "cell_type": "code",
   "execution_count": 33,
   "metadata": {},
   "outputs": [
    {
     "data": {
      "text/plain": [
       "0    549\n",
       "1    342\n",
       "Name: survived, dtype: int64"
      ]
     },
     "execution_count": 33,
     "metadata": {},
     "output_type": "execute_result"
    }
   ],
   "source": [
    "df.survived.value_counts()"
   ]
  },
  {
   "cell_type": "markdown",
   "metadata": {},
   "source": [
    "### Ejercicio 11\n",
    "\n",
    "¿Quien sobrevivió más, mujeres o hombres? "
   ]
  },
  {
   "cell_type": "code",
   "execution_count": 35,
   "metadata": {},
   "outputs": [
    {
     "data": {
      "text/plain": [
       "female    233\n",
       "male      109\n",
       "Name: sex, dtype: int64"
      ]
     },
     "execution_count": 35,
     "metadata": {},
     "output_type": "execute_result"
    }
   ],
   "source": [
    "df.loc[df.survived == 1].sex.value_counts()"
   ]
  },
  {
   "cell_type": "markdown",
   "metadata": {},
   "source": [
    "### Ejercicio 12\n",
    "\n",
    "Calcule la media de la tarifa del pasajero (parch) para los de clase 1 (pclass)"
   ]
  },
  {
   "cell_type": "code",
   "execution_count": 36,
   "metadata": {},
   "outputs": [
    {
     "data": {
      "text/plain": [
       "0.35648148148148145"
      ]
     },
     "execution_count": 36,
     "metadata": {},
     "output_type": "execute_result"
    }
   ],
   "source": [
    "df.loc[df.pclass == 1].parch.mean()"
   ]
  }
 ],
 "metadata": {
  "kernelspec": {
   "display_name": "Python 3",
   "language": "python",
   "name": "python3"
  },
  "language_info": {
   "codemirror_mode": {
    "name": "ipython",
    "version": 3
   },
   "file_extension": ".py",
   "mimetype": "text/x-python",
   "name": "python",
   "nbconvert_exporter": "python",
   "pygments_lexer": "ipython3",
   "version": "3.6.8"
  }
 },
 "nbformat": 4,
 "nbformat_minor": 2
}
